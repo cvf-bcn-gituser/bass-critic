{
  "nbformat": 4,
  "nbformat_minor": 0,
  "metadata": {
    "kernelspec": {
      "display_name": "Python 3",
      "language": "python",
      "name": "python3"
    },
    "language_info": {
      "codemirror_mode": {
        "name": "ipython",
        "version": 3
      },
      "file_extension": ".py",
      "mimetype": "text/x-python",
      "name": "python",
      "nbconvert_exporter": "python",
      "pygments_lexer": "ipython3",
      "version": "3.6.7"
    },
    "colab": {
      "name": "HistogramTest.ipynb",
      "provenance": [],
      "collapsed_sections": []
    }
  },
  "cells": [
    {
      "cell_type": "code",
      "metadata": {
        "colab": {
          "base_uri": "https://localhost:8080/"
        },
        "id": "13LOyuxayHjM",
        "outputId": "177aab39-d472-4050-fb97-a5af1cb614fd"
      },
      "source": [
        "!pip3 install essentia"
      ],
      "execution_count": 10,
      "outputs": [
        {
          "output_type": "stream",
          "text": [
            "Requirement already satisfied: essentia in /usr/local/lib/python3.7/dist-packages (2.1b6.dev374)\n",
            "Requirement already satisfied: pyyaml in /usr/local/lib/python3.7/dist-packages (from essentia) (3.13)\n",
            "Requirement already satisfied: six in /usr/local/lib/python3.7/dist-packages (from essentia) (1.15.0)\n",
            "Requirement already satisfied: numpy>=1.8.2 in /usr/local/lib/python3.7/dist-packages (from essentia) (1.19.5)\n"
          ],
          "name": "stdout"
        }
      ]
    },
    {
      "cell_type": "code",
      "metadata": {
        "id": "OEdDKfBpdEwf",
        "colab": {
          "base_uri": "https://localhost:8080/"
        },
        "outputId": "187642f9-8a13-4174-9fd5-51d35a4db79f"
      },
      "source": [
        "!pip3 install madmom"
      ],
      "execution_count": 11,
      "outputs": [
        {
          "output_type": "stream",
          "text": [
            "Requirement already satisfied: madmom in /usr/local/lib/python3.7/dist-packages (0.16.1)\n",
            "Requirement already satisfied: cython>=0.25 in /usr/local/lib/python3.7/dist-packages (from madmom) (0.29.23)\n",
            "Requirement already satisfied: numpy>=1.13.4 in /usr/local/lib/python3.7/dist-packages (from madmom) (1.19.5)\n",
            "Requirement already satisfied: mido>=1.2.8 in /usr/local/lib/python3.7/dist-packages (from madmom) (1.2.10)\n",
            "Requirement already satisfied: scipy>=0.16 in /usr/local/lib/python3.7/dist-packages (from madmom) (1.4.1)\n"
          ],
          "name": "stdout"
        }
      ]
    },
    {
      "cell_type": "code",
      "metadata": {
        "id": "rmxZSSGjtfEE",
        "colab": {
          "base_uri": "https://localhost:8080/"
        },
        "outputId": "ba785ae5-5c81-45fe-bfd6-27f7765b31f6"
      },
      "source": [
        "!pip3 install mir_eval"
      ],
      "execution_count": 12,
      "outputs": [
        {
          "output_type": "stream",
          "text": [
            "Requirement already satisfied: mir_eval in /usr/local/lib/python3.7/dist-packages (0.6)\n",
            "Requirement already satisfied: scipy>=1.0.0 in /usr/local/lib/python3.7/dist-packages (from mir_eval) (1.4.1)\n",
            "Requirement already satisfied: six in /usr/local/lib/python3.7/dist-packages (from mir_eval) (1.15.0)\n",
            "Requirement already satisfied: numpy>=1.7.0 in /usr/local/lib/python3.7/dist-packages (from mir_eval) (1.19.5)\n",
            "Requirement already satisfied: future in /usr/local/lib/python3.7/dist-packages (from mir_eval) (0.16.0)\n"
          ],
          "name": "stdout"
        }
      ]
    },
    {
      "cell_type": "markdown",
      "metadata": {
        "id": "dSxfHZTNOrr7"
      },
      "source": [
        "The section below is all path dependent"
      ]
    },
    {
      "cell_type": "code",
      "metadata": {
        "id": "rKwBFtUiykYU",
        "colab": {
          "base_uri": "https://localhost:8080/"
        },
        "outputId": "72e0a4c9-aa72-4cdc-beb3-821e6eb60a64"
      },
      "source": [
        "from google.colab import drive\n",
        "drive.mount(\"/content/drive\", force_remount=True)\n",
        "root = 'drive/MyDrive/Bass/'\n",
        "\n",
        "import pandas as pd\n",
        "import sys\n",
        "sys.path.append(root)"
      ],
      "execution_count": 13,
      "outputs": [
        {
          "output_type": "stream",
          "text": [
            "Mounted at /content/drive\n"
          ],
          "name": "stdout"
        }
      ]
    },
    {
      "cell_type": "code",
      "metadata": {
        "id": "sAplIzp5UBFL"
      },
      "source": [
        "import madmom"
      ],
      "execution_count": 14,
      "outputs": []
    },
    {
      "cell_type": "code",
      "metadata": {
        "id": "1hnhs2GenDDk"
      },
      "source": [
        "!ls 'drive/MyDrive/Bass'"
      ],
      "execution_count": null,
      "outputs": []
    },
    {
      "cell_type": "code",
      "metadata": {
        "id": "MC6bIbDvyeSZ"
      },
      "source": [
        "# TODO 1 optimise imports\n",
        "from essentia.standard import *\n",
        "from essentia import Pool, array\n",
        "import essentia.standard as es\n",
        "import matplotlib.pyplot as plt\n",
        "import numpy as np\n",
        "import IPython.display as ipd\n",
        "import pandas as pd\n",
        "import os\n",
        "\n",
        "import IPython\n",
        "import pickle\n",
        "from pickle import load\n",
        "from scipy.signal import find_peaks\n",
        "import ipywidgets as widgets\n",
        "from scipy import signal\n",
        "from lxml import etree\n",
        "\n",
        "import plotly.express as px\n",
        "import scipy\n",
        "from statistics import *"
      ],
      "execution_count": 43,
      "outputs": []
    },
    {
      "cell_type": "code",
      "metadata": {
        "id": "7oagAxf-UEjK"
      },
      "source": [
        "import mir_eval\n",
        "from mir_eval import *"
      ],
      "execution_count": 44,
      "outputs": []
    },
    {
      "cell_type": "code",
      "metadata": {
        "id": "M5LQtPilqs0O"
      },
      "source": [
        "!ls drive/MyDrive/Bass/statistics"
      ],
      "execution_count": null,
      "outputs": []
    },
    {
      "cell_type": "code",
      "metadata": {
        "id": "JDSbWrR-ktD6",
        "colab": {
          "base_uri": "https://localhost:8080/"
        },
        "outputId": "3b71ea09-699c-4c10-8fe3-44e8583b3b7f"
      },
      "source": [
        "deviatePath = 'drive/MyDrive/Bass/deviations/billieJean_iec_stem.csv'\n",
        "col_list = [\"onset dev\", \"offset dev\"]\n",
        "df = pd.read_csv(deviatePath, usecols=col_list)\n",
        "onset_dev_list = df[\"onset dev\"]\n",
        "offset_dev_list = df[\"offset dev\"] "
      ],
      "execution_count": 186,
      "outputs": [
        {
          "output_type": "stream",
          "text": [
            "<class 'pandas.core.series.Series'>\n"
          ],
          "name": "stdout"
        }
      ]
    },
    {
      "cell_type": "code",
      "metadata": {
        "id": "sLLTjrn6qh8Q"
      },
      "source": [
        "statsPath = 'drive/MyDrive/Bass/IEC_billieJean.csv'\n",
        "statsCols = [\"Student\",\"precision\",\"recall\",\"f_measure_value\",\"Onset ABS Mean\",\"Onset Mean\",\"Onset Std\",\"Duration ABS Mean\",\"Duration Mean\",\"Duration Std\",\"onsetMark\",\" DurationMark\",\" articulationMark \",\"soundQualityMark\",\"volumeControlMark\",\" finalMark\"]\n",
        "df_all = pd.read_csv(statsPath, usecols=statsCols)\n",
        "   "
      ],
      "execution_count": 230,
      "outputs": []
    },
    {
      "cell_type": "code",
      "metadata": {
        "colab": {
          "base_uri": "https://localhost:8080/"
        },
        "id": "zyl3EjGYuDIT",
        "outputId": "1878dbda-57b2-42bd-9964-59936de691bc"
      },
      "source": [
        "onset_mean_list = df_all[\"Onset Mean\"].tolist()   \n",
        "print(len(onset_mean_list))\n",
        "#Student \tprecision \trecall \tf_measure_value \tOnset ABS Mean \tOnset Mean \tOnset Std \tDuration ABS Mean \tDuration Mean \tDuration Std \tonsetMark \tDurationMark \tarticulationMark \tsoundQualityMark \tvolumeControlMark \tfinalMark"
      ],
      "execution_count": 51,
      "outputs": [
        {
          "output_type": "stream",
          "text": [
            "[-0.0070668269999999995, 0.0, -0.002, -0.004, 0.004, -0.001, 0.006, -0.006, 0.0, -0.002, 0.003, -0.004, -0.004, -0.004, -0.005, -0.006999999999999999]\n"
          ],
          "name": "stdout"
        }
      ]
    },
    {
      "cell_type": "code",
      "metadata": {
        "id": "TugwgeYNvxl-"
      },
      "source": [
        "print(type(onset_mean_list))\n",
        "m = mean(onset_mean_list)\n",
        "print (m)"
      ],
      "execution_count": null,
      "outputs": []
    },
    {
      "cell_type": "markdown",
      "metadata": {
        "id": "ThcgwFdTuQUU"
      },
      "source": [
        ""
      ]
    },
    {
      "cell_type": "code",
      "metadata": {
        "id": "UcxxAWDsDKoP"
      },
      "source": [
        "#\n",
        "#\n",
        "#  This allows the generation of multiple histograms by passing the K parameter.\n",
        "#\n",
        "#\n",
        "from math import *\n",
        "def multiple_hist(deviationsArray1,deviationsArray2,title_text1,title_text2,df,k):\n",
        "   student_stats1 = [] # onsets\n",
        "   student_stats2 = [] # durations\n",
        "   #statsCols = [\"Student\",\"precision\",\"recall\",\"f_measure_value\",\"Onset ABS Mean\",\"Onset Mean\",\"Onset Std\",\"Duration ABS Mean\",\"Duration Mean\",\"Duration Std\",\n",
        "   #   GRADES  \"onsetMark\",\" DurationMark\",\" articulationMark \",\"soundQualityMark\",\"volumeControlMark\",\" finalMark\"]\n",
        "   list0 = df[\"onsetMark\"].tolist()  \n",
        "   list1 = df[\" DurationMark\"].tolist()  \n",
        "   list2 = df[\" articulationMark \"].tolist()  \n",
        "   list3 = df[\"soundQualityMark\"].tolist()  \n",
        "   list4 = df[\"volumeControlMark\"].tolist()  \n",
        "   list5 = df[\" finalMark\"].tolist()  \n",
        "   #k = 0 # Zeroth student is GT\n",
        "   print(\"Onset Grade = \", list0[k],\"\\t\" ,\"Offset Grade = \", list1[k])\n",
        "   print(\"\\n\")\n",
        "   print(\"Articulation Grade = \", list2[k],\"Sound Q Grade = \", list3[k], \"Volume Control Grade = \", list4[k])\n",
        "   print(\"Final Mark = \", list5[k])\n",
        "   print(\"ok1\")\n",
        "   a= deviationsArray1\n",
        "   m= mean(a)\n",
        "   print(m)\n",
        "   s = sqrt(mean(a*a))\n",
        "   print(\"ok3\")\n",
        "   am = mean(abs(a))\n",
        "\n",
        "   onset_summary= \"Onset ABS Mean: %f, Onset Mean: %f,Dev. from 0: %f\" %(am, m, s)\n",
        "   title =   \"Student \"  + str(k) +title_text1\n",
        "   plt.subplot(2,2,1)\n",
        "   plt.title(title)\n",
        "   plt.figure(1, figsize=(9.5, 6))\n",
        "   plt.hist(a)\n",
        "\n",
        "   plt.subplot(2,2,2)\n",
        "   a = deviationsArray2\n",
        "   m, s = mean(a), sqrt(mean(a*a))\n",
        "   am = mean(abs(a))\n",
        "   offset_summary= \"Offset ABS Mean: %f, Offset Mean: %f, Dev. from 0: %f\" %(am,m, s)\n",
        "   title =   \"Student \" + str(k) +title_text2\n",
        "   plt.title(title)\n",
        "   plt.figure(1, figsize=(9.5, 6))\n",
        "   plt.hist(a)\n",
        "   plt.show()"
      ],
      "execution_count": 231,
      "outputs": []
    },
    {
      "cell_type": "code",
      "metadata": {
        "id": "P3jix1uyxytN"
      },
      "source": [
        "multiple_hist(onset_dev_list,offset_dev_list,\" onsets\",\" offsets\",df_all,0)"
      ],
      "execution_count": null,
      "outputs": []
    },
    {
      "cell_type": "code",
      "metadata": {
        "id": "QadIODTaxBKN"
      },
      "source": [
        "k=0\n",
        "# sonset_deviations,soffset_deviations,\n",
        "while k<number_of_rows:\n",
        "   multiple_hist(onset_dev_list,offset_dev_list,\" onsets\",\" offsets\",df_all,k)\n",
        "   k+=1"
      ],
      "execution_count": null,
      "outputs": []
    },
    {
      "cell_type": "code",
      "metadata": {
        "colab": {
          "base_uri": "https://localhost:8080/"
        },
        "id": "ctmZtOPYOLfM",
        "outputId": "e8f1f639-f68a-4945-d6e2-4bf51f5bd481"
      },
      "source": [
        "index = df_all.index\n",
        "number_of_rows = len(index)\n",
        "print(number_of_rows)\n",
        "\n",
        "\n",
        "col_list = [\"onset dev\", \"offset dev\"]\n",
        "sonset_deviations = []\n",
        "soffset_deviations = []\n",
        "# sonset_deviations,soffset_deviations\n",
        "k=0\n",
        "while k<number_of_rows-1:\n",
        "   sdeviatePath = 'drive/MyDrive/Bass/deviations/billieJean_iec_student' + str(k+1)+ '.csv'\n",
        "   print(sdeviatePath)\n",
        "   sdf = pd.read_csv(sdeviatePath, usecols=col_list)\n",
        "   sonset_dev_list = sdf[\"onset dev\"]\n",
        "   sonset_deviations.append(sonset_dev_list)\n",
        "   print(sonset_deviations[k][0:4])\n",
        "   soffset_dev_list = sdf[\"offset dev\"] \n",
        "   soffset_deviations.append(soffset_dev_list)\n",
        "   k+=1\n",
        "print(k)"
      ],
      "execution_count": 263,
      "outputs": [
        {
          "output_type": "stream",
          "text": [
            "16\n",
            "drive/MyDrive/Bass/deviations/billieJean_iec_student1.csv\n",
            "0    0.009433\n",
            "1    0.015238\n",
            "2    0.014512\n",
            "3   -0.007982\n",
            "Name: onset dev, dtype: float64\n",
            "drive/MyDrive/Bass/deviations/billieJean_iec_student2.csv\n",
            "0    1.596372e-02\n",
            "1    1.015873e-02\n",
            "2    4.285710e-10\n",
            "3    4.353741e-03\n",
            "Name: onset dev, dtype: float64\n",
            "drive/MyDrive/Bass/deviations/billieJean_iec_student3.csv\n",
            "0   -0.007256\n",
            "1   -0.011610\n",
            "2   -0.007256\n",
            "3    0.001451\n",
            "Name: onset dev, dtype: float64\n",
            "drive/MyDrive/Bass/deviations/billieJean_iec_student4.csv\n",
            "0    0.018866\n",
            "1    0.009433\n",
            "2    0.012336\n",
            "3    0.015238\n",
            "Name: onset dev, dtype: float64\n",
            "drive/MyDrive/Bass/deviations/billieJean_iec_student5.csv\n",
            "0    0.015964\n",
            "1    0.015964\n",
            "2    0.019592\n",
            "3    0.012336\n",
            "Name: onset dev, dtype: float64\n",
            "drive/MyDrive/Bass/deviations/billieJean_iec_student6.csv\n",
            "0    0.014512\n",
            "1    0.004354\n",
            "2    0.007256\n",
            "3    0.006531\n",
            "Name: onset dev, dtype: float64\n",
            "drive/MyDrive/Bass/deviations/billieJean_iec_student7.csv\n",
            "0   -0.018141\n",
            "1   -0.015964\n",
            "2    0.011610\n",
            "3    0.011610\n",
            "Name: onset dev, dtype: float64\n",
            "drive/MyDrive/Bass/deviations/billieJean_iec_student8.csv\n",
            "0   -0.008707\n",
            "1   -0.007256\n",
            "2    0.010159\n",
            "3    0.015964\n",
            "Name: onset dev, dtype: float64\n",
            "drive/MyDrive/Bass/deviations/billieJean_iec_student9.csv\n",
            "0   -0.011610\n",
            "1    0.011610\n",
            "2    0.011610\n",
            "3    0.002902\n",
            "Name: onset dev, dtype: float64\n",
            "drive/MyDrive/Bass/deviations/billieJean_iec_student10.csv\n",
            "0   -0.002902\n",
            "1    0.009433\n",
            "2    0.015238\n",
            "3    0.012336\n",
            "Name: onset dev, dtype: float64\n",
            "drive/MyDrive/Bass/deviations/billieJean_iec_student11.csv\n",
            "0    0.014512\n",
            "1   -0.011610\n",
            "2   -0.018866\n",
            "3    0.007982\n",
            "Name: onset dev, dtype: float64\n",
            "drive/MyDrive/Bass/deviations/billieJean_iec_student12.csv\n",
            "0    0.002902\n",
            "1   -0.018866\n",
            "2   -0.011610\n",
            "3   -0.007256\n",
            "Name: onset dev, dtype: float64\n",
            "drive/MyDrive/Bass/deviations/billieJean_iec_student13.csv\n",
            "0    0.002902\n",
            "1    0.004354\n",
            "2   -0.013061\n",
            "3   -0.011610\n",
            "Name: onset dev, dtype: float64\n",
            "drive/MyDrive/Bass/deviations/billieJean_iec_student14.csv\n",
            "0    0.015964\n",
            "1   -0.001451\n",
            "2   -0.003628\n",
            "3   -0.019592\n",
            "Name: onset dev, dtype: float64\n",
            "drive/MyDrive/Bass/deviations/billieJean_iec_student15.csv\n",
            "0    0.014512\n",
            "1   -0.007256\n",
            "2   -0.014512\n",
            "3   -0.019592\n",
            "Name: onset dev, dtype: float64\n",
            "15\n"
          ],
          "name": "stdout"
        }
      ]
    },
    {
      "cell_type": "markdown",
      "metadata": {
        "id": "RGLfjAZbgQDy"
      },
      "source": [
        ""
      ]
    },
    {
      "cell_type": "code",
      "metadata": {
        "colab": {
          "base_uri": "https://localhost:8080/"
        },
        "id": "Armf8cczaH9k",
        "outputId": "f20821be-ca89-453e-a5df-7b249378ba98"
      },
      "source": [
        "print(len(sonset_deviations))"
      ],
      "execution_count": 265,
      "outputs": [
        {
          "output_type": "stream",
          "text": [
            "15\n"
          ],
          "name": "stdout"
        }
      ]
    },
    {
      "cell_type": "code",
      "metadata": {
        "id": "iYl-B_ig2ISM"
      },
      "source": [
        "import csv  \n",
        "#onset_X, onset_mean, onset_std, duration_X, duration_mean, duration_std= \n",
        "# multiple_hist3(sonset_deviationsArray,sduration_deviationsArray,\" onsets\", \" durations\",the_student_grades,sp,sr,sf)\n",
        "\n",
        "def multiple_hist3(deviationsArray1,deviationsArray2,title_text1,title_text2,df):\n",
        "   header = [\"Student\",\"precision\",\"recall\",\"f_measure_value\",\"Onset ABS Mean\",\"Onset Mean\",\"Onset Std\",\n",
        "             \"Duration ABS Mean\",\"Duration Mean\",\"Duration Std\",\"onsetMark\",\" DurationMark\",\" articulationMark \",\"soundQualityMark\",\"volumeControlMark\",\" finalMark\"]\n",
        "\n",
        "  \n",
        "   with open('drive/MyDrive/Bass/data/StudentStatisticsBillie.csv', 'w', encoding='UTF8') as f:\n",
        "\n",
        "      idx = df.index\n",
        "\n",
        "      number_of_rows = len(idx)\n",
        "      print(number_of_rows)\n",
        "      k=0\n",
        "\n",
        "      writer = csv.writer(f)\n",
        "      # write the header\n",
        "      writer.writerow(header)\n",
        "\n",
        "      studentStatistics = []\n",
        "      onset_X = []  # Martis mark\n",
        "      onset_amean = []\n",
        "      onset_mean = []\n",
        "      onset_std= []\n",
        "\n",
        "      duration_X = [] # Martis mark\n",
        "      duration_amean = []\n",
        "      duration_mean = []\n",
        "      duration_std= []\n",
        "      list0 = df[\"onsetMark\"].tolist()  \n",
        "      list1 = df[\" DurationMark\"].tolist()  \n",
        "      list2 = df[\" articulationMark \"].tolist()  \n",
        "      list3 = df[\"soundQualityMark\"].tolist()  \n",
        "      list4 = df[\"volumeControlMark\"].tolist()  \n",
        "      list5 = df[\" finalMark\"].tolist()  \n",
        "\n",
        "      listp = df[\"precision\"].tolist()  \n",
        "      listr = df[\"recall\"].tolist()  \n",
        "      listf = df[\"f_measure_value\"].tolist()  \n",
        "  \n",
        "      for k in range(number_of_rows-1):\n",
        "          studentStatistics.append(str(k+1))\n",
        "          student_stats1 = [] # onsets\n",
        "          student_stats2 = [] # durations\n",
        "\n",
        "          plt.subplot(2,2,1)\n",
        "          a = np.array(deviationsArray1[k])\n",
        "          print(a[0:12])\n",
        "          onset_m, onset_s = mean(a), sqrt(mean(a*a))\n",
        "          onset_am= mean(abs(a))\n",
        "          onset_summary= \"Onset ABS  Mean: %f,Onset Mean: %f, Dev. from 0: %f\" %(onset_am,onset_m, onset_s)\n",
        "          title =   \"Student \" + str(k+1)+ title_text1\n",
        "\n",
        "          onset_X.append( list0[k])  # Martis mark\n",
        "          print(\"list0[k]\")\n",
        "          print(list0[k])\n",
        "          onset_mean.append(onset_m)\n",
        "          onset_amean.append(onset_am)\n",
        "          onset_std.append(onset_s)\n",
        "\n",
        "          plt.title(title)\n",
        "          plt.figure(1, figsize=(9.5, 6))\n",
        "          plt.hist(a)\n",
        "\n",
        "          plt.subplot(2,2,2)\n",
        "          a = np.array(deviationsArray2[k])\n",
        "          duration_m, duration_s = mean(a), sqrt(mean(a*a))\n",
        "          duration_am= mean(abs(a))\n",
        "          duration_summary= \"Offset Mean: %f, Dev. from 0: %f\" %(duration_m, duration_s)\n",
        "          title =   \"Student \" + str(k+1)+ title_text2\n",
        "          print(title)\n",
        "          duration_X.append( list1[k])  # Martis mark\n",
        "          duration_mean.append(duration_m)\n",
        "          duration_amean.append(duration_am)\n",
        "          duration_std.append(duration_s)\n",
        "\n",
        "          plt.title(title)\n",
        "          plt.figure(1, figsize=(9.5, 6))\n",
        "          plt.hist(a)\n",
        "\n",
        "          plt.show()\n",
        "          print(\"Onset Grade = \", list0[k],\"\\t\" ,\"Duration Grade = \", list1[k])\n",
        "          print(\"\\n\")\n",
        "          print(onset_summary)\n",
        "          print(\"\\n\")\n",
        "          print(duration_summary)\n",
        "          print(\"\\n\")\n",
        "          print(\"Articulation Grade = \", list2[k],\"Sound Control Grade = \", list3[k], \"Volume Control Grade = \", list4[k])\n",
        "          print(\"Final Mark = \", list5[k])\n",
        "          studentStatistics = []\n",
        "          studentStatistics.append(str(k+1))\n",
        "          studentStatistics.append(round(listp[k],3))\n",
        "          print(\"////////////////////////////\")\n",
        "          print(round(listp[k],3))\n",
        "          studentStatistics.append(round(listr[k],3))\n",
        "          studentStatistics.append(round(listf[k],3))\n",
        "          studentStatistics.append(round(onset_am,3))\n",
        "          studentStatistics.append(round(onset_m,3))\n",
        "          studentStatistics.append(round(onset_s,3))   \n",
        "          studentStatistics.append(round(duration_am,3))                   \n",
        "          studentStatistics.append(round(duration_m,3)) \n",
        "          studentStatistics.append(round(duration_s,3))   \n",
        "          studentStatistics.append(list0[k])\n",
        "          studentStatistics.append(list1[k])\n",
        "          studentStatistics.append(list2[k])\n",
        "          studentStatistics.append(list3[k])\n",
        "          studentStatistics.append(list4[k])\n",
        "          studentStatistics.append(list5[k])\n",
        "          # write the data\n",
        "          writer.writerow(studentStatistics)\n",
        "\n",
        "   return(onset_X, onset_mean, onset_std, duration_X, duration_mean, duration_std)\n",
        "# Capture a table of onset and grade\n"
      ],
      "execution_count": 266,
      "outputs": []
    },
    {
      "cell_type": "code",
      "metadata": {
        "colab": {
          "base_uri": "https://localhost:8080/"
        },
        "id": "PWvy_eK_Z78E",
        "outputId": "5cbc6abf-11e3-4604-b724-99c92a7394e2"
      },
      "source": [
        "print(type(sonset_dev_list))"
      ],
      "execution_count": 258,
      "outputs": [
        {
          "output_type": "stream",
          "text": [
            "<class 'pandas.core.series.Series'>\n"
          ],
          "name": "stdout"
        }
      ]
    },
    {
      "cell_type": "code",
      "metadata": {
        "colab": {
          "base_uri": "https://localhost:8080/"
        },
        "id": "0_Rz7h1Rcnc8",
        "outputId": "4b80251b-c06b-482b-9bdc-25bdaf987b60"
      },
      "source": [
        "print(sonset_deviations[0][0:4])\n",
        "print(sonset_deviations[1][0:4])"
      ],
      "execution_count": 260,
      "outputs": [
        {
          "output_type": "stream",
          "text": [
            "0    0.002902\n",
            "1   -0.007256\n",
            "2   -0.001451\n",
            "3   -0.007256\n",
            "Name: onset dev, dtype: float64\n",
            "0    0.002902\n",
            "1   -0.007256\n",
            "2   -0.001451\n",
            "3   -0.007256\n",
            "Name: onset dev, dtype: float64\n"
          ],
          "name": "stdout"
        }
      ]
    },
    {
      "cell_type": "code",
      "metadata": {
        "id": "utUMqb3Wlhvj"
      },
      "source": [
        "onset_X, onset_mean, onset_std, duration_X, duration_mean, duration_std= multiple_hist3(sonset_deviations,soffset_deviations,\" onsets\", \" offset\",df_all)"
      ],
      "execution_count": null,
      "outputs": []
    },
    {
      "cell_type": "code",
      "metadata": {
        "id": "0-Z-fCDqfoLc"
      },
      "source": [
        "StudentStatisticsBillie.csv"
      ],
      "execution_count": null,
      "outputs": []
    },
    {
      "cell_type": "code",
      "metadata": {
        "id": "1tV6UaFGZ6uM"
      },
      "source": [
        "print(len(onset_X), onset_mean, onset_std, duration_X, duration_mean, duration_std)"
      ],
      "execution_count": null,
      "outputs": []
    },
    {
      "cell_type": "code",
      "metadata": {
        "id": "nkCfnTIJcTb9"
      },
      "source": [
        "plt.plot(onset_X, onset_mean,'x')\n",
        "plt.show()\n",
        "plt.plot(onset_X, onset_std,'x')\n",
        "plt.show()"
      ],
      "execution_count": null,
      "outputs": []
    },
    {
      "cell_type": "code",
      "metadata": {
        "id": "7KO6OGReWo08",
        "colab": {
          "base_uri": "https://localhost:8080/",
          "height": 172
        },
        "outputId": "e7dc7a64-2f9b-4c83-f581-050409e52114"
      },
      "source": [
        "aggregate_hist_and_stats(sduration_deviationsArray,\"Student Deviations\")"
      ],
      "execution_count": 269,
      "outputs": [
        {
          "output_type": "error",
          "ename": "NameError",
          "evalue": "ignored",
          "traceback": [
            "\u001b[0;31m---------------------------------------------------------------------------\u001b[0m",
            "\u001b[0;31mNameError\u001b[0m                                 Traceback (most recent call last)",
            "\u001b[0;32m<ipython-input-269-6cae6b629db2>\u001b[0m in \u001b[0;36m<module>\u001b[0;34m()\u001b[0m\n\u001b[0;32m----> 1\u001b[0;31m \u001b[0maggregate_hist_and_stats\u001b[0m\u001b[0;34m(\u001b[0m\u001b[0msduration_deviationsArray\u001b[0m\u001b[0;34m,\u001b[0m\u001b[0;34m\"Student Deviations\"\u001b[0m\u001b[0;34m)\u001b[0m\u001b[0;34m\u001b[0m\u001b[0;34m\u001b[0m\u001b[0m\n\u001b[0m",
            "\u001b[0;31mNameError\u001b[0m: name 'aggregate_hist_and_stats' is not defined"
          ]
        }
      ]
    },
    {
      "cell_type": "code",
      "metadata": {
        "id": "BOYBIIw91oTp",
        "colab": {
          "base_uri": "https://localhost:8080/",
          "height": 244
        },
        "outputId": "b2ed7dd9-6765-4434-cde6-ac223ccd7dcf"
      },
      "source": [
        "fs=44100\n",
        "#################\n",
        "i1=fs*4\n",
        "i2= fs*12\n",
        "r= raw_audio[0][i1:i2]\n",
        "stud = student_audio[0][i1:i2]\n",
        "plt.plot(np.arange(r.size)/float(fs), r,'b')\n",
        "\n",
        "plt.plot(np.arange(stud.size)/float(fs), stud,'y')\n",
        "plt.axis([0,r.size/float(fs),min(r),max(r)])\n",
        "#for i in onsetIndexArray[0]:\n",
        "#    plt.axvline(x=i, color='red')\n",
        "plt.title(\"Student (y) Stem (b)\")\n",
        "plt.show()"
      ],
      "execution_count": 271,
      "outputs": [
        {
          "output_type": "error",
          "ename": "NameError",
          "evalue": "ignored",
          "traceback": [
            "\u001b[0;31m---------------------------------------------------------------------------\u001b[0m",
            "\u001b[0;31mNameError\u001b[0m                                 Traceback (most recent call last)",
            "\u001b[0;32m<ipython-input-271-7714b628e686>\u001b[0m in \u001b[0;36m<module>\u001b[0;34m()\u001b[0m\n\u001b[1;32m      3\u001b[0m \u001b[0mi1\u001b[0m\u001b[0;34m=\u001b[0m\u001b[0mfs\u001b[0m\u001b[0;34m*\u001b[0m\u001b[0;36m4\u001b[0m\u001b[0;34m\u001b[0m\u001b[0;34m\u001b[0m\u001b[0m\n\u001b[1;32m      4\u001b[0m \u001b[0mi2\u001b[0m\u001b[0;34m=\u001b[0m \u001b[0mfs\u001b[0m\u001b[0;34m*\u001b[0m\u001b[0;36m12\u001b[0m\u001b[0;34m\u001b[0m\u001b[0;34m\u001b[0m\u001b[0m\n\u001b[0;32m----> 5\u001b[0;31m \u001b[0mr\u001b[0m\u001b[0;34m=\u001b[0m \u001b[0mraw_audio\u001b[0m\u001b[0;34m[\u001b[0m\u001b[0;36m0\u001b[0m\u001b[0;34m]\u001b[0m\u001b[0;34m[\u001b[0m\u001b[0mi1\u001b[0m\u001b[0;34m:\u001b[0m\u001b[0mi2\u001b[0m\u001b[0;34m]\u001b[0m\u001b[0;34m\u001b[0m\u001b[0;34m\u001b[0m\u001b[0m\n\u001b[0m\u001b[1;32m      6\u001b[0m \u001b[0mstud\u001b[0m \u001b[0;34m=\u001b[0m \u001b[0mstudent_audio\u001b[0m\u001b[0;34m[\u001b[0m\u001b[0;36m0\u001b[0m\u001b[0;34m]\u001b[0m\u001b[0;34m[\u001b[0m\u001b[0mi1\u001b[0m\u001b[0;34m:\u001b[0m\u001b[0mi2\u001b[0m\u001b[0;34m]\u001b[0m\u001b[0;34m\u001b[0m\u001b[0;34m\u001b[0m\u001b[0m\n\u001b[1;32m      7\u001b[0m \u001b[0mplt\u001b[0m\u001b[0;34m.\u001b[0m\u001b[0mplot\u001b[0m\u001b[0;34m(\u001b[0m\u001b[0mnp\u001b[0m\u001b[0;34m.\u001b[0m\u001b[0marange\u001b[0m\u001b[0;34m(\u001b[0m\u001b[0mr\u001b[0m\u001b[0;34m.\u001b[0m\u001b[0msize\u001b[0m\u001b[0;34m)\u001b[0m\u001b[0;34m/\u001b[0m\u001b[0mfloat\u001b[0m\u001b[0;34m(\u001b[0m\u001b[0mfs\u001b[0m\u001b[0;34m)\u001b[0m\u001b[0;34m,\u001b[0m \u001b[0mr\u001b[0m\u001b[0;34m,\u001b[0m\u001b[0;34m'b'\u001b[0m\u001b[0;34m)\u001b[0m\u001b[0;34m\u001b[0m\u001b[0;34m\u001b[0m\u001b[0m\n",
            "\u001b[0;31mNameError\u001b[0m: name 'raw_audio' is not defined"
          ]
        }
      ]
    },
    {
      "cell_type": "code",
      "metadata": {
        "id": "r_D6GrlgjoG-"
      },
      "source": [
        "std1_note_onset_grade = 85 \n",
        "#En esta pista la \"Note Onset Security\" es muy precisa. Solamente algunos desajustes un poco mas notables en el Chorus.\n",
        "# El groove principal estÃ¡ muy bien.\n",
        "std1_note_duration = 85 \n",
        "std1_note_articulate = 70\n",
        "std1_sound_quality = 85 # 'very good'\n",
        "std1_note_dynamics  = 85\n",
        "std1_note_global = 80\n"
      ],
      "execution_count": 272,
      "outputs": []
    },
    {
      "cell_type": "code",
      "metadata": {
        "id": "wgT2wZ-n-s69",
        "colab": {
          "base_uri": "https://localhost:8080/",
          "height": 190
        },
        "outputId": "1977e8da-4ece-49fd-fafc-e9454fb0fd3d"
      },
      "source": [
        "import pandas as pd\n",
        "print(len(duration_deviationsArray))"
      ],
      "execution_count": 273,
      "outputs": [
        {
          "output_type": "error",
          "ename": "NameError",
          "evalue": "ignored",
          "traceback": [
            "\u001b[0;31m---------------------------------------------------------------------------\u001b[0m",
            "\u001b[0;31mNameError\u001b[0m                                 Traceback (most recent call last)",
            "\u001b[0;32m<ipython-input-273-5b3b84013c2c>\u001b[0m in \u001b[0;36m<module>\u001b[0;34m()\u001b[0m\n\u001b[1;32m      1\u001b[0m \u001b[0;32mimport\u001b[0m \u001b[0mpandas\u001b[0m \u001b[0;32mas\u001b[0m \u001b[0mpd\u001b[0m\u001b[0;34m\u001b[0m\u001b[0;34m\u001b[0m\u001b[0m\n\u001b[0;32m----> 2\u001b[0;31m \u001b[0mprint\u001b[0m\u001b[0;34m(\u001b[0m\u001b[0mlen\u001b[0m\u001b[0;34m(\u001b[0m\u001b[0mduration_deviationsArray\u001b[0m\u001b[0;34m)\u001b[0m\u001b[0;34m)\u001b[0m\u001b[0;34m\u001b[0m\u001b[0;34m\u001b[0m\u001b[0m\n\u001b[0m",
            "\u001b[0;31mNameError\u001b[0m: name 'duration_deviationsArray' is not defined"
          ]
        }
      ]
    },
    {
      "cell_type": "code",
      "metadata": {
        "id": "5t-JzT-eSTCW",
        "colab": {
          "base_uri": "https://localhost:8080/",
          "height": 190
        },
        "outputId": "9e485d91-78fb-4229-d941-d615bc2e69cc"
      },
      "source": [
        "data_timing_duration0= { 'durations0' :duration_deviationsArray[0]}\n",
        "data_timing_onset0= { 'onsets0' :duration_deviationsArray[0]}\n"
      ],
      "execution_count": 274,
      "outputs": [
        {
          "output_type": "error",
          "ename": "NameError",
          "evalue": "ignored",
          "traceback": [
            "\u001b[0;31m---------------------------------------------------------------------------\u001b[0m",
            "\u001b[0;31mNameError\u001b[0m                                 Traceback (most recent call last)",
            "\u001b[0;32m<ipython-input-274-2834a1883bcd>\u001b[0m in \u001b[0;36m<module>\u001b[0;34m()\u001b[0m\n\u001b[0;32m----> 1\u001b[0;31m \u001b[0mdata_timing_duration0\u001b[0m\u001b[0;34m=\u001b[0m \u001b[0;34m{\u001b[0m \u001b[0;34m'durations0'\u001b[0m \u001b[0;34m:\u001b[0m\u001b[0mduration_deviationsArray\u001b[0m\u001b[0;34m[\u001b[0m\u001b[0;36m0\u001b[0m\u001b[0;34m]\u001b[0m\u001b[0;34m}\u001b[0m\u001b[0;34m\u001b[0m\u001b[0;34m\u001b[0m\u001b[0m\n\u001b[0m\u001b[1;32m      2\u001b[0m \u001b[0mdata_timing_onset0\u001b[0m\u001b[0;34m=\u001b[0m \u001b[0;34m{\u001b[0m \u001b[0;34m'onsets0'\u001b[0m \u001b[0;34m:\u001b[0m\u001b[0mduration_deviationsArray\u001b[0m\u001b[0;34m[\u001b[0m\u001b[0;36m0\u001b[0m\u001b[0;34m]\u001b[0m\u001b[0;34m}\u001b[0m\u001b[0;34m\u001b[0m\u001b[0;34m\u001b[0m\u001b[0m\n",
            "\u001b[0;31mNameError\u001b[0m: name 'duration_deviationsArray' is not defined"
          ]
        }
      ]
    },
    {
      "cell_type": "code",
      "metadata": {
        "id": "jpcGZkNJPWcK",
        "colab": {
          "base_uri": "https://localhost:8080/",
          "height": 208
        },
        "outputId": "24d62ea4-7c79-4246-a9c9-68a8be4c5d1b"
      },
      "source": [
        "df = pd.DataFrame(data_timing_onset0,columns=['onsets0'])\n",
        "fig = px.histogram(df, x=\"onsets0\")\n",
        "fig.show()\n"
      ],
      "execution_count": 275,
      "outputs": [
        {
          "output_type": "error",
          "ename": "NameError",
          "evalue": "ignored",
          "traceback": [
            "\u001b[0;31m---------------------------------------------------------------------------\u001b[0m",
            "\u001b[0;31mNameError\u001b[0m                                 Traceback (most recent call last)",
            "\u001b[0;32m<ipython-input-275-864197324690>\u001b[0m in \u001b[0;36m<module>\u001b[0;34m()\u001b[0m\n\u001b[0;32m----> 1\u001b[0;31m \u001b[0mdf\u001b[0m \u001b[0;34m=\u001b[0m \u001b[0mpd\u001b[0m\u001b[0;34m.\u001b[0m\u001b[0mDataFrame\u001b[0m\u001b[0;34m(\u001b[0m\u001b[0mdata_timing_onset0\u001b[0m\u001b[0;34m,\u001b[0m\u001b[0mcolumns\u001b[0m\u001b[0;34m=\u001b[0m\u001b[0;34m[\u001b[0m\u001b[0;34m'onsets0'\u001b[0m\u001b[0;34m]\u001b[0m\u001b[0;34m)\u001b[0m\u001b[0;34m\u001b[0m\u001b[0;34m\u001b[0m\u001b[0m\n\u001b[0m\u001b[1;32m      2\u001b[0m \u001b[0mfig\u001b[0m \u001b[0;34m=\u001b[0m \u001b[0mpx\u001b[0m\u001b[0;34m.\u001b[0m\u001b[0mhistogram\u001b[0m\u001b[0;34m(\u001b[0m\u001b[0mdf\u001b[0m\u001b[0;34m,\u001b[0m \u001b[0mx\u001b[0m\u001b[0;34m=\u001b[0m\u001b[0;34m\"onsets0\"\u001b[0m\u001b[0;34m)\u001b[0m\u001b[0;34m\u001b[0m\u001b[0;34m\u001b[0m\u001b[0m\n\u001b[1;32m      3\u001b[0m \u001b[0mfig\u001b[0m\u001b[0;34m.\u001b[0m\u001b[0mshow\u001b[0m\u001b[0;34m(\u001b[0m\u001b[0;34m)\u001b[0m\u001b[0;34m\u001b[0m\u001b[0;34m\u001b[0m\u001b[0m\n",
            "\u001b[0;31mNameError\u001b[0m: name 'data_timing_onset0' is not defined"
          ]
        }
      ]
    },
    {
      "cell_type": "code",
      "metadata": {
        "id": "cuktqp1i26kq"
      },
      "source": [
        "import numpy as np\n",
        "#from sklearn.linear_model import LinearRegression\n",
        "\n",
        "import matplotlib.pyplot as plt\n",
        "import numpy as np\n",
        "from sklearn import datasets, linear_model\n",
        "from sklearn.metrics import mean_squared_error, r2_score\n",
        "\n",
        "Y\t= np.array([100,\t85,\t55,\t70,\t70,\t85,\t85,\t85,\t55] )\n",
        "\n",
        "#Train model\n",
        "# ABS MEAN\n",
        "\n",
        "\n",
        "#X1\t=np.array([0.027407,\t0.026,\t0.016,\t0.026,\t0.034,\t0.023,\t0.027,\t0.031,\t0.025]).reshape((-1, 1))\n",
        "#X2= \tnp.array( [1\t,45,\t13,\t88,\t115\t,90,\t50,\t42,\t60]).reshape((-1, 1))\n"
      ],
      "execution_count": 276,
      "outputs": []
    },
    {
      "cell_type": "code",
      "metadata": {
        "id": "CyXWTO5GD4FT"
      },
      "source": [
        "from sklearn import linear_model\n",
        "\n",
        "y = y_onsetMark\n",
        "# Split the data into training/testing sets\n",
        "X_train = X[:-5]\n",
        "X_test = X[-5:]\n",
        "\n",
        "# Split the targets into training/testing sets\n",
        "y_train = y[:-5]\n",
        "y_test = y[-5:]\n",
        "\n",
        "# Create linear regression object\n",
        "regr = linear_model.LinearRegression()\n",
        "\n",
        "# Train the model using the training sets\n",
        "regr.fit(X_train, y_train)\n",
        "\n",
        "# Make predictions using the testing set\n",
        "y_pred = regr.predict(X_test)\n",
        "# The coefficients\n",
        "print('Coefficients: \\n', regr.coef_)\n",
        "# The mean squared error\n",
        "print('Mean squared error: %.2f' % mean_squared_error(y_test, y_pred))\n",
        "# The coefficient of determination: 1 is perfect prediction\n",
        "print('Coefficient of determination: %.2f' % r2_score(y_test, y_pred))\n",
        "\n",
        "# Plot outputs\n",
        "plt.scatter(X_test, y_test,  color='black')\n",
        "plt.plot(X_test, y_pred, color='blue', linewidth=3)\n",
        "\n",
        "#plt.xticks(())\n",
        "#plt.yticks(())\n",
        "plt.show()"
      ],
      "execution_count": null,
      "outputs": []
    },
    {
      "cell_type": "code",
      "metadata": {
        "id": "E6grX4kGDz-t"
      },
      "source": [
        ""
      ],
      "execution_count": null,
      "outputs": []
    },
    {
      "cell_type": "code",
      "metadata": {
        "id": "c5VagK_4-l1N",
        "colab": {
          "base_uri": "https://localhost:8080/",
          "height": 244
        },
        "outputId": "588eb7f0-4e45-45c9-e37b-c62e0178fde4"
      },
      "source": [
        "reg = linear_model.LinearRegression().fit(Xnew, y)\n",
        "print(reg)\n",
        "##################### Load the diabetes dataset\n",
        "######################################\n",
        "#regr.fit(diabetes_X_train, diabetes_y_train)\n",
        "regr.fit(X, y)\n",
        "y_pred = regr.predict(X)\n",
        "plt.plot(X,y, 'x')\n",
        "plt.show()\n",
        "\t\t\t\t\t\t\t\t\t\n",
        "# The coefficients\n",
        "print('Coefficients: \\n', regr.coef_)\n",
        "# The mean absolute error\n",
        "print('Mean abs  error: %.2f'      % mean_absolute_error(y, y_pred))\n",
        "\n",
        "# The coefficient of determination: 1 is perfect prediction\n",
        "print('Coefficient of determination: %.2f'\n",
        "      % r2_score(Y, y_pred))\n",
        "plt.plot(X2,Y, 'x')\n",
        "plt.show()\n",
        "plt.xticks(())\n",
        "plt.yticks(())\n",
        "plt.show()"
      ],
      "execution_count": 278,
      "outputs": [
        {
          "output_type": "error",
          "ename": "NameError",
          "evalue": "ignored",
          "traceback": [
            "\u001b[0;31m---------------------------------------------------------------------------\u001b[0m",
            "\u001b[0;31mNameError\u001b[0m                                 Traceback (most recent call last)",
            "\u001b[0;32m<ipython-input-278-dab4964fea77>\u001b[0m in \u001b[0;36m<module>\u001b[0;34m()\u001b[0m\n\u001b[0;32m----> 1\u001b[0;31m \u001b[0mreg\u001b[0m \u001b[0;34m=\u001b[0m \u001b[0mlinear_model\u001b[0m\u001b[0;34m.\u001b[0m\u001b[0mLinearRegression\u001b[0m\u001b[0;34m(\u001b[0m\u001b[0;34m)\u001b[0m\u001b[0;34m.\u001b[0m\u001b[0mfit\u001b[0m\u001b[0;34m(\u001b[0m\u001b[0mXnew\u001b[0m\u001b[0;34m,\u001b[0m \u001b[0my\u001b[0m\u001b[0;34m)\u001b[0m\u001b[0;34m\u001b[0m\u001b[0;34m\u001b[0m\u001b[0m\n\u001b[0m\u001b[1;32m      2\u001b[0m \u001b[0mprint\u001b[0m\u001b[0;34m(\u001b[0m\u001b[0mreg\u001b[0m\u001b[0;34m)\u001b[0m\u001b[0;34m\u001b[0m\u001b[0;34m\u001b[0m\u001b[0m\n\u001b[1;32m      3\u001b[0m \u001b[0;31m##################### Load the diabetes dataset\u001b[0m\u001b[0;34m\u001b[0m\u001b[0;34m\u001b[0m\u001b[0;34m\u001b[0m\u001b[0m\n\u001b[1;32m      4\u001b[0m \u001b[0;31m######################################\u001b[0m\u001b[0;34m\u001b[0m\u001b[0;34m\u001b[0m\u001b[0;34m\u001b[0m\u001b[0m\n\u001b[1;32m      5\u001b[0m \u001b[0;31m#regr.fit(diabetes_X_train, diabetes_y_train)\u001b[0m\u001b[0;34m\u001b[0m\u001b[0;34m\u001b[0m\u001b[0;34m\u001b[0m\u001b[0m\n",
            "\u001b[0;31mNameError\u001b[0m: name 'Xnew' is not defined"
          ]
        }
      ]
    },
    {
      "cell_type": "code",
      "metadata": {
        "id": "AzU6pUAU-m_S",
        "colab": {
          "base_uri": "https://localhost:8080/",
          "height": 208
        },
        "outputId": "613759d5-77ac-41b7-e5d7-3602031da855"
      },
      "source": [
        "print(X.shape)\n",
        "X_new = X.transpose()\n",
        "print(X_new.shape)"
      ],
      "execution_count": 279,
      "outputs": [
        {
          "output_type": "error",
          "ename": "NameError",
          "evalue": "ignored",
          "traceback": [
            "\u001b[0;31m---------------------------------------------------------------------------\u001b[0m",
            "\u001b[0;31mNameError\u001b[0m                                 Traceback (most recent call last)",
            "\u001b[0;32m<ipython-input-279-33b255988228>\u001b[0m in \u001b[0;36m<module>\u001b[0;34m()\u001b[0m\n\u001b[0;32m----> 1\u001b[0;31m \u001b[0mprint\u001b[0m\u001b[0;34m(\u001b[0m\u001b[0mX\u001b[0m\u001b[0;34m.\u001b[0m\u001b[0mshape\u001b[0m\u001b[0;34m)\u001b[0m\u001b[0;34m\u001b[0m\u001b[0;34m\u001b[0m\u001b[0m\n\u001b[0m\u001b[1;32m      2\u001b[0m \u001b[0mX_new\u001b[0m \u001b[0;34m=\u001b[0m \u001b[0mX\u001b[0m\u001b[0;34m.\u001b[0m\u001b[0mtranspose\u001b[0m\u001b[0;34m(\u001b[0m\u001b[0;34m)\u001b[0m\u001b[0;34m\u001b[0m\u001b[0;34m\u001b[0m\u001b[0m\n\u001b[1;32m      3\u001b[0m \u001b[0mprint\u001b[0m\u001b[0;34m(\u001b[0m\u001b[0mX_new\u001b[0m\u001b[0;34m.\u001b[0m\u001b[0mshape\u001b[0m\u001b[0;34m)\u001b[0m\u001b[0;34m\u001b[0m\u001b[0;34m\u001b[0m\u001b[0m\n",
            "\u001b[0;31mNameError\u001b[0m: name 'X' is not defined"
          ]
        }
      ]
    },
    {
      "cell_type": "code",
      "metadata": {
        "id": "sMzEY-syCZ0i",
        "colab": {
          "base_uri": "https://localhost:8080/",
          "height": 244
        },
        "outputId": "a0b33beb-3301-4cab-e985-6afc4d8cf9be"
      },
      "source": [
        "from sklearn.model_selection import LeaveOneOut\n",
        "#X = np.array([[1, 2], [3, 4]])\n",
        "X= array([x_precision,\tx_recall\t,x_f_measure_value\t,x_Onset_ABS_Mean,x_Onset_Std,x_Duration_ABS_Mean,x_Duration_Std])\n",
        "\n",
        "y = y_finalMark #np.array([1, 2])\n",
        "loo = LeaveOneOut()\n",
        "loo.get_n_splits(X)\n",
        "\n",
        "print(loo)\n",
        "for train_index, test_index in loo.split(X):\n",
        "     print(\"TRAIN:\", train_index, \"TEST:\", test_index)\n",
        "     X_train, X_test = X[train_index], X[test_index]\n",
        "     y_train, y_test = y[train_index], y[test_index]\n",
        "     print(X_train, X_test, y_train, y_test)\n",
        "\"\"\"\n",
        "TRAIN: [1] TEST: [0]\n",
        "[[3 4]] [[1 2]] [2] [1]\n",
        "TRAIN: [0] TEST: [1]\n",
        "# Use only one feature\n",
        "#X = X[:, np.newaxis, 2]\n",
        "\"\"\"\n",
        "\n",
        "\n"
      ],
      "execution_count": 282,
      "outputs": [
        {
          "output_type": "error",
          "ename": "NameError",
          "evalue": "ignored",
          "traceback": [
            "\u001b[0;31m---------------------------------------------------------------------------\u001b[0m",
            "\u001b[0;31mNameError\u001b[0m                                 Traceback (most recent call last)",
            "\u001b[0;32m<ipython-input-282-8863d8c76090>\u001b[0m in \u001b[0;36m<module>\u001b[0;34m()\u001b[0m\n\u001b[1;32m      1\u001b[0m \u001b[0;32mfrom\u001b[0m \u001b[0msklearn\u001b[0m\u001b[0;34m.\u001b[0m\u001b[0mmodel_selection\u001b[0m \u001b[0;32mimport\u001b[0m \u001b[0mLeaveOneOut\u001b[0m\u001b[0;34m\u001b[0m\u001b[0;34m\u001b[0m\u001b[0m\n\u001b[1;32m      2\u001b[0m \u001b[0;31m#X = np.array([[1, 2], [3, 4]])\u001b[0m\u001b[0;34m\u001b[0m\u001b[0;34m\u001b[0m\u001b[0;34m\u001b[0m\u001b[0m\n\u001b[0;32m----> 3\u001b[0;31m \u001b[0mX\u001b[0m\u001b[0;34m=\u001b[0m \u001b[0marray\u001b[0m\u001b[0;34m(\u001b[0m\u001b[0;34m[\u001b[0m\u001b[0mx_precision\u001b[0m\u001b[0;34m,\u001b[0m  \u001b[0mx_recall\u001b[0m        \u001b[0;34m,\u001b[0m\u001b[0mx_f_measure_value\u001b[0m      \u001b[0;34m,\u001b[0m\u001b[0mx_Onset_ABS_Mean\u001b[0m\u001b[0;34m,\u001b[0m\u001b[0mx_Onset_Std\u001b[0m\u001b[0;34m,\u001b[0m\u001b[0mx_Duration_ABS_Mean\u001b[0m\u001b[0;34m,\u001b[0m\u001b[0mx_Duration_Std\u001b[0m\u001b[0;34m]\u001b[0m\u001b[0;34m)\u001b[0m\u001b[0;34m\u001b[0m\u001b[0;34m\u001b[0m\u001b[0m\n\u001b[0m\u001b[1;32m      4\u001b[0m \u001b[0;34m\u001b[0m\u001b[0m\n\u001b[1;32m      5\u001b[0m \u001b[0my\u001b[0m \u001b[0;34m=\u001b[0m \u001b[0my_finalMark\u001b[0m \u001b[0;31m#np.array([1, 2])\u001b[0m\u001b[0;34m\u001b[0m\u001b[0;34m\u001b[0m\u001b[0m\n",
            "\u001b[0;31mNameError\u001b[0m: name 'x_precision' is not defined"
          ]
        }
      ]
    },
    {
      "cell_type": "code",
      "metadata": {
        "id": "GTKsbKCDXJYo"
      },
      "source": [
        "print(len(X))\n",
        "print(len(X[0]))\n",
        "print(type(X))"
      ],
      "execution_count": null,
      "outputs": []
    },
    {
      "cell_type": "code",
      "metadata": {
        "id": "ovj0ntfKSdXe",
        "colab": {
          "base_uri": "https://localhost:8080/",
          "height": 244
        },
        "outputId": "2a28cae9-b8a0-4be2-c4d7-f03a5f4c7fba"
      },
      "source": [
        "# Split the data into training/testing sets\n",
        "X= array([x_precision,\tx_recall\t,x_f_measure_value\t,x_Onset_ABS_Mean,x_Onset_Std,x_Duration_ABS_Mean,x_Duration_Std])\n",
        "\n",
        "y = y_finalMark #np.array([1, 2])\n",
        "# Use only one feature\n",
        "X = X[:, np.newaxis, 3]\n",
        "\n",
        "\n",
        "# Split the targets into training/testing sets\n",
        "\"\"\"\n",
        "X_train =X[0:4]\n",
        "X_test = X[4:8]\n",
        "\n",
        "# Split the targets into training/testing sets\n",
        "y_train = y[0:4]\n",
        "y_test = y[4:8]\n",
        "\"\"\"\n",
        "# Split the data into training/testing sets\n",
        "X_train =X[0:7]\n",
        "X_test = X[1:8]\n",
        "\n",
        "# Split the targets into training/testing sets\n",
        "y_train = y[0:7]\n",
        "y_test = y[1:8]\n",
        "#print(X_train,X_test,y_train,y_test)\n",
        "# Create linear regression object\n",
        "regr = linear_model.LinearRegression()\n",
        "\n",
        "\n",
        "#print((X_train),(y_train))\n",
        "\n",
        "# Train the model using the training sets\n",
        "regr.fit(X_train, y_train)\n",
        "\n",
        "# Make predictions using the testing set\n",
        "y_pred = regr.predict(X_test)\n",
        "##HACK!\n",
        "#print(y_test, type(y_pred))\n",
        "y_pred=np.append(y_pred,y_pred[len(y_pred)-1])\n",
        "# The coefficients\n",
        "print('Coefficients: \\n', regr.coef_)\n",
        "\n",
        "\n",
        "#print('Mean abs error: %.2f'    % mean_absolute_error(y_test, y_pred))\n",
        "# The coefficient of determination: 1 is perfect prediction\n",
        "#print('Coefficient of determination: %.2f'% r2_score(y_test, y_pred))\n",
        "\n",
        "# Plot outputs\n",
        "print((X_test),(y_test))\n",
        "plt.scatter(X_test, y_test[0:len(y_test)-1],  color='black')\n",
        "print((X_test),(y_pred))\n",
        "plt.plot(X_test, y_pred[0:len(y_pred)-1], color='blue', linewidth=3)\n",
        "\n",
        "plt.xticks(())\n",
        "plt.yticks(())\n",
        "\n",
        "plt.show()"
      ],
      "execution_count": 286,
      "outputs": [
        {
          "output_type": "error",
          "ename": "NameError",
          "evalue": "ignored",
          "traceback": [
            "\u001b[0;31m---------------------------------------------------------------------------\u001b[0m",
            "\u001b[0;31mNameError\u001b[0m                                 Traceback (most recent call last)",
            "\u001b[0;32m<ipython-input-286-f263774a524e>\u001b[0m in \u001b[0;36m<module>\u001b[0;34m()\u001b[0m\n\u001b[1;32m      1\u001b[0m \u001b[0;31m# Split the data into training/testing sets\u001b[0m\u001b[0;34m\u001b[0m\u001b[0;34m\u001b[0m\u001b[0;34m\u001b[0m\u001b[0m\n\u001b[0;32m----> 2\u001b[0;31m \u001b[0mX\u001b[0m\u001b[0;34m=\u001b[0m \u001b[0marray\u001b[0m\u001b[0;34m(\u001b[0m\u001b[0;34m[\u001b[0m\u001b[0mx_precision\u001b[0m\u001b[0;34m,\u001b[0m  \u001b[0mx_recall\u001b[0m        \u001b[0;34m,\u001b[0m\u001b[0mx_f_measure_value\u001b[0m      \u001b[0;34m,\u001b[0m\u001b[0mx_Onset_ABS_Mean\u001b[0m\u001b[0;34m,\u001b[0m\u001b[0mx_Onset_Std\u001b[0m\u001b[0;34m,\u001b[0m\u001b[0mx_Duration_ABS_Mean\u001b[0m\u001b[0;34m,\u001b[0m\u001b[0mx_Duration_Std\u001b[0m\u001b[0;34m]\u001b[0m\u001b[0;34m)\u001b[0m\u001b[0;34m\u001b[0m\u001b[0;34m\u001b[0m\u001b[0m\n\u001b[0m\u001b[1;32m      3\u001b[0m \u001b[0;34m\u001b[0m\u001b[0m\n\u001b[1;32m      4\u001b[0m \u001b[0my\u001b[0m \u001b[0;34m=\u001b[0m \u001b[0my_finalMark\u001b[0m \u001b[0;31m#np.array([1, 2])\u001b[0m\u001b[0;34m\u001b[0m\u001b[0;34m\u001b[0m\u001b[0m\n\u001b[1;32m      5\u001b[0m \u001b[0;31m# Use only one feature\u001b[0m\u001b[0;34m\u001b[0m\u001b[0;34m\u001b[0m\u001b[0;34m\u001b[0m\u001b[0m\n",
            "\u001b[0;31mNameError\u001b[0m: name 'x_precision' is not defined"
          ]
        }
      ]
    },
    {
      "cell_type": "code",
      "metadata": {
        "id": "euJiSY9_D6KF",
        "colab": {
          "base_uri": "https://localhost:8080/"
        },
        "outputId": "d345e054-0237-4feb-cf97-72721280a917"
      },
      "source": [
        "\n",
        "import matplotlib.pyplot as plt\n",
        "import numpy as np\n",
        "from sklearn import datasets, linear_model\n",
        "from sklearn.metrics import mean_squared_error, r2_score\n",
        "\n",
        "# Load the diabetes dataset\n",
        "X, y = datasets.load_diabetes(return_X_y=True)\n",
        "\n",
        "\n",
        "xp = \t[0.996\t,0.802,\t0.885,\t0.488\t,0.44\t,0.553,\t0.759,\t0.482\t,0.617]\n",
        "xr= [0.958,\t0.802,\t0.885,\t0.488,\t0.44,\t0.553,\t0.759,\t0.482,\t0.617]\n",
        "xf = \t[0.977,\t0.802,\t0.885,\t0.488,\t0.44,\t0.553,\t0.759,\t0.482,\t0.617]\n",
        "Y\t= [100,\t85,\t55,\t70,\t70,\t85,\t85,\t85,\t55]\n",
        "print(type(X[2]))\n",
        "\n"
      ],
      "execution_count": 287,
      "outputs": [
        {
          "output_type": "stream",
          "text": [
            "<class 'numpy.ndarray'>\n"
          ],
          "name": "stdout"
        }
      ]
    },
    {
      "cell_type": "code",
      "metadata": {
        "id": "MYGB0Pz0Gj4S"
      },
      "source": [
        "import pandas as pd\n",
        "import numpy as np\n",
        "import matplotlib.pyplot as plt\n"
      ],
      "execution_count": 288,
      "outputs": []
    },
    {
      "cell_type": "code",
      "metadata": {
        "id": "vvEw5vkLTeOu"
      },
      "source": [
        "!ls "
      ],
      "execution_count": null,
      "outputs": []
    },
    {
      "cell_type": "code",
      "metadata": {
        "id": "Q6g_R1jl-VuP",
        "colab": {
          "base_uri": "https://localhost:8080/"
        },
        "outputId": "8383f2ff-4b9d-46bc-8d21-952a00f1893d"
      },
      "source": [
        "print(len(onset_X), onset_mean, onset_std, duration_X, duration_mean, duration_std)"
      ],
      "execution_count": 301,
      "outputs": [
        {
          "output_type": "stream",
          "text": [
            "15 [0.00039072017329406963, -0.0021164026316944817, -0.004073676508295084, 0.003983210033579483, -0.0008868733780013196, 0.005517762441727997, -0.006111984316499995, -0.0001612497605193564, -0.0022222227749440493, 0.0033731682852239705, -0.0036340175756317122, -0.0035755368433739317, -0.0038095241193515927, -0.004742676411247587, -0.00743214503502158] [0.011173552114350538, 0.010175494858425404, 0.011906155721880692, 0.012469734101129126, 0.011398939044397151, 0.010556410030084378, 0.011998556493209566, 0.010151529035431288, 0.011981032743501463, 0.010561197702953135, 0.01090262666660435, 0.010862246866227276, 0.01028886073090104, 0.01187169866807395, 0.011546126364576022] [100, 85, 70, 85, 85, 85, 100, 85, 70, 40, 40, 85, 70, 85, 100] [0.014882260372623489, -0.0038048729761615847, -0.0026606207142062465, 0.017939884849713008, 0.0019695490305219137, 0.016749810554161897, -0.01738705751055296, -0.03996976613507805, 0.0034467119019274683, 0.0031182201317648726, 0.0044835274213261365, 0.011562653788770852, 0.014875283221290923, 0.010657958834539663, -0.0004910789411803974] [0.10164596765810706, 0.026919634686502776, 0.03467563459360914, 0.07148742054705266, 0.029144339760199194, 0.11831299385248217, 0.08355766648116948, 0.19479370778700525, 0.008801458215261937, 0.01282428250308222, 0.022485861159630832, 0.0886760443254425, 0.1056845992311661, 0.09191324743887008, 0.06894488685436542]\n"
          ],
          "name": "stdout"
        }
      ]
    },
    {
      "cell_type": "code",
      "metadata": {
        "id": "CDyDJy8YSnkJ"
      },
      "source": [
        "dataset = pd.read_csv('drive/MyDrive/Bass/data/StudentStatisticsBillie.csv')"
      ],
      "execution_count": 304,
      "outputs": []
    },
    {
      "cell_type": "code",
      "metadata": {
        "id": "QoXve78BJrBF"
      },
      "source": [
        ""
      ],
      "execution_count": null,
      "outputs": []
    },
    {
      "cell_type": "code",
      "metadata": {
        "id": "elXczaorTqoP",
        "colab": {
          "base_uri": "https://localhost:8080/",
          "height": 574
        },
        "outputId": "93efb17b-3b82-4473-9b41-a9440eea3345"
      },
      "source": [
        "dataset"
      ],
      "execution_count": 305,
      "outputs": [
        {
          "output_type": "execute_result",
          "data": {
            "text/html": [
              "<div>\n",
              "<style scoped>\n",
              "    .dataframe tbody tr th:only-of-type {\n",
              "        vertical-align: middle;\n",
              "    }\n",
              "\n",
              "    .dataframe tbody tr th {\n",
              "        vertical-align: top;\n",
              "    }\n",
              "\n",
              "    .dataframe thead th {\n",
              "        text-align: right;\n",
              "    }\n",
              "</style>\n",
              "<table border=\"1\" class=\"dataframe\">\n",
              "  <thead>\n",
              "    <tr style=\"text-align: right;\">\n",
              "      <th></th>\n",
              "      <th>Student</th>\n",
              "      <th>precision</th>\n",
              "      <th>recall</th>\n",
              "      <th>f_measure_value</th>\n",
              "      <th>Onset ABS Mean</th>\n",
              "      <th>Onset Mean</th>\n",
              "      <th>Onset Std</th>\n",
              "      <th>Duration ABS Mean</th>\n",
              "      <th>Duration Mean</th>\n",
              "      <th>Duration Std</th>\n",
              "      <th>onsetMark</th>\n",
              "      <th>DurationMark</th>\n",
              "      <th>articulationMark</th>\n",
              "      <th>soundQualityMark</th>\n",
              "      <th>volumeControlMark</th>\n",
              "      <th>finalMark</th>\n",
              "    </tr>\n",
              "  </thead>\n",
              "  <tbody>\n",
              "    <tr>\n",
              "      <th>0</th>\n",
              "      <td>1</td>\n",
              "      <td>0.982</td>\n",
              "      <td>0.951</td>\n",
              "      <td>0.966</td>\n",
              "      <td>0.010</td>\n",
              "      <td>0.000</td>\n",
              "      <td>0.011</td>\n",
              "      <td>0.016</td>\n",
              "      <td>0.015</td>\n",
              "      <td>0.102</td>\n",
              "      <td>100</td>\n",
              "      <td>100</td>\n",
              "      <td>100</td>\n",
              "      <td>100</td>\n",
              "      <td>100</td>\n",
              "      <td>5.0</td>\n",
              "    </tr>\n",
              "    <tr>\n",
              "      <th>1</th>\n",
              "      <td>2</td>\n",
              "      <td>0.400</td>\n",
              "      <td>0.364</td>\n",
              "      <td>0.381</td>\n",
              "      <td>0.009</td>\n",
              "      <td>-0.002</td>\n",
              "      <td>0.010</td>\n",
              "      <td>0.014</td>\n",
              "      <td>-0.004</td>\n",
              "      <td>0.027</td>\n",
              "      <td>85</td>\n",
              "      <td>85</td>\n",
              "      <td>70</td>\n",
              "      <td>85</td>\n",
              "      <td>85</td>\n",
              "      <td>4.0</td>\n",
              "    </tr>\n",
              "    <tr>\n",
              "      <th>2</th>\n",
              "      <td>3</td>\n",
              "      <td>0.527</td>\n",
              "      <td>0.545</td>\n",
              "      <td>0.536</td>\n",
              "      <td>0.011</td>\n",
              "      <td>-0.004</td>\n",
              "      <td>0.012</td>\n",
              "      <td>0.015</td>\n",
              "      <td>-0.003</td>\n",
              "      <td>0.035</td>\n",
              "      <td>55</td>\n",
              "      <td>70</td>\n",
              "      <td>70</td>\n",
              "      <td>70</td>\n",
              "      <td>70</td>\n",
              "      <td>3.0</td>\n",
              "    </tr>\n",
              "    <tr>\n",
              "      <th>3</th>\n",
              "      <td>4</td>\n",
              "      <td>0.210</td>\n",
              "      <td>0.199</td>\n",
              "      <td>0.205</td>\n",
              "      <td>0.011</td>\n",
              "      <td>0.004</td>\n",
              "      <td>0.012</td>\n",
              "      <td>0.020</td>\n",
              "      <td>0.018</td>\n",
              "      <td>0.071</td>\n",
              "      <td>70</td>\n",
              "      <td>85</td>\n",
              "      <td>85</td>\n",
              "      <td>100</td>\n",
              "      <td>85</td>\n",
              "      <td>4.0</td>\n",
              "    </tr>\n",
              "    <tr>\n",
              "      <th>4</th>\n",
              "      <td>5</td>\n",
              "      <td>0.163</td>\n",
              "      <td>0.164</td>\n",
              "      <td>0.164</td>\n",
              "      <td>0.010</td>\n",
              "      <td>-0.001</td>\n",
              "      <td>0.011</td>\n",
              "      <td>0.015</td>\n",
              "      <td>0.002</td>\n",
              "      <td>0.029</td>\n",
              "      <td>70</td>\n",
              "      <td>85</td>\n",
              "      <td>85</td>\n",
              "      <td>85</td>\n",
              "      <td>85</td>\n",
              "      <td>4.0</td>\n",
              "    </tr>\n",
              "    <tr>\n",
              "      <th>5</th>\n",
              "      <td>6</td>\n",
              "      <td>0.223</td>\n",
              "      <td>0.220</td>\n",
              "      <td>0.221</td>\n",
              "      <td>0.009</td>\n",
              "      <td>0.006</td>\n",
              "      <td>0.011</td>\n",
              "      <td>0.024</td>\n",
              "      <td>0.017</td>\n",
              "      <td>0.118</td>\n",
              "      <td>85</td>\n",
              "      <td>85</td>\n",
              "      <td>70</td>\n",
              "      <td>85</td>\n",
              "      <td>85</td>\n",
              "      <td>3.0</td>\n",
              "    </tr>\n",
              "    <tr>\n",
              "      <th>6</th>\n",
              "      <td>7</td>\n",
              "      <td>0.334</td>\n",
              "      <td>0.336</td>\n",
              "      <td>0.335</td>\n",
              "      <td>0.011</td>\n",
              "      <td>-0.006</td>\n",
              "      <td>0.012</td>\n",
              "      <td>0.017</td>\n",
              "      <td>-0.017</td>\n",
              "      <td>0.084</td>\n",
              "      <td>85</td>\n",
              "      <td>100</td>\n",
              "      <td>100</td>\n",
              "      <td>100</td>\n",
              "      <td>85</td>\n",
              "      <td>4.5</td>\n",
              "    </tr>\n",
              "    <tr>\n",
              "      <th>7</th>\n",
              "      <td>8</td>\n",
              "      <td>0.088</td>\n",
              "      <td>0.091</td>\n",
              "      <td>0.089</td>\n",
              "      <td>0.009</td>\n",
              "      <td>-0.000</td>\n",
              "      <td>0.010</td>\n",
              "      <td>0.044</td>\n",
              "      <td>-0.040</td>\n",
              "      <td>0.195</td>\n",
              "      <td>85</td>\n",
              "      <td>85</td>\n",
              "      <td>85</td>\n",
              "      <td>70</td>\n",
              "      <td>55</td>\n",
              "      <td>2.0</td>\n",
              "    </tr>\n",
              "    <tr>\n",
              "      <th>8</th>\n",
              "      <td>9</td>\n",
              "      <td>0.238</td>\n",
              "      <td>0.252</td>\n",
              "      <td>0.244</td>\n",
              "      <td>0.011</td>\n",
              "      <td>-0.002</td>\n",
              "      <td>0.012</td>\n",
              "      <td>0.004</td>\n",
              "      <td>0.003</td>\n",
              "      <td>0.009</td>\n",
              "      <td>55</td>\n",
              "      <td>70</td>\n",
              "      <td>85</td>\n",
              "      <td>85</td>\n",
              "      <td>70</td>\n",
              "      <td>3.0</td>\n",
              "    </tr>\n",
              "    <tr>\n",
              "      <th>9</th>\n",
              "      <td>10</td>\n",
              "      <td>0.106</td>\n",
              "      <td>0.112</td>\n",
              "      <td>0.109</td>\n",
              "      <td>0.009</td>\n",
              "      <td>0.003</td>\n",
              "      <td>0.011</td>\n",
              "      <td>0.006</td>\n",
              "      <td>0.003</td>\n",
              "      <td>0.013</td>\n",
              "      <td>55</td>\n",
              "      <td>40</td>\n",
              "      <td>40</td>\n",
              "      <td>40</td>\n",
              "      <td>40</td>\n",
              "      <td>1.0</td>\n",
              "    </tr>\n",
              "    <tr>\n",
              "      <th>10</th>\n",
              "      <td>11</td>\n",
              "      <td>0.162</td>\n",
              "      <td>0.129</td>\n",
              "      <td>0.144</td>\n",
              "      <td>0.009</td>\n",
              "      <td>-0.004</td>\n",
              "      <td>0.011</td>\n",
              "      <td>0.011</td>\n",
              "      <td>0.004</td>\n",
              "      <td>0.022</td>\n",
              "      <td>55</td>\n",
              "      <td>40</td>\n",
              "      <td>40</td>\n",
              "      <td>40</td>\n",
              "      <td>40</td>\n",
              "      <td>0.0</td>\n",
              "    </tr>\n",
              "    <tr>\n",
              "      <th>11</th>\n",
              "      <td>12</td>\n",
              "      <td>0.519</td>\n",
              "      <td>0.430</td>\n",
              "      <td>0.470</td>\n",
              "      <td>0.009</td>\n",
              "      <td>-0.004</td>\n",
              "      <td>0.011</td>\n",
              "      <td>0.018</td>\n",
              "      <td>0.012</td>\n",
              "      <td>0.089</td>\n",
              "      <td>85</td>\n",
              "      <td>85</td>\n",
              "      <td>100</td>\n",
              "      <td>100</td>\n",
              "      <td>100</td>\n",
              "      <td>4.0</td>\n",
              "    </tr>\n",
              "    <tr>\n",
              "      <th>12</th>\n",
              "      <td>13</td>\n",
              "      <td>0.548</td>\n",
              "      <td>0.483</td>\n",
              "      <td>0.513</td>\n",
              "      <td>0.009</td>\n",
              "      <td>-0.004</td>\n",
              "      <td>0.010</td>\n",
              "      <td>0.022</td>\n",
              "      <td>0.015</td>\n",
              "      <td>0.106</td>\n",
              "      <td>70</td>\n",
              "      <td>70</td>\n",
              "      <td>70</td>\n",
              "      <td>70</td>\n",
              "      <td>85</td>\n",
              "      <td>3.0</td>\n",
              "    </tr>\n",
              "    <tr>\n",
              "      <th>13</th>\n",
              "      <td>14</td>\n",
              "      <td>0.436</td>\n",
              "      <td>0.392</td>\n",
              "      <td>0.413</td>\n",
              "      <td>0.011</td>\n",
              "      <td>-0.005</td>\n",
              "      <td>0.012</td>\n",
              "      <td>0.015</td>\n",
              "      <td>0.011</td>\n",
              "      <td>0.092</td>\n",
              "      <td>85</td>\n",
              "      <td>85</td>\n",
              "      <td>85</td>\n",
              "      <td>70</td>\n",
              "      <td>85</td>\n",
              "      <td>3.5</td>\n",
              "    </tr>\n",
              "    <tr>\n",
              "      <th>14</th>\n",
              "      <td>15</td>\n",
              "      <td>0.498</td>\n",
              "      <td>0.437</td>\n",
              "      <td>0.466</td>\n",
              "      <td>0.010</td>\n",
              "      <td>-0.007</td>\n",
              "      <td>0.012</td>\n",
              "      <td>0.017</td>\n",
              "      <td>-0.000</td>\n",
              "      <td>0.069</td>\n",
              "      <td>100</td>\n",
              "      <td>100</td>\n",
              "      <td>100</td>\n",
              "      <td>100</td>\n",
              "      <td>100</td>\n",
              "      <td>5.0</td>\n",
              "    </tr>\n",
              "  </tbody>\n",
              "</table>\n",
              "</div>"
            ],
            "text/plain": [
              "    Student  precision  recall  ...  soundQualityMark  volumeControlMark   finalMark\n",
              "0         1      0.982   0.951  ...               100                100         5.0\n",
              "1         2      0.400   0.364  ...                85                 85         4.0\n",
              "2         3      0.527   0.545  ...                70                 70         3.0\n",
              "3         4      0.210   0.199  ...               100                 85         4.0\n",
              "4         5      0.163   0.164  ...                85                 85         4.0\n",
              "5         6      0.223   0.220  ...                85                 85         3.0\n",
              "6         7      0.334   0.336  ...               100                 85         4.5\n",
              "7         8      0.088   0.091  ...                70                 55         2.0\n",
              "8         9      0.238   0.252  ...                85                 70         3.0\n",
              "9        10      0.106   0.112  ...                40                 40         1.0\n",
              "10       11      0.162   0.129  ...                40                 40         0.0\n",
              "11       12      0.519   0.430  ...               100                100         4.0\n",
              "12       13      0.548   0.483  ...                70                 85         3.0\n",
              "13       14      0.436   0.392  ...                70                 85         3.5\n",
              "14       15      0.498   0.437  ...               100                100         5.0\n",
              "\n",
              "[15 rows x 16 columns]"
            ]
          },
          "metadata": {
            "tags": []
          },
          "execution_count": 305
        }
      ]
    },
    {
      "cell_type": "code",
      "metadata": {
        "id": "6uSCgeIuTt-Y",
        "colab": {
          "base_uri": "https://localhost:8080/"
        },
        "outputId": "4071a90e-fed8-49aa-81fa-15b5673a4fa4"
      },
      "source": [
        "print(dataset.describe())"
      ],
      "execution_count": 306,
      "outputs": [
        {
          "output_type": "stream",
          "text": [
            "         Student  precision  ...  volumeControlMark   finalMark\n",
            "count  15.000000  15.000000  ...          15.000000   15.000000\n",
            "mean    8.000000   0.362267  ...          78.000000    3.266667\n",
            "std     4.472136   0.235294  ...          19.530196    1.399830\n",
            "min     1.000000   0.088000  ...          40.000000    0.000000\n",
            "25%     4.500000   0.186500  ...          70.000000    3.000000\n",
            "50%     8.000000   0.334000  ...          85.000000    3.500000\n",
            "75%    11.500000   0.508500  ...          85.000000    4.000000\n",
            "max    15.000000   0.982000  ...         100.000000    5.000000\n",
            "\n",
            "[8 rows x 16 columns]\n"
          ],
          "name": "stdout"
        }
      ]
    },
    {
      "cell_type": "code",
      "metadata": {
        "id": "SQdhtPm7T2dX",
        "colab": {
          "base_uri": "https://localhost:8080/"
        },
        "outputId": "4b440e7c-1918-48df-baa7-3859562d8a8c"
      },
      "source": [
        "from sklearn.linear_model import LinearRegression\n",
        "from sklearn.model_selection import train_test_split\n",
        "from sklearn import metrics\n",
        "#X = dataset[['P', 'R', 'F',  ' ABS Mean Onset','Mean  Onset','Std Onset',' ABS Mean Duration','Mean Duration','Std Duration']]\n",
        "X = dataset[['precision', 'recall', 'f_measure_value',  'Onset ABS Mean','Onset Mean','Onset Std']]\n",
        "\n",
        "print(len(onset_X), onset_mean, onset_std, duration_X, duration_mean, duration_std)\n",
        "print(X.shape)\n",
        "y=array(dataset['onsetMark'])\n",
        "\n",
        "\n",
        "#coeff_df = pd.DataFrame(regressor.coef_, X.columns, columns=['Coefficient'])\n",
        "\n",
        "X_train, X_test, y_train, y_test = train_test_split(X, y, test_size=0.3, random_state=0)\n",
        "regressor = LinearRegression()\n",
        "regressor.fit(X_train, y_train)\n",
        "y_pred = regressor.predict(X_test)\n",
        "df = pd.DataFrame({'Actual': y_test, 'Predicted': y_pred})\n",
        "df\n",
        "\n",
        "print('Mean Absolute Error:', metrics.mean_absolute_error(y_test, y_pred))\n",
        "print('Root Mean Squared Error:', np.sqrt(metrics.mean_squared_error(y_test, y_pred)))\n"
      ],
      "execution_count": 310,
      "outputs": [
        {
          "output_type": "stream",
          "text": [
            "15 [0.00039072017329406963, -0.0021164026316944817, -0.004073676508295084, 0.003983210033579483, -0.0008868733780013196, 0.005517762441727997, -0.006111984316499995, -0.0001612497605193564, -0.0022222227749440493, 0.0033731682852239705, -0.0036340175756317122, -0.0035755368433739317, -0.0038095241193515927, -0.004742676411247587, -0.00743214503502158] [0.011173552114350538, 0.010175494858425404, 0.011906155721880692, 0.012469734101129126, 0.011398939044397151, 0.010556410030084378, 0.011998556493209566, 0.010151529035431288, 0.011981032743501463, 0.010561197702953135, 0.01090262666660435, 0.010862246866227276, 0.01028886073090104, 0.01187169866807395, 0.011546126364576022] [100, 85, 70, 85, 85, 85, 100, 85, 70, 40, 40, 85, 70, 85, 100] [0.014882260372623489, -0.0038048729761615847, -0.0026606207142062465, 0.017939884849713008, 0.0019695490305219137, 0.016749810554161897, -0.01738705751055296, -0.03996976613507805, 0.0034467119019274683, 0.0031182201317648726, 0.0044835274213261365, 0.011562653788770852, 0.014875283221290923, 0.010657958834539663, -0.0004910789411803974] [0.10164596765810706, 0.026919634686502776, 0.03467563459360914, 0.07148742054705266, 0.029144339760199194, 0.11831299385248217, 0.08355766648116948, 0.19479370778700525, 0.008801458215261937, 0.01282428250308222, 0.022485861159630832, 0.0886760443254425, 0.1056845992311661, 0.09191324743887008, 0.06894488685436542]\n",
            "(15, 6)\n",
            "Mean Absolute Error: 18.667656777801433\n",
            "Root Mean Squared Error: 22.437943037358192\n"
          ],
          "name": "stdout"
        }
      ]
    },
    {
      "cell_type": "code",
      "metadata": {
        "id": "aju6nZtqCm1Z",
        "colab": {
          "base_uri": "https://localhost:8080/",
          "height": 206
        },
        "outputId": "bac14ed7-2c29-4495-9046-17ca921e0aa8"
      },
      "source": [
        "df"
      ],
      "execution_count": 311,
      "outputs": [
        {
          "output_type": "execute_result",
          "data": {
            "text/html": [
              "<div>\n",
              "<style scoped>\n",
              "    .dataframe tbody tr th:only-of-type {\n",
              "        vertical-align: middle;\n",
              "    }\n",
              "\n",
              "    .dataframe tbody tr th {\n",
              "        vertical-align: top;\n",
              "    }\n",
              "\n",
              "    .dataframe thead th {\n",
              "        text-align: right;\n",
              "    }\n",
              "</style>\n",
              "<table border=\"1\" class=\"dataframe\">\n",
              "  <thead>\n",
              "    <tr style=\"text-align: right;\">\n",
              "      <th></th>\n",
              "      <th>Actual</th>\n",
              "      <th>Predicted</th>\n",
              "    </tr>\n",
              "  </thead>\n",
              "  <tbody>\n",
              "    <tr>\n",
              "      <th>0</th>\n",
              "      <td>85.0</td>\n",
              "      <td>81.384470</td>\n",
              "    </tr>\n",
              "    <tr>\n",
              "      <th>1</th>\n",
              "      <td>85.0</td>\n",
              "      <td>56.761470</td>\n",
              "    </tr>\n",
              "    <tr>\n",
              "      <th>2</th>\n",
              "      <td>55.0</td>\n",
              "      <td>63.636496</td>\n",
              "    </tr>\n",
              "    <tr>\n",
              "      <th>3</th>\n",
              "      <td>55.0</td>\n",
              "      <td>70.565928</td>\n",
              "    </tr>\n",
              "    <tr>\n",
              "      <th>4</th>\n",
              "      <td>100.0</td>\n",
              "      <td>62.718200</td>\n",
              "    </tr>\n",
              "  </tbody>\n",
              "</table>\n",
              "</div>"
            ],
            "text/plain": [
              "   Actual  Predicted\n",
              "0    85.0  81.384470\n",
              "1    85.0  56.761470\n",
              "2    55.0  63.636496\n",
              "3    55.0  70.565928\n",
              "4   100.0  62.718200"
            ]
          },
          "metadata": {
            "tags": []
          },
          "execution_count": 311
        }
      ]
    },
    {
      "cell_type": "code",
      "metadata": {
        "id": "0h3QpYi6YN2S"
      },
      "source": [
        "Xd = dataset[['P', 'R', 'F',  ' ABS Mean Duration','Mean Duration','Std Duration']]\n",
        "print(X.shape)\n",
        "yd=array(dataset['Duration'])\n",
        "regressor = LinearRegression()\n",
        "regressor.fit(Xd_train, yd_train)\n",
        "coeff_df = pd.DataFrame(regressor.coef_, X.columns, columns=['Coefficient'])\n",
        "yd_pred = regressor.predict(X_test)\n",
        "Xd_train, Xd_test, yd_train, yd_test = train_test_split(Xd, yd, test_size=0.3, random_state=0)\n",
        "regressor = LinearRegression()\n",
        "regressor.fit(Xd_train, yd_train)\n",
        "y_pred = regressor.predict(Xd_test)\n",
        "df = pd.DataFrame({'Actual': yd_test, 'Predicted': yd_pred})\n",
        "df"
      ],
      "execution_count": null,
      "outputs": []
    },
    {
      "cell_type": "code",
      "metadata": {
        "id": "t61jezy-aBin",
        "colab": {
          "base_uri": "https://localhost:8080/",
          "height": 190
        },
        "outputId": "95974507-324c-4c18-a5da-59dfe4e4a01e"
      },
      "source": [
        "print('Mean Absolute Error:', metrics.mean_absolute_error(yd_test, yd_pred))\n",
        "print('Root Mean Squared Error:', np.sqrt(metrics.mean_squared_error(yd_test, yd_pred)))"
      ],
      "execution_count": 298,
      "outputs": [
        {
          "output_type": "error",
          "ename": "NameError",
          "evalue": "ignored",
          "traceback": [
            "\u001b[0;31m---------------------------------------------------------------------------\u001b[0m",
            "\u001b[0;31mNameError\u001b[0m                                 Traceback (most recent call last)",
            "\u001b[0;32m<ipython-input-298-4199623ac816>\u001b[0m in \u001b[0;36m<module>\u001b[0;34m()\u001b[0m\n\u001b[0;32m----> 1\u001b[0;31m \u001b[0mprint\u001b[0m\u001b[0;34m(\u001b[0m\u001b[0;34m'Mean Absolute Error:'\u001b[0m\u001b[0;34m,\u001b[0m \u001b[0mmetrics\u001b[0m\u001b[0;34m.\u001b[0m\u001b[0mmean_absolute_error\u001b[0m\u001b[0;34m(\u001b[0m\u001b[0myd_test\u001b[0m\u001b[0;34m,\u001b[0m \u001b[0myd_pred\u001b[0m\u001b[0;34m)\u001b[0m\u001b[0;34m)\u001b[0m\u001b[0;34m\u001b[0m\u001b[0;34m\u001b[0m\u001b[0m\n\u001b[0m\u001b[1;32m      2\u001b[0m \u001b[0mprint\u001b[0m\u001b[0;34m(\u001b[0m\u001b[0;34m'Root Mean Squared Error:'\u001b[0m\u001b[0;34m,\u001b[0m \u001b[0mnp\u001b[0m\u001b[0;34m.\u001b[0m\u001b[0msqrt\u001b[0m\u001b[0;34m(\u001b[0m\u001b[0mmetrics\u001b[0m\u001b[0;34m.\u001b[0m\u001b[0mmean_squared_error\u001b[0m\u001b[0;34m(\u001b[0m\u001b[0myd_test\u001b[0m\u001b[0;34m,\u001b[0m \u001b[0myd_pred\u001b[0m\u001b[0;34m)\u001b[0m\u001b[0;34m)\u001b[0m\u001b[0;34m)\u001b[0m\u001b[0;34m\u001b[0m\u001b[0;34m\u001b[0m\u001b[0m\n",
            "\u001b[0;31mNameError\u001b[0m: name 'yd_test' is not defined"
          ]
        }
      ]
    },
    {
      "cell_type": "code",
      "metadata": {
        "id": "eBgdy195aD6R"
      },
      "source": [
        "dataset = pd.read_csv('drive/MyDrive/Bass/StudentStatisticsInput.csv')"
      ],
      "execution_count": 299,
      "outputs": []
    },
    {
      "cell_type": "code",
      "metadata": {
        "id": "DtnqV0vvPNyN"
      },
      "source": [
        "d"
      ],
      "execution_count": null,
      "outputs": []
    }
  ]
}