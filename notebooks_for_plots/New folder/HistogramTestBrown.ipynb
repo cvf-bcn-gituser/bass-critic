{
  "nbformat": 4,
  "nbformat_minor": 0,
  "metadata": {
    "kernelspec": {
      "display_name": "Python 3",
      "language": "python",
      "name": "python3"
    },
    "language_info": {
      "codemirror_mode": {
        "name": "ipython",
        "version": 3
      },
      "file_extension": ".py",
      "mimetype": "text/x-python",
      "name": "python",
      "nbconvert_exporter": "python",
      "pygments_lexer": "ipython3",
      "version": "3.6.7"
    },
    "colab": {
      "name": "HistogramTestBrown.ipynb",
      "provenance": [],
      "collapsed_sections": []
    }
  },
  "cells": [
    {
      "cell_type": "code",
      "metadata": {
        "colab": {
          "base_uri": "https://localhost:8080/"
        },
        "id": "13LOyuxayHjM",
        "outputId": "3a24aedb-73aa-4033-f989-a4a380dd02e8"
      },
      "source": [
        "!pip3 install essentia"
      ],
      "execution_count": 35,
      "outputs": [
        {
          "output_type": "stream",
          "name": "stdout",
          "text": [
            "Requirement already satisfied: essentia in /usr/local/lib/python3.7/dist-packages (2.1b6.dev374)\n",
            "Requirement already satisfied: numpy>=1.8.2 in /usr/local/lib/python3.7/dist-packages (from essentia) (1.19.5)\n",
            "Requirement already satisfied: pyyaml in /usr/local/lib/python3.7/dist-packages (from essentia) (3.13)\n",
            "Requirement already satisfied: six in /usr/local/lib/python3.7/dist-packages (from essentia) (1.15.0)\n"
          ]
        }
      ]
    },
    {
      "cell_type": "code",
      "metadata": {
        "id": "OEdDKfBpdEwf",
        "colab": {
          "base_uri": "https://localhost:8080/"
        },
        "outputId": "ed44351c-b800-4ce3-8020-cae6917719eb"
      },
      "source": [
        "!pip3 install madmom"
      ],
      "execution_count": 36,
      "outputs": [
        {
          "output_type": "stream",
          "name": "stdout",
          "text": [
            "Requirement already satisfied: madmom in /usr/local/lib/python3.7/dist-packages (0.16.1)\n",
            "Requirement already satisfied: mido>=1.2.8 in /usr/local/lib/python3.7/dist-packages (from madmom) (1.2.10)\n",
            "Requirement already satisfied: numpy>=1.13.4 in /usr/local/lib/python3.7/dist-packages (from madmom) (1.19.5)\n",
            "Requirement already satisfied: scipy>=0.16 in /usr/local/lib/python3.7/dist-packages (from madmom) (1.4.1)\n",
            "Requirement already satisfied: cython>=0.25 in /usr/local/lib/python3.7/dist-packages (from madmom) (0.29.24)\n"
          ]
        }
      ]
    },
    {
      "cell_type": "code",
      "metadata": {
        "id": "rmxZSSGjtfEE",
        "colab": {
          "base_uri": "https://localhost:8080/"
        },
        "outputId": "8d4b4259-3a04-4e70-8351-4318fe0c6bee"
      },
      "source": [
        "!pip3 install mir_eval"
      ],
      "execution_count": 37,
      "outputs": [
        {
          "output_type": "stream",
          "name": "stdout",
          "text": [
            "Requirement already satisfied: mir_eval in /usr/local/lib/python3.7/dist-packages (0.6)\n",
            "Requirement already satisfied: future in /usr/local/lib/python3.7/dist-packages (from mir_eval) (0.16.0)\n",
            "Requirement already satisfied: six in /usr/local/lib/python3.7/dist-packages (from mir_eval) (1.15.0)\n",
            "Requirement already satisfied: scipy>=1.0.0 in /usr/local/lib/python3.7/dist-packages (from mir_eval) (1.4.1)\n",
            "Requirement already satisfied: numpy>=1.7.0 in /usr/local/lib/python3.7/dist-packages (from mir_eval) (1.19.5)\n"
          ]
        }
      ]
    },
    {
      "cell_type": "markdown",
      "metadata": {
        "id": "dSxfHZTNOrr7"
      },
      "source": [
        "The section below is all path dependent"
      ]
    },
    {
      "cell_type": "code",
      "metadata": {
        "id": "rKwBFtUiykYU",
        "colab": {
          "base_uri": "https://localhost:8080/"
        },
        "outputId": "f2748639-861e-4776-9a96-c6786de7025a"
      },
      "source": [
        "from google.colab import drive\n",
        "drive.mount(\"/content/drive\", force_remount=True)\n",
        "root = 'drive/MyDrive/Bass/'\n",
        "\n",
        "import pandas as pd\n",
        "import sys\n",
        "sys.path.append(root)"
      ],
      "execution_count": 38,
      "outputs": [
        {
          "output_type": "stream",
          "name": "stdout",
          "text": [
            "Mounted at /content/drive\n"
          ]
        }
      ]
    },
    {
      "cell_type": "code",
      "metadata": {
        "id": "sAplIzp5UBFL"
      },
      "source": [
        "import madmom"
      ],
      "execution_count": 39,
      "outputs": []
    },
    {
      "cell_type": "code",
      "metadata": {
        "id": "MC6bIbDvyeSZ"
      },
      "source": [
        "from essentia.standard import *\n",
        "from essentia import Pool, array\n",
        "import essentia.standard as es\n",
        "import matplotlib.pyplot as plt\n",
        "import numpy as np\n",
        "import IPython.display as ipd\n",
        "import pandas as pd\n",
        "import os\n",
        "\n",
        "import IPython\n",
        "import pickle\n",
        "from pickle import load\n",
        "from scipy.signal import find_peaks\n",
        "import ipywidgets as widgets\n",
        "from scipy import signal\n",
        "from lxml import etree\n",
        "\n",
        "import plotly.express as px\n",
        "import scipy\n",
        "from statistics import *"
      ],
      "execution_count": 41,
      "outputs": []
    },
    {
      "cell_type": "code",
      "metadata": {
        "id": "7oagAxf-UEjK"
      },
      "source": [
        "import mir_eval\n",
        "from mir_eval import *"
      ],
      "execution_count": 42,
      "outputs": []
    },
    {
      "cell_type": "code",
      "metadata": {
        "id": "sLLTjrn6qh8Q"
      },
      "source": [
        "statsPath = 'drive/MyDrive/Bass/data/brown/StudentStatistics_brown.csv'\n",
        "statsCols = [\"Student\", \"precision\", \"recall\", \"f_measure_value\", \"Onset ABS Mean\", \"Onset Mean\", \"Onset Std\",\n",
        "             \"Duration ABS Mean\", \"Duration Mean\", \"Duration Std\", \"onsetMark\", \" DurationMark\", \" TF 1 Mark \",\n",
        "             \"Sound Quality Mark\",  \" finalMark\"]\n",
        "df_all = pd.read_csv(statsPath, usecols=statsCols)\n",
        "   "
      ],
      "execution_count": 43,
      "outputs": []
    },
    {
      "cell_type": "markdown",
      "metadata": {
        "id": "ThcgwFdTuQUU"
      },
      "source": [
        ""
      ]
    },
    {
      "cell_type": "code",
      "metadata": {
        "id": "ctmZtOPYOLfM"
      },
      "source": [
        "col_list = [\"onset dev\", \"offset dev\"]\n",
        "sonset_deviations = []\n",
        "soffset_deviations = []\n",
        "# sonset_deviations,soffset_deviations\n",
        "k=0\n",
        "while k<9:\n",
        "   sdeviatePath = 'drive/MyDrive/Bass/data/brown/brown_devs_student' + str(k)+ '.csv'\n",
        "   sdf = pd.read_csv(sdeviatePath, usecols=col_list)\n",
        "   sonset_dev_list = sdf[\"onset dev\"]\n",
        "   sonset_deviations.append(sonset_dev_list)\n",
        "   soffset_dev_list = sdf[\"offset dev\"] \n",
        "   soffset_deviations.append(soffset_dev_list)\n",
        "   k+=1"
      ],
      "execution_count": 44,
      "outputs": []
    },
    {
      "cell_type": "code",
      "metadata": {
        "id": "SYHDoLzH-xQD",
        "colab": {
          "base_uri": "https://localhost:8080/",
          "height": 386
        },
        "outputId": "307c6b57-7649-4c26-d0fb-4151ab6412e0"
      },
      "source": [
        "df_all"
      ],
      "execution_count": 45,
      "outputs": [
        {
          "output_type": "execute_result",
          "data": {
            "text/html": [
              "<div>\n",
              "<style scoped>\n",
              "    .dataframe tbody tr th:only-of-type {\n",
              "        vertical-align: middle;\n",
              "    }\n",
              "\n",
              "    .dataframe tbody tr th {\n",
              "        vertical-align: top;\n",
              "    }\n",
              "\n",
              "    .dataframe thead th {\n",
              "        text-align: right;\n",
              "    }\n",
              "</style>\n",
              "<table border=\"1\" class=\"dataframe\">\n",
              "  <thead>\n",
              "    <tr style=\"text-align: right;\">\n",
              "      <th></th>\n",
              "      <th>Student</th>\n",
              "      <th>precision</th>\n",
              "      <th>recall</th>\n",
              "      <th>f_measure_value</th>\n",
              "      <th>Onset ABS Mean</th>\n",
              "      <th>Onset Mean</th>\n",
              "      <th>Onset Std</th>\n",
              "      <th>Duration ABS Mean</th>\n",
              "      <th>Duration Mean</th>\n",
              "      <th>Duration Std</th>\n",
              "      <th>onsetMark</th>\n",
              "      <th>DurationMark</th>\n",
              "      <th>TF 1 Mark</th>\n",
              "      <th>Sound Quality Mark</th>\n",
              "      <th>finalMark</th>\n",
              "    </tr>\n",
              "  </thead>\n",
              "  <tbody>\n",
              "    <tr>\n",
              "      <th>0</th>\n",
              "      <td>0</td>\n",
              "      <td>0.893</td>\n",
              "      <td>0.905</td>\n",
              "      <td>0.899</td>\n",
              "      <td>0.005</td>\n",
              "      <td>-0.003</td>\n",
              "      <td>0.006</td>\n",
              "      <td>0.005</td>\n",
              "      <td>-0.003</td>\n",
              "      <td>0.006</td>\n",
              "      <td>100.0</td>\n",
              "      <td>100.0</td>\n",
              "      <td>100.0</td>\n",
              "      <td>100.0</td>\n",
              "      <td>5.0</td>\n",
              "    </tr>\n",
              "    <tr>\n",
              "      <th>1</th>\n",
              "      <td>1</td>\n",
              "      <td>0.376</td>\n",
              "      <td>0.381</td>\n",
              "      <td>0.378</td>\n",
              "      <td>0.010</td>\n",
              "      <td>-0.002</td>\n",
              "      <td>0.011</td>\n",
              "      <td>0.022</td>\n",
              "      <td>0.021</td>\n",
              "      <td>0.024</td>\n",
              "      <td>72.0</td>\n",
              "      <td>90.0</td>\n",
              "      <td>72.0</td>\n",
              "      <td>79.2</td>\n",
              "      <td>2.7</td>\n",
              "    </tr>\n",
              "    <tr>\n",
              "      <th>2</th>\n",
              "      <td>2</td>\n",
              "      <td>0.571</td>\n",
              "      <td>0.571</td>\n",
              "      <td>0.571</td>\n",
              "      <td>0.010</td>\n",
              "      <td>-0.001</td>\n",
              "      <td>0.011</td>\n",
              "      <td>0.023</td>\n",
              "      <td>0.020</td>\n",
              "      <td>0.026</td>\n",
              "      <td>79.2</td>\n",
              "      <td>90.0</td>\n",
              "      <td>79.2</td>\n",
              "      <td>79.2</td>\n",
              "      <td>3.6</td>\n",
              "    </tr>\n",
              "    <tr>\n",
              "      <th>3</th>\n",
              "      <td>3</td>\n",
              "      <td>0.235</td>\n",
              "      <td>0.238</td>\n",
              "      <td>0.236</td>\n",
              "      <td>0.011</td>\n",
              "      <td>0.008</td>\n",
              "      <td>0.013</td>\n",
              "      <td>0.025</td>\n",
              "      <td>0.017</td>\n",
              "      <td>0.028</td>\n",
              "      <td>79.2</td>\n",
              "      <td>79.2</td>\n",
              "      <td>79.2</td>\n",
              "      <td>90.0</td>\n",
              "      <td>3.6</td>\n",
              "    </tr>\n",
              "    <tr>\n",
              "      <th>4</th>\n",
              "      <td>4</td>\n",
              "      <td>0.091</td>\n",
              "      <td>0.088</td>\n",
              "      <td>0.090</td>\n",
              "      <td>0.007</td>\n",
              "      <td>0.007</td>\n",
              "      <td>0.010</td>\n",
              "      <td>0.000</td>\n",
              "      <td>0.000</td>\n",
              "      <td>0.000</td>\n",
              "      <td>90.0</td>\n",
              "      <td>90.0</td>\n",
              "      <td>90.0</td>\n",
              "      <td>79.2</td>\n",
              "      <td>4.5</td>\n",
              "    </tr>\n",
              "    <tr>\n",
              "      <th>5</th>\n",
              "      <td>5</td>\n",
              "      <td>0.276</td>\n",
              "      <td>0.272</td>\n",
              "      <td>0.274</td>\n",
              "      <td>0.010</td>\n",
              "      <td>-0.000</td>\n",
              "      <td>0.012</td>\n",
              "      <td>0.017</td>\n",
              "      <td>0.016</td>\n",
              "      <td>0.021</td>\n",
              "      <td>72.0</td>\n",
              "      <td>79.2</td>\n",
              "      <td>79.2</td>\n",
              "      <td>79.2</td>\n",
              "      <td>3.6</td>\n",
              "    </tr>\n",
              "    <tr>\n",
              "      <th>6</th>\n",
              "      <td>6</td>\n",
              "      <td>0.464</td>\n",
              "      <td>0.435</td>\n",
              "      <td>0.449</td>\n",
              "      <td>0.010</td>\n",
              "      <td>0.000</td>\n",
              "      <td>0.011</td>\n",
              "      <td>0.025</td>\n",
              "      <td>0.017</td>\n",
              "      <td>0.026</td>\n",
              "      <td>72.0</td>\n",
              "      <td>79.2</td>\n",
              "      <td>79.2</td>\n",
              "      <td>90.0</td>\n",
              "      <td>3.6</td>\n",
              "    </tr>\n",
              "    <tr>\n",
              "      <th>7</th>\n",
              "      <td>7</td>\n",
              "      <td>0.376</td>\n",
              "      <td>0.381</td>\n",
              "      <td>0.378</td>\n",
              "      <td>0.010</td>\n",
              "      <td>-0.002</td>\n",
              "      <td>0.011</td>\n",
              "      <td>0.022</td>\n",
              "      <td>0.021</td>\n",
              "      <td>0.024</td>\n",
              "      <td>79.2</td>\n",
              "      <td>72.0</td>\n",
              "      <td>79.2</td>\n",
              "      <td>72.0</td>\n",
              "      <td>2.7</td>\n",
              "    </tr>\n",
              "    <tr>\n",
              "      <th>8</th>\n",
              "      <td>8</td>\n",
              "      <td>0.571</td>\n",
              "      <td>0.571</td>\n",
              "      <td>0.571</td>\n",
              "      <td>0.010</td>\n",
              "      <td>-0.001</td>\n",
              "      <td>0.011</td>\n",
              "      <td>0.023</td>\n",
              "      <td>0.020</td>\n",
              "      <td>0.026</td>\n",
              "      <td>56.7</td>\n",
              "      <td>72.0</td>\n",
              "      <td>33.3</td>\n",
              "      <td>33.3</td>\n",
              "      <td>0.9</td>\n",
              "    </tr>\n",
              "  </tbody>\n",
              "</table>\n",
              "</div>"
            ],
            "text/plain": [
              "   Student  precision  recall  ...   TF 1 Mark   Sound Quality Mark   finalMark\n",
              "0        0      0.893   0.905  ...        100.0               100.0         5.0\n",
              "1        1      0.376   0.381  ...         72.0                79.2         2.7\n",
              "2        2      0.571   0.571  ...         79.2                79.2         3.6\n",
              "3        3      0.235   0.238  ...         79.2                90.0         3.6\n",
              "4        4      0.091   0.088  ...         90.0                79.2         4.5\n",
              "5        5      0.276   0.272  ...         79.2                79.2         3.6\n",
              "6        6      0.464   0.435  ...         79.2                90.0         3.6\n",
              "7        7      0.376   0.381  ...         79.2                72.0         2.7\n",
              "8        8      0.571   0.571  ...         33.3                33.3         0.9\n",
              "\n",
              "[9 rows x 15 columns]"
            ]
          },
          "metadata": {},
          "execution_count": 45
        }
      ]
    },
    {
      "cell_type": "code",
      "metadata": {
        "id": "AqghKVxYOvZ8"
      },
      "source": [
        "\n",
        "number_of_rows = len(df_all.index)\n"
      ],
      "execution_count": 46,
      "outputs": []
    },
    {
      "cell_type": "markdown",
      "metadata": {
        "id": "RGLfjAZbgQDy"
      },
      "source": [
        ""
      ]
    },
    {
      "cell_type": "code",
      "metadata": {
        "id": "iYl-B_ig2ISM"
      },
      "source": [
        "import csv  \n",
        "#onset_X, onset_mean, onset_std, duration_X, duration_mean, duration_std= \n",
        "# statisticsGenerator(sonset_deviationsArray,sduration_deviationsArray,\" onsets\", \" durations\",the_student_grades,sp,sr,sf)\n",
        "\n",
        "def statisticsGenerator(deviationsArray1,deviationsArray2,title_text1,title_text2,df):\n",
        "   header = [\"Student\",\"precision\",\"recall\",\"f_measure_value\",\"Onset ABS Mean\",\"Onset Mean\",\"Onset Std\",\n",
        "             \"Duration ABS Mean\",\"Duration Mean\",\"Duration Std\",\"onsetMark\",\" DurationMark\",\" TF 1 Mark \",\"soundQualityMark\",\" finalMark\"]\n",
        "\n",
        "   studentStatisticsArray= []\n",
        "   with open('drive/MyDrive/Bass/data/StudentStatistics_blend_brown.csv', 'w', encoding='UTF8') as f:\n",
        "      idx = df.index\n",
        "\n",
        "      number_of_rows = len(idx)\n",
        "      print(number_of_rows)\n",
        "      k=0\n",
        "\n",
        "      writer = csv.writer(f)\n",
        "      # write the header\n",
        "      writer.writerow(header)\n",
        "\n",
        "      studentStatistics = []\n",
        "      onset_X = []  # Martis mark\n",
        "      onset_amean = []\n",
        "      onset_mean = []\n",
        "      onset_std= []\n",
        "\n",
        "      duration_X = [] # Martis mark\n",
        "      duration_amean = []\n",
        "      duration_mean = []\n",
        "      duration_std= []\n",
        "      list0 = df[\"onsetMark\"].tolist()  \n",
        "      list1 = df[\" DurationMark\"].tolist()  \n",
        "      list2 = df[\" TF 1 Mark \"].tolist()  \n",
        "      list3 = df[\"Sound Quality Mark\"].tolist()  \n",
        "      list4 = df[\" finalMark\"].tolist()  \n",
        "\n",
        "      listp = df[\"precision\"].tolist()  \n",
        "      listr = df[\"recall\"].tolist()  \n",
        "      listf = df[\"f_measure_value\"].tolist()  \n",
        "      print(\"###################### number_of_rows\",number_of_rows)\n",
        "      while k < number_of_rows-1:\n",
        "          studentStatistics.append(str(k+1))\n",
        "          student_stats1 = [] # onsets\n",
        "          student_stats2 = [] # durations\n",
        "\n",
        "          plt.subplot(2,2,1)\n",
        "          a = np.array(deviationsArray1[k])\n",
        "          onset_m, onset_s = mean(a), sqrt(mean(a*a))\n",
        "          onset_am= mean(abs(a))\n",
        "          onset_summary= \"Onset ABS  Mean: %f,Onset Mean: %f, Dev. from 0: %f\" %(onset_am,onset_m, onset_s)\n",
        "          title =   \"Student \" + str(k)+ title_text1\n",
        "\n",
        "          onset_X.append( list0[k])  # Martis mark\n",
        "          onset_mean.append(onset_m)\n",
        "          onset_amean.append(onset_am)\n",
        "          onset_std.append(onset_s)\n",
        "\n",
        "          plt.title(title)\n",
        "          plt.figure(1, figsize=(9.5, 6))\n",
        "          plt.hist(a)\n",
        "\n",
        "          plt.subplot(2,2,2)\n",
        "          a = np.array(deviationsArray2[k])\n",
        "          duration_m, duration_s = mean(a), sqrt(mean(a*a))\n",
        "          duration_am= mean(abs(a))\n",
        "          duration_summary= \"Offset Mean: %f, Dev. from 0: %f\" %(duration_m, duration_s)\n",
        "          title =   \"Student \" + str(k)+ title_text2\n",
        "          print(title)\n",
        "          duration_X.append( list1[k])  # Martis mark\n",
        "          duration_mean.append(duration_m)\n",
        "          duration_amean.append(duration_am)\n",
        "          duration_std.append(duration_s)\n",
        "\n",
        "          plt.title(title)\n",
        "          plt.figure(1, figsize=(9.5, 6))\n",
        "          plt.hist(a)\n",
        "\n",
        "          plt.show()\n",
        "          print(\"Onset Grade = \", list0[k],\"\\t\" ,\"Duration Grade = \", list1[k])\n",
        "          print(onset_summary)\n",
        "          print(duration_summary)\n",
        "          print(\"TF 1 Mark = \", list2[k],\"Sound Control Grade = \", list3[k])\n",
        "          print(\"Final Mark = \", list4[k])\n",
        "          studentStatistics = []\n",
        "          studentStatistics.append(str(k))\n",
        "          studentStatistics.append(round(listp[k],3))\n",
        "          studentStatistics.append(round(listr[k],3))\n",
        "          studentStatistics.append(round(listf[k],3))\n",
        "          print(\"F-measure = \", round(listf[k],3))\n",
        "          studentStatistics.append(round(onset_am,3))\n",
        "          studentStatistics.append(round(onset_m,3))\n",
        "          studentStatistics.append(round(onset_s,3))   \n",
        "          studentStatistics.append(round(duration_am,3))                   \n",
        "          studentStatistics.append(round(duration_m,3)) \n",
        "          studentStatistics.append(round(duration_s,3))   \n",
        "          studentStatistics.append(list0[k])\n",
        "          studentStatistics.append(list1[k])\n",
        "          studentStatistics.append(list2[k])\n",
        "          studentStatistics.append(list3[k])\n",
        "          studentStatistics.append(list4[k])\n",
        "          # write the data\n",
        "          writer.writerow(studentStatistics)\n",
        "          studentStatisticsArray.append(studentStatistics)\n",
        "          k+=1\n",
        "          print(\"////////////////////////////\")\n",
        "   return(onset_X, onset_mean, onset_std, duration_X, duration_mean, duration_std,studentStatisticsArray,onset_amean, duration_amean)\n",
        "# Capture a table of onset and grade\n"
      ],
      "execution_count": 47,
      "outputs": []
    },
    {
      "cell_type": "code",
      "metadata": {
        "id": "utUMqb3Wlhvj",
        "colab": {
          "base_uri": "https://localhost:8080/",
          "height": 1000
        },
        "outputId": "6446814d-971c-4e10-f93b-f33055112e91"
      },
      "source": [
        "onset_X, onset_mean, onset_std, duration_X, duration_mean, duration_std,stats, onset_amean, duration_amean= statisticsGenerator(sonset_deviations,soffset_deviations,\" onsets\", \" offset\",df_all)"
      ],
      "execution_count": 48,
      "outputs": [
        {
          "output_type": "stream",
          "name": "stdout",
          "text": [
            "9\n",
            "###################### number_of_rows 9\n",
            "Student 0 offset\n"
          ]
        },
        {
          "output_type": "display_data",
          "data": {
            "image/png": "[encoded data removed]",
            "text/plain": [
              "<Figure size 432x288 with 2 Axes>"
            ]
          },
          "metadata": {
            "needs_background": "light"
          }
        },
        {
          "output_type": "stream",
          "name": "stdout",
          "text": [
            "Onset Grade =  100.0 \t Duration Grade =  100.0\n",
            "Onset ABS  Mean: 0.004587,Onset Mean: -0.002528, Dev. from 0: 0.005722\n",
            "Offset Mean: 0.007186, Dev. from 0: 0.018169\n",
            "TF 1 Mark =  100.0 Sound Control Grade =  100.0\n",
            "Final Mark =  5.0\n",
            "F-measure =  0.899\n",
            "////////////////////////////\n",
            "Student 1 offset\n"
          ]
        },
        {
          "output_type": "display_data",
          "data": {
            "image/png": "[encoded data removed]",
            "text/plain": [
              "<Figure size 432x288 with 2 Axes>"
            ]
          },
          "metadata": {
            "needs_background": "light"
          }
        },
        {
          "output_type": "stream",
          "name": "stdout",
          "text": [
            "Onset Grade =  72.0 \t Duration Grade =  90.0\n",
            "Onset ABS  Mean: 0.009553,Onset Mean: -0.001573, Dev. from 0: 0.011034\n",
            "Offset Mean: 0.007699, Dev. from 0: 0.014919\n",
            "TF 1 Mark =  72.0 Sound Control Grade =  79.2\n",
            "Final Mark =  2.7\n",
            "F-measure =  0.378\n",
            "////////////////////////////\n",
            "Student 2 offset\n"
          ]
        },
        {
          "output_type": "display_data",
          "data": {
            "image/png": "[encoded data removed]",
            "text/plain": [
              "<Figure size 432x288 with 2 Axes>"
            ]
          },
          "metadata": {
            "needs_background": "light"
          }
        },
        {
          "output_type": "stream",
          "name": "stdout",
          "text": [
            "Onset Grade =  79.2 \t Duration Grade =  90.0\n",
            "Onset ABS  Mean: 0.009737,Onset Mean: -0.001036, Dev. from 0: 0.011366\n",
            "Offset Mean: 0.007442, Dev. from 0: 0.016045\n",
            "TF 1 Mark =  79.2 Sound Control Grade =  79.2\n",
            "Final Mark =  3.6\n",
            "F-measure =  0.571\n",
            "////////////////////////////\n",
            "Student 3 offset\n"
          ]
        },
        {
          "output_type": "display_data",
          "data": {
            "image/png": "[encoded data removed]",
            "text/plain": [
              "<Figure size 432x288 with 2 Axes>"
            ]
          },
          "metadata": {
            "needs_background": "light"
          }
        },
        {
          "output_type": "stream",
          "name": "stdout",
          "text": [
            "Onset Grade =  79.2 \t Duration Grade =  79.2\n",
            "Onset ABS  Mean: 0.011267,Onset Mean: 0.007745, Dev. from 0: 0.012775\n",
            "Offset Mean: 0.002986, Dev. from 0: 0.011572\n",
            "TF 1 Mark =  79.2 Sound Control Grade =  90.0\n",
            "Final Mark =  3.6\n",
            "F-measure =  0.236\n",
            "////////////////////////////\n",
            "Student 4 offset\n"
          ]
        },
        {
          "output_type": "display_data",
          "data": {
            "image/png": "[encoded data removed]",
            "text/plain": [
              "<Figure size 432x288 with 2 Axes>"
            ]
          },
          "metadata": {
            "needs_background": "light"
          }
        },
        {
          "output_type": "stream",
          "name": "stdout",
          "text": [
            "Onset Grade =  90.0 \t Duration Grade =  90.0\n",
            "Onset ABS  Mean: 0.007332,Onset Mean: 0.007316, Dev. from 0: 0.009575\n",
            "Offset Mean: 0.000000, Dev. from 0: 0.000000\n",
            "TF 1 Mark =  90.0 Sound Control Grade =  79.2\n",
            "Final Mark =  4.5\n",
            "F-measure =  0.09\n",
            "////////////////////////////\n",
            "Student 5 offset\n"
          ]
        },
        {
          "output_type": "display_data",
          "data": {
            "image/png": "[encoded data removed]",
            "text/plain": [
              "<Figure size 432x288 with 2 Axes>"
            ]
          },
          "metadata": {
            "needs_background": "light"
          }
        },
        {
          "output_type": "stream",
          "name": "stdout",
          "text": [
            "Onset Grade =  72.0 \t Duration Grade =  79.2\n",
            "Onset ABS  Mean: 0.010424,Onset Mean: -0.000368, Dev. from 0: 0.012169\n",
            "Offset Mean: 0.006308, Dev. from 0: 0.013004\n",
            "TF 1 Mark =  79.2 Sound Control Grade =  79.2\n",
            "Final Mark =  3.6\n",
            "F-measure =  0.274\n",
            "////////////////////////////\n",
            "Student 6 offset\n"
          ]
        },
        {
          "output_type": "display_data",
          "data": {
            "image/png": "[encoded data removed]",
            "text/plain": [
              "<Figure size 432x288 with 2 Axes>"
            ]
          },
          "metadata": {
            "needs_background": "light"
          }
        },
        {
          "output_type": "stream",
          "name": "stdout",
          "text": [
            "Onset Grade =  72.0 \t Duration Grade =  79.2\n",
            "Onset ABS  Mean: 0.009614,Onset Mean: 0.000087, Dev. from 0: 0.010985\n",
            "Offset Mean: 0.003614, Dev. from 0: 0.012163\n",
            "TF 1 Mark =  79.2 Sound Control Grade =  90.0\n",
            "Final Mark =  3.6\n",
            "F-measure =  0.449\n",
            "////////////////////////////\n",
            "Student 7 offset\n"
          ]
        },
        {
          "output_type": "display_data",
          "data": {
            "image/png": "[encoded data removed]",
            "text/plain": [
              "<Figure size 432x288 with 2 Axes>"
            ]
          },
          "metadata": {
            "needs_background": "light"
          }
        },
        {
          "output_type": "stream",
          "name": "stdout",
          "text": [
            "Onset Grade =  79.2 \t Duration Grade =  72.0\n",
            "Onset ABS  Mean: 0.009553,Onset Mean: -0.001573, Dev. from 0: 0.011034\n",
            "Offset Mean: 0.007699, Dev. from 0: 0.014919\n",
            "TF 1 Mark =  79.2 Sound Control Grade =  72.0\n",
            "Final Mark =  2.7\n",
            "F-measure =  0.378\n",
            "////////////////////////////\n"
          ]
        }
      ]
    },
    {
      "cell_type": "code",
      "metadata": {
        "id": "wgT2wZ-n-s69"
      },
      "source": [
        "import pandas as pd\n",
        "#sonset_deviations,soffset_deviations"
      ],
      "execution_count": 51,
      "outputs": []
    },
    {
      "cell_type": "code",
      "metadata": {
        "id": "5t-JzT-eSTCW",
        "colab": {
          "base_uri": "https://localhost:8080/",
          "height": 542
        },
        "outputId": "529ff5cb-d7a0-4aec-8002-6eb56ea99676"
      },
      "source": [
        "data_timing_onset0= { 'onsets0' :sonset_deviations[0]}\n",
        "df = pd.DataFrame(data_timing_onset0,columns=['onsets0'])\n",
        "fig = px.histogram(df, x=\"onsets0\")\n",
        "fig.show()"
      ],
      "execution_count": 52,
      "outputs": [
        {
          "output_type": "display_data",
          "data": {
            "text/html": [
              "<html>\n",
              "<head><meta charset=\"utf-8\" /></head>\n",
              "<body>\n",
              "    <div>\n",
              "            <script src=\"https://cdnjs.cloudflare.com/ajax/libs/mathjax/2.7.5/MathJax.js?config=TeX-AMS-MML_SVG\"></script><script type=\"text/javascript\">if (window.MathJax) {MathJax.Hub.Config({SVG: {font: \"STIX-Web\"}});}</script>\n",
              "                <script type=\"text/javascript\">window.PlotlyConfig = {MathJaxConfig: 'local'};</script>\n",
              "        <script src=\"https://cdn.plot.ly/plotly-latest.min.js\"></script>    \n",
              "            <div id=\"da0e35af-53f6-4d69-b164-33854cecc999\" class=\"plotly-graph-div\" style=\"height:525px; width:100%;\"></div>\n",
              "            <script type=\"text/javascript\">\n",
              "                \n",
              "                    window.PLOTLYENV=window.PLOTLYENV || {};\n",
              "                    \n",
              "                if (document.getElementById(\"da0e35af-53f6-4d69-b164-33854cecc999\")) {\n",
              "                    Plotly.newPlot(\n",
              "                        'da0e35af-53f6-4d69-b164-33854cecc999',\n",
              "                        [{\"alignmentgroup\": \"True\", \"bingroup\": \"x\", \"hoverlabel\": {\"namelength\": 0}, \"hovertemplate\": \"onsets0=%{x}<br>count=%{y}\", \"legendgroup\": \"\", \"marker\": {\"color\": \"#636efa\"}, \"name\": \"\", \"offsetgroup\": \"\", \"orientation\": \"v\", \"showlegend\": false, \"type\": \"histogram\", \"x\": [-0.005113378999999974, -0.002312925000000021, 0.004897959000000007, 0.002120181000000443, 0.009999999999999787, -0.005668934000000014, -0.006258502999999749, -0.004637188000000236, -0.003990929999999615, 0.005204082000000554, -0.001995464999999364, -0.0037528340000001492, -0.004172336000001664, -0.011371882000000609, 0.006258502999999749, -0.0037301599999999273, -0.0015192700000010715, 0.0006916099999987324, -0.008004539999999949, 0.005714290000000233, 0.01499999999999879, 0.002925170000001032, -0.0026644000000004553, -0.0010430800000005294, 0.0027777799999988413, -0.0028117900000008693, -0.010011340000000144, -0.00015872999999899662, -0.0005782299999985696, -0.0027777799999988413, -0.0017573699999999806, -0.00013605000000183054, 0.0020748300000015267, 0.0008956900000001157, -0.005000000000002558, 0.0043083899999984965, -0.010000000000001565, -0.0034807299999997103, -0.009070300000001195, -0.002448980000000489, -0.0036281199999983467, -0.009217689999999834, 0.00019274000000280006, -0.006564629999999738, -0.004999999999999004, -0.009183669999998756, 0.008446710000001191, -0.0015419500000000141, 0.0006689299999997901, -0.0005101999999972406, -0.004999999999999004, 0.002902490000000313, -0.004999999999999004, -0.004886620000000619, -0.010476190000002106, -0.003854880000002226, -0.005034009999999256, -0.005623580000001739, -0.0012131499999981088, -0.0029705200000016423, -0.003390020000001215, -0.010589570000000492, 0.007040820000000282, -0.0029478499999981977, -0.0007369600000046718, -0.0019160999999954238, -0.011009070000000063, 0.001496600000002957, -0.011009070000000063, -0.0012925199999997972, -0.006882089999997731, -0.005260769999999582, -0.0014399100000019869, -0.007029479999999921, -0.002619049999999845, -0.0043764199999998254, -0.004795919999999398, -0.006995469999999671, 0.0056349199999985436, -0.004353739999999107, -0.0021428599999993025, -0.003321999999997161, -0.0070067999999992026, 0.005090700000003778, -0.0030045399999991678, -0.002698409999993601, -0.00828797999999864, -0.006666670000001318, -0.0028458100000037234, 0.0031746000000012486, -0.004024940000000754, -0.005782310000000734, -0.0012018100000048546, -0.00840136000000058, 0.005839000000001704, -0.002539679999998157, -0.008718820000005678, 0.002471649999996828, -0.00472788999999807, 0.0030725599999996693, -0.003696150000003229, -0.011485260000000608, 0.0013151899999996886, 0.0007256200000043123, 0.0035260800000003205, 0.006757370000002538, -0.0010317500000027737, -0.0010204099999953087, 0.002210879999999804, -0.005578229999997575, -0.01336734999999578, -0.007176869999995006, -0.002335600000002103, -0.005124720000004857, 0.0026757400000008147, 0.006496600000005515, -0.00010204000000157976, -0.014501129999999309, -9.070000000122036e-05, -0.0006802700000037022, 0.002120179999998584, 0.0019614499999960344, -0.0006576000000038107, -0.012006799999994657, -0.0008163299999992546, -0.005804989999994348, -0.0053741499999944145, -0.006553289999999379, -0.00036280999999860336, -0.008741500000006397, -0.014161000000001422, 0.00024942999999666426, -0.00034014000000581746], \"xaxis\": \"x\", \"yaxis\": \"y\"}],\n",
              "                        {\"barmode\": \"relative\", \"legend\": {\"tracegroupgap\": 0}, \"margin\": {\"t\": 60}, \"template\": {\"data\": {\"bar\": [{\"error_x\": {\"color\": \"#2a3f5f\"}, \"error_y\": {\"color\": \"#2a3f5f\"}, \"marker\": {\"line\": {\"color\": \"#E5ECF6\", \"width\": 0.5}}, \"type\": \"bar\"}], \"barpolar\": [{\"marker\": {\"line\": {\"color\": \"#E5ECF6\", \"width\": 0.5}}, \"type\": \"barpolar\"}], \"carpet\": [{\"aaxis\": {\"endlinecolor\": \"#2a3f5f\", \"gridcolor\": \"white\", \"linecolor\": \"white\", \"minorgridcolor\": \"white\", \"startlinecolor\": \"#2a3f5f\"}, \"baxis\": {\"endlinecolor\": \"#2a3f5f\", \"gridcolor\": \"white\", \"linecolor\": \"white\", \"minorgridcolor\": \"white\", \"startlinecolor\": \"#2a3f5f\"}, \"type\": \"carpet\"}], \"choropleth\": [{\"colorbar\": {\"outlinewidth\": 0, \"ticks\": \"\"}, \"type\": \"choropleth\"}], \"contour\": [{\"colorbar\": {\"outlinewidth\": 0, \"ticks\": \"\"}, \"colorscale\": [[0.0, \"#0d0887\"], [0.1111111111111111, \"#46039f\"], [0.2222222222222222, \"#7201a8\"], [0.3333333333333333, \"#9c179e\"], [0.4444444444444444, \"#bd3786\"], [0.5555555555555556, \"#d8576b\"], [0.6666666666666666, \"#ed7953\"], [0.7777777777777778, \"#fb9f3a\"], [0.8888888888888888, \"#fdca26\"], [1.0, \"#f0f921\"]], \"type\": \"contour\"}], \"contourcarpet\": [{\"colorbar\": {\"outlinewidth\": 0, \"ticks\": \"\"}, \"type\": \"contourcarpet\"}], \"heatmap\": [{\"colorbar\": {\"outlinewidth\": 0, \"ticks\": \"\"}, \"colorscale\": [[0.0, \"#0d0887\"], [0.1111111111111111, \"#46039f\"], [0.2222222222222222, \"#7201a8\"], [0.3333333333333333, \"#9c179e\"], [0.4444444444444444, \"#bd3786\"], [0.5555555555555556, \"#d8576b\"], [0.6666666666666666, \"#ed7953\"], [0.7777777777777778, \"#fb9f3a\"], [0.8888888888888888, \"#fdca26\"], [1.0, \"#f0f921\"]], \"type\": \"heatmap\"}], \"heatmapgl\": [{\"colorbar\": {\"outlinewidth\": 0, \"ticks\": \"\"}, \"colorscale\": [[0.0, \"#0d0887\"], [0.1111111111111111, \"#46039f\"], [0.2222222222222222, \"#7201a8\"], [0.3333333333333333, \"#9c179e\"], [0.4444444444444444, \"#bd3786\"], [0.5555555555555556, \"#d8576b\"], [0.6666666666666666, \"#ed7953\"], [0.7777777777777778, \"#fb9f3a\"], [0.8888888888888888, \"#fdca26\"], [1.0, \"#f0f921\"]], \"type\": \"heatmapgl\"}], \"histogram\": [{\"marker\": {\"colorbar\": {\"outlinewidth\": 0, \"ticks\": \"\"}}, \"type\": \"histogram\"}], \"histogram2d\": [{\"colorbar\": {\"outlinewidth\": 0, \"ticks\": \"\"}, \"colorscale\": [[0.0, \"#0d0887\"], [0.1111111111111111, \"#46039f\"], [0.2222222222222222, \"#7201a8\"], [0.3333333333333333, \"#9c179e\"], [0.4444444444444444, \"#bd3786\"], [0.5555555555555556, \"#d8576b\"], [0.6666666666666666, \"#ed7953\"], [0.7777777777777778, \"#fb9f3a\"], [0.8888888888888888, \"#fdca26\"], [1.0, \"#f0f921\"]], \"type\": \"histogram2d\"}], \"histogram2dcontour\": [{\"colorbar\": {\"outlinewidth\": 0, \"ticks\": \"\"}, \"colorscale\": [[0.0, \"#0d0887\"], [0.1111111111111111, \"#46039f\"], [0.2222222222222222, \"#7201a8\"], [0.3333333333333333, \"#9c179e\"], [0.4444444444444444, \"#bd3786\"], [0.5555555555555556, \"#d8576b\"], [0.6666666666666666, \"#ed7953\"], [0.7777777777777778, \"#fb9f3a\"], [0.8888888888888888, \"#fdca26\"], [1.0, \"#f0f921\"]], \"type\": \"histogram2dcontour\"}], \"mesh3d\": [{\"colorbar\": {\"outlinewidth\": 0, \"ticks\": \"\"}, \"type\": \"mesh3d\"}], \"parcoords\": [{\"line\": {\"colorbar\": {\"outlinewidth\": 0, \"ticks\": \"\"}}, \"type\": \"parcoords\"}], \"pie\": [{\"automargin\": true, \"type\": \"pie\"}], \"scatter\": [{\"marker\": {\"colorbar\": {\"outlinewidth\": 0, \"ticks\": \"\"}}, \"type\": \"scatter\"}], \"scatter3d\": [{\"line\": {\"colorbar\": {\"outlinewidth\": 0, \"ticks\": \"\"}}, \"marker\": {\"colorbar\": {\"outlinewidth\": 0, \"ticks\": \"\"}}, \"type\": \"scatter3d\"}], \"scattercarpet\": [{\"marker\": {\"colorbar\": {\"outlinewidth\": 0, \"ticks\": \"\"}}, \"type\": \"scattercarpet\"}], \"scattergeo\": [{\"marker\": {\"colorbar\": {\"outlinewidth\": 0, \"ticks\": \"\"}}, \"type\": \"scattergeo\"}], \"scattergl\": [{\"marker\": {\"colorbar\": {\"outlinewidth\": 0, \"ticks\": \"\"}}, \"type\": \"scattergl\"}], \"scattermapbox\": [{\"marker\": {\"colorbar\": {\"outlinewidth\": 0, \"ticks\": \"\"}}, \"type\": \"scattermapbox\"}], \"scatterpolar\": [{\"marker\": {\"colorbar\": {\"outlinewidth\": 0, \"ticks\": \"\"}}, \"type\": \"scatterpolar\"}], \"scatterpolargl\": [{\"marker\": {\"colorbar\": {\"outlinewidth\": 0, \"ticks\": \"\"}}, \"type\": \"scatterpolargl\"}], \"scatterternary\": [{\"marker\": {\"colorbar\": {\"outlinewidth\": 0, \"ticks\": \"\"}}, \"type\": \"scatterternary\"}], \"surface\": [{\"colorbar\": {\"outlinewidth\": 0, \"ticks\": \"\"}, \"colorscale\": [[0.0, \"#0d0887\"], [0.1111111111111111, \"#46039f\"], [0.2222222222222222, \"#7201a8\"], [0.3333333333333333, \"#9c179e\"], [0.4444444444444444, \"#bd3786\"], [0.5555555555555556, \"#d8576b\"], [0.6666666666666666, \"#ed7953\"], [0.7777777777777778, \"#fb9f3a\"], [0.8888888888888888, \"#fdca26\"], [1.0, \"#f0f921\"]], \"type\": \"surface\"}], \"table\": [{\"cells\": {\"fill\": {\"color\": \"#EBF0F8\"}, \"line\": {\"color\": \"white\"}}, \"header\": {\"fill\": {\"color\": \"#C8D4E3\"}, \"line\": {\"color\": \"white\"}}, \"type\": \"table\"}]}, \"layout\": {\"annotationdefaults\": {\"arrowcolor\": \"#2a3f5f\", \"arrowhead\": 0, \"arrowwidth\": 1}, \"coloraxis\": {\"colorbar\": {\"outlinewidth\": 0, \"ticks\": \"\"}}, \"colorscale\": {\"diverging\": [[0, \"#8e0152\"], [0.1, \"#c51b7d\"], [0.2, \"#de77ae\"], [0.3, \"#f1b6da\"], [0.4, \"#fde0ef\"], [0.5, \"#f7f7f7\"], [0.6, \"#e6f5d0\"], [0.7, \"#b8e186\"], [0.8, \"#7fbc41\"], [0.9, \"#4d9221\"], [1, \"#276419\"]], \"sequential\": [[0.0, \"#0d0887\"], [0.1111111111111111, \"#46039f\"], [0.2222222222222222, \"#7201a8\"], [0.3333333333333333, \"#9c179e\"], [0.4444444444444444, \"#bd3786\"], [0.5555555555555556, \"#d8576b\"], [0.6666666666666666, \"#ed7953\"], [0.7777777777777778, \"#fb9f3a\"], [0.8888888888888888, \"#fdca26\"], [1.0, \"#f0f921\"]], \"sequentialminus\": [[0.0, \"#0d0887\"], [0.1111111111111111, \"#46039f\"], [0.2222222222222222, \"#7201a8\"], [0.3333333333333333, \"#9c179e\"], [0.4444444444444444, \"#bd3786\"], [0.5555555555555556, \"#d8576b\"], [0.6666666666666666, \"#ed7953\"], [0.7777777777777778, \"#fb9f3a\"], [0.8888888888888888, \"#fdca26\"], [1.0, \"#f0f921\"]]}, \"colorway\": [\"#636efa\", \"#EF553B\", \"#00cc96\", \"#ab63fa\", \"#FFA15A\", \"#19d3f3\", \"#FF6692\", \"#B6E880\", \"#FF97FF\", \"#FECB52\"], \"font\": {\"color\": \"#2a3f5f\"}, \"geo\": {\"bgcolor\": \"white\", \"lakecolor\": \"white\", \"landcolor\": \"#E5ECF6\", \"showlakes\": true, \"showland\": true, \"subunitcolor\": \"white\"}, \"hoverlabel\": {\"align\": \"left\"}, \"hovermode\": \"closest\", \"mapbox\": {\"style\": \"light\"}, \"paper_bgcolor\": \"white\", \"plot_bgcolor\": \"#E5ECF6\", \"polar\": {\"angularaxis\": {\"gridcolor\": \"white\", \"linecolor\": \"white\", \"ticks\": \"\"}, \"bgcolor\": \"#E5ECF6\", \"radialaxis\": {\"gridcolor\": \"white\", \"linecolor\": \"white\", \"ticks\": \"\"}}, \"scene\": {\"xaxis\": {\"backgroundcolor\": \"#E5ECF6\", \"gridcolor\": \"white\", \"gridwidth\": 2, \"linecolor\": \"white\", \"showbackground\": true, \"ticks\": \"\", \"zerolinecolor\": \"white\"}, \"yaxis\": {\"backgroundcolor\": \"#E5ECF6\", \"gridcolor\": \"white\", \"gridwidth\": 2, \"linecolor\": \"white\", \"showbackground\": true, \"ticks\": \"\", \"zerolinecolor\": \"white\"}, \"zaxis\": {\"backgroundcolor\": \"#E5ECF6\", \"gridcolor\": \"white\", \"gridwidth\": 2, \"linecolor\": \"white\", \"showbackground\": true, \"ticks\": \"\", \"zerolinecolor\": \"white\"}}, \"shapedefaults\": {\"line\": {\"color\": \"#2a3f5f\"}}, \"ternary\": {\"aaxis\": {\"gridcolor\": \"white\", \"linecolor\": \"white\", \"ticks\": \"\"}, \"baxis\": {\"gridcolor\": \"white\", \"linecolor\": \"white\", \"ticks\": \"\"}, \"bgcolor\": \"#E5ECF6\", \"caxis\": {\"gridcolor\": \"white\", \"linecolor\": \"white\", \"ticks\": \"\"}}, \"title\": {\"x\": 0.05}, \"xaxis\": {\"automargin\": true, \"gridcolor\": \"white\", \"linecolor\": \"white\", \"ticks\": \"\", \"title\": {\"standoff\": 15}, \"zerolinecolor\": \"white\", \"zerolinewidth\": 2}, \"yaxis\": {\"automargin\": true, \"gridcolor\": \"white\", \"linecolor\": \"white\", \"ticks\": \"\", \"title\": {\"standoff\": 15}, \"zerolinecolor\": \"white\", \"zerolinewidth\": 2}}}, \"xaxis\": {\"anchor\": \"y\", \"domain\": [0.0, 1.0], \"title\": {\"text\": \"onsets0\"}}, \"yaxis\": {\"anchor\": \"x\", \"domain\": [0.0, 1.0], \"title\": {\"text\": \"count\"}}},\n",
              "                        {\"responsive\": true}\n",
              "                    ).then(function(){\n",
              "                            \n",
              "var gd = document.getElementById('da0e35af-53f6-4d69-b164-33854cecc999');\n",
              "var x = new MutationObserver(function (mutations, observer) {{\n",
              "        var display = window.getComputedStyle(gd).display;\n",
              "        if (!display || display === 'none') {{\n",
              "            console.log([gd, 'removed!']);\n",
              "            Plotly.purge(gd);\n",
              "            observer.disconnect();\n",
              "        }}\n",
              "}});\n",
              "\n",
              "// Listen for the removal of the full notebook cells\n",
              "var notebookContainer = gd.closest('#notebook-container');\n",
              "if (notebookContainer) {{\n",
              "    x.observe(notebookContainer, {childList: true});\n",
              "}}\n",
              "\n",
              "// Listen for the clearing of the current output cell\n",
              "var outputEl = gd.closest('.output');\n",
              "if (outputEl) {{\n",
              "    x.observe(outputEl, {childList: true});\n",
              "}}\n",
              "\n",
              "                        })\n",
              "                };\n",
              "                \n",
              "            </script>\n",
              "        </div>\n",
              "</body>\n",
              "</html>"
            ]
          },
          "metadata": {}
        }
      ]
    },
    {
      "cell_type": "code",
      "metadata": {
        "id": "jpcGZkNJPWcK",
        "colab": {
          "base_uri": "https://localhost:8080/",
          "height": 542
        },
        "outputId": "4203a2d0-4002-4ba8-b415-f34aafaea551"
      },
      "source": [
        "\n",
        "data_timing_duration0= { 'durations0' :soffset_deviations[0]}\n",
        "df = pd.DataFrame(data_timing_duration0,columns=['durations0'])\n",
        "fig = px.histogram(df, x=\"durations0\")\n",
        "fig.show()"
      ],
      "execution_count": 53,
      "outputs": [
        {
          "output_type": "display_data",
          "data": {
            "text/html": [
              "<html>\n",
              "<head><meta charset=\"utf-8\" /></head>\n",
              "<body>\n",
              "    <div>\n",
              "            <script src=\"https://cdnjs.cloudflare.com/ajax/libs/mathjax/2.7.5/MathJax.js?config=TeX-AMS-MML_SVG\"></script><script type=\"text/javascript\">if (window.MathJax) {MathJax.Hub.Config({SVG: {font: \"STIX-Web\"}});}</script>\n",
              "                <script type=\"text/javascript\">window.PlotlyConfig = {MathJaxConfig: 'local'};</script>\n",
              "        <script src=\"https://cdn.plot.ly/plotly-latest.min.js\"></script>    \n",
              "            <div id=\"3ec67f1b-c496-4051-99f7-76b38b923090\" class=\"plotly-graph-div\" style=\"height:525px; width:100%;\"></div>\n",
              "            <script type=\"text/javascript\">\n",
              "                \n",
              "                    window.PLOTLYENV=window.PLOTLYENV || {};\n",
              "                    \n",
              "                if (document.getElementById(\"3ec67f1b-c496-4051-99f7-76b38b923090\")) {\n",
              "                    Plotly.newPlot(\n",
              "                        '3ec67f1b-c496-4051-99f7-76b38b923090',\n",
              "                        [{\"alignmentgroup\": \"True\", \"bingroup\": \"x\", \"hoverlabel\": {\"namelength\": 0}, \"hovertemplate\": \"durations0=%{x}<br>count=%{y}\", \"legendgroup\": \"\", \"marker\": {\"color\": \"#636efa\"}, \"name\": \"\", \"offsetgroup\": \"\", \"orientation\": \"v\", \"showlegend\": false, \"type\": \"histogram\", \"x\": [0.02090702899999997, -0.03383219999999998, 0.01099773200000076, 0.017551019999999973, 0.016961451000000242, 0.02842403599999965, 0.021224490000000703, -0.03436507899999963, 0.01184807299999946, 0.02947845799999982, -0.015158729999999563, 0.01900227000000143, 0.02300452999999969, 0.026145120000000688, 0.020555560000000028, 0.03999999999999915, 0.024818589999998864, 0.020442179999999862, 0.03307255999999725, -0.011564629999998743, 0.03400226999999845, 0.006000000000000227, 0.019739229999999, 0.014149660000001063, 0.025612240000000952, 0.023412699999997955, -0.03217687000000069, 0.014036279999999124, 0.0316666699999999, -0.012970519999999652, 0.026995459999998417, 0.01998865999999921, 0.018333330000000814, 0.012743759999999328, 0.02920634999999905, 0.022006800000003324, -0.033582769999998874, 0.01263038000000094, 0.030260769999998164, -0.014376419999997838, 0.03499999999999659, 0.021009069999998083, 0.02192743999999891, 0.016337870000000976, 0.02780045000000086, 0.020600910000005968, -0.03498865999999623, 0.016224489999999037, 0.02885487000000353, -0.015782309999998745, 0.02800452999999692, 0.028990929999999082, 0.020521540000004283, 0.014931969999999241, 0.02639455999999996, 0.01919501000000423, -0.036394559999997966, 0.0148185899999973, 0.01744898000000461, -0.022959180000000856, 0.03010204000000272, 0.037902490000000455, 0.03555555999999882, 0.0267460299999982, -0.02464853000000033, 0.0375056700000016, 0.03695010999999937, 0.015000000000000568, -0.029444439999998906, 0.024988660000005325, 0.0, 0.0, 0.0, 0.0, 0.0, 0.0, 0.0, 0.0, 0.0, 0.0, 0.0, 0.0, 0.0, 0.0, 0.0, 0.0, 0.0, 0.0, 0.0, 0.0, 0.0, 0.0, 0.0, 0.0, 0.0, 0.0, 0.0, 0.0, 0.0, 0.0, 0.0, 0.0, 0.0, 0.0, 0.0, 0.0, 0.0, 0.0, 0.0, 0.0, 0.0, 0.0, 0.0, 0.0, 0.0, 0.0, 0.0, 0.0, 0.0, 0.0, 0.0, 0.0, 0.0, 0.0, 0.0, 0.0, 0.0, 0.0, 0.0, 0.0, 0.0, 0.0, 0.0], \"xaxis\": \"x\", \"yaxis\": \"y\"}],\n",
              "                        {\"barmode\": \"relative\", \"legend\": {\"tracegroupgap\": 0}, \"margin\": {\"t\": 60}, \"template\": {\"data\": {\"bar\": [{\"error_x\": {\"color\": \"#2a3f5f\"}, \"error_y\": {\"color\": \"#2a3f5f\"}, \"marker\": {\"line\": {\"color\": \"#E5ECF6\", \"width\": 0.5}}, \"type\": \"bar\"}], \"barpolar\": [{\"marker\": {\"line\": {\"color\": \"#E5ECF6\", \"width\": 0.5}}, \"type\": \"barpolar\"}], \"carpet\": [{\"aaxis\": {\"endlinecolor\": \"#2a3f5f\", \"gridcolor\": \"white\", \"linecolor\": \"white\", \"minorgridcolor\": \"white\", \"startlinecolor\": \"#2a3f5f\"}, \"baxis\": {\"endlinecolor\": \"#2a3f5f\", \"gridcolor\": \"white\", \"linecolor\": \"white\", \"minorgridcolor\": \"white\", \"startlinecolor\": \"#2a3f5f\"}, \"type\": \"carpet\"}], \"choropleth\": [{\"colorbar\": {\"outlinewidth\": 0, \"ticks\": \"\"}, \"type\": \"choropleth\"}], \"contour\": [{\"colorbar\": {\"outlinewidth\": 0, \"ticks\": \"\"}, \"colorscale\": [[0.0, \"#0d0887\"], [0.1111111111111111, \"#46039f\"], [0.2222222222222222, \"#7201a8\"], [0.3333333333333333, \"#9c179e\"], [0.4444444444444444, \"#bd3786\"], [0.5555555555555556, \"#d8576b\"], [0.6666666666666666, \"#ed7953\"], [0.7777777777777778, \"#fb9f3a\"], [0.8888888888888888, \"#fdca26\"], [1.0, \"#f0f921\"]], \"type\": \"contour\"}], \"contourcarpet\": [{\"colorbar\": {\"outlinewidth\": 0, \"ticks\": \"\"}, \"type\": \"contourcarpet\"}], \"heatmap\": [{\"colorbar\": {\"outlinewidth\": 0, \"ticks\": \"\"}, \"colorscale\": [[0.0, \"#0d0887\"], [0.1111111111111111, \"#46039f\"], [0.2222222222222222, \"#7201a8\"], [0.3333333333333333, \"#9c179e\"], [0.4444444444444444, \"#bd3786\"], [0.5555555555555556, \"#d8576b\"], [0.6666666666666666, \"#ed7953\"], [0.7777777777777778, \"#fb9f3a\"], [0.8888888888888888, \"#fdca26\"], [1.0, \"#f0f921\"]], \"type\": \"heatmap\"}], \"heatmapgl\": [{\"colorbar\": {\"outlinewidth\": 0, \"ticks\": \"\"}, \"colorscale\": [[0.0, \"#0d0887\"], [0.1111111111111111, \"#46039f\"], [0.2222222222222222, \"#7201a8\"], [0.3333333333333333, \"#9c179e\"], [0.4444444444444444, \"#bd3786\"], [0.5555555555555556, \"#d8576b\"], [0.6666666666666666, \"#ed7953\"], [0.7777777777777778, \"#fb9f3a\"], [0.8888888888888888, \"#fdca26\"], [1.0, \"#f0f921\"]], \"type\": \"heatmapgl\"}], \"histogram\": [{\"marker\": {\"colorbar\": {\"outlinewidth\": 0, \"ticks\": \"\"}}, \"type\": \"histogram\"}], \"histogram2d\": [{\"colorbar\": {\"outlinewidth\": 0, \"ticks\": \"\"}, \"colorscale\": [[0.0, \"#0d0887\"], [0.1111111111111111, \"#46039f\"], [0.2222222222222222, \"#7201a8\"], [0.3333333333333333, \"#9c179e\"], [0.4444444444444444, \"#bd3786\"], [0.5555555555555556, \"#d8576b\"], [0.6666666666666666, \"#ed7953\"], [0.7777777777777778, \"#fb9f3a\"], [0.8888888888888888, \"#fdca26\"], [1.0, \"#f0f921\"]], \"type\": \"histogram2d\"}], \"histogram2dcontour\": [{\"colorbar\": {\"outlinewidth\": 0, \"ticks\": \"\"}, \"colorscale\": [[0.0, \"#0d0887\"], [0.1111111111111111, \"#46039f\"], [0.2222222222222222, \"#7201a8\"], [0.3333333333333333, \"#9c179e\"], [0.4444444444444444, \"#bd3786\"], [0.5555555555555556, \"#d8576b\"], [0.6666666666666666, \"#ed7953\"], [0.7777777777777778, \"#fb9f3a\"], [0.8888888888888888, \"#fdca26\"], [1.0, \"#f0f921\"]], \"type\": \"histogram2dcontour\"}], \"mesh3d\": [{\"colorbar\": {\"outlinewidth\": 0, \"ticks\": \"\"}, \"type\": \"mesh3d\"}], \"parcoords\": [{\"line\": {\"colorbar\": {\"outlinewidth\": 0, \"ticks\": \"\"}}, \"type\": \"parcoords\"}], \"pie\": [{\"automargin\": true, \"type\": \"pie\"}], \"scatter\": [{\"marker\": {\"colorbar\": {\"outlinewidth\": 0, \"ticks\": \"\"}}, \"type\": \"scatter\"}], \"scatter3d\": [{\"line\": {\"colorbar\": {\"outlinewidth\": 0, \"ticks\": \"\"}}, \"marker\": {\"colorbar\": {\"outlinewidth\": 0, \"ticks\": \"\"}}, \"type\": \"scatter3d\"}], \"scattercarpet\": [{\"marker\": {\"colorbar\": {\"outlinewidth\": 0, \"ticks\": \"\"}}, \"type\": \"scattercarpet\"}], \"scattergeo\": [{\"marker\": {\"colorbar\": {\"outlinewidth\": 0, \"ticks\": \"\"}}, \"type\": \"scattergeo\"}], \"scattergl\": [{\"marker\": {\"colorbar\": {\"outlinewidth\": 0, \"ticks\": \"\"}}, \"type\": \"scattergl\"}], \"scattermapbox\": [{\"marker\": {\"colorbar\": {\"outlinewidth\": 0, \"ticks\": \"\"}}, \"type\": \"scattermapbox\"}], \"scatterpolar\": [{\"marker\": {\"colorbar\": {\"outlinewidth\": 0, \"ticks\": \"\"}}, \"type\": \"scatterpolar\"}], \"scatterpolargl\": [{\"marker\": {\"colorbar\": {\"outlinewidth\": 0, \"ticks\": \"\"}}, \"type\": \"scatterpolargl\"}], \"scatterternary\": [{\"marker\": {\"colorbar\": {\"outlinewidth\": 0, \"ticks\": \"\"}}, \"type\": \"scatterternary\"}], \"surface\": [{\"colorbar\": {\"outlinewidth\": 0, \"ticks\": \"\"}, \"colorscale\": [[0.0, \"#0d0887\"], [0.1111111111111111, \"#46039f\"], [0.2222222222222222, \"#7201a8\"], [0.3333333333333333, \"#9c179e\"], [0.4444444444444444, \"#bd3786\"], [0.5555555555555556, \"#d8576b\"], [0.6666666666666666, \"#ed7953\"], [0.7777777777777778, \"#fb9f3a\"], [0.8888888888888888, \"#fdca26\"], [1.0, \"#f0f921\"]], \"type\": \"surface\"}], \"table\": [{\"cells\": {\"fill\": {\"color\": \"#EBF0F8\"}, \"line\": {\"color\": \"white\"}}, \"header\": {\"fill\": {\"color\": \"#C8D4E3\"}, \"line\": {\"color\": \"white\"}}, \"type\": \"table\"}]}, \"layout\": {\"annotationdefaults\": {\"arrowcolor\": \"#2a3f5f\", \"arrowhead\": 0, \"arrowwidth\": 1}, \"coloraxis\": {\"colorbar\": {\"outlinewidth\": 0, \"ticks\": \"\"}}, \"colorscale\": {\"diverging\": [[0, \"#8e0152\"], [0.1, \"#c51b7d\"], [0.2, \"#de77ae\"], [0.3, \"#f1b6da\"], [0.4, \"#fde0ef\"], [0.5, \"#f7f7f7\"], [0.6, \"#e6f5d0\"], [0.7, \"#b8e186\"], [0.8, \"#7fbc41\"], [0.9, \"#4d9221\"], [1, \"#276419\"]], \"sequential\": [[0.0, \"#0d0887\"], [0.1111111111111111, \"#46039f\"], [0.2222222222222222, \"#7201a8\"], [0.3333333333333333, \"#9c179e\"], [0.4444444444444444, \"#bd3786\"], [0.5555555555555556, \"#d8576b\"], [0.6666666666666666, \"#ed7953\"], [0.7777777777777778, \"#fb9f3a\"], [0.8888888888888888, \"#fdca26\"], [1.0, \"#f0f921\"]], \"sequentialminus\": [[0.0, \"#0d0887\"], [0.1111111111111111, \"#46039f\"], [0.2222222222222222, \"#7201a8\"], [0.3333333333333333, \"#9c179e\"], [0.4444444444444444, \"#bd3786\"], [0.5555555555555556, \"#d8576b\"], [0.6666666666666666, \"#ed7953\"], [0.7777777777777778, \"#fb9f3a\"], [0.8888888888888888, \"#fdca26\"], [1.0, \"#f0f921\"]]}, \"colorway\": [\"#636efa\", \"#EF553B\", \"#00cc96\", \"#ab63fa\", \"#FFA15A\", \"#19d3f3\", \"#FF6692\", \"#B6E880\", \"#FF97FF\", \"#FECB52\"], \"font\": {\"color\": \"#2a3f5f\"}, \"geo\": {\"bgcolor\": \"white\", \"lakecolor\": \"white\", \"landcolor\": \"#E5ECF6\", \"showlakes\": true, \"showland\": true, \"subunitcolor\": \"white\"}, \"hoverlabel\": {\"align\": \"left\"}, \"hovermode\": \"closest\", \"mapbox\": {\"style\": \"light\"}, \"paper_bgcolor\": \"white\", \"plot_bgcolor\": \"#E5ECF6\", \"polar\": {\"angularaxis\": {\"gridcolor\": \"white\", \"linecolor\": \"white\", \"ticks\": \"\"}, \"bgcolor\": \"#E5ECF6\", \"radialaxis\": {\"gridcolor\": \"white\", \"linecolor\": \"white\", \"ticks\": \"\"}}, \"scene\": {\"xaxis\": {\"backgroundcolor\": \"#E5ECF6\", \"gridcolor\": \"white\", \"gridwidth\": 2, \"linecolor\": \"white\", \"showbackground\": true, \"ticks\": \"\", \"zerolinecolor\": \"white\"}, \"yaxis\": {\"backgroundcolor\": \"#E5ECF6\", \"gridcolor\": \"white\", \"gridwidth\": 2, \"linecolor\": \"white\", \"showbackground\": true, \"ticks\": \"\", \"zerolinecolor\": \"white\"}, \"zaxis\": {\"backgroundcolor\": \"#E5ECF6\", \"gridcolor\": \"white\", \"gridwidth\": 2, \"linecolor\": \"white\", \"showbackground\": true, \"ticks\": \"\", \"zerolinecolor\": \"white\"}}, \"shapedefaults\": {\"line\": {\"color\": \"#2a3f5f\"}}, \"ternary\": {\"aaxis\": {\"gridcolor\": \"white\", \"linecolor\": \"white\", \"ticks\": \"\"}, \"baxis\": {\"gridcolor\": \"white\", \"linecolor\": \"white\", \"ticks\": \"\"}, \"bgcolor\": \"#E5ECF6\", \"caxis\": {\"gridcolor\": \"white\", \"linecolor\": \"white\", \"ticks\": \"\"}}, \"title\": {\"x\": 0.05}, \"xaxis\": {\"automargin\": true, \"gridcolor\": \"white\", \"linecolor\": \"white\", \"ticks\": \"\", \"title\": {\"standoff\": 15}, \"zerolinecolor\": \"white\", \"zerolinewidth\": 2}, \"yaxis\": {\"automargin\": true, \"gridcolor\": \"white\", \"linecolor\": \"white\", \"ticks\": \"\", \"title\": {\"standoff\": 15}, \"zerolinecolor\": \"white\", \"zerolinewidth\": 2}}}, \"xaxis\": {\"anchor\": \"y\", \"domain\": [0.0, 1.0], \"title\": {\"text\": \"durations0\"}}, \"yaxis\": {\"anchor\": \"x\", \"domain\": [0.0, 1.0], \"title\": {\"text\": \"count\"}}},\n",
              "                        {\"responsive\": true}\n",
              "                    ).then(function(){\n",
              "                            \n",
              "var gd = document.getElementById('3ec67f1b-c496-4051-99f7-76b38b923090');\n",
              "var x = new MutationObserver(function (mutations, observer) {{\n",
              "        var display = window.getComputedStyle(gd).display;\n",
              "        if (!display || display === 'none') {{\n",
              "            console.log([gd, 'removed!']);\n",
              "            Plotly.purge(gd);\n",
              "            observer.disconnect();\n",
              "        }}\n",
              "}});\n",
              "\n",
              "// Listen for the removal of the full notebook cells\n",
              "var notebookContainer = gd.closest('#notebook-container');\n",
              "if (notebookContainer) {{\n",
              "    x.observe(notebookContainer, {childList: true});\n",
              "}}\n",
              "\n",
              "// Listen for the clearing of the current output cell\n",
              "var outputEl = gd.closest('.output');\n",
              "if (outputEl) {{\n",
              "    x.observe(outputEl, {childList: true});\n",
              "}}\n",
              "\n",
              "                        })\n",
              "                };\n",
              "                \n",
              "            </script>\n",
              "        </div>\n",
              "</body>\n",
              "</html>"
            ]
          },
          "metadata": {}
        }
      ]
    },
    {
      "cell_type": "code",
      "metadata": {
        "id": "CDyDJy8YSnkJ"
      },
      "source": [
        "dataset = pd.read_csv('drive/MyDrive/Bass/data/brown//StudentStatistics_brown.csv') \n",
        "#dataset = pd.read_csv('drive/MyDrive/Bass/data/StudentStatisticsBillie.csv')\n",
        "header = [\"Student\",\"precision\",\"recall\",\"f_measure_value\",\"Onset ABS Mean\",\"Onset Mean\",\"Onset Std\",\n",
        "             \"Duration ABS Mean\",\"Duration Mean\",\"Duration Std\",\"onsetMark\",\" DurationMark\",\" TF 1 Mark \",\"soundQualityMark\",\" finalMark\"]"
      ],
      "execution_count": 56,
      "outputs": []
    },
    {
      "cell_type": "code",
      "metadata": {
        "id": "efRwakhSlT68",
        "colab": {
          "base_uri": "https://localhost:8080/",
          "height": 386
        },
        "outputId": "4e1dd116-cc0a-4b6b-9ae1-77ee16d4f504"
      },
      "source": [
        "dataset"
      ],
      "execution_count": 57,
      "outputs": [
        {
          "output_type": "execute_result",
          "data": {
            "text/html": [
              "<div>\n",
              "<style scoped>\n",
              "    .dataframe tbody tr th:only-of-type {\n",
              "        vertical-align: middle;\n",
              "    }\n",
              "\n",
              "    .dataframe tbody tr th {\n",
              "        vertical-align: top;\n",
              "    }\n",
              "\n",
              "    .dataframe thead th {\n",
              "        text-align: right;\n",
              "    }\n",
              "</style>\n",
              "<table border=\"1\" class=\"dataframe\">\n",
              "  <thead>\n",
              "    <tr style=\"text-align: right;\">\n",
              "      <th></th>\n",
              "      <th>Student</th>\n",
              "      <th>precision</th>\n",
              "      <th>recall</th>\n",
              "      <th>f_measure_value</th>\n",
              "      <th>Onset ABS Mean</th>\n",
              "      <th>Onset Mean</th>\n",
              "      <th>Onset Std</th>\n",
              "      <th>Duration ABS Mean</th>\n",
              "      <th>Duration Mean</th>\n",
              "      <th>Duration Std</th>\n",
              "      <th>onsetMark</th>\n",
              "      <th>DurationMark</th>\n",
              "      <th>TF 1 Mark</th>\n",
              "      <th>Sound Quality Mark</th>\n",
              "      <th>finalMark</th>\n",
              "    </tr>\n",
              "  </thead>\n",
              "  <tbody>\n",
              "    <tr>\n",
              "      <th>0</th>\n",
              "      <td>0</td>\n",
              "      <td>0.893</td>\n",
              "      <td>0.905</td>\n",
              "      <td>0.899</td>\n",
              "      <td>0.005</td>\n",
              "      <td>-0.003</td>\n",
              "      <td>0.006</td>\n",
              "      <td>0.005</td>\n",
              "      <td>-0.003</td>\n",
              "      <td>0.006</td>\n",
              "      <td>100.0</td>\n",
              "      <td>100.0</td>\n",
              "      <td>100.0</td>\n",
              "      <td>100.0</td>\n",
              "      <td>5.0</td>\n",
              "    </tr>\n",
              "    <tr>\n",
              "      <th>1</th>\n",
              "      <td>1</td>\n",
              "      <td>0.376</td>\n",
              "      <td>0.381</td>\n",
              "      <td>0.378</td>\n",
              "      <td>0.010</td>\n",
              "      <td>-0.002</td>\n",
              "      <td>0.011</td>\n",
              "      <td>0.022</td>\n",
              "      <td>0.021</td>\n",
              "      <td>0.024</td>\n",
              "      <td>72.0</td>\n",
              "      <td>90.0</td>\n",
              "      <td>72.0</td>\n",
              "      <td>79.2</td>\n",
              "      <td>2.7</td>\n",
              "    </tr>\n",
              "    <tr>\n",
              "      <th>2</th>\n",
              "      <td>2</td>\n",
              "      <td>0.571</td>\n",
              "      <td>0.571</td>\n",
              "      <td>0.571</td>\n",
              "      <td>0.010</td>\n",
              "      <td>-0.001</td>\n",
              "      <td>0.011</td>\n",
              "      <td>0.023</td>\n",
              "      <td>0.020</td>\n",
              "      <td>0.026</td>\n",
              "      <td>79.2</td>\n",
              "      <td>90.0</td>\n",
              "      <td>79.2</td>\n",
              "      <td>79.2</td>\n",
              "      <td>3.6</td>\n",
              "    </tr>\n",
              "    <tr>\n",
              "      <th>3</th>\n",
              "      <td>3</td>\n",
              "      <td>0.235</td>\n",
              "      <td>0.238</td>\n",
              "      <td>0.236</td>\n",
              "      <td>0.011</td>\n",
              "      <td>0.008</td>\n",
              "      <td>0.013</td>\n",
              "      <td>0.025</td>\n",
              "      <td>0.017</td>\n",
              "      <td>0.028</td>\n",
              "      <td>79.2</td>\n",
              "      <td>79.2</td>\n",
              "      <td>79.2</td>\n",
              "      <td>90.0</td>\n",
              "      <td>3.6</td>\n",
              "    </tr>\n",
              "    <tr>\n",
              "      <th>4</th>\n",
              "      <td>4</td>\n",
              "      <td>0.091</td>\n",
              "      <td>0.088</td>\n",
              "      <td>0.090</td>\n",
              "      <td>0.007</td>\n",
              "      <td>0.007</td>\n",
              "      <td>0.010</td>\n",
              "      <td>0.000</td>\n",
              "      <td>0.000</td>\n",
              "      <td>0.000</td>\n",
              "      <td>90.0</td>\n",
              "      <td>90.0</td>\n",
              "      <td>90.0</td>\n",
              "      <td>79.2</td>\n",
              "      <td>4.5</td>\n",
              "    </tr>\n",
              "    <tr>\n",
              "      <th>5</th>\n",
              "      <td>5</td>\n",
              "      <td>0.276</td>\n",
              "      <td>0.272</td>\n",
              "      <td>0.274</td>\n",
              "      <td>0.010</td>\n",
              "      <td>-0.000</td>\n",
              "      <td>0.012</td>\n",
              "      <td>0.017</td>\n",
              "      <td>0.016</td>\n",
              "      <td>0.021</td>\n",
              "      <td>72.0</td>\n",
              "      <td>79.2</td>\n",
              "      <td>79.2</td>\n",
              "      <td>79.2</td>\n",
              "      <td>3.6</td>\n",
              "    </tr>\n",
              "    <tr>\n",
              "      <th>6</th>\n",
              "      <td>6</td>\n",
              "      <td>0.464</td>\n",
              "      <td>0.435</td>\n",
              "      <td>0.449</td>\n",
              "      <td>0.010</td>\n",
              "      <td>0.000</td>\n",
              "      <td>0.011</td>\n",
              "      <td>0.025</td>\n",
              "      <td>0.017</td>\n",
              "      <td>0.026</td>\n",
              "      <td>72.0</td>\n",
              "      <td>79.2</td>\n",
              "      <td>79.2</td>\n",
              "      <td>90.0</td>\n",
              "      <td>3.6</td>\n",
              "    </tr>\n",
              "    <tr>\n",
              "      <th>7</th>\n",
              "      <td>7</td>\n",
              "      <td>0.376</td>\n",
              "      <td>0.381</td>\n",
              "      <td>0.378</td>\n",
              "      <td>0.010</td>\n",
              "      <td>-0.002</td>\n",
              "      <td>0.011</td>\n",
              "      <td>0.022</td>\n",
              "      <td>0.021</td>\n",
              "      <td>0.024</td>\n",
              "      <td>79.2</td>\n",
              "      <td>72.0</td>\n",
              "      <td>79.2</td>\n",
              "      <td>72.0</td>\n",
              "      <td>2.7</td>\n",
              "    </tr>\n",
              "    <tr>\n",
              "      <th>8</th>\n",
              "      <td>8</td>\n",
              "      <td>0.571</td>\n",
              "      <td>0.571</td>\n",
              "      <td>0.571</td>\n",
              "      <td>0.010</td>\n",
              "      <td>-0.001</td>\n",
              "      <td>0.011</td>\n",
              "      <td>0.023</td>\n",
              "      <td>0.020</td>\n",
              "      <td>0.026</td>\n",
              "      <td>56.7</td>\n",
              "      <td>72.0</td>\n",
              "      <td>33.3</td>\n",
              "      <td>33.3</td>\n",
              "      <td>0.9</td>\n",
              "    </tr>\n",
              "  </tbody>\n",
              "</table>\n",
              "</div>"
            ],
            "text/plain": [
              "   Student  precision  recall  ...   TF 1 Mark   Sound Quality Mark   finalMark\n",
              "0        0      0.893   0.905  ...        100.0               100.0         5.0\n",
              "1        1      0.376   0.381  ...         72.0                79.2         2.7\n",
              "2        2      0.571   0.571  ...         79.2                79.2         3.6\n",
              "3        3      0.235   0.238  ...         79.2                90.0         3.6\n",
              "4        4      0.091   0.088  ...         90.0                79.2         4.5\n",
              "5        5      0.276   0.272  ...         79.2                79.2         3.6\n",
              "6        6      0.464   0.435  ...         79.2                90.0         3.6\n",
              "7        7      0.376   0.381  ...         79.2                72.0         2.7\n",
              "8        8      0.571   0.571  ...         33.3                33.3         0.9\n",
              "\n",
              "[9 rows x 15 columns]"
            ]
          },
          "metadata": {},
          "execution_count": 57
        }
      ]
    },
    {
      "cell_type": "code",
      "metadata": {
        "id": "SQdhtPm7T2dX",
        "colab": {
          "base_uri": "https://localhost:8080/"
        },
        "outputId": "20a631a3-b626-475c-86ae-5fe371a25c79"
      },
      "source": [
        "from sklearn.linear_model import LinearRegression\n",
        "from sklearn.model_selection import train_test_split\n",
        "from sklearn import metrics\n",
        "#X = dataset[['P', 'R', 'F',  ' ABS Mean Onset','Mean  Onset','Std Onset',' ABS Mean Duration','Mean Duration','Std Duration']]\n",
        "#X = dataset[['precision', 'recall', 'f_measure_value',  'Onset ABS Mean','Onset Mean','Onset Std']]\n",
        "#X = dataset[['precision','recall','f_measure_value']]#,'Onset Mean','Onset Std']]\n",
        "X = dataset[['f_measure_value']]#,]]\n",
        "y=array(dataset['onsetMark'])\n",
        "\n",
        "#coeff_df = pd.DataFrame(regressor.coef_, X.columns, columns=['Coefficient'])\n",
        "\n",
        "X_train, X_test, y_train, y_test = train_test_split(X, y, test_size=0.3, random_state=0)\n",
        "regressor = LinearRegression()\n",
        "regressor.fit(X_train, y_train)\n",
        "y_pred = regressor.predict(X_test)\n",
        "df = pd.DataFrame({'Actual': y_test, 'Predicted': y_pred})\n",
        "print(round(df,3))\n",
        "print(\"Onset Grades\")\n",
        "print('Mean Absolute Error:', round(metrics.mean_absolute_error(y_test, y_pred),3))\n",
        "print('Root Mean Squared Error:', round(np.sqrt(metrics.mean_squared_error(y_test, y_pred)),3))\n",
        "\n",
        "\n",
        "\n",
        "\n"
      ],
      "execution_count": 96,
      "outputs": [
        {
          "output_type": "stream",
          "name": "stdout",
          "text": [
            "      Actual  Predicted\n",
            "0  79.199997     77.931\n",
            "1  79.199997     79.709\n",
            "2  72.000000     77.931\n",
            "Onset Grades\n",
            "Mean Absolute Error: 2.57\n",
            "Root Mean Squared Error: 3.514\n"
          ]
        }
      ]
    },
    {
      "cell_type": "code",
      "metadata": {
        "colab": {
          "base_uri": "https://localhost:8080/",
          "height": 573
        },
        "id": "Stw_TFcDmAAR",
        "outputId": "ffc29203-380d-493f-a57e-7968901ae473"
      },
      "source": [
        "onset_grade_list = df_all[\"onsetMark\"].tolist()   \n",
        "onset_f_measure_value_list = df_all[\"f_measure_value\"].tolist()   \n",
        "plt.title('Actual Onset Grade(red) vs Predicted Onset Grade(blue)')\n",
        "plt.xlabel('F measure')\n",
        "plt.ylabel('Grade(%)')\n",
        "plt.scatter(X_test[\"f_measure_value\"].tolist(), y_test,  color='red')\n",
        "plt.scatter(X_test[\"f_measure_value\"].tolist(), y_pred, color='blue', linewidth=3)\n",
        "plt.show()\n",
        "\n",
        "plt.title('Predicted Onset Grades using Test input (green)')\n",
        "plt.xlabel('F measure')\n",
        "plt.ylabel('Grade(%)')\n",
        "plt.plot(onset_f_measure_value_list,onset_grade_list, 'x',color='blue')\n",
        "plt.plot(X_test[\"f_measure_value\"].tolist(),y_pred, 'o', color='green')\n",
        "plt.show()"
      ],
      "execution_count": 69,
      "outputs": [
        {
          "output_type": "display_data",
          "data": {
            "image/png": "[encoded data removed]",
            "text/plain": [
              "<Figure size 432x288 with 1 Axes>"
            ]
          },
          "metadata": {
            "needs_background": "light"
          }
        },
        {
          "output_type": "display_data",
          "data": {
            "image/png": "[encoded data removed]",
            "text/plain": [
              "<Figure size 432x288 with 1 Axes>"
            ]
          },
          "metadata": {
            "needs_background": "light"
          }
        }
      ]
    },
    {
      "cell_type": "code",
      "metadata": {
        "id": "jwMIQgsWXcRX"
      },
      "source": [
        "dataset"
      ],
      "execution_count": null,
      "outputs": []
    },
    {
      "cell_type": "code",
      "metadata": {
        "id": "aju6nZtqCm1Z",
        "colab": {
          "base_uri": "https://localhost:8080/"
        },
        "outputId": "6fb1b676-2759-44ce-e083-41f5ded5a11e"
      },
      "source": [
        "X = dataset[['f_measure_value','Duration ABS Mean','Duration Std']]\n",
        "#X = dataset[['precision','recall','f_measure_value','Duration ABS Mean']]\n",
        "y=array(dataset[' DurationMark'])\n",
        "\n",
        "\n",
        "#coeff_df = pd.DataFrame(regressor.coef_, X.columns, columns=['Coefficient'])\n",
        "\n",
        "X_train, X_test, y_train, y_test = train_test_split(X, y, test_size=0.3, random_state=0)# of you ommit it will be random\n",
        "# related to the seed in random function\n",
        "regressor = LinearRegression()\n",
        "regressor.fit(X_train, y_train)\n",
        "y_pred = regressor.predict(X_test)\n",
        "df = pd.DataFrame({'Actual': y_test, 'Predicted': y_pred})\n",
        "print(round(df,3))\n",
        "print(\"Duration Grades\")\n",
        "print('Mean Absolute Error:', round(metrics.mean_absolute_error(y_test, y_pred),3))\n",
        "print('Root Mean Squared Error:', round(np.sqrt(metrics.mean_squared_error(y_test, y_pred)),3))\n",
        "\n",
        "\n"
      ],
      "execution_count": 94,
      "outputs": [
        {
          "output_type": "stream",
          "name": "stdout",
          "text": [
            "   Actual  Predicted\n",
            "0    72.0     78.778\n",
            "1    90.0     79.201\n",
            "2    90.0     78.778\n",
            "Duration Grades\n",
            "Mean Absolute Error: 9.6\n",
            "Root Mean Squared Error: 9.806\n"
          ]
        }
      ]
    },
    {
      "cell_type": "code",
      "metadata": {
        "colab": {
          "base_uri": "https://localhost:8080/",
          "height": 610
        },
        "id": "jwKuXvBvmsI4",
        "outputId": "a425af7a-871e-4f4f-d9a0-f543ccc44c56"
      },
      "source": [
        "duration_amean_list = df_all[\"Duration ABS Mean\"].tolist()   \n",
        "duration_grade_list = df_all[\" DurationMark\"].tolist()   \n",
        "   \n",
        "plt.title('Actual Duration grade(red) vs Predicted Duration grade(blue)')\n",
        "plt.xlabel('Duration ABS Mean')\n",
        "plt.ylabel('Grade(%)')\n",
        "plt.scatter(X_test[\"Duration ABS Mean\"].tolist(), y_test,  color='red')\n",
        "plt.scatter(X_test[\"Duration ABS Mean\"].tolist(), y_pred, color='blue', linewidth=3)\n",
        "print(y_test)\n",
        "print(y_pred)\n",
        "plt.show()\n",
        "\n",
        "plt.title('Predicted Duration Grades using Test input (green)')\n",
        "plt.xlabel('Duration ABS Mean')\n",
        "plt.ylabel('Grade(%)')\n",
        "plt.plot(duration_amean_list,duration_grade_list, 'x',color='blue')\n",
        "plt.plot(X_test[\"f_measure_value\"].tolist(),y_pred, 'o', color='green')\n",
        "plt.show()"
      ],
      "execution_count": 92,
      "outputs": [
        {
          "output_type": "stream",
          "name": "stdout",
          "text": [
            "[72. 90. 90.]\n",
            "[78.77751059 79.20136864 78.77751059]\n"
          ]
        },
        {
          "output_type": "display_data",
          "data": {
            "image/png": "[encoded data removed]",
            "text/plain": [
              "<Figure size 432x288 with 1 Axes>"
            ]
          },
          "metadata": {
            "needs_background": "light"
          }
        },
        {
          "output_type": "display_data",
          "data": {
            "image/png": "[encoded data removed]",
            "text/plain": [
              "<Figure size 432x288 with 1 Axes>"
            ]
          },
          "metadata": {
            "needs_background": "light"
          }
        }
      ]
    },
    {
      "cell_type": "code",
      "metadata": {
        "id": "JU6PMj4VYDH5"
      },
      "source": [
        "dataset"
      ],
      "execution_count": null,
      "outputs": []
    },
    {
      "cell_type": "code",
      "metadata": {
        "id": "0gnEMc1RXuBM"
      },
      "source": [
        "X = dataset[['precision','recall','f_measure_value','Onset ABS Mean','Duration ABS Mean']]\n",
        "y=array(dataset[' finalMark'])\n",
        "\n",
        "\n",
        "#coeff_df = pd.DataFrame(regressor.coef_, X.columns, columns=['Coefficient'])\n",
        "\n",
        "X_train, X_test, y_train, y_test = train_test_split(X, y, test_size=0.3, random_state=0)\n",
        "regressor = LinearRegression()\n",
        "regressor.fit(X_train, y_train)\n",
        "y_pred = regressor.predict(X_test)\n",
        "df = pd.DataFrame({'Actual': y_test, 'Predicted': y_pred})\n",
        "print(df)\n",
        "\n",
        "print('Mean Absolute Error:', metrics.mean_absolute_error(y_test, y_pred))\n",
        "print('Root Mean Squared Error:', np.sqrt(metrics.mean_squared_error(y_test, y_pred)))"
      ],
      "execution_count": null,
      "outputs": []
    },
    {
      "cell_type": "code",
      "metadata": {
        "id": "9B8shmkvoXfm"
      },
      "source": [
        "\n",
        "\n",
        "X = dataset[['precision','recall','f_measure_value']]\n",
        "y=array(dataset[' TF 1 Mark '])\n",
        "\n",
        "\n",
        "#coeff_df = pd.DataFrame(regressor.coef_, X.columns, columns=['Coefficient'])\n",
        "\n",
        "X_train, X_test, y_train, y_test = train_test_split(X, y, test_size=0.3, random_state=0)\n",
        "regressor = LinearRegression()\n",
        "regressor.fit(X_train, y_train)\n",
        "y_pred = regressor.predict(X_test)\n",
        "df = pd.DataFrame({'Actual': y_test, 'Predicted': y_pred})\n",
        "print(df)\n",
        "\n",
        "print('Mean Absolute Error:', metrics.mean_absolute_error(y_test, y_pred))\n",
        "print('Root Mean Squared Error:', np.sqrt(metrics.mean_squared_error(y_test, y_pred)))"
      ],
      "execution_count": null,
      "outputs": []
    }
  ]
}