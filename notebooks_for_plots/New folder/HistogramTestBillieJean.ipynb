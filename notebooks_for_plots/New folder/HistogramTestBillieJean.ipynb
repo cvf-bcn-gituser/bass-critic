{
  "nbformat": 4,
  "nbformat_minor": 0,
  "metadata": {
    "colab": {
      "name": "HistogramTestBillieJean.ipynb",
      "provenance": [],
      "collapsed_sections": []
    },
    "kernelspec": {
      "display_name": "Python 3",
      "language": "python",
      "name": "python3"
    },
    "language_info": {
      "codemirror_mode": {
        "name": "ipython",
        "version": 3
      },
      "file_extension": ".py",
      "mimetype": "text/x-python",
      "name": "python",
      "nbconvert_exporter": "python",
      "pygments_lexer": "ipython3",
      "version": "3.6.7"
    }
  },
  "cells": [
    {
      "cell_type": "code",
      "metadata": {
        "colab": {
          "base_uri": "https://localhost:8080/"
        },
        "id": "13LOyuxayHjM",
        "outputId": "28f28b3c-a3c9-4b2f-c69f-5eaa0f2f87f3"
      },
      "source": [
        "!pip3 install essentia"
      ],
      "execution_count": 89,
      "outputs": [
        {
          "output_type": "stream",
          "text": [
            "Requirement already satisfied: essentia in /usr/local/lib/python3.7/dist-packages (2.1b6.dev374)\n",
            "Requirement already satisfied: six in /usr/local/lib/python3.7/dist-packages (from essentia) (1.15.0)\n",
            "Requirement already satisfied: pyyaml in /usr/local/lib/python3.7/dist-packages (from essentia) (3.13)\n",
            "Requirement already satisfied: numpy>=1.8.2 in /usr/local/lib/python3.7/dist-packages (from essentia) (1.19.5)\n"
          ],
          "name": "stdout"
        }
      ]
    },
    {
      "cell_type": "code",
      "metadata": {
        "colab": {
          "base_uri": "https://localhost:8080/"
        },
        "id": "OEdDKfBpdEwf",
        "outputId": "653d8f20-57b9-4b27-a657-6b72c160a08c"
      },
      "source": [
        "!pip3 install madmom"
      ],
      "execution_count": 90,
      "outputs": [
        {
          "output_type": "stream",
          "text": [
            "Requirement already satisfied: madmom in /usr/local/lib/python3.7/dist-packages (0.16.1)\n",
            "Requirement already satisfied: numpy>=1.13.4 in /usr/local/lib/python3.7/dist-packages (from madmom) (1.19.5)\n",
            "Requirement already satisfied: mido>=1.2.8 in /usr/local/lib/python3.7/dist-packages (from madmom) (1.2.10)\n",
            "Requirement already satisfied: scipy>=0.16 in /usr/local/lib/python3.7/dist-packages (from madmom) (1.4.1)\n",
            "Requirement already satisfied: cython>=0.25 in /usr/local/lib/python3.7/dist-packages (from madmom) (0.29.24)\n"
          ],
          "name": "stdout"
        }
      ]
    },
    {
      "cell_type": "code",
      "metadata": {
        "colab": {
          "base_uri": "https://localhost:8080/"
        },
        "id": "rmxZSSGjtfEE",
        "outputId": "e82e29ae-7306-43bc-9a32-0b35790c3487"
      },
      "source": [
        "!pip3 install mir_eval"
      ],
      "execution_count": 91,
      "outputs": [
        {
          "output_type": "stream",
          "text": [
            "Requirement already satisfied: mir_eval in /usr/local/lib/python3.7/dist-packages (0.6)\n",
            "Requirement already satisfied: six in /usr/local/lib/python3.7/dist-packages (from mir_eval) (1.15.0)\n",
            "Requirement already satisfied: scipy>=1.0.0 in /usr/local/lib/python3.7/dist-packages (from mir_eval) (1.4.1)\n",
            "Requirement already satisfied: numpy>=1.7.0 in /usr/local/lib/python3.7/dist-packages (from mir_eval) (1.19.5)\n",
            "Requirement already satisfied: future in /usr/local/lib/python3.7/dist-packages (from mir_eval) (0.16.0)\n"
          ],
          "name": "stdout"
        }
      ]
    },
    {
      "cell_type": "markdown",
      "metadata": {
        "id": "dSxfHZTNOrr7"
      },
      "source": [
        "The section below is all path dependent"
      ]
    },
    {
      "cell_type": "code",
      "metadata": {
        "colab": {
          "base_uri": "https://localhost:8080/"
        },
        "id": "rKwBFtUiykYU",
        "outputId": "a6204243-7614-4339-87e9-a01c3f3fb49a"
      },
      "source": [
        "from google.colab import drive\n",
        "drive.mount(\"/content/drive\", force_remount=True)\n",
        "root = 'drive/MyDrive/Bass/'\n",
        "\n",
        "import pandas as pd\n",
        "import sys\n",
        "sys.path.append(root)"
      ],
      "execution_count": 92,
      "outputs": [
        {
          "output_type": "stream",
          "text": [
            "Mounted at /content/drive\n"
          ],
          "name": "stdout"
        }
      ]
    },
    {
      "cell_type": "code",
      "metadata": {
        "id": "sAplIzp5UBFL"
      },
      "source": [
        "import madmom"
      ],
      "execution_count": 93,
      "outputs": []
    },
    {
      "cell_type": "code",
      "metadata": {
        "id": "MC6bIbDvyeSZ"
      },
      "source": [
        "from essentia.standard import *\n",
        "from essentia import Pool, array\n",
        "import essentia.standard as es\n",
        "import matplotlib.pyplot as plt\n",
        "import numpy as np\n",
        "import IPython.display as ipd\n",
        "import pandas as pd\n",
        "import os\n",
        "\n",
        "import IPython\n",
        "import pickle\n",
        "from pickle import load\n",
        "from scipy.signal import find_peaks\n",
        "import ipywidgets as widgets\n",
        "from scipy import signal\n",
        "from lxml import etree\n",
        "\n",
        "import plotly.express as px\n",
        "import scipy\n",
        "from statistics import *"
      ],
      "execution_count": 94,
      "outputs": []
    },
    {
      "cell_type": "code",
      "metadata": {
        "id": "7oagAxf-UEjK"
      },
      "source": [
        "import mir_eval\n",
        "from mir_eval import *"
      ],
      "execution_count": 95,
      "outputs": []
    },
    {
      "cell_type": "code",
      "metadata": {
        "id": "sLLTjrn6qh8Q"
      },
      "source": [
        "statsPath = 'drive/MyDrive/Bass/data/bjean/StudentStatistics_bjean.csv'\n",
        "statsCols = [\"Student\",\"precision\",\"recall\",\"f_measure_value\",\"Onset ABS Mean\",\"Onset Mean\",\"Onset Std\",\"Duration ABS Mean\",\"Duration Mean\",\"Duration Std\",\"onsetMark\",\" DurationMark\",\" TF 1 Mark \",\" TF 2 Mark \",\"Sound Quality Mark\",\" finalMark\"]\n",
        "df_all = pd.read_csv(statsPath, usecols=statsCols)\n",
        "   "
      ],
      "execution_count": 96,
      "outputs": []
    },
    {
      "cell_type": "code",
      "metadata": {
        "id": "zyl3EjGYuDIT"
      },
      "source": [
        "index = df_all.index\n",
        "number_of_rows = len(index)\n",
        "\n"
      ],
      "execution_count": 97,
      "outputs": []
    },
    {
      "cell_type": "markdown",
      "metadata": {
        "id": "ThcgwFdTuQUU"
      },
      "source": [
        ""
      ]
    },
    {
      "cell_type": "code",
      "metadata": {
        "id": "ctmZtOPYOLfM"
      },
      "source": [
        "col_list = [\"onset dev\", \"offset dev\"]\n",
        "sonset_deviations = []\n",
        "soffset_deviations = []\n",
        "# sonset_deviations,soffset_deviations\n",
        "k=0\n",
        "while k<number_of_rows-1:\n",
        "   sdeviatePath = 'drive/MyDrive/Bass/data/bjean/bjean_devs_student' + str(k+1)+ '.csv'\n",
        "   sdf = pd.read_csv(sdeviatePath, usecols=col_list)\n",
        "   sonset_dev_list = sdf[\"onset dev\"]\n",
        "   sonset_deviations.append(sonset_dev_list)\n",
        "   soffset_dev_list = sdf[\"offset dev\"] \n",
        "   soffset_deviations.append(soffset_dev_list)\n",
        "   k+=1"
      ],
      "execution_count": 98,
      "outputs": []
    },
    {
      "cell_type": "markdown",
      "metadata": {
        "id": "RGLfjAZbgQDy"
      },
      "source": [
        ""
      ]
    },
    {
      "cell_type": "code",
      "metadata": {
        "id": "iYl-B_ig2ISM"
      },
      "source": [
        "import csv  \n",
        "def statisticsGenerator(deviationsArray1,deviationsArray2,title_text1,title_text2,df):\n",
        "      header = [\"Student\",\"precision\",\"recall\",\"f_measure_value\",\"Onset ABS Mean\",\"Onset Mean\",\"Onset Std\",\n",
        "             \"Duration ABS Mean\",\"Duration Mean\",\"Duration Std\",\"onsetMark\",\" DurationMark\",\" TF 1 Mark \",\" TF 2 Mark \",\"Sound Quality Mark\",\" finalMark\"]\n",
        "\n",
        "      studentStatisticsArray= []\n",
        "      idx = df.index\n",
        "      number_of_rows = len(idx)\n",
        "      k=0\n",
        "      studentStatistics = []\n",
        "      onset_X = []  # Martis mark\n",
        "      onset_amean = []\n",
        "      onset_mean = []\n",
        "      onset_std= []\n",
        "\n",
        "      duration_X = [] # Martis mark\n",
        "      duration_amean = []\n",
        "      duration_mean = []\n",
        "      duration_std= []\n",
        "      list0 = df[\"onsetMark\"].tolist()  \n",
        "      list1 = df[\" DurationMark\"].tolist()  \n",
        "      list2 = df[\" TF 1 Mark \"].tolist()  \n",
        "      list3 = df[\" TF 2 Mark \"].tolist()  \n",
        "      list4 = df[\"Sound Quality Mark\"].tolist()  \n",
        "      list5 = df[\" finalMark\"].tolist()  \n",
        "\n",
        "      listp = df[\"precision\"].tolist()  \n",
        "      listr = df[\"recall\"].tolist()  \n",
        "      listf = df[\"f_measure_value\"].tolist()  \n",
        "  \n",
        "      for k in range(number_of_rows-1):\n",
        "          print(\"===================================\")\n",
        "\n",
        "          studentStatistics.append(str(k+1))\n",
        "          student_stats1 = [] # onsets\n",
        "          student_stats2 = [] # durations\n",
        "\n",
        "          plt.subplot(2,2,1)\n",
        "          a = np.array(deviationsArray1[k])\n",
        "          onset_m, onset_s = mean(a), sqrt(mean(a*a))\n",
        "          onset_am= mean(abs(a))\n",
        "          onset_summary= \"Onset ABS  Mean: %f,Onset Mean: %f, Std Dev. from 0:%f\" %(onset_am,onset_m, onset_s)\n",
        "          title =   \"Student \" + str(k)+ title_text1\n",
        "          onset_X.append( list0[k])  # Martis mark\n",
        "          onset_mean.append(onset_m)\n",
        "          onset_amean.append(onset_am)\n",
        "          onset_std.append(onset_s)\n",
        "\n",
        "          plt.title(title)\n",
        "          plt.figure(1, figsize=(9.5, 6))\n",
        "          plt.hist(a)\n",
        "\n",
        "          plt.subplot(2,2,2)\n",
        "          a = np.array(deviationsArray2[k])\n",
        "          duration_m, duration_s = mean(a), sqrt(mean(a*a))\n",
        "          duration_am= mean(abs(a))\n",
        "          duration_summary= \"Offset Mean: %f, Std Dev. from 0:%f\" %(duration_m, duration_s)\n",
        "          title =   \"Student \" + str(k)+ title_text2\n",
        "          print(title)\n",
        "          duration_X.append( list1[k])  # Martis mark\n",
        "          duration_mean.append(duration_m)\n",
        "          duration_amean.append(duration_am)\n",
        "          duration_std.append(duration_s)\n",
        "\n",
        "          plt.title(title)\n",
        "          plt.figure(1, figsize=(9.5, 6))\n",
        "          plt.hist(a)\n",
        "          plt.show()\n",
        "          print(\"Onset Grade = \", list0[k],\"\\t\" ,\"Duration Grade = \", list1[k])\n",
        "          print(onset_summary)\n",
        "          print(duration_summary)\n",
        "          print(\"Articulation Grade = \", list2[k],\"Sound Control Grade = \", list3[k], \"Volume Control Grade = \", list4[k])\n",
        "          print(\"Final Mark = \", list5[k])\n",
        "          studentStatistics = []\n",
        "          studentStatistics.append(str(k+1))\n",
        "          studentStatistics.append(round(listp[k],3))\n",
        "          studentStatistics.append(round(listr[k],3))\n",
        "          studentStatistics.append(round(listf[k],3))\n",
        "          print(\"F-measure = \", round(listf[k],3))\n",
        "          studentStatistics.append(round(onset_am,3))\n",
        "          studentStatistics.append(round(onset_m,3))\n",
        "          studentStatistics.append(round(onset_s,3))   \n",
        "          studentStatistics.append(round(duration_am,3))                   \n",
        "          studentStatistics.append(round(duration_m,3)) \n",
        "          studentStatistics.append(round(duration_s,3))   \n",
        "          studentStatistics.append(list0[k])\n",
        "          studentStatistics.append(list1[k])\n",
        "          studentStatistics.append(list2[k])\n",
        "          studentStatistics.append(list3[k])\n",
        "          studentStatistics.append(list4[k])\n",
        "          studentStatistics.append(list5[k])\n",
        "          studentStatisticsArray.append(studentStatistics)\n",
        "    \n",
        "      return(onset_X, onset_mean, onset_std, duration_X, duration_mean, duration_std,studentStatisticsArray,onset_amean, duration_amean)\n",
        "# Capture a table of onset and grade\n"
      ],
      "execution_count": 99,
      "outputs": []
    },
    {
      "cell_type": "code",
      "metadata": {
        "colab": {
          "base_uri": "https://localhost:8080/",
          "height": 1000
        },
        "id": "utUMqb3Wlhvj",
        "outputId": "6f605041-32b7-4fb1-d329-639990c081a7"
      },
      "source": [
        "onset_X, onset_mean, onset_std, duration_X, duration_mean, duration_std,stats, onset_amean, duration_amean= statisticsGenerator(sonset_deviations,soffset_deviations,\" onsets\", \" offset\",df_all)"
      ],
      "execution_count": 100,
      "outputs": [
        {
          "output_type": "stream",
          "text": [
            "===================================\n",
            "Student 0 offset\n"
          ],
          "name": "stdout"
        },
        {
          "output_type": "display_data",
          "data": {
            "image/png": "[encoded data removed]",
            "text/plain": [
              "<Figure size 432x288 with 2 Axes>"
            ]
          },
          "metadata": {
            "needs_background": "light"
          }
        },
        {
          "output_type": "stream",
          "text": [
            "Onset Grade =  100.0 \t Duration Grade =  100.0\n",
            "Onset ABS  Mean: 0.009429,Onset Mean: 0.001376, Std Dev. from 0:0.010761\n",
            "Offset Mean: -0.009759, Std Dev. from 0:0.096131\n",
            "Articulation Grade =  100.0 Sound Control Grade =  100.0 Volume Control Grade =  100.0\n",
            "Final Mark =  5.0\n",
            "F-measure =  0.998\n",
            "===================================\n",
            "Student 1 offset\n"
          ],
          "name": "stdout"
        },
        {
          "output_type": "display_data",
          "data": {
            "image/png": "[encoded data removed]",
            "text/plain": [
              "<Figure size 432x288 with 2 Axes>"
            ]
          },
          "metadata": {
            "needs_background": "light"
          }
        },
        {
          "output_type": "stream",
          "text": [
            "Onset Grade =  79.2 \t Duration Grade =  79.2\n",
            "Onset ABS  Mean: 0.007855,Onset Mean: 0.000867, Std Dev. from 0:0.009658\n",
            "Offset Mean: 0.001590, Std Dev. from 0:0.021096\n",
            "Articulation Grade =  72.0 Sound Control Grade =  79.2 Volume Control Grade =  79.2\n",
            "Final Mark =  3.6\n",
            "F-measure =  0.364\n",
            "===================================\n",
            "Student 2 offset\n"
          ],
          "name": "stdout"
        },
        {
          "output_type": "display_data",
          "data": {
            "image/png": "[encoded data removed]",
            "text/plain": [
              "<Figure size 432x288 with 2 Axes>"
            ]
          },
          "metadata": {
            "needs_background": "light"
          }
        },
        {
          "output_type": "stream",
          "text": [
            "Onset Grade =  56.7 \t Duration Grade =  72.0\n",
            "Onset ABS  Mean: 0.009907,Onset Mean: -0.004362, Std Dev. from 0:0.011607\n",
            "Offset Mean: -0.012089, Std Dev. from 0:0.085090\n",
            "Articulation Grade =  72.0 Sound Control Grade =  72.0 Volume Control Grade =  72.0\n",
            "Final Mark =  2.7\n",
            "F-measure =  0.558\n",
            "===================================\n",
            "Student 3 offset\n"
          ],
          "name": "stdout"
        },
        {
          "output_type": "display_data",
          "data": {
            "image/png": "[encoded data removed]",
            "text/plain": [
              "<Figure size 432x288 with 2 Axes>"
            ]
          },
          "metadata": {
            "needs_background": "light"
          }
        },
        {
          "output_type": "stream",
          "text": [
            "Onset Grade =  72.0 \t Duration Grade =  79.2\n",
            "Onset ABS  Mean: 0.009249,Onset Mean: 0.004237, Std Dev. from 0:0.011381\n",
            "Offset Mean: 0.026244, Std Dev. from 0:0.157860\n",
            "Articulation Grade =  79.2 Sound Control Grade =  90.0 Volume Control Grade =  79.2\n",
            "Final Mark =  3.6\n",
            "F-measure =  0.254\n",
            "===================================\n",
            "Student 4 offset\n"
          ],
          "name": "stdout"
        },
        {
          "output_type": "display_data",
          "data": {
            "image/png": "[encoded data removed]",
            "text/plain": [
              "<Figure size 432x288 with 2 Axes>"
            ]
          },
          "metadata": {
            "needs_background": "light"
          }
        },
        {
          "output_type": "stream",
          "text": [
            "Onset Grade =  72.0 \t Duration Grade =  79.2\n",
            "Onset ABS  Mean: 0.010686,Onset Mean: -0.000998, Std Dev. from 0:0.012389\n",
            "Offset Mean: -0.015125, Std Dev. from 0:0.100551\n",
            "Articulation Grade =  79.2 Sound Control Grade =  79.2 Volume Control Grade =  79.2\n",
            "Final Mark =  3.6\n",
            "F-measure =  0.145\n",
            "===================================\n",
            "Student 5 offset\n"
          ],
          "name": "stdout"
        },
        {
          "output_type": "display_data",
          "data": {
            "image/png": "[encoded data removed]",
            "text/plain": [
              "<Figure size 432x288 with 2 Axes>"
            ]
          },
          "metadata": {
            "needs_background": "light"
          }
        },
        {
          "output_type": "stream",
          "text": [
            "Onset Grade =  79.2 \t Duration Grade =  79.2\n",
            "Onset ABS  Mean: 0.011722,Onset Mean: 0.010121, Std Dev. from 0:0.013061\n",
            "Offset Mean: 0.002157, Std Dev. from 0:0.009182\n",
            "Articulation Grade =  72.0 Sound Control Grade =  79.2 Volume Control Grade =  79.2\n",
            "Final Mark =  2.7\n",
            "F-measure =  0.262\n",
            "===================================\n",
            "Student 6 offset\n"
          ],
          "name": "stdout"
        },
        {
          "output_type": "display_data",
          "data": {
            "image/png": "[encoded data removed]",
            "text/plain": [
              "<Figure size 432x288 with 2 Axes>"
            ]
          },
          "metadata": {
            "needs_background": "light"
          }
        },
        {
          "output_type": "stream",
          "text": [
            "Onset Grade =  79.2 \t Duration Grade =  90.0\n",
            "Onset ABS  Mean: 0.014707,Onset Mean: -0.010998, Std Dev. from 0:0.015709\n",
            "Offset Mean: -0.101223, Std Dev. from 0:0.238094\n",
            "Articulation Grade =  90.0 Sound Control Grade =  90.0 Volume Control Grade =  79.2\n",
            "Final Mark =  4.05\n",
            "F-measure =  0.175\n",
            "===================================\n",
            "Student 7 offset\n"
          ],
          "name": "stdout"
        },
        {
          "output_type": "display_data",
          "data": {
            "image/png": "[encoded data removed]",
            "text/plain": [
              "<Figure size 432x288 with 2 Axes>"
            ]
          },
          "metadata": {
            "needs_background": "light"
          }
        },
        {
          "output_type": "stream",
          "text": [
            "Onset Grade =  79.2 \t Duration Grade =  79.2\n",
            "Onset ABS  Mean: 0.009818,Onset Mean: -0.003178, Std Dev. from 0:0.011458\n",
            "Offset Mean: -0.021835, Std Dev. from 0:0.156903\n",
            "Articulation Grade =  79.2 Sound Control Grade =  72.0 Volume Control Grade =  56.7\n",
            "Final Mark =  1.8\n",
            "F-measure =  0.053\n",
            "===================================\n",
            "Student 8 offset\n"
          ],
          "name": "stdout"
        },
        {
          "output_type": "display_data",
          "data": {
            "image/png": "[encoded data removed]",
            "text/plain": [
              "<Figure size 432x288 with 2 Axes>"
            ]
          },
          "metadata": {
            "needs_background": "light"
          }
        },
        {
          "output_type": "stream",
          "text": [
            "Onset Grade =  56.7 \t Duration Grade =  72.0\n",
            "Onset ABS  Mean: 0.010122,Onset Mean: -0.002046, Std Dev. from 0:0.011611\n",
            "Offset Mean: -0.022017, Std Dev. from 0:0.116383\n",
            "Articulation Grade =  79.2 Sound Control Grade =  79.2 Volume Control Grade =  72.0\n",
            "Final Mark =  2.7\n",
            "F-measure =  0.309\n",
            "===================================\n",
            "Student 9 offset\n"
          ],
          "name": "stdout"
        },
        {
          "output_type": "display_data",
          "data": {
            "image/png": "[encoded data removed]",
            "text/plain": [
              "<Figure size 432x288 with 2 Axes>"
            ]
          },
          "metadata": {
            "needs_background": "light"
          }
        },
        {
          "output_type": "stream",
          "text": [
            "Onset Grade =  56.7 \t Duration Grade =  33.300000000000004\n",
            "Onset ABS  Mean: 0.010748,Onset Mean: 0.001880, Std Dev. from 0:0.012177\n",
            "Offset Mean: -0.005712, Std Dev. from 0:0.061775\n",
            "Articulation Grade =  33.300000000000004 Sound Control Grade =  56.7 Volume Control Grade =  33.300000000000004\n",
            "Final Mark =  0.9\n",
            "F-measure =  0.099\n",
            "===================================\n",
            "Student 10 offset\n"
          ],
          "name": "stdout"
        },
        {
          "output_type": "display_data",
          "data": {
            "image/png": "[encoded data removed]",
            "text/plain": [
              "<Figure size 432x288 with 2 Axes>"
            ]
          },
          "metadata": {
            "needs_background": "light"
          }
        },
        {
          "output_type": "stream",
          "text": [
            "Onset Grade =  56.7 \t Duration Grade =  33.300000000000004\n",
            "Onset ABS  Mean: 0.008649,Onset Mean: 0.000024, Std Dev. from 0:0.010145\n",
            "Offset Mean: 0.016668, Std Dev. from 0:0.131932\n",
            "Articulation Grade =  33.300000000000004 Sound Control Grade =  56.7 Volume Control Grade =  33.300000000000004\n",
            "Final Mark =  0.0\n",
            "F-measure =  0.214\n",
            "===================================\n",
            "Student 11 offset\n"
          ],
          "name": "stdout"
        },
        {
          "output_type": "display_data",
          "data": {
            "image/png": "[encoded data removed]",
            "text/plain": [
              "<Figure size 432x288 with 2 Axes>"
            ]
          },
          "metadata": {
            "needs_background": "light"
          }
        },
        {
          "output_type": "stream",
          "text": [
            "Onset Grade =  79.2 \t Duration Grade =  79.2\n",
            "Onset ABS  Mean: 0.009026,Onset Mean: 0.000016, Std Dev. from 0:0.010651\n",
            "Offset Mean: -0.004578, Std Dev. from 0:0.058574\n",
            "Articulation Grade =  90.0 Sound Control Grade =  90.0 Volume Control Grade =  90.0\n",
            "Final Mark =  3.6\n",
            "F-measure =  0.587\n",
            "===================================\n",
            "Student 12 offset\n"
          ],
          "name": "stdout"
        },
        {
          "output_type": "display_data",
          "data": {
            "image/png": "[encoded data removed]",
            "text/plain": [
              "<Figure size 432x288 with 2 Axes>"
            ]
          },
          "metadata": {
            "needs_background": "light"
          }
        },
        {
          "output_type": "stream",
          "text": [
            "Onset Grade =  72.0 \t Duration Grade =  72.0\n",
            "Onset ABS  Mean: 0.009129,Onset Mean: 0.001392, Std Dev. from 0:0.010820\n",
            "Offset Mean: 0.000419, Std Dev. from 0:0.019095\n",
            "Articulation Grade =  72.0 Sound Control Grade =  72.0 Volume Control Grade =  79.2\n",
            "Final Mark =  2.7\n",
            "F-measure =  0.564\n",
            "===================================\n",
            "Student 13 offset\n"
          ],
          "name": "stdout"
        },
        {
          "output_type": "display_data",
          "data": {
            "image/png": "[encoded data removed]",
            "text/plain": [
              "<Figure size 432x288 with 2 Axes>"
            ]
          },
          "metadata": {
            "needs_background": "light"
          }
        },
        {
          "output_type": "stream",
          "text": [
            "Onset Grade =  79.2 \t Duration Grade =  79.2\n",
            "Onset ABS  Mean: 0.009363,Onset Mean: -0.000710, Std Dev. from 0:0.010977\n",
            "Offset Mean: 0.002428, Std Dev. from 0:0.012227\n",
            "Articulation Grade =  79.2 Sound Control Grade =  72.0 Volume Control Grade =  79.2\n",
            "Final Mark =  3.15\n",
            "F-measure =  0.58\n",
            "===================================\n",
            "Student 14 offset\n"
          ],
          "name": "stdout"
        },
        {
          "output_type": "display_data",
          "data": {
            "image/png": "[encoded data removed]",
            "text/plain": [
              "<Figure size 432x288 with 2 Axes>"
            ]
          },
          "metadata": {
            "needs_background": "light"
          }
        },
        {
          "output_type": "stream",
          "text": [
            "Onset Grade =  90.0 \t Duration Grade =  90.0\n",
            "Onset ABS  Mean: 0.009416,Onset Mean: -0.003290, Std Dev. from 0:0.011091\n",
            "Offset Mean: -0.003813, Std Dev. from 0:0.060820\n",
            "Articulation Grade =  90.0 Sound Control Grade =  90.0 Volume Control Grade =  90.0\n",
            "Final Mark =  4.5\n",
            "F-measure =  0.594\n"
          ],
          "name": "stdout"
        }
      ]
    },
    {
      "cell_type": "code",
      "metadata": {
        "id": "wnDSR4NUzVwR"
      },
      "source": [
        ""
      ],
      "execution_count": 100,
      "outputs": []
    },
    {
      "cell_type": "code",
      "metadata": {
        "id": "wgT2wZ-n-s69"
      },
      "source": [
        "import pandas as pd\n"
      ],
      "execution_count": 101,
      "outputs": []
    },
    {
      "cell_type": "code",
      "metadata": {
        "id": "5t-JzT-eSTCW",
        "colab": {
          "base_uri": "https://localhost:8080/",
          "height": 542
        },
        "outputId": "c6b41b48-589c-4ea0-a427-6ec1204b3060"
      },
      "source": [
        "data_timing_onset0= { 'Reference Onset Deviation BJean' :sonset_deviations[0]}\n",
        "df = pd.DataFrame(data_timing_onset0,columns=['Reference Onset Deviation BJean'])\n",
        "fig = px.histogram(df, x=\"Reference Onset Deviation BJean\")\n",
        "fig.show()"
      ],
      "execution_count": 102,
      "outputs": [
        {
          "output_type": "display_data",
          "data": {
            "text/html": [
              "<html>\n",
              "<head><meta charset=\"utf-8\" /></head>\n",
              "<body>\n",
              "    <div>\n",
              "            <script src=\"https://cdnjs.cloudflare.com/ajax/libs/mathjax/2.7.5/MathJax.js?config=TeX-AMS-MML_SVG\"></script><script type=\"text/javascript\">if (window.MathJax) {MathJax.Hub.Config({SVG: {font: \"STIX-Web\"}});}</script>\n",
              "                <script type=\"text/javascript\">window.PlotlyConfig = {MathJaxConfig: 'local'};</script>\n",
              "        <script src=\"https://cdn.plot.ly/plotly-latest.min.js\"></script>    \n",
              "            <div id=\"4598e3e2-b508-48ee-a8dc-38662b4c8d58\" class=\"plotly-graph-div\" style=\"height:525px; width:100%;\"></div>\n",
              "            <script type=\"text/javascript\">\n",
              "                \n",
              "                    window.PLOTLYENV=window.PLOTLYENV || {};\n",
              "                    \n",
              "                if (document.getElementById(\"4598e3e2-b508-48ee-a8dc-38662b4c8d58\")) {\n",
              "                    Plotly.newPlot(\n",
              "                        '4598e3e2-b508-48ee-a8dc-38662b4c8d58',\n",
              "                        [{\"alignmentgroup\": \"True\", \"bingroup\": \"x\", \"hoverlabel\": {\"namelength\": 0}, \"hovertemplate\": \"Reference Onset Deviation BJean=%{x}<br>count=%{y}\", \"legendgroup\": \"\", \"marker\": {\"color\": \"#636efa\"}, \"name\": \"\", \"offsetgroup\": \"\", \"orientation\": \"v\", \"showlegend\": false, \"type\": \"histogram\", \"x\": [0.018786847999999527, 0.015147392000001147, 0.0049206300000008705, 0.016281180000000006, 0.013106579999998758, 0.018038549999999987, -0.009240359999999724, 0.012290249999999505, 0.017278909999994596, -0.005000000000002558, 0.015000000000000568, -0.005000000000002558, 0.010000000000005116, 0.009999999999998009, 0.015000000000000568, -0.015000000000000568, 0.0, 0.019999999999996017, 0.01010203999999959, 0.0030725599999996693, -0.017403629999996898, 0.0005668899999946575, -0.005600909999998294, -0.016000000000005343, 0.017120179999999152, 0.005090700000003778, -0.01015873000000056, -0.008798190000000261, -0.01743764000000425, -0.006999999999997897, -0.01538548999999989, 0.003945579999999893, 0.0036961499999961225, 0.01166666999999677, 0.018027209999999627, 0.01735828000000339, -0.017891160000004902, 0.0100793699999997, 0.013492059999997252, 0.00826531000001296, -0.009013609999996676, -0.004263039999997886, 0.0034580499999918857, 0.0091496599999914, -0.006349210000010429, 0.011621320000003266, -0.008628119999997352, -0.0038548799999915673, -0.004523810000009121, 0.003446710000005737, -0.00044218000000739716, -0.009081630000011387, 0.008888890000008587, -0.00814058999999645, 0.004331070000006321, 0.017743760000001885, -0.007981860000001006, 0.009988660000004757, 0.014319729999996866, -0.0009297099999940883, 0.017040820000005397, 0.011791379999991136, 0.006122450000006553, -0.0030158699999986997, 0.011564630000009402, -0.008934240000002092, 0.012006799999994657, 0.014727890000003184, 0.002448980000011147, 0.003560089999993465, 0.0015306100000032075, 0.014501129999999309, -0.002777779999988184, -0.01005668999999898, -0.008696149999991576, 0.004274380000012457, 0.0006349199999959865, -0.008004540000001725, 0.014716550000002824, -0.012562360000003991, 0.008798190000007367, 0.01015873000000056, -0.003480729999992605, -0.004399090000006822, 0.006961450000005698, 0.013322000000002276, -0.015566890000002331, -0.012596369999997137, -0.018015869999999268, -0.005294779999999832, 0.0044557800000006855, -0.009183669999998756, 0.008786850000007007, -0.005102039999997032, -0.007380949999998165, -0.014410429999998087, -0.014659859999994753, -0.006689340000008315, 0.008061220000001867, -0.007188210000009577, -0.002607710000006591, -0.008526080000009983, -0.010804989999996906, 0.0005555599999951255, -0.009693880000000377], \"xaxis\": \"x\", \"yaxis\": \"y\"}],\n",
              "                        {\"barmode\": \"relative\", \"legend\": {\"tracegroupgap\": 0}, \"margin\": {\"t\": 60}, \"template\": {\"data\": {\"bar\": [{\"error_x\": {\"color\": \"#2a3f5f\"}, \"error_y\": {\"color\": \"#2a3f5f\"}, \"marker\": {\"line\": {\"color\": \"#E5ECF6\", \"width\": 0.5}}, \"type\": \"bar\"}], \"barpolar\": [{\"marker\": {\"line\": {\"color\": \"#E5ECF6\", \"width\": 0.5}}, \"type\": \"barpolar\"}], \"carpet\": [{\"aaxis\": {\"endlinecolor\": \"#2a3f5f\", \"gridcolor\": \"white\", \"linecolor\": \"white\", \"minorgridcolor\": \"white\", \"startlinecolor\": \"#2a3f5f\"}, \"baxis\": {\"endlinecolor\": \"#2a3f5f\", \"gridcolor\": \"white\", \"linecolor\": \"white\", \"minorgridcolor\": \"white\", \"startlinecolor\": \"#2a3f5f\"}, \"type\": \"carpet\"}], \"choropleth\": [{\"colorbar\": {\"outlinewidth\": 0, \"ticks\": \"\"}, \"type\": \"choropleth\"}], \"contour\": [{\"colorbar\": {\"outlinewidth\": 0, \"ticks\": \"\"}, \"colorscale\": [[0.0, \"#0d0887\"], [0.1111111111111111, \"#46039f\"], [0.2222222222222222, \"#7201a8\"], [0.3333333333333333, \"#9c179e\"], [0.4444444444444444, \"#bd3786\"], [0.5555555555555556, \"#d8576b\"], [0.6666666666666666, \"#ed7953\"], [0.7777777777777778, \"#fb9f3a\"], [0.8888888888888888, \"#fdca26\"], [1.0, \"#f0f921\"]], \"type\": \"contour\"}], \"contourcarpet\": [{\"colorbar\": {\"outlinewidth\": 0, \"ticks\": \"\"}, \"type\": \"contourcarpet\"}], \"heatmap\": [{\"colorbar\": {\"outlinewidth\": 0, \"ticks\": \"\"}, \"colorscale\": [[0.0, \"#0d0887\"], [0.1111111111111111, \"#46039f\"], [0.2222222222222222, \"#7201a8\"], [0.3333333333333333, \"#9c179e\"], [0.4444444444444444, \"#bd3786\"], [0.5555555555555556, \"#d8576b\"], [0.6666666666666666, \"#ed7953\"], [0.7777777777777778, \"#fb9f3a\"], [0.8888888888888888, \"#fdca26\"], [1.0, \"#f0f921\"]], \"type\": \"heatmap\"}], \"heatmapgl\": [{\"colorbar\": {\"outlinewidth\": 0, \"ticks\": \"\"}, \"colorscale\": [[0.0, \"#0d0887\"], [0.1111111111111111, \"#46039f\"], [0.2222222222222222, \"#7201a8\"], [0.3333333333333333, \"#9c179e\"], [0.4444444444444444, \"#bd3786\"], [0.5555555555555556, \"#d8576b\"], [0.6666666666666666, \"#ed7953\"], [0.7777777777777778, \"#fb9f3a\"], [0.8888888888888888, \"#fdca26\"], [1.0, \"#f0f921\"]], \"type\": \"heatmapgl\"}], \"histogram\": [{\"marker\": {\"colorbar\": {\"outlinewidth\": 0, \"ticks\": \"\"}}, \"type\": \"histogram\"}], \"histogram2d\": [{\"colorbar\": {\"outlinewidth\": 0, \"ticks\": \"\"}, \"colorscale\": [[0.0, \"#0d0887\"], [0.1111111111111111, \"#46039f\"], [0.2222222222222222, \"#7201a8\"], [0.3333333333333333, \"#9c179e\"], [0.4444444444444444, \"#bd3786\"], [0.5555555555555556, \"#d8576b\"], [0.6666666666666666, \"#ed7953\"], [0.7777777777777778, \"#fb9f3a\"], [0.8888888888888888, \"#fdca26\"], [1.0, \"#f0f921\"]], \"type\": \"histogram2d\"}], \"histogram2dcontour\": [{\"colorbar\": {\"outlinewidth\": 0, \"ticks\": \"\"}, \"colorscale\": [[0.0, \"#0d0887\"], [0.1111111111111111, \"#46039f\"], [0.2222222222222222, \"#7201a8\"], [0.3333333333333333, \"#9c179e\"], [0.4444444444444444, \"#bd3786\"], [0.5555555555555556, \"#d8576b\"], [0.6666666666666666, \"#ed7953\"], [0.7777777777777778, \"#fb9f3a\"], [0.8888888888888888, \"#fdca26\"], [1.0, \"#f0f921\"]], \"type\": \"histogram2dcontour\"}], \"mesh3d\": [{\"colorbar\": {\"outlinewidth\": 0, \"ticks\": \"\"}, \"type\": \"mesh3d\"}], \"parcoords\": [{\"line\": {\"colorbar\": {\"outlinewidth\": 0, \"ticks\": \"\"}}, \"type\": \"parcoords\"}], \"pie\": [{\"automargin\": true, \"type\": \"pie\"}], \"scatter\": [{\"marker\": {\"colorbar\": {\"outlinewidth\": 0, \"ticks\": \"\"}}, \"type\": \"scatter\"}], \"scatter3d\": [{\"line\": {\"colorbar\": {\"outlinewidth\": 0, \"ticks\": \"\"}}, \"marker\": {\"colorbar\": {\"outlinewidth\": 0, \"ticks\": \"\"}}, \"type\": \"scatter3d\"}], \"scattercarpet\": [{\"marker\": {\"colorbar\": {\"outlinewidth\": 0, \"ticks\": \"\"}}, \"type\": \"scattercarpet\"}], \"scattergeo\": [{\"marker\": {\"colorbar\": {\"outlinewidth\": 0, \"ticks\": \"\"}}, \"type\": \"scattergeo\"}], \"scattergl\": [{\"marker\": {\"colorbar\": {\"outlinewidth\": 0, \"ticks\": \"\"}}, \"type\": \"scattergl\"}], \"scattermapbox\": [{\"marker\": {\"colorbar\": {\"outlinewidth\": 0, \"ticks\": \"\"}}, \"type\": \"scattermapbox\"}], \"scatterpolar\": [{\"marker\": {\"colorbar\": {\"outlinewidth\": 0, \"ticks\": \"\"}}, \"type\": \"scatterpolar\"}], \"scatterpolargl\": [{\"marker\": {\"colorbar\": {\"outlinewidth\": 0, \"ticks\": \"\"}}, \"type\": \"scatterpolargl\"}], \"scatterternary\": [{\"marker\": {\"colorbar\": {\"outlinewidth\": 0, \"ticks\": \"\"}}, \"type\": \"scatterternary\"}], \"surface\": [{\"colorbar\": {\"outlinewidth\": 0, \"ticks\": \"\"}, \"colorscale\": [[0.0, \"#0d0887\"], [0.1111111111111111, \"#46039f\"], [0.2222222222222222, \"#7201a8\"], [0.3333333333333333, \"#9c179e\"], [0.4444444444444444, \"#bd3786\"], [0.5555555555555556, \"#d8576b\"], [0.6666666666666666, \"#ed7953\"], [0.7777777777777778, \"#fb9f3a\"], [0.8888888888888888, \"#fdca26\"], [1.0, \"#f0f921\"]], \"type\": \"surface\"}], \"table\": [{\"cells\": {\"fill\": {\"color\": \"#EBF0F8\"}, \"line\": {\"color\": \"white\"}}, \"header\": {\"fill\": {\"color\": \"#C8D4E3\"}, \"line\": {\"color\": \"white\"}}, \"type\": \"table\"}]}, \"layout\": {\"annotationdefaults\": {\"arrowcolor\": \"#2a3f5f\", \"arrowhead\": 0, \"arrowwidth\": 1}, \"coloraxis\": {\"colorbar\": {\"outlinewidth\": 0, \"ticks\": \"\"}}, \"colorscale\": {\"diverging\": [[0, \"#8e0152\"], [0.1, \"#c51b7d\"], [0.2, \"#de77ae\"], [0.3, \"#f1b6da\"], [0.4, \"#fde0ef\"], [0.5, \"#f7f7f7\"], [0.6, \"#e6f5d0\"], [0.7, \"#b8e186\"], [0.8, \"#7fbc41\"], [0.9, \"#4d9221\"], [1, \"#276419\"]], \"sequential\": [[0.0, \"#0d0887\"], [0.1111111111111111, \"#46039f\"], [0.2222222222222222, \"#7201a8\"], [0.3333333333333333, \"#9c179e\"], [0.4444444444444444, \"#bd3786\"], [0.5555555555555556, \"#d8576b\"], [0.6666666666666666, \"#ed7953\"], [0.7777777777777778, \"#fb9f3a\"], [0.8888888888888888, \"#fdca26\"], [1.0, \"#f0f921\"]], \"sequentialminus\": [[0.0, \"#0d0887\"], [0.1111111111111111, \"#46039f\"], [0.2222222222222222, \"#7201a8\"], [0.3333333333333333, \"#9c179e\"], [0.4444444444444444, \"#bd3786\"], [0.5555555555555556, \"#d8576b\"], [0.6666666666666666, \"#ed7953\"], [0.7777777777777778, \"#fb9f3a\"], [0.8888888888888888, \"#fdca26\"], [1.0, \"#f0f921\"]]}, \"colorway\": [\"#636efa\", \"#EF553B\", \"#00cc96\", \"#ab63fa\", \"#FFA15A\", \"#19d3f3\", \"#FF6692\", \"#B6E880\", \"#FF97FF\", \"#FECB52\"], \"font\": {\"color\": \"#2a3f5f\"}, \"geo\": {\"bgcolor\": \"white\", \"lakecolor\": \"white\", \"landcolor\": \"#E5ECF6\", \"showlakes\": true, \"showland\": true, \"subunitcolor\": \"white\"}, \"hoverlabel\": {\"align\": \"left\"}, \"hovermode\": \"closest\", \"mapbox\": {\"style\": \"light\"}, \"paper_bgcolor\": \"white\", \"plot_bgcolor\": \"#E5ECF6\", \"polar\": {\"angularaxis\": {\"gridcolor\": \"white\", \"linecolor\": \"white\", \"ticks\": \"\"}, \"bgcolor\": \"#E5ECF6\", \"radialaxis\": {\"gridcolor\": \"white\", \"linecolor\": \"white\", \"ticks\": \"\"}}, \"scene\": {\"xaxis\": {\"backgroundcolor\": \"#E5ECF6\", \"gridcolor\": \"white\", \"gridwidth\": 2, \"linecolor\": \"white\", \"showbackground\": true, \"ticks\": \"\", \"zerolinecolor\": \"white\"}, \"yaxis\": {\"backgroundcolor\": \"#E5ECF6\", \"gridcolor\": \"white\", \"gridwidth\": 2, \"linecolor\": \"white\", \"showbackground\": true, \"ticks\": \"\", \"zerolinecolor\": \"white\"}, \"zaxis\": {\"backgroundcolor\": \"#E5ECF6\", \"gridcolor\": \"white\", \"gridwidth\": 2, \"linecolor\": \"white\", \"showbackground\": true, \"ticks\": \"\", \"zerolinecolor\": \"white\"}}, \"shapedefaults\": {\"line\": {\"color\": \"#2a3f5f\"}}, \"ternary\": {\"aaxis\": {\"gridcolor\": \"white\", \"linecolor\": \"white\", \"ticks\": \"\"}, \"baxis\": {\"gridcolor\": \"white\", \"linecolor\": \"white\", \"ticks\": \"\"}, \"bgcolor\": \"#E5ECF6\", \"caxis\": {\"gridcolor\": \"white\", \"linecolor\": \"white\", \"ticks\": \"\"}}, \"title\": {\"x\": 0.05}, \"xaxis\": {\"automargin\": true, \"gridcolor\": \"white\", \"linecolor\": \"white\", \"ticks\": \"\", \"title\": {\"standoff\": 15}, \"zerolinecolor\": \"white\", \"zerolinewidth\": 2}, \"yaxis\": {\"automargin\": true, \"gridcolor\": \"white\", \"linecolor\": \"white\", \"ticks\": \"\", \"title\": {\"standoff\": 15}, \"zerolinecolor\": \"white\", \"zerolinewidth\": 2}}}, \"xaxis\": {\"anchor\": \"y\", \"domain\": [0.0, 1.0], \"title\": {\"text\": \"Reference Onset Deviation BJean\"}}, \"yaxis\": {\"anchor\": \"x\", \"domain\": [0.0, 1.0], \"title\": {\"text\": \"count\"}}},\n",
              "                        {\"responsive\": true}\n",
              "                    ).then(function(){\n",
              "                            \n",
              "var gd = document.getElementById('4598e3e2-b508-48ee-a8dc-38662b4c8d58');\n",
              "var x = new MutationObserver(function (mutations, observer) {{\n",
              "        var display = window.getComputedStyle(gd).display;\n",
              "        if (!display || display === 'none') {{\n",
              "            console.log([gd, 'removed!']);\n",
              "            Plotly.purge(gd);\n",
              "            observer.disconnect();\n",
              "        }}\n",
              "}});\n",
              "\n",
              "// Listen for the removal of the full notebook cells\n",
              "var notebookContainer = gd.closest('#notebook-container');\n",
              "if (notebookContainer) {{\n",
              "    x.observe(notebookContainer, {childList: true});\n",
              "}}\n",
              "\n",
              "// Listen for the clearing of the current output cell\n",
              "var outputEl = gd.closest('.output');\n",
              "if (outputEl) {{\n",
              "    x.observe(outputEl, {childList: true});\n",
              "}}\n",
              "\n",
              "                        })\n",
              "                };\n",
              "                \n",
              "            </script>\n",
              "        </div>\n",
              "</body>\n",
              "</html>"
            ]
          },
          "metadata": {}
        }
      ]
    },
    {
      "cell_type": "code",
      "metadata": {
        "id": "jpcGZkNJPWcK",
        "colab": {
          "base_uri": "https://localhost:8080/",
          "height": 542
        },
        "outputId": "aa9f879b-4be2-4a0a-f357-87746000c084"
      },
      "source": [
        "\n",
        "data_timing_duration0= { 'Reference Offset Deviation BJean' :soffset_deviations[0]}\n",
        "df = pd.DataFrame(data_timing_duration0,columns=['Reference Offset Deviation BJean'])\n",
        "fig = px.histogram(df, x=\"Reference Offset Deviation BJean\")\n",
        "fig.show()"
      ],
      "execution_count": 103,
      "outputs": [
        {
          "output_type": "display_data",
          "data": {
            "text/html": [
              "<html>\n",
              "<head><meta charset=\"utf-8\" /></head>\n",
              "<body>\n",
              "    <div>\n",
              "            <script src=\"https://cdnjs.cloudflare.com/ajax/libs/mathjax/2.7.5/MathJax.js?config=TeX-AMS-MML_SVG\"></script><script type=\"text/javascript\">if (window.MathJax) {MathJax.Hub.Config({SVG: {font: \"STIX-Web\"}});}</script>\n",
              "                <script type=\"text/javascript\">window.PlotlyConfig = {MathJaxConfig: 'local'};</script>\n",
              "        <script src=\"https://cdn.plot.ly/plotly-latest.min.js\"></script>    \n",
              "            <div id=\"992dcc3b-5372-4579-a05c-1e40c05abff2\" class=\"plotly-graph-div\" style=\"height:525px; width:100%;\"></div>\n",
              "            <script type=\"text/javascript\">\n",
              "                \n",
              "                    window.PLOTLYENV=window.PLOTLYENV || {};\n",
              "                    \n",
              "                if (document.getElementById(\"992dcc3b-5372-4579-a05c-1e40c05abff2\")) {\n",
              "                    Plotly.newPlot(\n",
              "                        '992dcc3b-5372-4579-a05c-1e40c05abff2',\n",
              "                        [{\"alignmentgroup\": \"True\", \"bingroup\": \"x\", \"hoverlabel\": {\"namelength\": 0}, \"hovertemplate\": \"Reference Offset Deviation BJean=%{x}<br>count=%{y}\", \"legendgroup\": \"\", \"marker\": {\"color\": \"#636efa\"}, \"name\": \"\", \"offsetgroup\": \"\", \"orientation\": \"v\", \"showlegend\": false, \"type\": \"histogram\", \"x\": [-0.7299999999999969, -0.6499999999999986, 0.010000000000005116, 0.03499999999999659, 0.015000000000000568, -0.03999999999999915, -0.02999999999999403, 0.019999999999996017, 0.026292519999998376, 0.018000000000000682, 0.01739228999999654, 0.0310544200000038, 0.029024939999999333, 0.03428571000000602, 0.033537409999993884, 0.02666666999999734, 0.03735827999999231, 0.038299320000007235, 0.02158729999999309, 0.031780050000008934, 0.0, 0.0, 0.0, 0.0, 0.0, 0.0, 0.0, 0.0, 0.0, 0.0, 0.0, 0.0, 0.0, 0.0, 0.0, 0.0, 0.0, 0.0, 0.0, 0.0, 0.0, 0.0, 0.0, 0.0, 0.0, 0.0, 0.0, 0.0, 0.0, 0.0, 0.0, 0.0, 0.0, 0.0, 0.0, 0.0, 0.0, 0.0, 0.0, 0.0, 0.0, 0.0, 0.0, 0.0, 0.0, 0.0, 0.0, 0.0, 0.0, 0.0, 0.0, 0.0, 0.0, 0.0, 0.0, 0.0, 0.0, 0.0, 0.0, 0.0, 0.0, 0.0, 0.0, 0.0, 0.0, 0.0, 0.0, 0.0, 0.0, 0.0, 0.0, 0.0, 0.0, 0.0, 0.0, 0.0, 0.0, 0.0, 0.0, 0.0, 0.0, 0.0, 0.0, 0.0, 0.0], \"xaxis\": \"x\", \"yaxis\": \"y\"}],\n",
              "                        {\"barmode\": \"relative\", \"legend\": {\"tracegroupgap\": 0}, \"margin\": {\"t\": 60}, \"template\": {\"data\": {\"bar\": [{\"error_x\": {\"color\": \"#2a3f5f\"}, \"error_y\": {\"color\": \"#2a3f5f\"}, \"marker\": {\"line\": {\"color\": \"#E5ECF6\", \"width\": 0.5}}, \"type\": \"bar\"}], \"barpolar\": [{\"marker\": {\"line\": {\"color\": \"#E5ECF6\", \"width\": 0.5}}, \"type\": \"barpolar\"}], \"carpet\": [{\"aaxis\": {\"endlinecolor\": \"#2a3f5f\", \"gridcolor\": \"white\", \"linecolor\": \"white\", \"minorgridcolor\": \"white\", \"startlinecolor\": \"#2a3f5f\"}, \"baxis\": {\"endlinecolor\": \"#2a3f5f\", \"gridcolor\": \"white\", \"linecolor\": \"white\", \"minorgridcolor\": \"white\", \"startlinecolor\": \"#2a3f5f\"}, \"type\": \"carpet\"}], \"choropleth\": [{\"colorbar\": {\"outlinewidth\": 0, \"ticks\": \"\"}, \"type\": \"choropleth\"}], \"contour\": [{\"colorbar\": {\"outlinewidth\": 0, \"ticks\": \"\"}, \"colorscale\": [[0.0, \"#0d0887\"], [0.1111111111111111, \"#46039f\"], [0.2222222222222222, \"#7201a8\"], [0.3333333333333333, \"#9c179e\"], [0.4444444444444444, \"#bd3786\"], [0.5555555555555556, \"#d8576b\"], [0.6666666666666666, \"#ed7953\"], [0.7777777777777778, \"#fb9f3a\"], [0.8888888888888888, \"#fdca26\"], [1.0, \"#f0f921\"]], \"type\": \"contour\"}], \"contourcarpet\": [{\"colorbar\": {\"outlinewidth\": 0, \"ticks\": \"\"}, \"type\": \"contourcarpet\"}], \"heatmap\": [{\"colorbar\": {\"outlinewidth\": 0, \"ticks\": \"\"}, \"colorscale\": [[0.0, \"#0d0887\"], [0.1111111111111111, \"#46039f\"], [0.2222222222222222, \"#7201a8\"], [0.3333333333333333, \"#9c179e\"], [0.4444444444444444, \"#bd3786\"], [0.5555555555555556, \"#d8576b\"], [0.6666666666666666, \"#ed7953\"], [0.7777777777777778, \"#fb9f3a\"], [0.8888888888888888, \"#fdca26\"], [1.0, \"#f0f921\"]], \"type\": \"heatmap\"}], \"heatmapgl\": [{\"colorbar\": {\"outlinewidth\": 0, \"ticks\": \"\"}, \"colorscale\": [[0.0, \"#0d0887\"], [0.1111111111111111, \"#46039f\"], [0.2222222222222222, \"#7201a8\"], [0.3333333333333333, \"#9c179e\"], [0.4444444444444444, \"#bd3786\"], [0.5555555555555556, \"#d8576b\"], [0.6666666666666666, \"#ed7953\"], [0.7777777777777778, \"#fb9f3a\"], [0.8888888888888888, \"#fdca26\"], [1.0, \"#f0f921\"]], \"type\": \"heatmapgl\"}], \"histogram\": [{\"marker\": {\"colorbar\": {\"outlinewidth\": 0, \"ticks\": \"\"}}, \"type\": \"histogram\"}], \"histogram2d\": [{\"colorbar\": {\"outlinewidth\": 0, \"ticks\": \"\"}, \"colorscale\": [[0.0, \"#0d0887\"], [0.1111111111111111, \"#46039f\"], [0.2222222222222222, \"#7201a8\"], [0.3333333333333333, \"#9c179e\"], [0.4444444444444444, \"#bd3786\"], [0.5555555555555556, \"#d8576b\"], [0.6666666666666666, \"#ed7953\"], [0.7777777777777778, \"#fb9f3a\"], [0.8888888888888888, \"#fdca26\"], [1.0, \"#f0f921\"]], \"type\": \"histogram2d\"}], \"histogram2dcontour\": [{\"colorbar\": {\"outlinewidth\": 0, \"ticks\": \"\"}, \"colorscale\": [[0.0, \"#0d0887\"], [0.1111111111111111, \"#46039f\"], [0.2222222222222222, \"#7201a8\"], [0.3333333333333333, \"#9c179e\"], [0.4444444444444444, \"#bd3786\"], [0.5555555555555556, \"#d8576b\"], [0.6666666666666666, \"#ed7953\"], [0.7777777777777778, \"#fb9f3a\"], [0.8888888888888888, \"#fdca26\"], [1.0, \"#f0f921\"]], \"type\": \"histogram2dcontour\"}], \"mesh3d\": [{\"colorbar\": {\"outlinewidth\": 0, \"ticks\": \"\"}, \"type\": \"mesh3d\"}], \"parcoords\": [{\"line\": {\"colorbar\": {\"outlinewidth\": 0, \"ticks\": \"\"}}, \"type\": \"parcoords\"}], \"pie\": [{\"automargin\": true, \"type\": \"pie\"}], \"scatter\": [{\"marker\": {\"colorbar\": {\"outlinewidth\": 0, \"ticks\": \"\"}}, \"type\": \"scatter\"}], \"scatter3d\": [{\"line\": {\"colorbar\": {\"outlinewidth\": 0, \"ticks\": \"\"}}, \"marker\": {\"colorbar\": {\"outlinewidth\": 0, \"ticks\": \"\"}}, \"type\": \"scatter3d\"}], \"scattercarpet\": [{\"marker\": {\"colorbar\": {\"outlinewidth\": 0, \"ticks\": \"\"}}, \"type\": \"scattercarpet\"}], \"scattergeo\": [{\"marker\": {\"colorbar\": {\"outlinewidth\": 0, \"ticks\": \"\"}}, \"type\": \"scattergeo\"}], \"scattergl\": [{\"marker\": {\"colorbar\": {\"outlinewidth\": 0, \"ticks\": \"\"}}, \"type\": \"scattergl\"}], \"scattermapbox\": [{\"marker\": {\"colorbar\": {\"outlinewidth\": 0, \"ticks\": \"\"}}, \"type\": \"scattermapbox\"}], \"scatterpolar\": [{\"marker\": {\"colorbar\": {\"outlinewidth\": 0, \"ticks\": \"\"}}, \"type\": \"scatterpolar\"}], \"scatterpolargl\": [{\"marker\": {\"colorbar\": {\"outlinewidth\": 0, \"ticks\": \"\"}}, \"type\": \"scatterpolargl\"}], \"scatterternary\": [{\"marker\": {\"colorbar\": {\"outlinewidth\": 0, \"ticks\": \"\"}}, \"type\": \"scatterternary\"}], \"surface\": [{\"colorbar\": {\"outlinewidth\": 0, \"ticks\": \"\"}, \"colorscale\": [[0.0, \"#0d0887\"], [0.1111111111111111, \"#46039f\"], [0.2222222222222222, \"#7201a8\"], [0.3333333333333333, \"#9c179e\"], [0.4444444444444444, \"#bd3786\"], [0.5555555555555556, \"#d8576b\"], [0.6666666666666666, \"#ed7953\"], [0.7777777777777778, \"#fb9f3a\"], [0.8888888888888888, \"#fdca26\"], [1.0, \"#f0f921\"]], \"type\": \"surface\"}], \"table\": [{\"cells\": {\"fill\": {\"color\": \"#EBF0F8\"}, \"line\": {\"color\": \"white\"}}, \"header\": {\"fill\": {\"color\": \"#C8D4E3\"}, \"line\": {\"color\": \"white\"}}, \"type\": \"table\"}]}, \"layout\": {\"annotationdefaults\": {\"arrowcolor\": \"#2a3f5f\", \"arrowhead\": 0, \"arrowwidth\": 1}, \"coloraxis\": {\"colorbar\": {\"outlinewidth\": 0, \"ticks\": \"\"}}, \"colorscale\": {\"diverging\": [[0, \"#8e0152\"], [0.1, \"#c51b7d\"], [0.2, \"#de77ae\"], [0.3, \"#f1b6da\"], [0.4, \"#fde0ef\"], [0.5, \"#f7f7f7\"], [0.6, \"#e6f5d0\"], [0.7, \"#b8e186\"], [0.8, \"#7fbc41\"], [0.9, \"#4d9221\"], [1, \"#276419\"]], \"sequential\": [[0.0, \"#0d0887\"], [0.1111111111111111, \"#46039f\"], [0.2222222222222222, \"#7201a8\"], [0.3333333333333333, \"#9c179e\"], [0.4444444444444444, \"#bd3786\"], [0.5555555555555556, \"#d8576b\"], [0.6666666666666666, \"#ed7953\"], [0.7777777777777778, \"#fb9f3a\"], [0.8888888888888888, \"#fdca26\"], [1.0, \"#f0f921\"]], \"sequentialminus\": [[0.0, \"#0d0887\"], [0.1111111111111111, \"#46039f\"], [0.2222222222222222, \"#7201a8\"], [0.3333333333333333, \"#9c179e\"], [0.4444444444444444, \"#bd3786\"], [0.5555555555555556, \"#d8576b\"], [0.6666666666666666, \"#ed7953\"], [0.7777777777777778, \"#fb9f3a\"], [0.8888888888888888, \"#fdca26\"], [1.0, \"#f0f921\"]]}, \"colorway\": [\"#636efa\", \"#EF553B\", \"#00cc96\", \"#ab63fa\", \"#FFA15A\", \"#19d3f3\", \"#FF6692\", \"#B6E880\", \"#FF97FF\", \"#FECB52\"], \"font\": {\"color\": \"#2a3f5f\"}, \"geo\": {\"bgcolor\": \"white\", \"lakecolor\": \"white\", \"landcolor\": \"#E5ECF6\", \"showlakes\": true, \"showland\": true, \"subunitcolor\": \"white\"}, \"hoverlabel\": {\"align\": \"left\"}, \"hovermode\": \"closest\", \"mapbox\": {\"style\": \"light\"}, \"paper_bgcolor\": \"white\", \"plot_bgcolor\": \"#E5ECF6\", \"polar\": {\"angularaxis\": {\"gridcolor\": \"white\", \"linecolor\": \"white\", \"ticks\": \"\"}, \"bgcolor\": \"#E5ECF6\", \"radialaxis\": {\"gridcolor\": \"white\", \"linecolor\": \"white\", \"ticks\": \"\"}}, \"scene\": {\"xaxis\": {\"backgroundcolor\": \"#E5ECF6\", \"gridcolor\": \"white\", \"gridwidth\": 2, \"linecolor\": \"white\", \"showbackground\": true, \"ticks\": \"\", \"zerolinecolor\": \"white\"}, \"yaxis\": {\"backgroundcolor\": \"#E5ECF6\", \"gridcolor\": \"white\", \"gridwidth\": 2, \"linecolor\": \"white\", \"showbackground\": true, \"ticks\": \"\", \"zerolinecolor\": \"white\"}, \"zaxis\": {\"backgroundcolor\": \"#E5ECF6\", \"gridcolor\": \"white\", \"gridwidth\": 2, \"linecolor\": \"white\", \"showbackground\": true, \"ticks\": \"\", \"zerolinecolor\": \"white\"}}, \"shapedefaults\": {\"line\": {\"color\": \"#2a3f5f\"}}, \"ternary\": {\"aaxis\": {\"gridcolor\": \"white\", \"linecolor\": \"white\", \"ticks\": \"\"}, \"baxis\": {\"gridcolor\": \"white\", \"linecolor\": \"white\", \"ticks\": \"\"}, \"bgcolor\": \"#E5ECF6\", \"caxis\": {\"gridcolor\": \"white\", \"linecolor\": \"white\", \"ticks\": \"\"}}, \"title\": {\"x\": 0.05}, \"xaxis\": {\"automargin\": true, \"gridcolor\": \"white\", \"linecolor\": \"white\", \"ticks\": \"\", \"title\": {\"standoff\": 15}, \"zerolinecolor\": \"white\", \"zerolinewidth\": 2}, \"yaxis\": {\"automargin\": true, \"gridcolor\": \"white\", \"linecolor\": \"white\", \"ticks\": \"\", \"title\": {\"standoff\": 15}, \"zerolinecolor\": \"white\", \"zerolinewidth\": 2}}}, \"xaxis\": {\"anchor\": \"y\", \"domain\": [0.0, 1.0], \"title\": {\"text\": \"Reference Offset Deviation BJean\"}}, \"yaxis\": {\"anchor\": \"x\", \"domain\": [0.0, 1.0], \"title\": {\"text\": \"count\"}}},\n",
              "                        {\"responsive\": true}\n",
              "                    ).then(function(){\n",
              "                            \n",
              "var gd = document.getElementById('992dcc3b-5372-4579-a05c-1e40c05abff2');\n",
              "var x = new MutationObserver(function (mutations, observer) {{\n",
              "        var display = window.getComputedStyle(gd).display;\n",
              "        if (!display || display === 'none') {{\n",
              "            console.log([gd, 'removed!']);\n",
              "            Plotly.purge(gd);\n",
              "            observer.disconnect();\n",
              "        }}\n",
              "}});\n",
              "\n",
              "// Listen for the removal of the full notebook cells\n",
              "var notebookContainer = gd.closest('#notebook-container');\n",
              "if (notebookContainer) {{\n",
              "    x.observe(notebookContainer, {childList: true});\n",
              "}}\n",
              "\n",
              "// Listen for the clearing of the current output cell\n",
              "var outputEl = gd.closest('.output');\n",
              "if (outputEl) {{\n",
              "    x.observe(outputEl, {childList: true});\n",
              "}}\n",
              "\n",
              "                        })\n",
              "                };\n",
              "                \n",
              "            </script>\n",
              "        </div>\n",
              "</body>\n",
              "</html>"
            ]
          },
          "metadata": {}
        }
      ]
    },
    {
      "cell_type": "code",
      "metadata": {
        "id": "CDyDJy8YSnkJ"
      },
      "source": [
        "dataset = pd.read_csv('drive/MyDrive/Bass/data/bjean/StudentStatistics_bjean.csv')"
      ],
      "execution_count": 104,
      "outputs": []
    },
    {
      "cell_type": "code",
      "metadata": {
        "colab": {
          "base_uri": "https://localhost:8080/"
        },
        "id": "SQdhtPm7T2dX",
        "outputId": "06b4929a-3c5c-4ffc-d3ab-69571e45fe1e"
      },
      "source": [
        "from sklearn.linear_model import LinearRegression\n",
        "from sklearn.model_selection import train_test_split\n",
        "from sklearn import metrics\n",
        "#X = dataset[['P', 'R', 'F',  ' ABS Mean Onset','Mean  Onset','Std Onset',' ABS Mean Duration','Mean Duration','Std Duration']]\n",
        "X = dataset[['f_measure_value','Onset ABS Mean']]#,]]\n",
        "\n",
        "y=array(dataset['onsetMark'])\n",
        "#coeff_df = pd.DataFrame(regressor.coef_, X.columns, columns=['Coefficient'])\n",
        "X_train, X_test, y_train, y_test = train_test_split(X, y, test_size=0.3, random_state=0)\n",
        "regressor = LinearRegression()\n",
        "regressor.fit(X_train, y_train)\n",
        "y_pred = regressor.predict(X_test)\n",
        "print('onset grades')\n",
        "\n",
        "df = pd.DataFrame({'Actual Grade': y_test,'Predicted Grade': y_pred})\n",
        "print(round(df,3))\n",
        "\n",
        "print('Mean Absolute Error:', round(metrics.mean_absolute_error(y_test, y_pred),3))\n",
        "print('Root Mean Squared Error:', round(np.sqrt(metrics.mean_squared_error(y_test, y_pred)),3))\n"
      ],
      "execution_count": 105,
      "outputs": [
        {
          "output_type": "stream",
          "text": [
            "onset grades\n",
            "   Actual Grade  Predicted Grade\n",
            "0     79.199997           73.288\n",
            "1     79.199997           70.397\n",
            "2     56.700001           72.640\n",
            "3     56.700001           64.343\n",
            "4     79.199997           81.822\n",
            "Mean Absolute Error: 8.184\n",
            "Root Mean Squared Error: 9.293\n"
          ],
          "name": "stdout"
        }
      ]
    },
    {
      "cell_type": "code",
      "metadata": {
        "colab": {
          "base_uri": "https://localhost:8080/",
          "height": 573
        },
        "id": "ln3kom022Nvt",
        "outputId": "29893cf0-9fbf-4625-b980-3d2403839849"
      },
      "source": [
        "onset_mean_list = df_all[\"Onset Mean\"].tolist()   \n",
        "onset_amean_list = df_all[\"Onset ABS Mean\"].tolist()   \n",
        "onset_grade_list = df_all[\"onsetMark\"].tolist()   \n",
        "onset_f_measure_value_list = df_all[\"f_measure_value\"].tolist()   \n",
        "plt.title('Actual Onset Grade(red) vs Predicted Onset Grade(blue)')\n",
        "plt.xlabel('F measure')\n",
        "plt.ylabel('Grade(%)')\n",
        "plt.scatter(X_test[\"f_measure_value\"].tolist(), y_test,  color='red')\n",
        "plt.scatter(X_test[\"f_measure_value\"].tolist(), y_pred, color='blue', linewidth=3)\n",
        "plt.show()\n",
        "\n",
        "plt.title('Predicted Onset Grades using Test input (green)')\n",
        "plt.xlabel('F measure')\n",
        "plt.ylabel('Grade(%)')\n",
        "plt.plot(onset_f_measure_value_list,onset_grade_list, 'x',color='blue')\n",
        "plt.plot(X_test[\"f_measure_value\"].tolist(),y_pred, 'o', color='green')\n",
        "plt.show()\n"
      ],
      "execution_count": 106,
      "outputs": [
        {
          "output_type": "display_data",
          "data": {
            "image/png": "[encoded data removed]",
            "text/plain": [
              "<Figure size 432x288 with 1 Axes>"
            ]
          },
          "metadata": {
            "needs_background": "light"
          }
        },
        {
          "output_type": "display_data",
          "data": {
            "image/png": "[encoded data removed]",
            "text/plain": [
              "<Figure size 432x288 with 1 Axes>"
            ]
          },
          "metadata": {
            "needs_background": "light"
          }
        }
      ]
    },
    {
      "cell_type": "code",
      "metadata": {
        "id": "yjZ5Q2qaWx4P"
      },
      "source": [
        ""
      ],
      "execution_count": null,
      "outputs": []
    },
    {
      "cell_type": "code",
      "metadata": {
        "id": "aju6nZtqCm1Z",
        "colab": {
          "base_uri": "https://localhost:8080/"
        },
        "outputId": "f6c325ca-7625-415b-a89d-0cac6ce9e577"
      },
      "source": [
        "#X = dataset[['precision','recall','f_measure_value','Duration ABS Mean','Duration Mean','Duration Std']]\n",
        "X = dataset[['f_measure_value','Duration ABS Mean']]\n",
        "y=array(dataset[' DurationMark'])\n",
        "#coeff_df = pd.DataFrame(regressor.coef_, X.columns, columns=['Coefficient'])\n",
        "\n",
        "X_train, X_test, y_train, y_test = train_test_split(X, y, test_size=0.3, random_state=0)# of you ommit it will be random\n",
        "# related to the seed in random function\n",
        "regressor = LinearRegression()\n",
        "regressor.fit(X_train, y_train)\n",
        "y_pred = regressor.predict(X_test)\n",
        "print(\"duration grades\")\n",
        "df = pd.DataFrame({'Actual Grade': y_test, 'Predicted Grade': y_pred})\n",
        "print(round(df,3))\n",
        "\n",
        "print('Mean Absolute Error:', round(metrics.mean_absolute_error(y_test, y_pred),3),'%')\n",
        "print('Root Mean Squared Error:', round(np.sqrt(metrics.mean_squared_error(y_test, y_pred)),3),'%')\n"
      ],
      "execution_count": 107,
      "outputs": [
        {
          "output_type": "stream",
          "text": [
            "duration grades\n",
            "   Actual Grade  Predicted Grade\n",
            "0     79.199997           72.346\n",
            "1     90.000000           59.667\n",
            "2     72.000000           75.751\n",
            "3     33.299999           67.407\n",
            "4     79.199997           74.384\n",
            "Mean Absolute Error: 15.972 %\n",
            "Root Mean Squared Error: 20.821 %\n"
          ],
          "name": "stdout"
        }
      ]
    },
    {
      "cell_type": "code",
      "metadata": {
        "id": "JU6PMj4VYDH5",
        "colab": {
          "base_uri": "https://localhost:8080/",
          "height": 610
        },
        "outputId": "5d9a9218-ed09-4d6a-b81b-557825861fce"
      },
      "source": [
        "duration_mean_list = df_all[\"Duration Mean\"].tolist()   \n",
        "duration_amean_list = df_all[\"Duration ABS Mean\"].tolist()   \n",
        "duration_grade_list = df_all[\" DurationMark\"].tolist()   \n",
        "duration_f_measure_value_list = df_all[\"f_measure_value\"].tolist()   \n",
        "plt.title('Actual Duration grade(red) vs Predicted Duration grade(blue)')\n",
        "plt.xlabel('Duration ABS Mean')\n",
        "plt.ylabel('Grade(%)')\n",
        "plt.scatter(X_test[\"Duration ABS Mean\"].tolist(), y_test,  color='red')\n",
        "plt.scatter(X_test[\"Duration ABS Mean\"].tolist(), y_pred, color='blue', linewidth=3)\n",
        "print(y_test)\n",
        "print(y_pred)\n",
        "plt.show()\n",
        "\n",
        "plt.title('Predicted Duration Grades using Test input (green)')\n",
        "plt.xlabel('Duration ABS Mean')\n",
        "plt.ylabel('Grade(%)')\n",
        "plt.plot(duration_amean_list,duration_grade_list, 'x',color='blue')\n",
        "plt.plot(X_test[\"f_measure_value\"].tolist(),y_pred, 'o', color='green')\n",
        "plt.show()\n"
      ],
      "execution_count": 108,
      "outputs": [
        {
          "output_type": "stream",
          "text": [
            "[79.2 90.  72.  33.3 79.2]\n",
            "[72.34623455 59.66746694 75.75112611 67.40683408 74.38369453]\n"
          ],
          "name": "stdout"
        },
        {
          "output_type": "display_data",
          "data": {
            "image/png": "[encoded data removed]",
            "text/plain": [
              "<Figure size 432x288 with 1 Axes>"
            ]
          },
          "metadata": {
            "needs_background": "light"
          }
        },
        {
          "output_type": "display_data",
          "data": {
            "image/png": "[encoded data removed]",
            "text/plain": [
              "<Figure size 432x288 with 1 Axes>"
            ]
          },
          "metadata": {
            "needs_background": "light"
          }
        }
      ]
    },
    {
      "cell_type": "code",
      "metadata": {
        "id": "0gnEMc1RXuBM",
        "colab": {
          "base_uri": "https://localhost:8080/"
        },
        "outputId": "94025c9e-9ddd-4edf-e1ce-296f8c2137d1"
      },
      "source": [
        "X = dataset[['precision','recall','f_measure_value','Onset ABS Mean','Duration ABS Mean']]\n",
        "y=array(dataset[' finalMark'])\n",
        "\n",
        "X_train, X_test, y_train, y_test = train_test_split(X, y, test_size=0.3, random_state=0)\n",
        "regressor = LinearRegression()\n",
        "regressor.fit(X_train, y_train)\n",
        "y_pred = regressor.predict(X_test)\n",
        "df = pd.DataFrame({'Actual': y_test, 'Predicted': y_pred})\n",
        "print(df)\n",
        "\n",
        "print('Mean Absolute Error:', metrics.mean_absolute_error(y_test, y_pred))\n",
        "print('Root Mean Squared Error:', np.sqrt(metrics.mean_squared_error(y_test, y_pred)))"
      ],
      "execution_count": 109,
      "outputs": [
        {
          "output_type": "stream",
          "text": [
            "   Actual  Predicted\n",
            "0    3.60   2.897992\n",
            "1    4.05   0.529937\n",
            "2    2.70   2.850211\n",
            "3    0.90   3.306304\n",
            "4    3.15   2.759079\n",
            "Mean Absolute Error: 1.433901372748351\n",
            "Root Mean Squared Error: 1.9416148337357226\n"
          ],
          "name": "stdout"
        }
      ]
    },
    {
      "cell_type": "code",
      "metadata": {
        "id": "ZEBxKAnQHNeB",
        "colab": {
          "base_uri": "https://localhost:8080/"
        },
        "outputId": "8c14b4cf-5584-4e95-ea9a-03d9f38b89a3"
      },
      "source": [
        "X = dataset[['precision','recall','f_measure_value','Duration Mean','Onset Mean']]\n",
        "y=array(dataset[' TF 1 Mark '])\n",
        "\n",
        "X_train, X_test, y_train, y_test = train_test_split(X, y, test_size=0.3, random_state=0)\n",
        "regressor = LinearRegression()\n",
        "regressor.fit(X_train, y_train)\n",
        "y_pred = regressor.predict(X_test)\n",
        "df = pd.DataFrame({'Actual': y_test, 'Predicted': y_pred})\n",
        "print(round(df,3))\n",
        "\n",
        "print('Mean Absolute Error:', round(metrics.mean_absolute_error(y_test, y_pred),3))\n",
        "print('Root Mean Squared Error:', round(np.sqrt(metrics.mean_squared_error(y_test, y_pred)),3))"
      ],
      "execution_count": 114,
      "outputs": [
        {
          "output_type": "stream",
          "text": [
            "      Actual  Predicted\n",
            "0  72.000000     68.183\n",
            "1  90.000000     46.812\n",
            "2  79.199997     75.321\n",
            "3  33.299999     59.929\n",
            "4  79.199997     77.032\n",
            "Mean Absolute Error: 15.936\n",
            "Root Mean Squared Error: 22.841\n"
          ],
          "name": "stdout"
        }
      ]
    },
    {
      "cell_type": "code",
      "metadata": {
        "id": "l9BEbrvVKAFZ",
        "colab": {
          "base_uri": "https://localhost:8080/"
        },
        "outputId": "126cc46c-e0c4-42ae-9b86-29d82a6ea61f"
      },
      "source": [
        "X = dataset[['precision','recall','f_measure_value']]\n",
        "y=array(dataset[' TF 2 Mark '])\n",
        "\n",
        "\n",
        "#coeff_df = pd.DataFrame(regressor.coef_, X.columns, columns=['Coefficient'])\n",
        "\n",
        "X_train, X_test, y_train, y_test = train_test_split(X, y, test_size=0.3, random_state=0)\n",
        "regressor = LinearRegression()\n",
        "regressor.fit(X_train, y_train)\n",
        "y_pred = regressor.predict(X_test)\n",
        "df = pd.DataFrame({'Actual': y_test, 'Predicted': y_pred})\n",
        "print(df)\n",
        "\n",
        "print('Mean Absolute Error:', metrics.mean_absolute_error(y_test, y_pred))\n",
        "print('Root Mean Squared Error:', np.sqrt(metrics.mean_squared_error(y_test, y_pred)))"
      ],
      "execution_count": 111,
      "outputs": [
        {
          "output_type": "stream",
          "text": [
            "      Actual  Predicted\n",
            "0  79.199997  82.306743\n",
            "1  90.000000  77.707844\n",
            "2  79.199997  84.835356\n",
            "3  56.700001  75.214065\n",
            "4  72.000000  86.350437\n",
            "Mean Absolute Error: 10.779752438709938\n",
            "Root Mean Squared Error: 12.175482272538968\n"
          ],
          "name": "stdout"
        }
      ]
    },
    {
      "cell_type": "code",
      "metadata": {
        "id": "xjfWfLZ0L2WJ",
        "colab": {
          "base_uri": "https://localhost:8080/"
        },
        "outputId": "de3fb93c-133f-4098-b5b7-b7077ab3755d"
      },
      "source": [
        "X = dataset[['precision','recall','f_measure_value']]\n",
        "y=array(dataset['Sound Quality Mark'])\n",
        "\n",
        "\n",
        "X_train, X_test, y_train, y_test = train_test_split(X, y, test_size=0.3, random_state=0)\n",
        "regressor = LinearRegression()\n",
        "regressor.fit(X_train, y_train)\n",
        "y_pred = regressor.predict(X_test)\n",
        "df = pd.DataFrame({'Actual': y_test, 'Predicted': y_pred})\n",
        "print(df)\n",
        "\n",
        "print('Mean Absolute Error:', metrics.mean_absolute_error(y_test, y_pred))\n",
        "print('Root Mean Squared Error:', np.sqrt(metrics.mean_squared_error(y_test, y_pred)))"
      ],
      "execution_count": 112,
      "outputs": [
        {
          "output_type": "stream",
          "text": [
            "      Actual  Predicted\n",
            "0  79.199997  72.505826\n",
            "1  79.199997  65.031789\n",
            "2  72.000000  71.088460\n",
            "3  33.299999  61.900086\n",
            "4  79.199997  87.433047\n",
            "Mean Absolute Error: 11.721411192913527\n",
            "Root Mean Squared Error: 15.047451917948973\n"
          ],
          "name": "stdout"
        }
      ]
    }
  ]
}