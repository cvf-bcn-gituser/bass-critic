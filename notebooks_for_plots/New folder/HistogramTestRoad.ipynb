{
  "nbformat": 4,
  "nbformat_minor": 0,
  "metadata": {
    "kernelspec": {
      "display_name": "Python 3",
      "language": "python",
      "name": "python3"
    },
    "language_info": {
      "codemirror_mode": {
        "name": "ipython",
        "version": 3
      },
      "file_extension": ".py",
      "mimetype": "text/x-python",
      "name": "python",
      "nbconvert_exporter": "python",
      "pygments_lexer": "ipython3",
      "version": "3.6.7"
    },
    "colab": {
      "name": "HistogramTestRoad.ipynb",
      "provenance": [],
      "collapsed_sections": []
    }
  },
  "cells": [
    {
      "cell_type": "code",
      "metadata": {
        "colab": {
          "base_uri": "https://localhost:8080/"
        },
        "id": "13LOyuxayHjM",
        "outputId": "d7383042-68d3-4d57-9400-b22e2636f5cb"
      },
      "source": [
        "!pip3 install essentia"
      ],
      "execution_count": 32,
      "outputs": [
        {
          "output_type": "stream",
          "name": "stdout",
          "text": [
            "Requirement already satisfied: essentia in /usr/local/lib/python3.7/dist-packages (2.1b6.dev374)\n",
            "Requirement already satisfied: numpy>=1.8.2 in /usr/local/lib/python3.7/dist-packages (from essentia) (1.19.5)\n",
            "Requirement already satisfied: six in /usr/local/lib/python3.7/dist-packages (from essentia) (1.15.0)\n",
            "Requirement already satisfied: pyyaml in /usr/local/lib/python3.7/dist-packages (from essentia) (3.13)\n"
          ]
        }
      ]
    },
    {
      "cell_type": "code",
      "metadata": {
        "id": "OEdDKfBpdEwf",
        "colab": {
          "base_uri": "https://localhost:8080/"
        },
        "outputId": "06d48f86-21df-48fb-e636-e68ba108ef6b"
      },
      "source": [
        "!pip3 install madmom"
      ],
      "execution_count": 33,
      "outputs": [
        {
          "output_type": "stream",
          "name": "stdout",
          "text": [
            "Requirement already satisfied: madmom in /usr/local/lib/python3.7/dist-packages (0.16.1)\n",
            "Requirement already satisfied: mido>=1.2.8 in /usr/local/lib/python3.7/dist-packages (from madmom) (1.2.10)\n",
            "Requirement already satisfied: scipy>=0.16 in /usr/local/lib/python3.7/dist-packages (from madmom) (1.4.1)\n",
            "Requirement already satisfied: numpy>=1.13.4 in /usr/local/lib/python3.7/dist-packages (from madmom) (1.19.5)\n",
            "Requirement already satisfied: cython>=0.25 in /usr/local/lib/python3.7/dist-packages (from madmom) (0.29.24)\n"
          ]
        }
      ]
    },
    {
      "cell_type": "code",
      "metadata": {
        "id": "rmxZSSGjtfEE",
        "colab": {
          "base_uri": "https://localhost:8080/"
        },
        "outputId": "6f48c00c-1b6a-48fb-cb1c-9747357a9935"
      },
      "source": [
        "!pip3 install mir_eval"
      ],
      "execution_count": 34,
      "outputs": [
        {
          "output_type": "stream",
          "name": "stdout",
          "text": [
            "Requirement already satisfied: mir_eval in /usr/local/lib/python3.7/dist-packages (0.6)\n",
            "Requirement already satisfied: six in /usr/local/lib/python3.7/dist-packages (from mir_eval) (1.15.0)\n",
            "Requirement already satisfied: future in /usr/local/lib/python3.7/dist-packages (from mir_eval) (0.16.0)\n",
            "Requirement already satisfied: scipy>=1.0.0 in /usr/local/lib/python3.7/dist-packages (from mir_eval) (1.4.1)\n",
            "Requirement already satisfied: numpy>=1.7.0 in /usr/local/lib/python3.7/dist-packages (from mir_eval) (1.19.5)\n"
          ]
        }
      ]
    },
    {
      "cell_type": "markdown",
      "metadata": {
        "id": "dSxfHZTNOrr7"
      },
      "source": [
        "The section below is all path dependent"
      ]
    },
    {
      "cell_type": "code",
      "metadata": {
        "id": "rKwBFtUiykYU",
        "colab": {
          "base_uri": "https://localhost:8080/"
        },
        "outputId": "474b4191-a97a-45ac-e4be-93b1b770ec98"
      },
      "source": [
        "from google.colab import drive\n",
        "drive.mount(\"/content/drive\", force_remount=True)\n",
        "root = 'drive/MyDrive/Bass/'\n",
        "\n",
        "import pandas as pd\n",
        "import sys\n",
        "sys.path.append(root)"
      ],
      "execution_count": 35,
      "outputs": [
        {
          "output_type": "stream",
          "name": "stdout",
          "text": [
            "Mounted at /content/drive\n"
          ]
        }
      ]
    },
    {
      "cell_type": "code",
      "metadata": {
        "id": "sAplIzp5UBFL"
      },
      "source": [
        "import madmom"
      ],
      "execution_count": 36,
      "outputs": []
    },
    {
      "cell_type": "code",
      "metadata": {
        "id": "MC6bIbDvyeSZ"
      },
      "source": [
        "from essentia.standard import *\n",
        "from essentia import Pool, array\n",
        "import essentia.standard as es\n",
        "import matplotlib.pyplot as plt\n",
        "import numpy as np\n",
        "import IPython.display as ipd\n",
        "import pandas as pd\n",
        "import os\n",
        "\n",
        "import IPython\n",
        "import pickle\n",
        "from pickle import load\n",
        "from scipy.signal import find_peaks\n",
        "import ipywidgets as widgets\n",
        "from scipy import signal\n",
        "from lxml import etree\n",
        "\n",
        "import plotly.express as px\n",
        "import scipy\n",
        "from statistics import *"
      ],
      "execution_count": 37,
      "outputs": []
    },
    {
      "cell_type": "code",
      "metadata": {
        "id": "7oagAxf-UEjK"
      },
      "source": [
        "import mir_eval\n",
        "from mir_eval import *"
      ],
      "execution_count": 38,
      "outputs": []
    },
    {
      "cell_type": "code",
      "metadata": {
        "id": "sLLTjrn6qh8Q"
      },
      "source": [
        "statsPath = 'drive/MyDrive/Bass/data/road/StudentStatistics_road.csv'\n",
        "statsCols = [\"Student\", \"precision\", \"recall\", \"f_measure_value\", \"Onset ABS Mean\", \"Onset Mean\", \"Onset Std\",\n",
        "             \"Duration ABS Mean\", \"Duration Mean\", \"Duration Std\", \"onsetMark\", \" DurationMark\", \" TF 1 Mark \",\n",
        "             \" TF 2 Mark \", \"Sound Quality Mark\", \" finalMark\"]\n",
        "df_all = pd.read_csv(statsPath, usecols=statsCols)\n",
        "   "
      ],
      "execution_count": 70,
      "outputs": []
    },
    {
      "cell_type": "markdown",
      "metadata": {
        "id": "ThcgwFdTuQUU"
      },
      "source": [
        ""
      ]
    },
    {
      "cell_type": "code",
      "metadata": {
        "id": "xseI614aMyaH"
      },
      "source": [
        "index = df_all.index\n",
        "number_of_rows = len(df_all.index)"
      ],
      "execution_count": 71,
      "outputs": []
    },
    {
      "cell_type": "code",
      "metadata": {
        "id": "ctmZtOPYOLfM"
      },
      "source": [
        "col_list = [\"onset dev\", \"offset dev\"]\n",
        "sonset_deviations = []\n",
        "soffset_deviations = []\n",
        "# sonset_deviations,soffset_deviations\n",
        "k=0\n",
        "\n",
        "while k<number_of_rows:\n",
        "   sdeviatePath = 'drive/MyDrive/Bass/data/road/road_devs_student' + str(k)+ '.csv'\n",
        "   sdf = pd.read_csv(sdeviatePath, usecols=col_list)\n",
        "   sonset_dev_list = sdf[\"onset dev\"]\n",
        "   sonset_deviations.append(sonset_dev_list)\n",
        "   soffset_dev_list = sdf[\"offset dev\"] \n",
        "   soffset_deviations.append(soffset_dev_list)\n",
        "   k+=1\n"
      ],
      "execution_count": 72,
      "outputs": []
    },
    {
      "cell_type": "code",
      "metadata": {
        "id": "SYHDoLzH-xQD",
        "colab": {
          "base_uri": "https://localhost:8080/",
          "height": 386
        },
        "outputId": "d783a235-f976-4f27-a27c-9dfc7d342063"
      },
      "source": [
        "df_all"
      ],
      "execution_count": 73,
      "outputs": [
        {
          "output_type": "execute_result",
          "data": {
            "text/html": [
              "<div>\n",
              "<style scoped>\n",
              "    .dataframe tbody tr th:only-of-type {\n",
              "        vertical-align: middle;\n",
              "    }\n",
              "\n",
              "    .dataframe tbody tr th {\n",
              "        vertical-align: top;\n",
              "    }\n",
              "\n",
              "    .dataframe thead th {\n",
              "        text-align: right;\n",
              "    }\n",
              "</style>\n",
              "<table border=\"1\" class=\"dataframe\">\n",
              "  <thead>\n",
              "    <tr style=\"text-align: right;\">\n",
              "      <th></th>\n",
              "      <th>Student</th>\n",
              "      <th>precision</th>\n",
              "      <th>recall</th>\n",
              "      <th>f_measure_value</th>\n",
              "      <th>Onset ABS Mean</th>\n",
              "      <th>Onset Mean</th>\n",
              "      <th>Onset Std</th>\n",
              "      <th>Duration ABS Mean</th>\n",
              "      <th>Duration Mean</th>\n",
              "      <th>Duration Std</th>\n",
              "      <th>onsetMark</th>\n",
              "      <th>DurationMark</th>\n",
              "      <th>TF 1 Mark</th>\n",
              "      <th>TF 2 Mark</th>\n",
              "      <th>Sound Quality Mark</th>\n",
              "      <th>finalMark</th>\n",
              "    </tr>\n",
              "  </thead>\n",
              "  <tbody>\n",
              "    <tr>\n",
              "      <th>0</th>\n",
              "      <td>0</td>\n",
              "      <td>0.960</td>\n",
              "      <td>0.950</td>\n",
              "      <td>0.955</td>\n",
              "      <td>0.008</td>\n",
              "      <td>-0.006</td>\n",
              "      <td>0.009</td>\n",
              "      <td>0.008</td>\n",
              "      <td>-0.006</td>\n",
              "      <td>0.009</td>\n",
              "      <td>100.0</td>\n",
              "      <td>100.0</td>\n",
              "      <td>100.0</td>\n",
              "      <td>100.0</td>\n",
              "      <td>100.0</td>\n",
              "      <td>5.00</td>\n",
              "    </tr>\n",
              "    <tr>\n",
              "      <th>1</th>\n",
              "      <td>1</td>\n",
              "      <td>0.337</td>\n",
              "      <td>0.347</td>\n",
              "      <td>0.341</td>\n",
              "      <td>0.010</td>\n",
              "      <td>-0.006</td>\n",
              "      <td>0.012</td>\n",
              "      <td>0.072</td>\n",
              "      <td>-0.065</td>\n",
              "      <td>0.162</td>\n",
              "      <td>72.0</td>\n",
              "      <td>79.2</td>\n",
              "      <td>79.2</td>\n",
              "      <td>79.2</td>\n",
              "      <td>79.2</td>\n",
              "      <td>3.15</td>\n",
              "    </tr>\n",
              "    <tr>\n",
              "      <th>2</th>\n",
              "      <td>2</td>\n",
              "      <td>0.147</td>\n",
              "      <td>0.149</td>\n",
              "      <td>0.148</td>\n",
              "      <td>0.010</td>\n",
              "      <td>-0.007</td>\n",
              "      <td>0.012</td>\n",
              "      <td>0.052</td>\n",
              "      <td>-0.014</td>\n",
              "      <td>0.078</td>\n",
              "      <td>79.2</td>\n",
              "      <td>90.0</td>\n",
              "      <td>79.2</td>\n",
              "      <td>79.2</td>\n",
              "      <td>79.2</td>\n",
              "      <td>3.60</td>\n",
              "    </tr>\n",
              "    <tr>\n",
              "      <th>3</th>\n",
              "      <td>3</td>\n",
              "      <td>0.298</td>\n",
              "      <td>0.277</td>\n",
              "      <td>0.287</td>\n",
              "      <td>0.009</td>\n",
              "      <td>-0.007</td>\n",
              "      <td>0.011</td>\n",
              "      <td>0.056</td>\n",
              "      <td>-0.012</td>\n",
              "      <td>0.119</td>\n",
              "      <td>79.2</td>\n",
              "      <td>79.2</td>\n",
              "      <td>90.0</td>\n",
              "      <td>79.2</td>\n",
              "      <td>79.2</td>\n",
              "      <td>3.60</td>\n",
              "    </tr>\n",
              "    <tr>\n",
              "      <th>4</th>\n",
              "      <td>4</td>\n",
              "      <td>0.019</td>\n",
              "      <td>0.020</td>\n",
              "      <td>0.019</td>\n",
              "      <td>0.007</td>\n",
              "      <td>0.007</td>\n",
              "      <td>0.007</td>\n",
              "      <td>0.064</td>\n",
              "      <td>-0.064</td>\n",
              "      <td>0.075</td>\n",
              "      <td>56.7</td>\n",
              "      <td>56.7</td>\n",
              "      <td>72.0</td>\n",
              "      <td>72.0</td>\n",
              "      <td>72.0</td>\n",
              "      <td>2.25</td>\n",
              "    </tr>\n",
              "    <tr>\n",
              "      <th>5</th>\n",
              "      <td>5</td>\n",
              "      <td>0.531</td>\n",
              "      <td>0.505</td>\n",
              "      <td>0.518</td>\n",
              "      <td>0.010</td>\n",
              "      <td>-0.000</td>\n",
              "      <td>0.012</td>\n",
              "      <td>0.079</td>\n",
              "      <td>-0.038</td>\n",
              "      <td>0.166</td>\n",
              "      <td>72.0</td>\n",
              "      <td>79.2</td>\n",
              "      <td>79.2</td>\n",
              "      <td>79.2</td>\n",
              "      <td>79.2</td>\n",
              "      <td>3.60</td>\n",
              "    </tr>\n",
              "    <tr>\n",
              "      <th>6</th>\n",
              "      <td>6</td>\n",
              "      <td>0.029</td>\n",
              "      <td>0.030</td>\n",
              "      <td>0.029</td>\n",
              "      <td>0.012</td>\n",
              "      <td>-0.002</td>\n",
              "      <td>0.014</td>\n",
              "      <td>0.068</td>\n",
              "      <td>-0.068</td>\n",
              "      <td>0.070</td>\n",
              "      <td>72.0</td>\n",
              "      <td>79.2</td>\n",
              "      <td>79.2</td>\n",
              "      <td>79.2</td>\n",
              "      <td>79.2</td>\n",
              "      <td>3.60</td>\n",
              "    </tr>\n",
              "    <tr>\n",
              "      <th>7</th>\n",
              "      <td>7</td>\n",
              "      <td>0.029</td>\n",
              "      <td>0.030</td>\n",
              "      <td>0.030</td>\n",
              "      <td>0.010</td>\n",
              "      <td>-0.010</td>\n",
              "      <td>0.011</td>\n",
              "      <td>0.109</td>\n",
              "      <td>0.022</td>\n",
              "      <td>0.127</td>\n",
              "      <td>79.2</td>\n",
              "      <td>79.2</td>\n",
              "      <td>79.2</td>\n",
              "      <td>90.0</td>\n",
              "      <td>79.2</td>\n",
              "      <td>3.60</td>\n",
              "    </tr>\n",
              "    <tr>\n",
              "      <th>8</th>\n",
              "      <td>8</td>\n",
              "      <td>0.269</td>\n",
              "      <td>0.287</td>\n",
              "      <td>0.278</td>\n",
              "      <td>0.010</td>\n",
              "      <td>-0.008</td>\n",
              "      <td>0.012</td>\n",
              "      <td>0.044</td>\n",
              "      <td>-0.037</td>\n",
              "      <td>0.106</td>\n",
              "      <td>90.0</td>\n",
              "      <td>90.0</td>\n",
              "      <td>90.0</td>\n",
              "      <td>90.0</td>\n",
              "      <td>79.2</td>\n",
              "      <td>4.50</td>\n",
              "    </tr>\n",
              "  </tbody>\n",
              "</table>\n",
              "</div>"
            ],
            "text/plain": [
              "   Student  precision  recall  ...   TF 2 Mark   Sound Quality Mark   finalMark\n",
              "0        0      0.960   0.950  ...        100.0               100.0        5.00\n",
              "1        1      0.337   0.347  ...         79.2                79.2        3.15\n",
              "2        2      0.147   0.149  ...         79.2                79.2        3.60\n",
              "3        3      0.298   0.277  ...         79.2                79.2        3.60\n",
              "4        4      0.019   0.020  ...         72.0                72.0        2.25\n",
              "5        5      0.531   0.505  ...         79.2                79.2        3.60\n",
              "6        6      0.029   0.030  ...         79.2                79.2        3.60\n",
              "7        7      0.029   0.030  ...         90.0                79.2        3.60\n",
              "8        8      0.269   0.287  ...         90.0                79.2        4.50\n",
              "\n",
              "[9 rows x 16 columns]"
            ]
          },
          "metadata": {},
          "execution_count": 73
        }
      ]
    },
    {
      "cell_type": "code",
      "metadata": {
        "id": "AqghKVxYOvZ8"
      },
      "source": [
        "\n",
        "\n"
      ],
      "execution_count": 45,
      "outputs": []
    },
    {
      "cell_type": "markdown",
      "metadata": {
        "id": "RGLfjAZbgQDy"
      },
      "source": [
        ""
      ]
    },
    {
      "cell_type": "code",
      "metadata": {
        "id": "iYl-B_ig2ISM"
      },
      "source": [
        "import csv  \n",
        "#onset_X, onset_mean, onset_std, duration_X, duration_mean, duration_std= \n",
        "# statisticsGenerator(sonset_deviationsArray,sduration_deviationsArray,\" onsets\", \" durations\",the_student_grades,sp,sr,sf)\n",
        "\n",
        "def statisticsGenerator(deviationsArray1,deviationsArray2,title_text1,title_text2,df):\n",
        "   header = [\"Student\", \"precision\", \"recall\", \"f_measure_value\", \"Onset ABS Mean\", \"Onset Mean\", \"Onset Std\",\n",
        "             \"Duration ABS Mean\", \"Duration Mean\", \"Duration Std\", \"onsetMark\", \" DurationMark\", \" TF 1 Mark \",\n",
        "             \" TF 2 Mark \", \"Sound Quality Mark\", \" finalMark\"]\n",
        "\n",
        "   studentStatisticsArray= []\n",
        "   with open('drive/MyDrive/Bass/data/road/StudentStatistics_road_out.csv', 'w', encoding='UTF8') as f:\n",
        "      idx = df.index\n",
        "\n",
        "      number_of_rows = len(idx)\n",
        "      print(number_of_rows)\n",
        "      k=0\n",
        "\n",
        "      writer = csv.writer(f)\n",
        "      # write the header\n",
        "      writer.writerow(header)\n",
        "\n",
        "      studentStatistics = []\n",
        "      onset_X = []  # Martis mark\n",
        "      onset_amean = []\n",
        "      onset_mean = []\n",
        "      onset_std= []\n",
        "\n",
        "      duration_X = [] # Martis mark\n",
        "      duration_amean = []\n",
        "      duration_mean = []\n",
        "      duration_std= []\n",
        "      list0 = df[\"onsetMark\"].tolist()  \n",
        "      list1 = df[\" DurationMark\"].tolist()  \n",
        "      list2 = df[\" TF 1 Mark \"].tolist()  \n",
        "      list3 = df[\" TF 2 Mark \"].tolist()  \n",
        "      list4 = df[\"Sound Quality Mark\"].tolist()  \n",
        "      list5 = df[\" finalMark\"].tolist()  \n",
        "      listp = df[\"precision\"].tolist()  \n",
        "      listr = df[\"recall\"].tolist()  \n",
        "      listf = df[\"f_measure_value\"].tolist()  \n",
        "      print(\"###################### number_of_rows\",number_of_rows)\n",
        "      while k < number_of_rows-1:\n",
        "          studentStatistics.append(str(k+1))\n",
        "          student_stats1 = [] # onsets\n",
        "          student_stats2 = [] # durations\n",
        "\n",
        "          plt.subplot(2,2,1)\n",
        "          a = np.array(deviationsArray1[k])\n",
        "          onset_m, onset_s = mean(a), sqrt(mean(a*a))\n",
        "          onset_am= mean(abs(a))\n",
        "          onset_summary= \"Onset ABS  Mean: %f,Onset Mean: %f, Dev. from 0: %f\" %(onset_am,onset_m, onset_s)\n",
        "          title =   \"Student \" + str(k)+ title_text1\n",
        "\n",
        "          onset_X.append( list0[k])  # Martis mark\n",
        "          onset_mean.append(onset_m)\n",
        "          onset_amean.append(onset_am)\n",
        "          onset_std.append(onset_s)\n",
        "\n",
        "          plt.title(title)\n",
        "          plt.figure(1, figsize=(9.5, 6))\n",
        "          plt.hist(a)\n",
        "\n",
        "          plt.subplot(2,2,2)\n",
        "          a = np.array(deviationsArray2[k])\n",
        "          duration_m, duration_s = mean(a), sqrt(mean(a*a))\n",
        "          duration_am= mean(abs(a))\n",
        "          duration_summary= \"Offset Mean: %f, Dev. from 0: %f\" %(duration_m, duration_s)\n",
        "          title =   \"Student \" + str(k)+ title_text2\n",
        "          print(title)\n",
        "          duration_X.append( list1[k])  # Martis mark\n",
        "          duration_mean.append(duration_m)\n",
        "          duration_amean.append(duration_am)\n",
        "          duration_std.append(duration_s)\n",
        "\n",
        "          plt.title(title)\n",
        "          plt.figure(1, figsize=(9.5, 6))\n",
        "          plt.hist(a)\n",
        "\n",
        "          plt.show()\n",
        "          print(\"Onset Grade = \", list0[k],\"\\t\" ,\"Duration Grade = \", list1[k])\n",
        "          print(onset_summary)\n",
        "          print(duration_summary)\n",
        "          print(\"Articulation Grade = \", list2[k],\"Sound Control Grade = \", list3[k])\n",
        "          print(\"Final Mark = \", list4[k])\n",
        "          studentStatistics = []\n",
        "          studentStatistics.append(str(k))\n",
        "          studentStatistics.append(round(listp[k],3))\n",
        "          studentStatistics.append(round(listr[k],3))\n",
        "          studentStatistics.append(round(listf[k],3))\n",
        "          print(\"F-measure = \", round(listf[k],3))\n",
        "          studentStatistics.append(round(onset_am,3))\n",
        "          studentStatistics.append(round(onset_m,3))\n",
        "          studentStatistics.append(round(onset_s,3))   \n",
        "          studentStatistics.append(round(duration_am,3))                   \n",
        "          studentStatistics.append(round(duration_m,3)) \n",
        "          studentStatistics.append(round(duration_s,3))   \n",
        "          studentStatistics.append(list0[k])\n",
        "          studentStatistics.append(list1[k])\n",
        "          studentStatistics.append(list2[k])\n",
        "          studentStatistics.append(list3[k])\n",
        "          studentStatistics.append(list4[k])\n",
        "          studentStatistics.append(list5[k])\n",
        "          # write the data\n",
        "          writer.writerow(studentStatistics)\n",
        "          studentStatisticsArray.append(studentStatistics)\n",
        "          print(\"////////////////////////////\")\n",
        "          k+=1\n",
        "    \n",
        "   return(onset_X, onset_mean, onset_std, duration_X, duration_mean, duration_std,studentStatisticsArray,onset_amean, duration_amean)\n",
        "# Capture a table of onset and grade\n"
      ],
      "execution_count": 74,
      "outputs": []
    },
    {
      "cell_type": "code",
      "metadata": {
        "id": "utUMqb3Wlhvj",
        "colab": {
          "base_uri": "https://localhost:8080/",
          "height": 1000
        },
        "outputId": "38fcb73e-f578-454d-8722-c3aca15b844b"
      },
      "source": [
        "onset_X, onset_mean, onset_std, duration_X, duration_mean, duration_std,stats, onset_amean, duration_amean= statisticsGenerator(sonset_deviations,soffset_deviations,\" onsets\", \" offset\",df_all)"
      ],
      "execution_count": 75,
      "outputs": [
        {
          "output_type": "stream",
          "name": "stdout",
          "text": [
            "9\n",
            "###################### number_of_rows 9\n",
            "Student 0 offset\n"
          ]
        },
        {
          "output_type": "display_data",
          "data": {
            "image/png": "[encoded data removed]",
            "text/plain": [
              "<Figure size 432x288 with 2 Axes>"
            ]
          },
          "metadata": {
            "needs_background": "light"
          }
        },
        {
          "output_type": "stream",
          "name": "stdout",
          "text": [
            "Onset Grade =  100.0 \t Duration Grade =  100.0\n",
            "Onset ABS  Mean: 0.007854,Onset Mean: -0.005868, Dev. from 0: 0.009316\n",
            "Offset Mean: -0.003900, Dev. from 0: 0.026518\n",
            "Articulation Grade =  100.0 Sound Control Grade =  100.0\n",
            "Final Mark =  100.0\n",
            "F-measure =  0.955\n",
            "////////////////////////////\n",
            "Student 1 offset\n"
          ]
        },
        {
          "output_type": "display_data",
          "data": {
            "image/png": "[encoded data removed]",
            "text/plain": [
              "<Figure size 432x288 with 2 Axes>"
            ]
          },
          "metadata": {
            "needs_background": "light"
          }
        },
        {
          "output_type": "stream",
          "name": "stdout",
          "text": [
            "Onset Grade =  72.0 \t Duration Grade =  79.2\n",
            "Onset ABS  Mean: 0.009811,Onset Mean: -0.005871, Dev. from 0: 0.011569\n",
            "Offset Mean: -0.062909, Dev. from 0: 0.159243\n",
            "Articulation Grade =  79.2 Sound Control Grade =  79.2\n",
            "Final Mark =  79.2\n",
            "F-measure =  0.341\n",
            "////////////////////////////\n",
            "Student 2 offset\n"
          ]
        },
        {
          "output_type": "display_data",
          "data": {
            "image/png": "[encoded data removed]",
            "text/plain": [
              "<Figure size 432x288 with 2 Axes>"
            ]
          },
          "metadata": {
            "needs_background": "light"
          }
        },
        {
          "output_type": "stream",
          "name": "stdout",
          "text": [
            "Onset Grade =  79.2 \t Duration Grade =  90.0\n",
            "Onset ABS  Mean: 0.010175,Onset Mean: -0.006892, Dev. from 0: 0.011899\n",
            "Offset Mean: -0.014031, Dev. from 0: 0.078121\n",
            "Articulation Grade =  79.2 Sound Control Grade =  79.2\n",
            "Final Mark =  79.2\n",
            "F-measure =  0.148\n",
            "////////////////////////////\n",
            "Student 3 offset\n"
          ]
        },
        {
          "output_type": "display_data",
          "data": {
            "image/png": "[encoded data removed]",
            "text/plain": [
              "<Figure size 432x288 with 2 Axes>"
            ]
          },
          "metadata": {
            "needs_background": "light"
          }
        },
        {
          "output_type": "stream",
          "name": "stdout",
          "text": [
            "Onset Grade =  79.2 \t Duration Grade =  79.2\n",
            "Onset ABS  Mean: 0.009338,Onset Mean: -0.007263, Dev. from 0: 0.011423\n",
            "Offset Mean: -0.012072, Dev. from 0: 0.118731\n",
            "Articulation Grade =  90.0 Sound Control Grade =  79.2\n",
            "Final Mark =  79.2\n",
            "F-measure =  0.287\n",
            "////////////////////////////\n",
            "Student 4 offset\n"
          ]
        },
        {
          "output_type": "display_data",
          "data": {
            "image/png": "[encoded data removed]",
            "text/plain": [
              "<Figure size 432x288 with 2 Axes>"
            ]
          },
          "metadata": {
            "needs_background": "light"
          }
        },
        {
          "output_type": "stream",
          "name": "stdout",
          "text": [
            "Onset Grade =  56.7 \t Duration Grade =  56.7\n",
            "Onset ABS  Mean: 0.006973,Onset Mean: 0.006973, Dev. from 0: 0.007045\n",
            "Offset Mean: -0.063855, Dev. from 0: 0.074612\n",
            "Articulation Grade =  72.0 Sound Control Grade =  72.0\n",
            "Final Mark =  72.0\n",
            "F-measure =  0.019\n",
            "////////////////////////////\n",
            "Student 5 offset\n"
          ]
        },
        {
          "output_type": "display_data",
          "data": {
            "image/png": "[encoded data removed]",
            "text/plain": [
              "<Figure size 432x288 with 2 Axes>"
            ]
          },
          "metadata": {
            "needs_background": "light"
          }
        },
        {
          "output_type": "stream",
          "name": "stdout",
          "text": [
            "Onset Grade =  72.0 \t Duration Grade =  79.2\n",
            "Onset ABS  Mean: 0.010198,Onset Mean: -0.000381, Dev. from 0: 0.011702\n",
            "Offset Mean: -0.034918, Dev. from 0: 0.159365\n",
            "Articulation Grade =  79.2 Sound Control Grade =  79.2\n",
            "Final Mark =  79.2\n",
            "F-measure =  0.518\n",
            "////////////////////////////\n",
            "Student 6 offset\n"
          ]
        },
        {
          "output_type": "display_data",
          "data": {
            "image/png": "[encoded data removed]",
            "text/plain": [
              "<Figure size 432x288 with 2 Axes>"
            ]
          },
          "metadata": {
            "needs_background": "light"
          }
        },
        {
          "output_type": "stream",
          "name": "stdout",
          "text": [
            "Onset Grade =  72.0 \t Duration Grade =  79.2\n",
            "Onset ABS  Mean: 0.012230,Onset Mean: -0.002343, Dev. from 0: 0.013802\n",
            "Offset Mean: -0.068303, Dev. from 0: 0.069989\n",
            "Articulation Grade =  79.2 Sound Control Grade =  79.2\n",
            "Final Mark =  79.2\n",
            "F-measure =  0.029\n",
            "////////////////////////////\n",
            "Student 7 offset\n"
          ]
        },
        {
          "output_type": "display_data",
          "data": {
            "image/png": "[encoded data removed]",
            "text/plain": [
              "<Figure size 432x288 with 2 Axes>"
            ]
          },
          "metadata": {
            "needs_background": "light"
          }
        },
        {
          "output_type": "stream",
          "name": "stdout",
          "text": [
            "Onset Grade =  79.2 \t Duration Grade =  79.2\n",
            "Onset ABS  Mean: 0.010367,Onset Mean: -0.010367, Dev. from 0: 0.011021\n",
            "Offset Mean: 0.022007, Dev. from 0: 0.126530\n",
            "Articulation Grade =  79.2 Sound Control Grade =  90.0\n",
            "Final Mark =  79.2\n",
            "F-measure =  0.03\n",
            "////////////////////////////\n"
          ]
        }
      ]
    },
    {
      "cell_type": "code",
      "metadata": {
        "id": "PKVPZyWOJNPk",
        "colab": {
          "base_uri": "https://localhost:8080/",
          "height": 386
        },
        "outputId": "2782e14a-171a-4ceb-d3fd-7163d05a11b4"
      },
      "source": [
        "df_all"
      ],
      "execution_count": 48,
      "outputs": [
        {
          "output_type": "execute_result",
          "data": {
            "text/html": [
              "<div>\n",
              "<style scoped>\n",
              "    .dataframe tbody tr th:only-of-type {\n",
              "        vertical-align: middle;\n",
              "    }\n",
              "\n",
              "    .dataframe tbody tr th {\n",
              "        vertical-align: top;\n",
              "    }\n",
              "\n",
              "    .dataframe thead th {\n",
              "        text-align: right;\n",
              "    }\n",
              "</style>\n",
              "<table border=\"1\" class=\"dataframe\">\n",
              "  <thead>\n",
              "    <tr style=\"text-align: right;\">\n",
              "      <th></th>\n",
              "      <th>Student</th>\n",
              "      <th>precision</th>\n",
              "      <th>recall</th>\n",
              "      <th>f_measure_value</th>\n",
              "      <th>Onset ABS Mean</th>\n",
              "      <th>Onset Mean</th>\n",
              "      <th>Onset Std</th>\n",
              "      <th>Duration ABS Mean</th>\n",
              "      <th>Duration Mean</th>\n",
              "      <th>Duration Std</th>\n",
              "      <th>onsetMark</th>\n",
              "      <th>DurationMark</th>\n",
              "      <th>TF 1 Mark</th>\n",
              "      <th>TF 2 Mark</th>\n",
              "      <th>Sound Quality Mark</th>\n",
              "      <th>finalMark</th>\n",
              "    </tr>\n",
              "  </thead>\n",
              "  <tbody>\n",
              "    <tr>\n",
              "      <th>0</th>\n",
              "      <td>0</td>\n",
              "      <td>0.960</td>\n",
              "      <td>0.950</td>\n",
              "      <td>0.955</td>\n",
              "      <td>0.008</td>\n",
              "      <td>-0.006</td>\n",
              "      <td>0.009</td>\n",
              "      <td>0.008</td>\n",
              "      <td>-0.006</td>\n",
              "      <td>0.009</td>\n",
              "      <td>100.0</td>\n",
              "      <td>100.0</td>\n",
              "      <td>100.0</td>\n",
              "      <td>100.0</td>\n",
              "      <td>100.0</td>\n",
              "      <td>5.00</td>\n",
              "    </tr>\n",
              "    <tr>\n",
              "      <th>1</th>\n",
              "      <td>1</td>\n",
              "      <td>0.337</td>\n",
              "      <td>0.347</td>\n",
              "      <td>0.341</td>\n",
              "      <td>0.010</td>\n",
              "      <td>-0.006</td>\n",
              "      <td>0.012</td>\n",
              "      <td>0.072</td>\n",
              "      <td>-0.065</td>\n",
              "      <td>0.162</td>\n",
              "      <td>72.0</td>\n",
              "      <td>79.2</td>\n",
              "      <td>79.2</td>\n",
              "      <td>79.2</td>\n",
              "      <td>79.2</td>\n",
              "      <td>3.15</td>\n",
              "    </tr>\n",
              "    <tr>\n",
              "      <th>2</th>\n",
              "      <td>2</td>\n",
              "      <td>0.147</td>\n",
              "      <td>0.149</td>\n",
              "      <td>0.148</td>\n",
              "      <td>0.010</td>\n",
              "      <td>-0.007</td>\n",
              "      <td>0.012</td>\n",
              "      <td>0.052</td>\n",
              "      <td>-0.014</td>\n",
              "      <td>0.078</td>\n",
              "      <td>79.2</td>\n",
              "      <td>90.0</td>\n",
              "      <td>79.2</td>\n",
              "      <td>79.2</td>\n",
              "      <td>79.2</td>\n",
              "      <td>3.60</td>\n",
              "    </tr>\n",
              "    <tr>\n",
              "      <th>3</th>\n",
              "      <td>3</td>\n",
              "      <td>0.298</td>\n",
              "      <td>0.277</td>\n",
              "      <td>0.287</td>\n",
              "      <td>0.009</td>\n",
              "      <td>-0.007</td>\n",
              "      <td>0.011</td>\n",
              "      <td>0.056</td>\n",
              "      <td>-0.012</td>\n",
              "      <td>0.119</td>\n",
              "      <td>79.2</td>\n",
              "      <td>79.2</td>\n",
              "      <td>90.0</td>\n",
              "      <td>79.2</td>\n",
              "      <td>79.2</td>\n",
              "      <td>3.60</td>\n",
              "    </tr>\n",
              "    <tr>\n",
              "      <th>4</th>\n",
              "      <td>4</td>\n",
              "      <td>0.019</td>\n",
              "      <td>0.020</td>\n",
              "      <td>0.019</td>\n",
              "      <td>0.007</td>\n",
              "      <td>0.007</td>\n",
              "      <td>0.007</td>\n",
              "      <td>0.064</td>\n",
              "      <td>-0.064</td>\n",
              "      <td>0.075</td>\n",
              "      <td>56.7</td>\n",
              "      <td>56.7</td>\n",
              "      <td>72.0</td>\n",
              "      <td>72.0</td>\n",
              "      <td>72.0</td>\n",
              "      <td>2.25</td>\n",
              "    </tr>\n",
              "    <tr>\n",
              "      <th>5</th>\n",
              "      <td>5</td>\n",
              "      <td>0.531</td>\n",
              "      <td>0.505</td>\n",
              "      <td>0.518</td>\n",
              "      <td>0.010</td>\n",
              "      <td>-0.000</td>\n",
              "      <td>0.012</td>\n",
              "      <td>0.079</td>\n",
              "      <td>-0.038</td>\n",
              "      <td>0.166</td>\n",
              "      <td>72.0</td>\n",
              "      <td>79.2</td>\n",
              "      <td>79.2</td>\n",
              "      <td>79.2</td>\n",
              "      <td>79.2</td>\n",
              "      <td>3.60</td>\n",
              "    </tr>\n",
              "    <tr>\n",
              "      <th>6</th>\n",
              "      <td>6</td>\n",
              "      <td>0.029</td>\n",
              "      <td>0.030</td>\n",
              "      <td>0.029</td>\n",
              "      <td>0.012</td>\n",
              "      <td>-0.002</td>\n",
              "      <td>0.014</td>\n",
              "      <td>0.068</td>\n",
              "      <td>-0.068</td>\n",
              "      <td>0.070</td>\n",
              "      <td>72.0</td>\n",
              "      <td>79.2</td>\n",
              "      <td>79.2</td>\n",
              "      <td>79.2</td>\n",
              "      <td>79.2</td>\n",
              "      <td>3.60</td>\n",
              "    </tr>\n",
              "    <tr>\n",
              "      <th>7</th>\n",
              "      <td>7</td>\n",
              "      <td>0.029</td>\n",
              "      <td>0.030</td>\n",
              "      <td>0.030</td>\n",
              "      <td>0.010</td>\n",
              "      <td>-0.010</td>\n",
              "      <td>0.011</td>\n",
              "      <td>0.109</td>\n",
              "      <td>0.022</td>\n",
              "      <td>0.127</td>\n",
              "      <td>79.2</td>\n",
              "      <td>79.2</td>\n",
              "      <td>79.2</td>\n",
              "      <td>90.0</td>\n",
              "      <td>79.2</td>\n",
              "      <td>3.60</td>\n",
              "    </tr>\n",
              "    <tr>\n",
              "      <th>8</th>\n",
              "      <td>8</td>\n",
              "      <td>0.269</td>\n",
              "      <td>0.287</td>\n",
              "      <td>0.278</td>\n",
              "      <td>0.010</td>\n",
              "      <td>-0.008</td>\n",
              "      <td>0.012</td>\n",
              "      <td>0.044</td>\n",
              "      <td>-0.037</td>\n",
              "      <td>0.106</td>\n",
              "      <td>90.0</td>\n",
              "      <td>90.0</td>\n",
              "      <td>90.0</td>\n",
              "      <td>90.0</td>\n",
              "      <td>79.2</td>\n",
              "      <td>4.50</td>\n",
              "    </tr>\n",
              "  </tbody>\n",
              "</table>\n",
              "</div>"
            ],
            "text/plain": [
              "   Student  precision  recall  ...   TF 2 Mark   Sound Quality Mark   finalMark\n",
              "0        0      0.960   0.950  ...        100.0               100.0        5.00\n",
              "1        1      0.337   0.347  ...         79.2                79.2        3.15\n",
              "2        2      0.147   0.149  ...         79.2                79.2        3.60\n",
              "3        3      0.298   0.277  ...         79.2                79.2        3.60\n",
              "4        4      0.019   0.020  ...         72.0                72.0        2.25\n",
              "5        5      0.531   0.505  ...         79.2                79.2        3.60\n",
              "6        6      0.029   0.030  ...         79.2                79.2        3.60\n",
              "7        7      0.029   0.030  ...         90.0                79.2        3.60\n",
              "8        8      0.269   0.287  ...         90.0                79.2        4.50\n",
              "\n",
              "[9 rows x 16 columns]"
            ]
          },
          "metadata": {},
          "execution_count": 48
        }
      ]
    },
    {
      "cell_type": "code",
      "metadata": {
        "id": "wgT2wZ-n-s69"
      },
      "source": [
        "import pandas as pd\n",
        "#sonset_deviations,soffset_deviations"
      ],
      "execution_count": 50,
      "outputs": []
    },
    {
      "cell_type": "code",
      "metadata": {
        "id": "5t-JzT-eSTCW",
        "colab": {
          "base_uri": "https://localhost:8080/",
          "height": 542
        },
        "outputId": "712603c6-e510-4c21-b1e3-ff086e23ffa7"
      },
      "source": [
        "data_timing_onset0= { 'onsets0' :sonset_deviations[0]}\n",
        "df = pd.DataFrame(data_timing_onset0,columns=['onsets0'])\n",
        "fig = px.histogram(df, x=\"onsets0\")\n",
        "fig.show()"
      ],
      "execution_count": 51,
      "outputs": [
        {
          "output_type": "display_data",
          "data": {
            "text/html": [
              "<html>\n",
              "<head><meta charset=\"utf-8\" /></head>\n",
              "<body>\n",
              "    <div>\n",
              "            <script src=\"https://cdnjs.cloudflare.com/ajax/libs/mathjax/2.7.5/MathJax.js?config=TeX-AMS-MML_SVG\"></script><script type=\"text/javascript\">if (window.MathJax) {MathJax.Hub.Config({SVG: {font: \"STIX-Web\"}});}</script>\n",
              "                <script type=\"text/javascript\">window.PlotlyConfig = {MathJaxConfig: 'local'};</script>\n",
              "        <script src=\"https://cdn.plot.ly/plotly-latest.min.js\"></script>    \n",
              "            <div id=\"2e4a6cf7-12e2-4a4d-ba72-0ce7a3110b26\" class=\"plotly-graph-div\" style=\"height:525px; width:100%;\"></div>\n",
              "            <script type=\"text/javascript\">\n",
              "                \n",
              "                    window.PLOTLYENV=window.PLOTLYENV || {};\n",
              "                    \n",
              "                if (document.getElementById(\"2e4a6cf7-12e2-4a4d-ba72-0ce7a3110b26\")) {\n",
              "                    Plotly.newPlot(\n",
              "                        '2e4a6cf7-12e2-4a4d-ba72-0ce7a3110b26',\n",
              "                        [{\"alignmentgroup\": \"True\", \"bingroup\": \"x\", \"hoverlabel\": {\"namelength\": 0}, \"hovertemplate\": \"onsets0=%{x}<br>count=%{y}\", \"legendgroup\": \"\", \"marker\": {\"color\": \"#636efa\"}, \"name\": \"\", \"offsetgroup\": \"\", \"orientation\": \"v\", \"showlegend\": false, \"type\": \"histogram\", \"x\": [-0.0020181410000006395, -0.002641722999999985, -0.009183672999999892, -0.005408162999999354, -0.015294784999999143, -0.00689342400000026, -0.004092971000000389, 0.005963719000000367, -0.010260770999999558, 0.016564626000000082, -0.00691609999999887, -0.015884353999999767, -0.00017006799999919053, 0.008605442000000352, -0.004024942999999226, -0.007879820000001203, -0.008310659999999359, -0.013253969999999171, -0.01496599000000032, -0.006077099999998836, 0.00012471999999874586, -0.01835600999999976, -0.010986400000000174, -0.0075850299999995485, -0.001984130000000306, 0.0008163299999992546, -0.003639460000000483, 0.006417230000000274, -0.015294790000000447, 0.003594099999997269, -0.012573699999997244, -0.017029479999997932, -0.011972789999997957, -0.009172339999999224, 0.004115649999999249, -0.006258500000001277, -0.005714290000000233, 0.002086169999998333, 0.0009183699999972816, -0.006281179999998443, -0.0124489799999985, -0.007392289999998525, -0.0100793699999997, -0.009047620000000478, -0.0017346899999992615, -0.008446710000001191, -0.018390020000001783, -0.01284580999999818, -0.002789119999999201, -0.007244899999999886, -0.000419499999999573, -0.002619049999999845, -0.012074829999999537, 0.0029818599999984485, -0.0037301600000034796, -0.007698410000003264, -0.019897959999997997, -0.0020975099999986924, 0.0002154199999999662, -0.0037528299999998174, 0.0013038499999993294, -0.003151930000001357, -0.0030952400000003877, -0.007063490000000172, 0.004024940000000754, -0.00591836999999984, -0.010861679999997877, -0.006054419999998117, -0.008741499999995739, -0.013197279999999978, -0.013628119999999909, -0.01308389999999804, -0.008514739999998966, -0.01248298999999875, -0.019682539999998028, -0.014625849999998053, -0.007312930000001216, -0.00902493999999976, -0.003424040000002293, 0.013401360000003136, 0.0016893400000022039, 0.002233560000000523, -0.004478459999997853, 0.0010657599999994716, -0.005646259999998904, -0.005532880000000517, -0.014988660000000209, -0.00944443999999933, -0.011643990000003157, -0.0038435400000054187, -0.011043080000000316, -0.01001133999999837, 0.009614509999998688, -0.01386621000000332, -0.005464849999995636, 0.009591839999998795], \"xaxis\": \"x\", \"yaxis\": \"y\"}],\n",
              "                        {\"barmode\": \"relative\", \"legend\": {\"tracegroupgap\": 0}, \"margin\": {\"t\": 60}, \"template\": {\"data\": {\"bar\": [{\"error_x\": {\"color\": \"#2a3f5f\"}, \"error_y\": {\"color\": \"#2a3f5f\"}, \"marker\": {\"line\": {\"color\": \"#E5ECF6\", \"width\": 0.5}}, \"type\": \"bar\"}], \"barpolar\": [{\"marker\": {\"line\": {\"color\": \"#E5ECF6\", \"width\": 0.5}}, \"type\": \"barpolar\"}], \"carpet\": [{\"aaxis\": {\"endlinecolor\": \"#2a3f5f\", \"gridcolor\": \"white\", \"linecolor\": \"white\", \"minorgridcolor\": \"white\", \"startlinecolor\": \"#2a3f5f\"}, \"baxis\": {\"endlinecolor\": \"#2a3f5f\", \"gridcolor\": \"white\", \"linecolor\": \"white\", \"minorgridcolor\": \"white\", \"startlinecolor\": \"#2a3f5f\"}, \"type\": \"carpet\"}], \"choropleth\": [{\"colorbar\": {\"outlinewidth\": 0, \"ticks\": \"\"}, \"type\": \"choropleth\"}], \"contour\": [{\"colorbar\": {\"outlinewidth\": 0, \"ticks\": \"\"}, \"colorscale\": [[0.0, \"#0d0887\"], [0.1111111111111111, \"#46039f\"], [0.2222222222222222, \"#7201a8\"], [0.3333333333333333, \"#9c179e\"], [0.4444444444444444, \"#bd3786\"], [0.5555555555555556, \"#d8576b\"], [0.6666666666666666, \"#ed7953\"], [0.7777777777777778, \"#fb9f3a\"], [0.8888888888888888, \"#fdca26\"], [1.0, \"#f0f921\"]], \"type\": \"contour\"}], \"contourcarpet\": [{\"colorbar\": {\"outlinewidth\": 0, \"ticks\": \"\"}, \"type\": \"contourcarpet\"}], \"heatmap\": [{\"colorbar\": {\"outlinewidth\": 0, \"ticks\": \"\"}, \"colorscale\": [[0.0, \"#0d0887\"], [0.1111111111111111, \"#46039f\"], [0.2222222222222222, \"#7201a8\"], [0.3333333333333333, \"#9c179e\"], [0.4444444444444444, \"#bd3786\"], [0.5555555555555556, \"#d8576b\"], [0.6666666666666666, \"#ed7953\"], [0.7777777777777778, \"#fb9f3a\"], [0.8888888888888888, \"#fdca26\"], [1.0, \"#f0f921\"]], \"type\": \"heatmap\"}], \"heatmapgl\": [{\"colorbar\": {\"outlinewidth\": 0, \"ticks\": \"\"}, \"colorscale\": [[0.0, \"#0d0887\"], [0.1111111111111111, \"#46039f\"], [0.2222222222222222, \"#7201a8\"], [0.3333333333333333, \"#9c179e\"], [0.4444444444444444, \"#bd3786\"], [0.5555555555555556, \"#d8576b\"], [0.6666666666666666, \"#ed7953\"], [0.7777777777777778, \"#fb9f3a\"], [0.8888888888888888, \"#fdca26\"], [1.0, \"#f0f921\"]], \"type\": \"heatmapgl\"}], \"histogram\": [{\"marker\": {\"colorbar\": {\"outlinewidth\": 0, \"ticks\": \"\"}}, \"type\": \"histogram\"}], \"histogram2d\": [{\"colorbar\": {\"outlinewidth\": 0, \"ticks\": \"\"}, \"colorscale\": [[0.0, \"#0d0887\"], [0.1111111111111111, \"#46039f\"], [0.2222222222222222, \"#7201a8\"], [0.3333333333333333, \"#9c179e\"], [0.4444444444444444, \"#bd3786\"], [0.5555555555555556, \"#d8576b\"], [0.6666666666666666, \"#ed7953\"], [0.7777777777777778, \"#fb9f3a\"], [0.8888888888888888, \"#fdca26\"], [1.0, \"#f0f921\"]], \"type\": \"histogram2d\"}], \"histogram2dcontour\": [{\"colorbar\": {\"outlinewidth\": 0, \"ticks\": \"\"}, \"colorscale\": [[0.0, \"#0d0887\"], [0.1111111111111111, \"#46039f\"], [0.2222222222222222, \"#7201a8\"], [0.3333333333333333, \"#9c179e\"], [0.4444444444444444, \"#bd3786\"], [0.5555555555555556, \"#d8576b\"], [0.6666666666666666, \"#ed7953\"], [0.7777777777777778, \"#fb9f3a\"], [0.8888888888888888, \"#fdca26\"], [1.0, \"#f0f921\"]], \"type\": \"histogram2dcontour\"}], \"mesh3d\": [{\"colorbar\": {\"outlinewidth\": 0, \"ticks\": \"\"}, \"type\": \"mesh3d\"}], \"parcoords\": [{\"line\": {\"colorbar\": {\"outlinewidth\": 0, \"ticks\": \"\"}}, \"type\": \"parcoords\"}], \"pie\": [{\"automargin\": true, \"type\": \"pie\"}], \"scatter\": [{\"marker\": {\"colorbar\": {\"outlinewidth\": 0, \"ticks\": \"\"}}, \"type\": \"scatter\"}], \"scatter3d\": [{\"line\": {\"colorbar\": {\"outlinewidth\": 0, \"ticks\": \"\"}}, \"marker\": {\"colorbar\": {\"outlinewidth\": 0, \"ticks\": \"\"}}, \"type\": \"scatter3d\"}], \"scattercarpet\": [{\"marker\": {\"colorbar\": {\"outlinewidth\": 0, \"ticks\": \"\"}}, \"type\": \"scattercarpet\"}], \"scattergeo\": [{\"marker\": {\"colorbar\": {\"outlinewidth\": 0, \"ticks\": \"\"}}, \"type\": \"scattergeo\"}], \"scattergl\": [{\"marker\": {\"colorbar\": {\"outlinewidth\": 0, \"ticks\": \"\"}}, \"type\": \"scattergl\"}], \"scattermapbox\": [{\"marker\": {\"colorbar\": {\"outlinewidth\": 0, \"ticks\": \"\"}}, \"type\": \"scattermapbox\"}], \"scatterpolar\": [{\"marker\": {\"colorbar\": {\"outlinewidth\": 0, \"ticks\": \"\"}}, \"type\": \"scatterpolar\"}], \"scatterpolargl\": [{\"marker\": {\"colorbar\": {\"outlinewidth\": 0, \"ticks\": \"\"}}, \"type\": \"scatterpolargl\"}], \"scatterternary\": [{\"marker\": {\"colorbar\": {\"outlinewidth\": 0, \"ticks\": \"\"}}, \"type\": \"scatterternary\"}], \"surface\": [{\"colorbar\": {\"outlinewidth\": 0, \"ticks\": \"\"}, \"colorscale\": [[0.0, \"#0d0887\"], [0.1111111111111111, \"#46039f\"], [0.2222222222222222, \"#7201a8\"], [0.3333333333333333, \"#9c179e\"], [0.4444444444444444, \"#bd3786\"], [0.5555555555555556, \"#d8576b\"], [0.6666666666666666, \"#ed7953\"], [0.7777777777777778, \"#fb9f3a\"], [0.8888888888888888, \"#fdca26\"], [1.0, \"#f0f921\"]], \"type\": \"surface\"}], \"table\": [{\"cells\": {\"fill\": {\"color\": \"#EBF0F8\"}, \"line\": {\"color\": \"white\"}}, \"header\": {\"fill\": {\"color\": \"#C8D4E3\"}, \"line\": {\"color\": \"white\"}}, \"type\": \"table\"}]}, \"layout\": {\"annotationdefaults\": {\"arrowcolor\": \"#2a3f5f\", \"arrowhead\": 0, \"arrowwidth\": 1}, \"coloraxis\": {\"colorbar\": {\"outlinewidth\": 0, \"ticks\": \"\"}}, \"colorscale\": {\"diverging\": [[0, \"#8e0152\"], [0.1, \"#c51b7d\"], [0.2, \"#de77ae\"], [0.3, \"#f1b6da\"], [0.4, \"#fde0ef\"], [0.5, \"#f7f7f7\"], [0.6, \"#e6f5d0\"], [0.7, \"#b8e186\"], [0.8, \"#7fbc41\"], [0.9, \"#4d9221\"], [1, \"#276419\"]], \"sequential\": [[0.0, \"#0d0887\"], [0.1111111111111111, \"#46039f\"], [0.2222222222222222, \"#7201a8\"], [0.3333333333333333, \"#9c179e\"], [0.4444444444444444, \"#bd3786\"], [0.5555555555555556, \"#d8576b\"], [0.6666666666666666, \"#ed7953\"], [0.7777777777777778, \"#fb9f3a\"], [0.8888888888888888, \"#fdca26\"], [1.0, \"#f0f921\"]], \"sequentialminus\": [[0.0, \"#0d0887\"], [0.1111111111111111, \"#46039f\"], [0.2222222222222222, \"#7201a8\"], [0.3333333333333333, \"#9c179e\"], [0.4444444444444444, \"#bd3786\"], [0.5555555555555556, \"#d8576b\"], [0.6666666666666666, \"#ed7953\"], [0.7777777777777778, \"#fb9f3a\"], [0.8888888888888888, \"#fdca26\"], [1.0, \"#f0f921\"]]}, \"colorway\": [\"#636efa\", \"#EF553B\", \"#00cc96\", \"#ab63fa\", \"#FFA15A\", \"#19d3f3\", \"#FF6692\", \"#B6E880\", \"#FF97FF\", \"#FECB52\"], \"font\": {\"color\": \"#2a3f5f\"}, \"geo\": {\"bgcolor\": \"white\", \"lakecolor\": \"white\", \"landcolor\": \"#E5ECF6\", \"showlakes\": true, \"showland\": true, \"subunitcolor\": \"white\"}, \"hoverlabel\": {\"align\": \"left\"}, \"hovermode\": \"closest\", \"mapbox\": {\"style\": \"light\"}, \"paper_bgcolor\": \"white\", \"plot_bgcolor\": \"#E5ECF6\", \"polar\": {\"angularaxis\": {\"gridcolor\": \"white\", \"linecolor\": \"white\", \"ticks\": \"\"}, \"bgcolor\": \"#E5ECF6\", \"radialaxis\": {\"gridcolor\": \"white\", \"linecolor\": \"white\", \"ticks\": \"\"}}, \"scene\": {\"xaxis\": {\"backgroundcolor\": \"#E5ECF6\", \"gridcolor\": \"white\", \"gridwidth\": 2, \"linecolor\": \"white\", \"showbackground\": true, \"ticks\": \"\", \"zerolinecolor\": \"white\"}, \"yaxis\": {\"backgroundcolor\": \"#E5ECF6\", \"gridcolor\": \"white\", \"gridwidth\": 2, \"linecolor\": \"white\", \"showbackground\": true, \"ticks\": \"\", \"zerolinecolor\": \"white\"}, \"zaxis\": {\"backgroundcolor\": \"#E5ECF6\", \"gridcolor\": \"white\", \"gridwidth\": 2, \"linecolor\": \"white\", \"showbackground\": true, \"ticks\": \"\", \"zerolinecolor\": \"white\"}}, \"shapedefaults\": {\"line\": {\"color\": \"#2a3f5f\"}}, \"ternary\": {\"aaxis\": {\"gridcolor\": \"white\", \"linecolor\": \"white\", \"ticks\": \"\"}, \"baxis\": {\"gridcolor\": \"white\", \"linecolor\": \"white\", \"ticks\": \"\"}, \"bgcolor\": \"#E5ECF6\", \"caxis\": {\"gridcolor\": \"white\", \"linecolor\": \"white\", \"ticks\": \"\"}}, \"title\": {\"x\": 0.05}, \"xaxis\": {\"automargin\": true, \"gridcolor\": \"white\", \"linecolor\": \"white\", \"ticks\": \"\", \"title\": {\"standoff\": 15}, \"zerolinecolor\": \"white\", \"zerolinewidth\": 2}, \"yaxis\": {\"automargin\": true, \"gridcolor\": \"white\", \"linecolor\": \"white\", \"ticks\": \"\", \"title\": {\"standoff\": 15}, \"zerolinecolor\": \"white\", \"zerolinewidth\": 2}}}, \"xaxis\": {\"anchor\": \"y\", \"domain\": [0.0, 1.0], \"title\": {\"text\": \"onsets0\"}}, \"yaxis\": {\"anchor\": \"x\", \"domain\": [0.0, 1.0], \"title\": {\"text\": \"count\"}}},\n",
              "                        {\"responsive\": true}\n",
              "                    ).then(function(){\n",
              "                            \n",
              "var gd = document.getElementById('2e4a6cf7-12e2-4a4d-ba72-0ce7a3110b26');\n",
              "var x = new MutationObserver(function (mutations, observer) {{\n",
              "        var display = window.getComputedStyle(gd).display;\n",
              "        if (!display || display === 'none') {{\n",
              "            console.log([gd, 'removed!']);\n",
              "            Plotly.purge(gd);\n",
              "            observer.disconnect();\n",
              "        }}\n",
              "}});\n",
              "\n",
              "// Listen for the removal of the full notebook cells\n",
              "var notebookContainer = gd.closest('#notebook-container');\n",
              "if (notebookContainer) {{\n",
              "    x.observe(notebookContainer, {childList: true});\n",
              "}}\n",
              "\n",
              "// Listen for the clearing of the current output cell\n",
              "var outputEl = gd.closest('.output');\n",
              "if (outputEl) {{\n",
              "    x.observe(outputEl, {childList: true});\n",
              "}}\n",
              "\n",
              "                        })\n",
              "                };\n",
              "                \n",
              "            </script>\n",
              "        </div>\n",
              "</body>\n",
              "</html>"
            ]
          },
          "metadata": {}
        }
      ]
    },
    {
      "cell_type": "code",
      "metadata": {
        "id": "jpcGZkNJPWcK",
        "colab": {
          "base_uri": "https://localhost:8080/",
          "height": 542
        },
        "outputId": "fd618bfa-1020-4a6c-f381-71f47043cb46"
      },
      "source": [
        "\n",
        "data_timing_duration0= { 'durations0' :soffset_deviations[0]}\n",
        "df = pd.DataFrame(data_timing_duration0,columns=['durations0'])\n",
        "fig = px.histogram(df, x=\"durations0\")\n",
        "fig.show()"
      ],
      "execution_count": 52,
      "outputs": [
        {
          "output_type": "display_data",
          "data": {
            "text/html": [
              "<html>\n",
              "<head><meta charset=\"utf-8\" /></head>\n",
              "<body>\n",
              "    <div>\n",
              "            <script src=\"https://cdnjs.cloudflare.com/ajax/libs/mathjax/2.7.5/MathJax.js?config=TeX-AMS-MML_SVG\"></script><script type=\"text/javascript\">if (window.MathJax) {MathJax.Hub.Config({SVG: {font: \"STIX-Web\"}});}</script>\n",
              "                <script type=\"text/javascript\">window.PlotlyConfig = {MathJaxConfig: 'local'};</script>\n",
              "        <script src=\"https://cdn.plot.ly/plotly-latest.min.js\"></script>    \n",
              "            <div id=\"2b826c60-9327-4ebf-988a-2015d28f7735\" class=\"plotly-graph-div\" style=\"height:525px; width:100%;\"></div>\n",
              "            <script type=\"text/javascript\">\n",
              "                \n",
              "                    window.PLOTLYENV=window.PLOTLYENV || {};\n",
              "                    \n",
              "                if (document.getElementById(\"2b826c60-9327-4ebf-988a-2015d28f7735\")) {\n",
              "                    Plotly.newPlot(\n",
              "                        '2b826c60-9327-4ebf-988a-2015d28f7735',\n",
              "                        [{\"alignmentgroup\": \"True\", \"bingroup\": \"x\", \"hoverlabel\": {\"namelength\": 0}, \"hovertemplate\": \"durations0=%{x}<br>count=%{y}\", \"legendgroup\": \"\", \"marker\": {\"color\": \"#636efa\"}, \"name\": \"\", \"offsetgroup\": \"\", \"orientation\": \"v\", \"showlegend\": false, \"type\": \"histogram\", \"x\": [-0.002641722999999985, -0.009183672999999892, -0.015294784999999143, -0.00689342400000026, -0.004092971000000389, 0.005963719000000367, -0.010260770999999558, 0.016564626000000082, -0.00691609999999887, -0.015884353999999767, -0.00017006799999919053, 0.008605442000000352, -0.007879820000001203, -0.008310659999999359, -0.013253969999999171, -0.01496599000000032, -0.006077099999998836, 0.00012471999999874586, -0.01835600999999976, -0.0075850299999995485, 0.2374716499999998, 0.0008163299999992546, -0.003639460000000483, 0.006417230000000274, -0.015294790000000447, 0.003594099999997269, -0.012573699999997244, -0.017029479999997932, -0.011972789999997957, -0.009172339999999224, 0.004115649999999249, -0.006258500000001277, -0.005714290000000233, 0.002086169999998333, 0.0009183699999972816, -0.006281179999998443, -0.02201814000000013, -0.007392289999998525, -0.0100793699999997, -0.009047620000000478, -0.0017346899999992615, -0.008446710000001191, -0.018390020000001783, -0.01284580999999818, -0.002789119999999201, -0.007244899999999886, -0.000419499999999573, -0.002619049999999845, -0.012074829999999537, 0.0029818599999984485, -0.0037301600000034796, -0.007698410000003264, -0.019897959999997997, -0.0020975099999986924, 0.0002154199999999662, -0.0037528299999998174, 0.0013038499999993294, -0.003151930000001357, -0.0030952400000003877, 0.004024940000000754, -0.00591836999999984, -0.010861679999997877, -0.006054419999998117, -0.008741499999995739, -0.013197279999999978, -0.013628119999999909, -0.01308389999999804, -0.008514739999998966, -0.01248298999999875, -0.019682539999998028, -0.014625849999998053, -0.007312930000001216, -0.00902493999999976, -0.023480729999999284, 0.013401360000003136, 0.0016893400000022039, 0.002233560000000523, -0.004478459999997853, 0.0010657599999994716, -0.005646259999998904, -0.045589570000000634, -0.014988660000000209, -0.00944443999999933, -0.011643990000003157, -0.0038435400000054187, -0.011043080000000316, -0.01001133999999837, 0.009614509999998688, -0.020090700000004347, 0.0, 0.0, 0.0, 0.0, 0.0, 0.0, 0.0], \"xaxis\": \"x\", \"yaxis\": \"y\"}],\n",
              "                        {\"barmode\": \"relative\", \"legend\": {\"tracegroupgap\": 0}, \"margin\": {\"t\": 60}, \"template\": {\"data\": {\"bar\": [{\"error_x\": {\"color\": \"#2a3f5f\"}, \"error_y\": {\"color\": \"#2a3f5f\"}, \"marker\": {\"line\": {\"color\": \"#E5ECF6\", \"width\": 0.5}}, \"type\": \"bar\"}], \"barpolar\": [{\"marker\": {\"line\": {\"color\": \"#E5ECF6\", \"width\": 0.5}}, \"type\": \"barpolar\"}], \"carpet\": [{\"aaxis\": {\"endlinecolor\": \"#2a3f5f\", \"gridcolor\": \"white\", \"linecolor\": \"white\", \"minorgridcolor\": \"white\", \"startlinecolor\": \"#2a3f5f\"}, \"baxis\": {\"endlinecolor\": \"#2a3f5f\", \"gridcolor\": \"white\", \"linecolor\": \"white\", \"minorgridcolor\": \"white\", \"startlinecolor\": \"#2a3f5f\"}, \"type\": \"carpet\"}], \"choropleth\": [{\"colorbar\": {\"outlinewidth\": 0, \"ticks\": \"\"}, \"type\": \"choropleth\"}], \"contour\": [{\"colorbar\": {\"outlinewidth\": 0, \"ticks\": \"\"}, \"colorscale\": [[0.0, \"#0d0887\"], [0.1111111111111111, \"#46039f\"], [0.2222222222222222, \"#7201a8\"], [0.3333333333333333, \"#9c179e\"], [0.4444444444444444, \"#bd3786\"], [0.5555555555555556, \"#d8576b\"], [0.6666666666666666, \"#ed7953\"], [0.7777777777777778, \"#fb9f3a\"], [0.8888888888888888, \"#fdca26\"], [1.0, \"#f0f921\"]], \"type\": \"contour\"}], \"contourcarpet\": [{\"colorbar\": {\"outlinewidth\": 0, \"ticks\": \"\"}, \"type\": \"contourcarpet\"}], \"heatmap\": [{\"colorbar\": {\"outlinewidth\": 0, \"ticks\": \"\"}, \"colorscale\": [[0.0, \"#0d0887\"], [0.1111111111111111, \"#46039f\"], [0.2222222222222222, \"#7201a8\"], [0.3333333333333333, \"#9c179e\"], [0.4444444444444444, \"#bd3786\"], [0.5555555555555556, \"#d8576b\"], [0.6666666666666666, \"#ed7953\"], [0.7777777777777778, \"#fb9f3a\"], [0.8888888888888888, \"#fdca26\"], [1.0, \"#f0f921\"]], \"type\": \"heatmap\"}], \"heatmapgl\": [{\"colorbar\": {\"outlinewidth\": 0, \"ticks\": \"\"}, \"colorscale\": [[0.0, \"#0d0887\"], [0.1111111111111111, \"#46039f\"], [0.2222222222222222, \"#7201a8\"], [0.3333333333333333, \"#9c179e\"], [0.4444444444444444, \"#bd3786\"], [0.5555555555555556, \"#d8576b\"], [0.6666666666666666, \"#ed7953\"], [0.7777777777777778, \"#fb9f3a\"], [0.8888888888888888, \"#fdca26\"], [1.0, \"#f0f921\"]], \"type\": \"heatmapgl\"}], \"histogram\": [{\"marker\": {\"colorbar\": {\"outlinewidth\": 0, \"ticks\": \"\"}}, \"type\": \"histogram\"}], \"histogram2d\": [{\"colorbar\": {\"outlinewidth\": 0, \"ticks\": \"\"}, \"colorscale\": [[0.0, \"#0d0887\"], [0.1111111111111111, \"#46039f\"], [0.2222222222222222, \"#7201a8\"], [0.3333333333333333, \"#9c179e\"], [0.4444444444444444, \"#bd3786\"], [0.5555555555555556, \"#d8576b\"], [0.6666666666666666, \"#ed7953\"], [0.7777777777777778, \"#fb9f3a\"], [0.8888888888888888, \"#fdca26\"], [1.0, \"#f0f921\"]], \"type\": \"histogram2d\"}], \"histogram2dcontour\": [{\"colorbar\": {\"outlinewidth\": 0, \"ticks\": \"\"}, \"colorscale\": [[0.0, \"#0d0887\"], [0.1111111111111111, \"#46039f\"], [0.2222222222222222, \"#7201a8\"], [0.3333333333333333, \"#9c179e\"], [0.4444444444444444, \"#bd3786\"], [0.5555555555555556, \"#d8576b\"], [0.6666666666666666, \"#ed7953\"], [0.7777777777777778, \"#fb9f3a\"], [0.8888888888888888, \"#fdca26\"], [1.0, \"#f0f921\"]], \"type\": \"histogram2dcontour\"}], \"mesh3d\": [{\"colorbar\": {\"outlinewidth\": 0, \"ticks\": \"\"}, \"type\": \"mesh3d\"}], \"parcoords\": [{\"line\": {\"colorbar\": {\"outlinewidth\": 0, \"ticks\": \"\"}}, \"type\": \"parcoords\"}], \"pie\": [{\"automargin\": true, \"type\": \"pie\"}], \"scatter\": [{\"marker\": {\"colorbar\": {\"outlinewidth\": 0, \"ticks\": \"\"}}, \"type\": \"scatter\"}], \"scatter3d\": [{\"line\": {\"colorbar\": {\"outlinewidth\": 0, \"ticks\": \"\"}}, \"marker\": {\"colorbar\": {\"outlinewidth\": 0, \"ticks\": \"\"}}, \"type\": \"scatter3d\"}], \"scattercarpet\": [{\"marker\": {\"colorbar\": {\"outlinewidth\": 0, \"ticks\": \"\"}}, \"type\": \"scattercarpet\"}], \"scattergeo\": [{\"marker\": {\"colorbar\": {\"outlinewidth\": 0, \"ticks\": \"\"}}, \"type\": \"scattergeo\"}], \"scattergl\": [{\"marker\": {\"colorbar\": {\"outlinewidth\": 0, \"ticks\": \"\"}}, \"type\": \"scattergl\"}], \"scattermapbox\": [{\"marker\": {\"colorbar\": {\"outlinewidth\": 0, \"ticks\": \"\"}}, \"type\": \"scattermapbox\"}], \"scatterpolar\": [{\"marker\": {\"colorbar\": {\"outlinewidth\": 0, \"ticks\": \"\"}}, \"type\": \"scatterpolar\"}], \"scatterpolargl\": [{\"marker\": {\"colorbar\": {\"outlinewidth\": 0, \"ticks\": \"\"}}, \"type\": \"scatterpolargl\"}], \"scatterternary\": [{\"marker\": {\"colorbar\": {\"outlinewidth\": 0, \"ticks\": \"\"}}, \"type\": \"scatterternary\"}], \"surface\": [{\"colorbar\": {\"outlinewidth\": 0, \"ticks\": \"\"}, \"colorscale\": [[0.0, \"#0d0887\"], [0.1111111111111111, \"#46039f\"], [0.2222222222222222, \"#7201a8\"], [0.3333333333333333, \"#9c179e\"], [0.4444444444444444, \"#bd3786\"], [0.5555555555555556, \"#d8576b\"], [0.6666666666666666, \"#ed7953\"], [0.7777777777777778, \"#fb9f3a\"], [0.8888888888888888, \"#fdca26\"], [1.0, \"#f0f921\"]], \"type\": \"surface\"}], \"table\": [{\"cells\": {\"fill\": {\"color\": \"#EBF0F8\"}, \"line\": {\"color\": \"white\"}}, \"header\": {\"fill\": {\"color\": \"#C8D4E3\"}, \"line\": {\"color\": \"white\"}}, \"type\": \"table\"}]}, \"layout\": {\"annotationdefaults\": {\"arrowcolor\": \"#2a3f5f\", \"arrowhead\": 0, \"arrowwidth\": 1}, \"coloraxis\": {\"colorbar\": {\"outlinewidth\": 0, \"ticks\": \"\"}}, \"colorscale\": {\"diverging\": [[0, \"#8e0152\"], [0.1, \"#c51b7d\"], [0.2, \"#de77ae\"], [0.3, \"#f1b6da\"], [0.4, \"#fde0ef\"], [0.5, \"#f7f7f7\"], [0.6, \"#e6f5d0\"], [0.7, \"#b8e186\"], [0.8, \"#7fbc41\"], [0.9, \"#4d9221\"], [1, \"#276419\"]], \"sequential\": [[0.0, \"#0d0887\"], [0.1111111111111111, \"#46039f\"], [0.2222222222222222, \"#7201a8\"], [0.3333333333333333, \"#9c179e\"], [0.4444444444444444, \"#bd3786\"], [0.5555555555555556, \"#d8576b\"], [0.6666666666666666, \"#ed7953\"], [0.7777777777777778, \"#fb9f3a\"], [0.8888888888888888, \"#fdca26\"], [1.0, \"#f0f921\"]], \"sequentialminus\": [[0.0, \"#0d0887\"], [0.1111111111111111, \"#46039f\"], [0.2222222222222222, \"#7201a8\"], [0.3333333333333333, \"#9c179e\"], [0.4444444444444444, \"#bd3786\"], [0.5555555555555556, \"#d8576b\"], [0.6666666666666666, \"#ed7953\"], [0.7777777777777778, \"#fb9f3a\"], [0.8888888888888888, \"#fdca26\"], [1.0, \"#f0f921\"]]}, \"colorway\": [\"#636efa\", \"#EF553B\", \"#00cc96\", \"#ab63fa\", \"#FFA15A\", \"#19d3f3\", \"#FF6692\", \"#B6E880\", \"#FF97FF\", \"#FECB52\"], \"font\": {\"color\": \"#2a3f5f\"}, \"geo\": {\"bgcolor\": \"white\", \"lakecolor\": \"white\", \"landcolor\": \"#E5ECF6\", \"showlakes\": true, \"showland\": true, \"subunitcolor\": \"white\"}, \"hoverlabel\": {\"align\": \"left\"}, \"hovermode\": \"closest\", \"mapbox\": {\"style\": \"light\"}, \"paper_bgcolor\": \"white\", \"plot_bgcolor\": \"#E5ECF6\", \"polar\": {\"angularaxis\": {\"gridcolor\": \"white\", \"linecolor\": \"white\", \"ticks\": \"\"}, \"bgcolor\": \"#E5ECF6\", \"radialaxis\": {\"gridcolor\": \"white\", \"linecolor\": \"white\", \"ticks\": \"\"}}, \"scene\": {\"xaxis\": {\"backgroundcolor\": \"#E5ECF6\", \"gridcolor\": \"white\", \"gridwidth\": 2, \"linecolor\": \"white\", \"showbackground\": true, \"ticks\": \"\", \"zerolinecolor\": \"white\"}, \"yaxis\": {\"backgroundcolor\": \"#E5ECF6\", \"gridcolor\": \"white\", \"gridwidth\": 2, \"linecolor\": \"white\", \"showbackground\": true, \"ticks\": \"\", \"zerolinecolor\": \"white\"}, \"zaxis\": {\"backgroundcolor\": \"#E5ECF6\", \"gridcolor\": \"white\", \"gridwidth\": 2, \"linecolor\": \"white\", \"showbackground\": true, \"ticks\": \"\", \"zerolinecolor\": \"white\"}}, \"shapedefaults\": {\"line\": {\"color\": \"#2a3f5f\"}}, \"ternary\": {\"aaxis\": {\"gridcolor\": \"white\", \"linecolor\": \"white\", \"ticks\": \"\"}, \"baxis\": {\"gridcolor\": \"white\", \"linecolor\": \"white\", \"ticks\": \"\"}, \"bgcolor\": \"#E5ECF6\", \"caxis\": {\"gridcolor\": \"white\", \"linecolor\": \"white\", \"ticks\": \"\"}}, \"title\": {\"x\": 0.05}, \"xaxis\": {\"automargin\": true, \"gridcolor\": \"white\", \"linecolor\": \"white\", \"ticks\": \"\", \"title\": {\"standoff\": 15}, \"zerolinecolor\": \"white\", \"zerolinewidth\": 2}, \"yaxis\": {\"automargin\": true, \"gridcolor\": \"white\", \"linecolor\": \"white\", \"ticks\": \"\", \"title\": {\"standoff\": 15}, \"zerolinecolor\": \"white\", \"zerolinewidth\": 2}}}, \"xaxis\": {\"anchor\": \"y\", \"domain\": [0.0, 1.0], \"title\": {\"text\": \"durations0\"}}, \"yaxis\": {\"anchor\": \"x\", \"domain\": [0.0, 1.0], \"title\": {\"text\": \"count\"}}},\n",
              "                        {\"responsive\": true}\n",
              "                    ).then(function(){\n",
              "                            \n",
              "var gd = document.getElementById('2b826c60-9327-4ebf-988a-2015d28f7735');\n",
              "var x = new MutationObserver(function (mutations, observer) {{\n",
              "        var display = window.getComputedStyle(gd).display;\n",
              "        if (!display || display === 'none') {{\n",
              "            console.log([gd, 'removed!']);\n",
              "            Plotly.purge(gd);\n",
              "            observer.disconnect();\n",
              "        }}\n",
              "}});\n",
              "\n",
              "// Listen for the removal of the full notebook cells\n",
              "var notebookContainer = gd.closest('#notebook-container');\n",
              "if (notebookContainer) {{\n",
              "    x.observe(notebookContainer, {childList: true});\n",
              "}}\n",
              "\n",
              "// Listen for the clearing of the current output cell\n",
              "var outputEl = gd.closest('.output');\n",
              "if (outputEl) {{\n",
              "    x.observe(outputEl, {childList: true});\n",
              "}}\n",
              "\n",
              "                        })\n",
              "                };\n",
              "                \n",
              "            </script>\n",
              "        </div>\n",
              "</body>\n",
              "</html>"
            ]
          },
          "metadata": {}
        }
      ]
    },
    {
      "cell_type": "code",
      "metadata": {
        "id": "CDyDJy8YSnkJ"
      },
      "source": [
        "dataset = pd.read_csv('drive/MyDrive/Bass/data/road/StudentStatistics_road.csv') \n",
        "#dataset = pd.read_csv('drive/MyDrive/Bass/data/StudentStatisticsBillie.csv')\n",
        "header = [\"Student\", \"precision\", \"recall\", \"f_measure_value\", \"Onset ABS Mean\", \"Onset Mean\", \"Onset Std\",\n",
        "             \"Duration ABS Mean\", \"Duration Mean\", \"Duration Std\", \"onsetMark\", \" DurationMark\", \" TF 1 Mark \",\n",
        "             \" TF 2 Mark \", \"Sound Quality Mark\", \" finalMark\"]"
      ],
      "execution_count": 76,
      "outputs": []
    },
    {
      "cell_type": "code",
      "metadata": {
        "id": "efRwakhSlT68",
        "colab": {
          "base_uri": "https://localhost:8080/",
          "height": 386
        },
        "outputId": "89a9f77f-cb14-4bd4-c03a-9049827307c0"
      },
      "source": [
        "dataset"
      ],
      "execution_count": 54,
      "outputs": [
        {
          "output_type": "execute_result",
          "data": {
            "text/html": [
              "<div>\n",
              "<style scoped>\n",
              "    .dataframe tbody tr th:only-of-type {\n",
              "        vertical-align: middle;\n",
              "    }\n",
              "\n",
              "    .dataframe tbody tr th {\n",
              "        vertical-align: top;\n",
              "    }\n",
              "\n",
              "    .dataframe thead th {\n",
              "        text-align: right;\n",
              "    }\n",
              "</style>\n",
              "<table border=\"1\" class=\"dataframe\">\n",
              "  <thead>\n",
              "    <tr style=\"text-align: right;\">\n",
              "      <th></th>\n",
              "      <th>Student</th>\n",
              "      <th>precision</th>\n",
              "      <th>recall</th>\n",
              "      <th>f_measure_value</th>\n",
              "      <th>Onset ABS Mean</th>\n",
              "      <th>Onset Mean</th>\n",
              "      <th>Onset Std</th>\n",
              "      <th>Duration ABS Mean</th>\n",
              "      <th>Duration Mean</th>\n",
              "      <th>Duration Std</th>\n",
              "      <th>onsetMark</th>\n",
              "      <th>DurationMark</th>\n",
              "      <th>TF 1 Mark</th>\n",
              "      <th>TF 2 Mark</th>\n",
              "      <th>Sound Quality Mark</th>\n",
              "      <th>finalMark</th>\n",
              "    </tr>\n",
              "  </thead>\n",
              "  <tbody>\n",
              "    <tr>\n",
              "      <th>0</th>\n",
              "      <td>0</td>\n",
              "      <td>0.960</td>\n",
              "      <td>0.950</td>\n",
              "      <td>0.955</td>\n",
              "      <td>0.008</td>\n",
              "      <td>-0.006</td>\n",
              "      <td>0.009</td>\n",
              "      <td>0.008</td>\n",
              "      <td>-0.006</td>\n",
              "      <td>0.009</td>\n",
              "      <td>100.0</td>\n",
              "      <td>100.0</td>\n",
              "      <td>100.0</td>\n",
              "      <td>100.0</td>\n",
              "      <td>100.0</td>\n",
              "      <td>5.00</td>\n",
              "    </tr>\n",
              "    <tr>\n",
              "      <th>1</th>\n",
              "      <td>1</td>\n",
              "      <td>0.337</td>\n",
              "      <td>0.347</td>\n",
              "      <td>0.341</td>\n",
              "      <td>0.010</td>\n",
              "      <td>-0.006</td>\n",
              "      <td>0.012</td>\n",
              "      <td>0.072</td>\n",
              "      <td>-0.065</td>\n",
              "      <td>0.162</td>\n",
              "      <td>72.0</td>\n",
              "      <td>79.2</td>\n",
              "      <td>79.2</td>\n",
              "      <td>79.2</td>\n",
              "      <td>79.2</td>\n",
              "      <td>3.15</td>\n",
              "    </tr>\n",
              "    <tr>\n",
              "      <th>2</th>\n",
              "      <td>2</td>\n",
              "      <td>0.147</td>\n",
              "      <td>0.149</td>\n",
              "      <td>0.148</td>\n",
              "      <td>0.010</td>\n",
              "      <td>-0.007</td>\n",
              "      <td>0.012</td>\n",
              "      <td>0.052</td>\n",
              "      <td>-0.014</td>\n",
              "      <td>0.078</td>\n",
              "      <td>79.2</td>\n",
              "      <td>90.0</td>\n",
              "      <td>79.2</td>\n",
              "      <td>79.2</td>\n",
              "      <td>79.2</td>\n",
              "      <td>3.60</td>\n",
              "    </tr>\n",
              "    <tr>\n",
              "      <th>3</th>\n",
              "      <td>3</td>\n",
              "      <td>0.298</td>\n",
              "      <td>0.277</td>\n",
              "      <td>0.287</td>\n",
              "      <td>0.009</td>\n",
              "      <td>-0.007</td>\n",
              "      <td>0.011</td>\n",
              "      <td>0.056</td>\n",
              "      <td>-0.012</td>\n",
              "      <td>0.119</td>\n",
              "      <td>79.2</td>\n",
              "      <td>79.2</td>\n",
              "      <td>90.0</td>\n",
              "      <td>79.2</td>\n",
              "      <td>79.2</td>\n",
              "      <td>3.60</td>\n",
              "    </tr>\n",
              "    <tr>\n",
              "      <th>4</th>\n",
              "      <td>4</td>\n",
              "      <td>0.019</td>\n",
              "      <td>0.020</td>\n",
              "      <td>0.019</td>\n",
              "      <td>0.007</td>\n",
              "      <td>0.007</td>\n",
              "      <td>0.007</td>\n",
              "      <td>0.064</td>\n",
              "      <td>-0.064</td>\n",
              "      <td>0.075</td>\n",
              "      <td>56.7</td>\n",
              "      <td>56.7</td>\n",
              "      <td>72.0</td>\n",
              "      <td>72.0</td>\n",
              "      <td>72.0</td>\n",
              "      <td>2.25</td>\n",
              "    </tr>\n",
              "    <tr>\n",
              "      <th>5</th>\n",
              "      <td>5</td>\n",
              "      <td>0.531</td>\n",
              "      <td>0.505</td>\n",
              "      <td>0.518</td>\n",
              "      <td>0.010</td>\n",
              "      <td>-0.000</td>\n",
              "      <td>0.012</td>\n",
              "      <td>0.079</td>\n",
              "      <td>-0.038</td>\n",
              "      <td>0.166</td>\n",
              "      <td>72.0</td>\n",
              "      <td>79.2</td>\n",
              "      <td>79.2</td>\n",
              "      <td>79.2</td>\n",
              "      <td>79.2</td>\n",
              "      <td>3.60</td>\n",
              "    </tr>\n",
              "    <tr>\n",
              "      <th>6</th>\n",
              "      <td>6</td>\n",
              "      <td>0.029</td>\n",
              "      <td>0.030</td>\n",
              "      <td>0.029</td>\n",
              "      <td>0.012</td>\n",
              "      <td>-0.002</td>\n",
              "      <td>0.014</td>\n",
              "      <td>0.068</td>\n",
              "      <td>-0.068</td>\n",
              "      <td>0.070</td>\n",
              "      <td>72.0</td>\n",
              "      <td>79.2</td>\n",
              "      <td>79.2</td>\n",
              "      <td>79.2</td>\n",
              "      <td>79.2</td>\n",
              "      <td>3.60</td>\n",
              "    </tr>\n",
              "    <tr>\n",
              "      <th>7</th>\n",
              "      <td>7</td>\n",
              "      <td>0.029</td>\n",
              "      <td>0.030</td>\n",
              "      <td>0.030</td>\n",
              "      <td>0.010</td>\n",
              "      <td>-0.010</td>\n",
              "      <td>0.011</td>\n",
              "      <td>0.109</td>\n",
              "      <td>0.022</td>\n",
              "      <td>0.127</td>\n",
              "      <td>79.2</td>\n",
              "      <td>79.2</td>\n",
              "      <td>79.2</td>\n",
              "      <td>90.0</td>\n",
              "      <td>79.2</td>\n",
              "      <td>3.60</td>\n",
              "    </tr>\n",
              "    <tr>\n",
              "      <th>8</th>\n",
              "      <td>8</td>\n",
              "      <td>0.269</td>\n",
              "      <td>0.287</td>\n",
              "      <td>0.278</td>\n",
              "      <td>0.010</td>\n",
              "      <td>-0.008</td>\n",
              "      <td>0.012</td>\n",
              "      <td>0.044</td>\n",
              "      <td>-0.037</td>\n",
              "      <td>0.106</td>\n",
              "      <td>90.0</td>\n",
              "      <td>90.0</td>\n",
              "      <td>90.0</td>\n",
              "      <td>90.0</td>\n",
              "      <td>79.2</td>\n",
              "      <td>4.50</td>\n",
              "    </tr>\n",
              "  </tbody>\n",
              "</table>\n",
              "</div>"
            ],
            "text/plain": [
              "   Student  precision  recall  ...   TF 2 Mark   Sound Quality Mark   finalMark\n",
              "0        0      0.960   0.950  ...        100.0               100.0        5.00\n",
              "1        1      0.337   0.347  ...         79.2                79.2        3.15\n",
              "2        2      0.147   0.149  ...         79.2                79.2        3.60\n",
              "3        3      0.298   0.277  ...         79.2                79.2        3.60\n",
              "4        4      0.019   0.020  ...         72.0                72.0        2.25\n",
              "5        5      0.531   0.505  ...         79.2                79.2        3.60\n",
              "6        6      0.029   0.030  ...         79.2                79.2        3.60\n",
              "7        7      0.029   0.030  ...         90.0                79.2        3.60\n",
              "8        8      0.269   0.287  ...         90.0                79.2        4.50\n",
              "\n",
              "[9 rows x 16 columns]"
            ]
          },
          "metadata": {},
          "execution_count": 54
        }
      ]
    },
    {
      "cell_type": "code",
      "metadata": {
        "id": "SQdhtPm7T2dX",
        "colab": {
          "base_uri": "https://localhost:8080/"
        },
        "outputId": "0c81aa63-8423-44fd-fa38-afe2fb3bced1"
      },
      "source": [
        "from sklearn.linear_model import LinearRegression\n",
        "from sklearn.model_selection import train_test_split\n",
        "from sklearn import metrics\n",
        "#X = dataset[['P', 'R', 'F',  ' ABS Mean Onset','Mean  Onset','Std Onset',' ABS Mean Duration','Mean Duration','Std Duration']]\n",
        "#X = dataset[['precision', 'recall', 'f_measure_value',  'Onset ABS Mean','Onset Mean','Onset Std']]\n",
        "#X = dataset[['precision','recall','f_measure_value']]#,'Onset Mean','Onset Std']]\n",
        "X = dataset[['precision','recall','f_measure_value','Onset Mean']]#,]]\n",
        "y=array(dataset['onsetMark'])\n",
        "\n",
        "\n",
        "#coeff_df = pd.DataFrame(regressor.coef_, X.columns, columns=['Coefficient'])\n",
        "\n",
        "X_train, X_test, y_train, y_test = train_test_split(X, y, test_size=0.3, random_state=0)\n",
        "regressor = LinearRegression()\n",
        "regressor.fit(X_train, y_train)\n",
        "y_pred = regressor.predict(X_test)\n",
        "df = pd.DataFrame({'Actual': y_test, 'Predicted': y_pred})\n",
        "print(round(df,3))\n",
        "print(\"Onset Grades\")\n",
        "print('Mean Absolute Error:', round(  metrics.mean_absolute_error(y_test, y_pred),3))\n",
        "print('Root Mean Squared Error:',round( np.sqrt(metrics.mean_squared_error(y_test, y_pred)),3))\n",
        "# IEC PRF Mean Absolute Error: 12.079847760757067\n",
        "# IEC PRF Root Mean Squared Error: 12.521853181718802"
      ],
      "execution_count": 90,
      "outputs": [
        {
          "output_type": "stream",
          "name": "stdout",
          "text": [
            "      Actual  Predicted\n",
            "0  79.199997     76.868\n",
            "1  79.199997     79.540\n",
            "2  72.000000     92.954\n",
            "Onset Grades\n",
            "Mean Absolute Error: 7.875\n",
            "Root Mean Squared Error: 12.174\n"
          ]
        }
      ]
    },
    {
      "cell_type": "code",
      "metadata": {
        "colab": {
          "base_uri": "https://localhost:8080/",
          "height": 573
        },
        "id": "a-C3fgDWtpfs",
        "outputId": "8e18ae38-1ce6-44b4-98a3-5b787f660db9"
      },
      "source": [
        "onset_grade_list = df_all[\"onsetMark\"].tolist()   \n",
        "onset_f_measure_value_list = df_all[\"f_measure_value\"].tolist()   \n",
        "plt.title('Actual Onset Grade(red) vs Predicted Onset Grade(blue)')\n",
        "plt.xlabel('F measure')\n",
        "plt.ylabel('Grade(%)')\n",
        "plt.scatter(X_test[\"f_measure_value\"].tolist(), y_test,  color='red')\n",
        "plt.scatter(X_test[\"f_measure_value\"].tolist(), y_pred, color='blue', linewidth=3)\n",
        "plt.show()\n",
        "\n",
        "plt.title('Predicted Onset Grades using Test input (green)')\n",
        "plt.xlabel('F measure')\n",
        "plt.ylabel('Grade(%)')\n",
        "plt.plot(onset_f_measure_value_list,onset_grade_list, 'x',color='blue')\n",
        "plt.plot(X_test[\"f_measure_value\"].tolist(),y_pred, 'o', color='green')\n",
        "plt.show()"
      ],
      "execution_count": 83,
      "outputs": [
        {
          "output_type": "display_data",
          "data": {
            "image/png": "[encoded data removed]",
            "text/plain": [
              "<Figure size 432x288 with 1 Axes>"
            ]
          },
          "metadata": {
            "needs_background": "light"
          }
        },
        {
          "output_type": "display_data",
          "data": {
            "image/png": "[encoded data removed]",
            "text/plain": [
              "<Figure size 432x288 with 1 Axes>"
            ]
          },
          "metadata": {
            "needs_background": "light"
          }
        }
      ]
    },
    {
      "cell_type": "code",
      "metadata": {
        "id": "aju6nZtqCm1Z",
        "colab": {
          "base_uri": "https://localhost:8080/"
        },
        "outputId": "de806404-49cb-42ed-e9ed-d3ae396836db"
      },
      "source": [
        "X = dataset[['precision','recall','f_measure_value','Duration ABS Mean']]\n",
        "y=array(dataset[' DurationMark'])\n",
        "#coeff_df = pd.DataFrame(regressor.coef_, X.columns, columns=['Coefficient'])\n",
        "\n",
        "X_train, X_test, y_train, y_test = train_test_split(X, y, test_size=0.3, random_state=0)# of you ommit it will be random\n",
        "# related to the seed in random function\n",
        "regressor = LinearRegression()\n",
        "regressor.fit(X_train, y_train)\n",
        "y_pred = regressor.predict(X_test)\n",
        "df = pd.DataFrame({'Actual': y_test, 'Predicted': y_pred})\n",
        "print(round(df,3))\n",
        "print(\"Duration Grade\")\n",
        "print('Mean Absolute Error:', round(metrics.mean_absolute_error(y_test, y_pred),3))\n",
        "print('Root Mean Squared Error:', round(np.sqrt(metrics.mean_squared_error(y_test, y_pred)),3))\n",
        "\n",
        "\n",
        "\n"
      ],
      "execution_count": 88,
      "outputs": [
        {
          "output_type": "stream",
          "name": "stdout",
          "text": [
            "      Actual  Predicted\n",
            "0  79.199997     76.521\n",
            "1  90.000000     81.158\n",
            "2  79.199997     70.737\n",
            "Duration Grade\n",
            "Mean Absolute Error: 6.661\n",
            "Root Mean Squared Error: 7.234\n"
          ]
        }
      ]
    },
    {
      "cell_type": "code",
      "metadata": {
        "colab": {
          "base_uri": "https://localhost:8080/",
          "height": 610
        },
        "id": "S68JR8kQtu0f",
        "outputId": "66958b9e-3f10-4ada-98d2-f6fa874f7c53"
      },
      "source": [
        "duration_amean_list = df_all[\"Duration ABS Mean\"].tolist()   \n",
        "duration_grade_list = df_all[\" DurationMark\"].tolist()   \n",
        "   \n",
        "plt.title('Actual Duration grade(red) vs Predicted Duration grade(blue)')\n",
        "plt.xlabel('Duration ABS Mean')\n",
        "plt.ylabel('Grade(%)')\n",
        "plt.scatter(X_test[\"Duration ABS Mean\"].tolist(), y_test,  color='red')\n",
        "plt.scatter(X_test[\"Duration ABS Mean\"].tolist(), y_pred, color='blue', linewidth=3)\n",
        "print(y_test)\n",
        "print(y_pred)\n",
        "plt.show()\n",
        "\n",
        "plt.title('Predicted Duration Grades using Test input (green)')\n",
        "plt.xlabel('Duration ABS Mean')\n",
        "plt.ylabel('Grade(%)')\n",
        "plt.plot(duration_amean_list,duration_grade_list, 'x',color='blue')\n",
        "plt.plot(X_test[\"f_measure_value\"].tolist(),y_pred, 'o', color='green')\n",
        "plt.show()"
      ],
      "execution_count": 86,
      "outputs": [
        {
          "output_type": "stream",
          "name": "stdout",
          "text": [
            "[79.2 90.  79.2]\n",
            "[76.52063305 81.15815677 70.7370331 ]\n"
          ]
        },
        {
          "output_type": "display_data",
          "data": {
            "image/png": "[encoded data removed]",
            "text/plain": [
              "<Figure size 432x288 with 1 Axes>"
            ]
          },
          "metadata": {
            "needs_background": "light"
          }
        },
        {
          "output_type": "display_data",
          "data": {
            "image/png": "[encoded data removed]",
            "text/plain": [
              "<Figure size 432x288 with 1 Axes>"
            ]
          },
          "metadata": {
            "needs_background": "light"
          }
        }
      ]
    },
    {
      "cell_type": "code",
      "metadata": {
        "id": "0gnEMc1RXuBM",
        "colab": {
          "base_uri": "https://localhost:8080/"
        },
        "outputId": "993feffa-567b-46c6-b014-142e382f1e04"
      },
      "source": [
        "X = dataset[['precision','recall','f_measure_value','Onset ABS Mean','Duration ABS Mean']]\n",
        "y=array(dataset[' finalMark'])\n",
        "\n",
        "\n",
        "#coeff_df = pd.DataFrame(regressor.coef_, X.columns, columns=['Coefficient'])\n",
        "\n",
        "X_train, X_test, y_train, y_test = train_test_split(X, y, test_size=0.3, random_state=0)\n",
        "regressor = LinearRegression()\n",
        "regressor.fit(X_train, y_train)\n",
        "y_pred = regressor.predict(X_test)\n",
        "df = pd.DataFrame({'Actual': y_test, 'Predicted': y_pred})\n",
        "print(df)\n",
        "\n",
        "print('Mean Absolute Error:', metrics.mean_absolute_error(y_test, y_pred))\n",
        "print('Root Mean Squared Error:', np.sqrt(metrics.mean_squared_error(y_test, y_pred)))"
      ],
      "execution_count": 59,
      "outputs": [
        {
          "output_type": "stream",
          "name": "stdout",
          "text": [
            "   Actual  Predicted\n",
            "0    3.60   4.084500\n",
            "1    3.60   5.483432\n",
            "2    3.15  -1.320617\n",
            "Mean Absolute Error: 2.2795165506465547\n",
            "Root Mean Squared Error: 2.814751489671162\n"
          ]
        }
      ]
    }
  ]
}