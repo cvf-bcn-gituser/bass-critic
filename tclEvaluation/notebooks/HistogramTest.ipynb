{
  "nbformat": 4,
  "nbformat_minor": 0,
  "metadata": {
    "kernelspec": {
      "display_name": "Python 3",
      "language": "python",
      "name": "python3"
    },
    "language_info": {
      "codemirror_mode": {
        "name": "ipython",
        "version": 3
      },
      "file_extension": ".py",
      "mimetype": "text/x-python",
      "name": "python",
      "nbconvert_exporter": "python",
      "pygments_lexer": "ipython3",
      "version": "3.6.7"
    },
    "colab": {
      "name": "HistogramTest.ipynb",
      "provenance": [],
      "collapsed_sections": []
    }
  },
  "cells": [
    {
      "cell_type": "code",
      "metadata": {
        "colab": {
          "base_uri": "https://localhost:8080/"
        },
        "id": "13LOyuxayHjM",
        "outputId": "7de8bec6-ee1b-43bb-e9aa-38d8d37dae32"
      },
      "source": [
        "!pip3 install essentia"
      ],
      "execution_count": 3,
      "outputs": [
        {
          "output_type": "stream",
          "text": [
            "Collecting essentia\n",
            "\u001b[?25l  Downloading https://files.pythonhosted.org/packages/71/fd/cbb601736ebdf5bfdaf8d215e7741b76b6519371ddf1f64427cf275af05d/essentia-2.1b6.dev374-cp37-cp37m-manylinux1_x86_64.whl (12.0MB)\n",
            "\u001b[K     |████████████████████████████████| 12.0MB 241kB/s \n",
            "\u001b[?25hRequirement already satisfied: numpy>=1.8.2 in /usr/local/lib/python3.7/dist-packages (from essentia) (1.19.5)\n",
            "Requirement already satisfied: pyyaml in /usr/local/lib/python3.7/dist-packages (from essentia) (3.13)\n",
            "Requirement already satisfied: six in /usr/local/lib/python3.7/dist-packages (from essentia) (1.15.0)\n",
            "Installing collected packages: essentia\n",
            "Successfully installed essentia-2.1b6.dev374\n"
          ],
          "name": "stdout"
        }
      ]
    },
    {
      "cell_type": "code",
      "metadata": {
        "id": "OEdDKfBpdEwf",
        "colab": {
          "base_uri": "https://localhost:8080/"
        },
        "outputId": "40915c4b-af44-404a-802c-ac33d3dfee7c"
      },
      "source": [
        "!pip3 install madmom"
      ],
      "execution_count": 4,
      "outputs": [
        {
          "output_type": "stream",
          "text": [
            "Collecting madmom\n",
            "\u001b[?25l  Downloading https://files.pythonhosted.org/packages/c7/a3/9f3de3e8068a3606331134d96b84c8db4f7624d6715be8ab3c1f56e6731d/madmom-0.16.1.tar.gz (20.0MB)\n",
            "\u001b[K     |████████████████████████████████| 20.0MB 27.6MB/s \n",
            "\u001b[?25hRequirement already satisfied: numpy>=1.13.4 in /usr/local/lib/python3.7/dist-packages (from madmom) (1.19.5)\n",
            "Requirement already satisfied: scipy>=0.16 in /usr/local/lib/python3.7/dist-packages (from madmom) (1.4.1)\n",
            "Requirement already satisfied: cython>=0.25 in /usr/local/lib/python3.7/dist-packages (from madmom) (0.29.23)\n",
            "Collecting mido>=1.2.8\n",
            "\u001b[?25l  Downloading https://files.pythonhosted.org/packages/b5/6d/e18a5b59ff086e1cd61d7fbf943d86c5f593a4e68bfc60215ab74210b22b/mido-1.2.10-py2.py3-none-any.whl (51kB)\n",
            "\u001b[K     |████████████████████████████████| 51kB 6.4MB/s \n",
            "\u001b[?25hBuilding wheels for collected packages: madmom\n",
            "  Building wheel for madmom (setup.py) ... \u001b[?25l\u001b[?25hdone\n",
            "  Created wheel for madmom: filename=madmom-0.16.1-cp37-cp37m-linux_x86_64.whl size=20933977 sha256=272a7e52ed5c169a89481affb73330cf77b33e309b19c4b76ae408aa41c4bd44\n",
            "  Stored in directory: /root/.cache/pip/wheels/21/0c/30/e0141aa75fb0a829ba5e1dca2be0860dc98502c1789616637d\n",
            "Successfully built madmom\n",
            "Installing collected packages: mido, madmom\n",
            "Successfully installed madmom-0.16.1 mido-1.2.10\n"
          ],
          "name": "stdout"
        }
      ]
    },
    {
      "cell_type": "code",
      "metadata": {
        "id": "rmxZSSGjtfEE"
      },
      "source": [
        "!pip3 install mir_eval"
      ],
      "execution_count": null,
      "outputs": []
    },
    {
      "cell_type": "markdown",
      "metadata": {
        "id": "dSxfHZTNOrr7"
      },
      "source": [
        "The section below is all path dependent"
      ]
    },
    {
      "cell_type": "code",
      "metadata": {
        "id": "rKwBFtUiykYU",
        "colab": {
          "base_uri": "https://localhost:8080/"
        },
        "outputId": "a64faa4d-4a0a-48b8-8c9d-a56adcc5081c"
      },
      "source": [
        "from google.colab import drive\n",
        "drive.mount(\"/content/drive\", force_remount=True)\n",
        "root = 'drive/MyDrive/Bass/'\n",
        "\n",
        "import pandas as pd\n",
        "import sys\n",
        "sys.path.append(root)"
      ],
      "execution_count": 14,
      "outputs": [
        {
          "output_type": "stream",
          "text": [
            "Mounted at /content/drive\n"
          ],
          "name": "stdout"
        }
      ]
    },
    {
      "cell_type": "code",
      "metadata": {
        "id": "sAplIzp5UBFL"
      },
      "source": [
        "import madmom"
      ],
      "execution_count": 7,
      "outputs": []
    },
    {
      "cell_type": "code",
      "metadata": {
        "colab": {
          "base_uri": "https://localhost:8080/"
        },
        "id": "1hnhs2GenDDk",
        "outputId": "98ce93bd-819d-43e7-f161-845b868d2610"
      },
      "source": [
        "!ls 'drive/MyDrive/Bass/deviations'"
      ],
      "execution_count": 20,
      "outputs": [
        {
          "output_type": "stream",
          "text": [
            "billieJean_iec_stem.csv      billieJean_sop_student1.csv\n",
            "billieJean_iec_student1.csv  billieJean_sop_student2.csv\n",
            "billieJean_iec_student2.csv  billieJean_sop_student3.csv\n",
            "billieJean_iec_student3.csv  billieJean_sop_student4.csv\n",
            "billieJean_iec_student4.csv  billieJean_sop_student5.csv\n",
            "billieJean_iec_student5.csv  billieJean_sop_student6.csv\n",
            "billieJean_iec_student6.csv  billieJean_sop_student7.csv\n",
            "billieJean_iec_student7.csv  billieJean_sop_student8.csv\n",
            "billieJean_iec_student8.csv  bjean\n",
            "billieJean_sop_stem.csv\n"
          ],
          "name": "stdout"
        }
      ]
    },
    {
      "cell_type": "code",
      "metadata": {
        "id": "MC6bIbDvyeSZ"
      },
      "source": [
        "# TODO 1 optimise imports\n",
        "from essentia.standard import *\n",
        "from essentia import Pool, array\n",
        "import essentia.standard as es\n",
        "import matplotlib.pyplot as plt\n",
        "import numpy as np\n",
        "import IPython.display as ipd\n",
        "import pandas as pd\n",
        "import os\n",
        "\n",
        "import IPython\n",
        "import pickle\n",
        "from pickle import load\n",
        "from scipy.signal import find_peaks\n",
        "import ipywidgets as widgets\n",
        "from scipy import signal\n",
        "from lxml import etree\n",
        "\n",
        "import plotly.express as px\n",
        "import scipy"
      ],
      "execution_count": 8,
      "outputs": []
    },
    {
      "cell_type": "code",
      "metadata": {
        "id": "7oagAxf-UEjK"
      },
      "source": [
        "import mir_eval\n",
        "from mir_eval import *"
      ],
      "execution_count": 9,
      "outputs": []
    },
    {
      "cell_type": "code",
      "metadata": {
        "colab": {
          "base_uri": "https://localhost:8080/"
        },
        "id": "M5LQtPilqs0O",
        "outputId": "a562d28d-6c10-4771-92de-8f9185f4c806"
      },
      "source": [
        "!ls drive/MyDrive/Bass/statistics"
      ],
      "execution_count": 30,
      "outputs": [
        {
          "output_type": "stream",
          "text": [
            "StemStatistics_IEC_billieJean.csv   StemStatistics_SOP_yellow.csv\n",
            "StemStatistics_IEC_brown.csv\t    StudentStatistics_IEC_brown.csv\n",
            "StemStatistics_IEC_justlooking.csv  StudentStatistics_IEC_justlooking.csv\n",
            "StemStatistics_IEC_yellow.csv\t    StudentStatistics_IEC_Yellow.csv\n",
            "StemStatistics_SOP_billieJean.csv   StudentStatistics_SOP_brown.csv\n",
            "StemStatistics_SOP_brown.csv\t    StudentStatistics_SOP_yellow.csv\n",
            "StemStatistics_SOP_justlooking.csv\n"
          ],
          "name": "stdout"
        }
      ]
    },
    {
      "cell_type": "code",
      "metadata": {
        "id": "JDSbWrR-ktD6"
      },
      "source": [
        "deviatePath = 'drive/MyDrive/Bass/deviations/billieJean_iec_stem.csv'\n",
        "col_list = [\"onset dev\", \"offset dev\"]\n",
        "df = pd.read_csv(deviatePath, usecols=col_list)\n",
        "onset_dev_list = df[\"onset dev\"].tolist()   \n",
        "offset_dev_list = df[\"offset dev\"].tolist()     "
      ],
      "execution_count": 26,
      "outputs": []
    },
    {
      "cell_type": "code",
      "metadata": {
        "id": "sLLTjrn6qh8Q"
      },
      "source": [
        "statsPath = 'drive/MyDrive/Bass/statistics/AllStatistics_IEC_Yellow.csv'\n",
        "\n",
        "statsCols = [\"Student\",\"precision\",\"recall\",\"f_measure_value\",\"Onset ABS Mean\",\"Onset Mean\",\"Onset Std\",\"Duration ABS Mean\",\"Duration Mean\",\"Duration Std\",\"onsetMark\",\" DurationMark\",\" articulationMark \",\"soundQualityMark\",\"volumeControlMark\",\" finalMark\"]\n",
        "df_all = pd.read_csv(statsPath, usecols=statsCols)\n",
        "   "
      ],
      "execution_count": 41,
      "outputs": []
    },
    {
      "cell_type": "code",
      "metadata": {
        "colab": {
          "base_uri": "https://localhost:8080/",
          "height": 386
        },
        "id": "FkGpUkWfn1xi",
        "outputId": "8034332d-633c-4fc2-d1ea-4b22f4de17a7"
      },
      "source": [
        "df_all"
      ],
      "execution_count": 42,
      "outputs": [
        {
          "output_type": "execute_result",
          "data": {
            "text/html": [
              "<div>\n",
              "<style scoped>\n",
              "    .dataframe tbody tr th:only-of-type {\n",
              "        vertical-align: middle;\n",
              "    }\n",
              "\n",
              "    .dataframe tbody tr th {\n",
              "        vertical-align: top;\n",
              "    }\n",
              "\n",
              "    .dataframe thead th {\n",
              "        text-align: right;\n",
              "    }\n",
              "</style>\n",
              "<table border=\"1\" class=\"dataframe\">\n",
              "  <thead>\n",
              "    <tr style=\"text-align: right;\">\n",
              "      <th></th>\n",
              "      <th>Student</th>\n",
              "      <th>precision</th>\n",
              "      <th>recall</th>\n",
              "      <th>f_measure_value</th>\n",
              "      <th>Onset ABS Mean</th>\n",
              "      <th>Onset Mean</th>\n",
              "      <th>Onset Std</th>\n",
              "      <th>Duration ABS Mean</th>\n",
              "      <th>Duration Mean</th>\n",
              "      <th>Duration Std</th>\n",
              "      <th>onsetMark</th>\n",
              "      <th>DurationMark</th>\n",
              "      <th>articulationMark</th>\n",
              "      <th>soundQualityMark</th>\n",
              "      <th>volumeControlMark</th>\n",
              "      <th>finalMark</th>\n",
              "    </tr>\n",
              "  </thead>\n",
              "  <tbody>\n",
              "    <tr>\n",
              "      <th>0</th>\n",
              "      <td>0</td>\n",
              "      <td>0.938462</td>\n",
              "      <td>0.938462</td>\n",
              "      <td>0.938462</td>\n",
              "      <td>0.003963</td>\n",
              "      <td>0.0005</td>\n",
              "      <td>0.005113</td>\n",
              "      <td>0.054438</td>\n",
              "      <td>-0.014543</td>\n",
              "      <td>0.10914</td>\n",
              "      <td>100</td>\n",
              "      <td>100</td>\n",
              "      <td>100</td>\n",
              "      <td>100</td>\n",
              "      <td>100</td>\n",
              "      <td>5.0</td>\n",
              "    </tr>\n",
              "    <tr>\n",
              "      <th>1</th>\n",
              "      <td>1</td>\n",
              "      <td>0.400000</td>\n",
              "      <td>0.364000</td>\n",
              "      <td>0.381000</td>\n",
              "      <td>0.010000</td>\n",
              "      <td>0.0000</td>\n",
              "      <td>0.011000</td>\n",
              "      <td>0.054000</td>\n",
              "      <td>0.052000</td>\n",
              "      <td>0.18900</td>\n",
              "      <td>85</td>\n",
              "      <td>85</td>\n",
              "      <td>70</td>\n",
              "      <td>85</td>\n",
              "      <td>85</td>\n",
              "      <td>4.0</td>\n",
              "    </tr>\n",
              "    <tr>\n",
              "      <th>2</th>\n",
              "      <td>2</td>\n",
              "      <td>0.527000</td>\n",
              "      <td>0.545000</td>\n",
              "      <td>0.536000</td>\n",
              "      <td>0.009000</td>\n",
              "      <td>-0.0020</td>\n",
              "      <td>0.010000</td>\n",
              "      <td>0.019000</td>\n",
              "      <td>-0.005000</td>\n",
              "      <td>0.03100</td>\n",
              "      <td>55</td>\n",
              "      <td>70</td>\n",
              "      <td>70</td>\n",
              "      <td>70</td>\n",
              "      <td>70</td>\n",
              "      <td>3.0</td>\n",
              "    </tr>\n",
              "    <tr>\n",
              "      <th>3</th>\n",
              "      <td>3</td>\n",
              "      <td>0.210000</td>\n",
              "      <td>0.199000</td>\n",
              "      <td>0.205000</td>\n",
              "      <td>0.011000</td>\n",
              "      <td>-0.0040</td>\n",
              "      <td>0.012000</td>\n",
              "      <td>0.030000</td>\n",
              "      <td>-0.005000</td>\n",
              "      <td>0.04900</td>\n",
              "      <td>70</td>\n",
              "      <td>85</td>\n",
              "      <td>85</td>\n",
              "      <td>85</td>\n",
              "      <td>100</td>\n",
              "      <td>4.0</td>\n",
              "    </tr>\n",
              "    <tr>\n",
              "      <th>4</th>\n",
              "      <td>4</td>\n",
              "      <td>0.163000</td>\n",
              "      <td>0.164000</td>\n",
              "      <td>0.164000</td>\n",
              "      <td>0.011000</td>\n",
              "      <td>0.0040</td>\n",
              "      <td>0.012000</td>\n",
              "      <td>0.043000</td>\n",
              "      <td>0.038000</td>\n",
              "      <td>0.10400</td>\n",
              "      <td>70</td>\n",
              "      <td>85</td>\n",
              "      <td>85</td>\n",
              "      <td>85</td>\n",
              "      <td>85</td>\n",
              "      <td>4.0</td>\n",
              "    </tr>\n",
              "    <tr>\n",
              "      <th>5</th>\n",
              "      <td>5</td>\n",
              "      <td>0.223000</td>\n",
              "      <td>0.220000</td>\n",
              "      <td>0.221000</td>\n",
              "      <td>0.010000</td>\n",
              "      <td>-0.0010</td>\n",
              "      <td>0.011000</td>\n",
              "      <td>0.024000</td>\n",
              "      <td>0.003000</td>\n",
              "      <td>0.03700</td>\n",
              "      <td>85</td>\n",
              "      <td>85</td>\n",
              "      <td>70</td>\n",
              "      <td>85</td>\n",
              "      <td>85</td>\n",
              "      <td>3.0</td>\n",
              "    </tr>\n",
              "    <tr>\n",
              "      <th>6</th>\n",
              "      <td>6</td>\n",
              "      <td>0.334000</td>\n",
              "      <td>0.336000</td>\n",
              "      <td>0.335000</td>\n",
              "      <td>0.009000</td>\n",
              "      <td>0.0060</td>\n",
              "      <td>0.011000</td>\n",
              "      <td>0.058000</td>\n",
              "      <td>0.041000</td>\n",
              "      <td>0.18600</td>\n",
              "      <td>85</td>\n",
              "      <td>100</td>\n",
              "      <td>100</td>\n",
              "      <td>85</td>\n",
              "      <td>100</td>\n",
              "      <td>4.5</td>\n",
              "    </tr>\n",
              "    <tr>\n",
              "      <th>7</th>\n",
              "      <td>7</td>\n",
              "      <td>0.088000</td>\n",
              "      <td>0.091000</td>\n",
              "      <td>0.089000</td>\n",
              "      <td>0.011000</td>\n",
              "      <td>-0.0060</td>\n",
              "      <td>0.012000</td>\n",
              "      <td>0.226000</td>\n",
              "      <td>-0.226000</td>\n",
              "      <td>0.30100</td>\n",
              "      <td>85</td>\n",
              "      <td>85</td>\n",
              "      <td>85</td>\n",
              "      <td>55</td>\n",
              "      <td>70</td>\n",
              "      <td>2.0</td>\n",
              "    </tr>\n",
              "    <tr>\n",
              "      <th>8</th>\n",
              "      <td>8</td>\n",
              "      <td>0.238000</td>\n",
              "      <td>0.252000</td>\n",
              "      <td>0.244000</td>\n",
              "      <td>0.009000</td>\n",
              "      <td>0.0000</td>\n",
              "      <td>0.010000</td>\n",
              "      <td>0.167000</td>\n",
              "      <td>-0.151000</td>\n",
              "      <td>0.37900</td>\n",
              "      <td>55</td>\n",
              "      <td>70</td>\n",
              "      <td>85</td>\n",
              "      <td>70</td>\n",
              "      <td>85</td>\n",
              "      <td>3.0</td>\n",
              "    </tr>\n",
              "  </tbody>\n",
              "</table>\n",
              "</div>"
            ],
            "text/plain": [
              "   Student  precision  ...  volumeControlMark   finalMark\n",
              "0        0   0.938462  ...                100         5.0\n",
              "1        1   0.400000  ...                 85         4.0\n",
              "2        2   0.527000  ...                 70         3.0\n",
              "3        3   0.210000  ...                100         4.0\n",
              "4        4   0.163000  ...                 85         4.0\n",
              "5        5   0.223000  ...                 85         3.0\n",
              "6        6   0.334000  ...                100         4.5\n",
              "7        7   0.088000  ...                 70         2.0\n",
              "8        8   0.238000  ...                 85         3.0\n",
              "\n",
              "[9 rows x 16 columns]"
            ]
          },
          "metadata": {
            "tags": []
          },
          "execution_count": 42
        }
      ]
    },
    {
      "cell_type": "code",
      "metadata": {
        "colab": {
          "base_uri": "https://localhost:8080/"
        },
        "id": "zyl3EjGYuDIT",
        "outputId": "495feb9a-7bf2-46d5-96c7-6efe0c03f167"
      },
      "source": [
        "onset_mean_list = df_all[\"Onset Mean\"].tolist()   \n",
        "print(onset_mean_list)\n",
        "#Student \tprecision \trecall \tf_measure_value \tOnset ABS Mean \tOnset Mean \tOnset Std \tDuration ABS Mean \tDuration Mean \tDuration Std \tonsetMark \tDurationMark \tarticulationMark \tsoundQualityMark \tvolumeControlMark \tfinalMark"
      ],
      "execution_count": 49,
      "outputs": [
        {
          "output_type": "stream",
          "text": [
            "[0.000499858, 0.0, -0.002, -0.004, 0.004, -0.001, 0.006, -0.006, 0.0]\n"
          ],
          "name": "stdout"
        }
      ]
    },
    {
      "cell_type": "markdown",
      "metadata": {
        "id": "ThcgwFdTuQUU"
      },
      "source": [
        ""
      ]
    },
    {
      "cell_type": "code",
      "metadata": {
        "id": "UcxxAWDsDKoP"
      },
      "source": [
        "#\n",
        "#\n",
        "#  This allows the generation of multiple histograms by passing the K parameter.\n",
        "#\n",
        "#\n",
        "def multiple_hist(deviationsArray1,deviationsArray2,title_text1,title_text2,student_grades,k):\n",
        "   student_stats1 = [] # onsets\n",
        "   student_stats2 = [] # durations\n",
        "   \n",
        "   #k = 0 # First student\n",
        "   plt.subplot(2,2,1)\n",
        "\n",
        "   print(type(deviationsArray1))\n",
        "   a = np.array(deviationsArray1[k])\n",
        "   print(type(a))\n",
        "   m, s = mean(a), sqrt(mean(a*a))\n",
        "   am = mean(abs(a))\n",
        "   onset_summary= \"Onset ABS Mean: %f, Onset Mean: %f,Dev. from 0: %f\" %(am, m, s)\n",
        "   title =   \"Student \" + str(k+1)+ title_text1\n",
        "\n",
        "   plt.title(title)\n",
        "   plt.figure(1, figsize=(9.5, 6))\n",
        "   plt.hist(a)\n",
        "\n",
        "   plt.subplot(2,2,2)\n",
        "   a = np.array(deviationsArray2[k])\n",
        "   m, s = mean(a), sqrt(mean(a*a))\n",
        "   am = mean(abs(a))\n",
        "   offset_summary= \"Offset ABS Mean: %f, Offset Mean: %f, Dev. from 0: %f\" %(am,m, s)\n",
        "   title =   \"Student \" + str(k+1)+ title_text2\n",
        "   plt.title(title)\n",
        "   plt.figure(1, figsize=(9.5, 6))\n",
        "   plt.hist(a)\n",
        "   plt.show()\n",
        "   print(\"Onset Grade = \", student_grades[k][0],\"\\t\" ,\"Offset Grade = \", student_grades[k][1])\n",
        "   print(\"\\n\")\n",
        "   print(onset_summary)\n",
        "   print(\"\\n\")\n",
        "   print(offset_summary)\n",
        "   print(\"\\n\")\n",
        "   print(\"Articulation Grade = \", student_grades[k][2],\"Sound Q Grade = \", student_grades[k][3], \"Volume Control Grade = \", student_grades[k][4])\n",
        "   print(\"Final Mark = \", student_grades[k][5])"
      ],
      "execution_count": 23,
      "outputs": []
    },
    {
      "cell_type": "code",
      "metadata": {
        "id": "EklnZxWVpL0r"
      },
      "source": [
        "multiple_hist(onset_dev_list,offset_dev_list,\" onsets\",\" offsets\",the_student_grades,0)\n"
      ],
      "execution_count": null,
      "outputs": []
    },
    {
      "cell_type": "code",
      "metadata": {
        "id": "QadIODTaxBKN"
      },
      "source": [
        "k=0\n",
        "# sonset_deviations,soffset_deviations,\n",
        "while k<8:\n",
        "   multiple_hist(onset_dev_list,offset_dev_list,\" onsets\",\" offsets\",the_student_grades,k)\n",
        "   k+=1\n"
      ],
      "execution_count": null,
      "outputs": []
    },
    {
      "cell_type": "code",
      "metadata": {
        "id": "iYl-B_ig2ISM"
      },
      "source": [
        "import csv  \n",
        "#onset_X, onset_mean, onset_std, duration_X, duration_mean, duration_std= \n",
        "# multiple_hist3(sonset_deviationsArray,sduration_deviationsArray,\" onsets\", \" durations\",the_student_grades,sp,sr,sf)\n",
        "\n",
        "def multiple_hist3(deviationsArray1,deviationsArray2,title_text1,title_text2,student_grades,sp,sr,sf):\n",
        "   header = [\"Student\",\"precision\",\"recall\",\"f_measure_value\",\"Onset ABS Mean\",\"Onset Mean\",\"Onset Std\",\n",
        "             \"Duration ABS Mean\",\"Duration Mean\",\"Duration Std\",\"onsetMark\",\" DurationMark\",\" articulationMark \",\"soundQualityMark\",\"volumeControlMark\",\" finalMark\"]\n",
        "   with open('drive/MyDrive/Bass/data/StudentStatistics.csv', 'w', encoding='UTF8') as f:\n",
        "      writer = csv.writer(f)\n",
        "      # write the header\n",
        "      writer.writerow(header)\n",
        "\n",
        "      studentStatistics = []\n",
        "      onset_X = []  # Martis mark\n",
        "      onset_amean = []\n",
        "      onset_mean = []\n",
        "      onset_std= []\n",
        "\n",
        "      duration_X = [] # Martis mark\n",
        "      duration_amean = []\n",
        "      duration_mean = []\n",
        "      duration_std= []\n",
        "\n",
        "      for k in range(len(the_student_grades)):\n",
        "          studentStatistics.append(str(k+1))\n",
        "          student_stats1 = [] # onsets\n",
        "          student_stats2 = [] # durations\n",
        "\n",
        "          plt.subplot(2,2,1)\n",
        "          a = np.array(deviationsArray1[k])\n",
        "          onset_m, onset_s = mean(a), sqrt(mean(a*a))\n",
        "          onset_am= mean(abs(a))\n",
        "          onset_summary= \"Onset ABS  Mean: %f,Onset Mean: %f, Dev. from 0: %f\" %(onset_am,onset_m, onset_s)\n",
        "          title =   \"Student \" + str(k+1)+ title_text1\n",
        "\n",
        "          onset_X.append( student_grades[k][0])  # Martis mark\n",
        "          onset_mean.append(onset_m)\n",
        "          onset_amean.append(onset_am)\n",
        "          onset_std.append(onset_s)\n",
        "\n",
        "          plt.title(title)\n",
        "          plt.figure(1, figsize=(9.5, 6))\n",
        "          plt.hist(a)\n",
        "\n",
        "          plt.subplot(2,2,2)\n",
        "          a = np.array(deviationsArray2[k])\n",
        "          duration_m, duration_s = mean(a), sqrt(mean(a*a))\n",
        "          duration_am= mean(abs(a))\n",
        "          duration_summary= \"Offset Mean: %f, Dev. from 0: %f\" %(duration_m, duration_s)\n",
        "          title =   \"Student \" + str(k+1)+ title_text2\n",
        "\n",
        "          duration_X.append( student_grades[k][0])  # Martis mark\n",
        "          duration_mean.append(duration_m)\n",
        "          duration_amean.append(duration_am)\n",
        "          duration_std.append(duration_s)\n",
        "\n",
        "          plt.title(title)\n",
        "          plt.figure(1, figsize=(9.5, 6))\n",
        "          plt.hist(a)\n",
        "\n",
        "          plt.show()\n",
        "          print(\"Onset Grade = \", student_grades[k][0],\"\\t\" ,\"Duration Grade = \", student_grades[k][1])\n",
        "          print(\"\\n\")\n",
        "          print(onset_summary)\n",
        "          print(\"\\n\")\n",
        "          print(duration_summary)\n",
        "          print(\"\\n\")\n",
        "          print(\"Articulation Grade = \", student_grades[k][2],\"Sound Control Grade = \", student_grades[k][3], \"Volume Control Grade = \", student_grades[0][4])\n",
        "          print(\"Final Mark = \", student_grades[k][5])\n",
        "          studentStatistics = []\n",
        "          studentStatistics.append(str(k+1))\n",
        "          studentStatistics.append(round(sp[k],3))\n",
        "          studentStatistics.append(round(sp[k],3))\n",
        "          studentStatistics.append(round(sp[k],3))\n",
        "          studentStatistics.append(round(onset_am,3))\n",
        "          studentStatistics.append(round(onset_m,3))\n",
        "          studentStatistics.append(round(onset_s,3))   \n",
        "          studentStatistics.append(round(duration_am,3))                   \n",
        "          studentStatistics.append(round(duration_m,3)) \n",
        "          studentStatistics.append(round(duration_s,3))   \n",
        "          studentStatistics.append(student_grades[k][0])\n",
        "          studentStatistics.append(student_grades[k][1])\n",
        "          studentStatistics.append(student_grades[k][2])\n",
        "          studentStatistics.append(student_grades[k][3])\n",
        "          studentStatistics.append(student_grades[k][4])\n",
        "          studentStatistics.append(student_grades[k][5])\n",
        "          # write the data\n",
        "          writer.writerow(studentStatistics)\n",
        "\n",
        "   return(onset_X, onset_mean, onset_std, duration_X, duration_mean, duration_std)\n",
        "# Capture a table of onset and grade\n"
      ],
      "execution_count": null,
      "outputs": []
    },
    {
      "cell_type": "code",
      "metadata": {
        "id": "utUMqb3Wlhvj"
      },
      "source": [
        "onset_X, onset_mean, onset_std, duration_X, duration_mean, duration_std= multiple_hist3(sonset_deviationsArray,soffset_deviationsArray,\" onsets\", \" offset\",the_student_grades,sp,sr,sf)"
      ],
      "execution_count": null,
      "outputs": []
    },
    {
      "cell_type": "code",
      "metadata": {
        "id": "nkCfnTIJcTb9"
      },
      "source": [
        "plt.plot(onset_X, onset_mean,'x')\n",
        "plt.show()\n",
        "plt.plot(onset_X, onset_std,'x')\n",
        "plt.show()"
      ],
      "execution_count": null,
      "outputs": []
    },
    {
      "cell_type": "code",
      "metadata": {
        "id": "7KO6OGReWo08"
      },
      "source": [
        "aggregate_hist_and_stats(sduration_deviationsArray,\"Student Deviations\")"
      ],
      "execution_count": null,
      "outputs": []
    },
    {
      "cell_type": "code",
      "metadata": {
        "id": "BOYBIIw91oTp"
      },
      "source": [
        "\n",
        "#################\n",
        "i1=fs*4\n",
        "i2= fs*12\n",
        "r= raw_audio[0][i1:i2]\n",
        "stud = student_audio[0][i1:i2]\n",
        "plt.plot(np.arange(r.size)/float(fs), r,'b')\n",
        "\n",
        "plt.plot(np.arange(stud.size)/float(fs), stud,'y')\n",
        "plt.axis([0,r.size/float(fs),min(r),max(r)])\n",
        "#for i in onsetIndexArray[0]:\n",
        "#    plt.axvline(x=i, color='red')\n",
        "plt.title(\"Student (y) Stem (b)\")\n",
        "plt.show()"
      ],
      "execution_count": null,
      "outputs": []
    },
    {
      "cell_type": "code",
      "metadata": {
        "id": "r_D6GrlgjoG-"
      },
      "source": [
        "std1_note_onset_grade = 85 \n",
        "#En esta pista la \"Note Onset Security\" es muy precisa. Solamente algunos desajustes un poco mas notables en el Chorus.\n",
        "# El groove principal estÃ¡ muy bien.\n",
        "std1_note_duration = 85 \n",
        "std1_note_articulate = 70\n",
        "std1_sound_quality = 85 # 'very good'\n",
        "std1_note_dynamics  = 85\n",
        "std1_note_global = 80\n"
      ],
      "execution_count": null,
      "outputs": []
    },
    {
      "cell_type": "code",
      "metadata": {
        "id": "wgT2wZ-n-s69"
      },
      "source": [
        "import pandas as pd\n",
        "print(len(duration_deviationsArray))"
      ],
      "execution_count": null,
      "outputs": []
    },
    {
      "cell_type": "code",
      "metadata": {
        "id": "5t-JzT-eSTCW"
      },
      "source": [
        "data_timing_duration0= { 'durations0' :duration_deviationsArray[0]}\n",
        "data_timing_onset0= { 'onsets0' :duration_deviationsArray[0]}\n"
      ],
      "execution_count": null,
      "outputs": []
    },
    {
      "cell_type": "code",
      "metadata": {
        "id": "jpcGZkNJPWcK"
      },
      "source": [
        "df = pd.DataFrame(data_timing_onset0,columns=['onsets0'])\n",
        "fig = px.histogram(df, x=\"onsets0\")\n",
        "fig.show()\n"
      ],
      "execution_count": null,
      "outputs": []
    },
    {
      "cell_type": "code",
      "metadata": {
        "id": "cuktqp1i26kq"
      },
      "source": [
        "import numpy as np\n",
        "#from sklearn.linear_model import LinearRegression\n",
        "\n",
        "import matplotlib.pyplot as plt\n",
        "import numpy as np\n",
        "from sklearn import datasets, linear_model\n",
        "from sklearn.metrics import mean_squared_error, r2_score\n",
        "\n",
        "Y\t= np.array([100,\t85,\t55,\t70,\t70,\t85,\t85,\t85,\t55] )\n",
        "\n",
        "#Train model\n",
        "# ABS MEAN\n",
        "\n",
        "\n",
        "#X1\t=np.array([0.027407,\t0.026,\t0.016,\t0.026,\t0.034,\t0.023,\t0.027,\t0.031,\t0.025]).reshape((-1, 1))\n",
        "#X2= \tnp.array( [1\t,45,\t13,\t88,\t115\t,90,\t50,\t42,\t60]).reshape((-1, 1))\n"
      ],
      "execution_count": null,
      "outputs": []
    },
    {
      "cell_type": "code",
      "metadata": {
        "id": "d422U0ARuwjT"
      },
      "source": [
        "Student\t= [0,1,2,3,4,5,6,7,8]\n",
        "x_precision\t\t= [0.996,0.802,0.885,0.488,0.44,0.553,0.759,0.482,0.617]\n",
        "x_recall\t\t= [0.958,0.802,0.885,0.488,0.44,0.553,0.759,0.482,0.617]\n",
        "x_f_measure_value\t\t= [0.977,0.802,0.885,0.488,0.44,0.553,0.759,0.482,0.617]\n",
        "x_Onset_ABS_Mean\t= [\t0.027407,0.026,0.016,0.026,0.034,0.023,0.027,0.031,0.025]\n",
        "x_Onset_Mean\t= [\t0.027407,0.017,0.003,-0.018,0.005,-0.001,0.027,-0.029,-0.001]\n",
        "x_Onset_Std\t\t= [0.031882,0.031,0.022,0.031,0.037,0.028,0.032,0.036,0.029]\n",
        "\n",
        "\n",
        "x_Duration_ABS_Mean\t\t= [0.038446,0.027,0.04,0.036,0.041,0.033,0.038,0.051,0.04]\n",
        "x_Duration_Mean\t=[\t0.00571,0.014,-0.033,-0.023,-0.02,-0.017,0.006,-0.02,-0.01]\n",
        "x_Duration_Std\t\t= [0.045769,0.035,0.046,0.043,0.048,0.04,0.046,0.054,0.047]"
      ],
      "execution_count": null,
      "outputs": []
    },
    {
      "cell_type": "code",
      "metadata": {
        "id": "5Xk50cNEr7BN",
        "colab": {
          "base_uri": "https://localhost:8080/"
        },
        "outputId": "a7fa14c2-4ca0-4035-b077-e7ef01156ccd"
      },
      "source": [
        "#Student \tprecision \trecall \tf_measure_value \tOnset ABS Mean \tOnset Mean \tOnset Std \tDuration ABS Mean \tDuration Mean \tDuration Std \t\n",
        "Student\t= [0,1,2,3,4,5,6,7,8]\n",
        "Student = df_all[\"Student\"].tolist()   \n",
        "x_precision\t\t= [0.996,0.802,0.885,0.488,0.44,0.553,0.759,0.482,0.617]\n",
        "x_precision = df_all[\"precision\"].tolist()  \n",
        "x_recall\t\t= [0.958,0.802,0.885,0.488,0.44,0.553,0.759,0.482,0.617]\n",
        "x_recall = df_all[\"recall\"].tolist()  \n",
        "x_f_measure_value\t\t= [0.977,0.802,0.885,0.488,0.44,0.553,0.759,0.482,0.617]\n",
        "x_f_measure_value = df_all[\"f_measure_value\"].tolist()  \n",
        "x_Onset_ABS_Mean\t= [\t0.027407,0.026,0.016,0.026,0.034,0.023,0.027,0.031,0.025]\n",
        "x_Onset_ABS_Mean = df_all[\"Onset ABS Mean\"].tolist()  \n",
        "x_Onset_Mean\t= [\t0.027407,0.017,0.003,-0.018,0.005,-0.001,0.027,-0.029,-0.001]\n",
        "x_Onset_Mean = df_all[\"Onset Mean\"].tolist()  \n",
        "x_Onset_Std\t\t= [0.031882,0.031,0.022,0.031,0.037,0.028,0.032,0.036,0.029]\n",
        "x_Onset_Std = df_all[\"Onset Std\"].tolist()  \n",
        "\n",
        "\n",
        "x_Duration_ABS_Mean\t\t= [0.038446,0.027,0.04,0.036,0.041,0.033,0.038,0.051,0.04]\n",
        "x_Duration_ABS_Mean = df_all[\"Duration ABS Mean\"].tolist()  \n",
        "x_Duration_Mean\t=[\t0.00571,0.014,-0.033,-0.023,-0.02,-0.017,0.006,-0.02,-0.01]\n",
        "x_Duration_Mean = df_all[\"Duration Mean\"].tolist()  \n",
        "x_Duration_Std\t\t= [0.045769,0.035,0.046,0.043,0.048,0.04,0.046,0.054,0.047]\n",
        "x_Duration_Std = df_all[\"Duration Std\"].tolist()  \n",
        "#Articulation Y  conisder X onset infor and X offsetr info\n",
        "\n",
        "# Final Y conisder X onset infor and X offset info\n",
        "# You can take all coumns \n",
        "\n",
        "#onsetMark \tDurationMark \tarticulationMark \tsoundQualityMark \tvolumeControlMark \tfinalMark\n",
        "\n",
        "# For these 4 Y values create separet Linear regression Models\n",
        "# Fluencey = Timing + Pitch in Trinity\n",
        "# Y1\n",
        "y_onsetMark\t\t=array( [100,85,55,70,70,85,85,85,55])\n",
        "y_onsetMark\t\t= df_all[\"Duration Std\"].tolist()  \n",
        "# Y2\n",
        "y_DurationMark\t\t=array( [100,85,70,85,85,85,100,85,70])\n",
        "y_DurationMark\t\t= df_all[\" DurationMark\"].tolist()  \n",
        "# Then you have Technh¡'ical focus.\n",
        "\n",
        "# rhythm  everything   Duration Mean \tDuration Std \t\n",
        "#Y3 articulation TF\n",
        "y_articulationMark\t=array( [100,70,70,85,85,70,100,85,85])\n",
        "y_articulationMark\t=  df_all[\" articulationMark \"].tolist() \n",
        "\n",
        "\n",
        "\n",
        "\n",
        "################\"soundQualityMark\",\"volumeControlMark\"########################################################33\n",
        "#\n",
        "y_soundQualityMark\t\t= array([100,85,70,85,85,85,85,55,70])\n",
        "y_soundQualityMark\t\t= df_all[\"soundQualityMark\"].tolist()\n",
        "y_volumeControlMark\t\t= array([100,85,70,100,85,85,100,70,85])\n",
        "y_volumeControlMark\t\t= df_all[\"volumeControlMark\"].tolist()\n",
        "y_finalMark\t\t=  array([5,4,3,4,4,3,4.5,2,3])\n",
        "y_finalMark\t\t=  df_all[\" finalMark\"].tolist() \n",
        "\n",
        "X= array([x_precision,\tx_recall\t,x_f_measure_value\t,x_Onset_ABS_Mean,x_Onset_Mean,x_Onset_Std,x_Duration_ABS_Mean,x_Duration_Mean,x_Duration_Std])\n",
        "print(X.shape)\n",
        "Xnew= X.transpose()"
      ],
      "execution_count": 57,
      "outputs": [
        {
          "output_type": "stream",
          "text": [
            "(9, 9)\n"
          ],
          "name": "stdout"
        }
      ]
    },
    {
      "cell_type": "code",
      "metadata": {
        "id": "VSX7cmjFKjwQ"
      },
      "source": [
        "\n",
        "X = Xnew[:, np.newaxis, 3]\n",
        "print(X)"
      ],
      "execution_count": null,
      "outputs": []
    },
    {
      "cell_type": "code",
      "metadata": {
        "id": "CyXWTO5GD4FT",
        "colab": {
          "base_uri": "https://localhost:8080/",
          "height": 299
        },
        "outputId": "da80eea2-0197-4920-ebcf-db678664d502"
      },
      "source": [
        "from sklearn import linear_model\n",
        "\n",
        "y = y_onsetMark\n",
        "# Split the data into training/testing sets\n",
        "X_train = X[:-5]\n",
        "X_test = X[-5:]\n",
        "\n",
        "# Split the targets into training/testing sets\n",
        "y_train = y[:-5]\n",
        "y_test = y[-5:]\n",
        "\n",
        "# Create linear regression object\n",
        "regr = linear_model.LinearRegression()\n",
        "\n",
        "# Train the model using the training sets\n",
        "regr.fit(X_train, y_train)\n",
        "\n",
        "# Make predictions using the testing set\n",
        "y_pred = regr.predict(X_test)\n",
        "# The coefficients\n",
        "print('Coefficients: \\n', regr.coef_)\n",
        "# The mean squared error\n",
        "print('Mean squared error: %.2f' % mean_squared_error(y_test, y_pred))\n",
        "# The coefficient of determination: 1 is perfect prediction\n",
        "print('Coefficient of determination: %.2f' % r2_score(y_test, y_pred))\n",
        "\n",
        "# Plot outputs\n",
        "plt.scatter(X_test, y_test,  color='black')\n",
        "plt.plot(X_test, y_pred, color='blue', linewidth=3)\n",
        "\n",
        "#plt.xticks(())\n",
        "#plt.yticks(())\n",
        "plt.show()"
      ],
      "execution_count": 62,
      "outputs": [
        {
          "output_type": "stream",
          "text": [
            "Coefficients: \n",
            " [-14.892622   24.070356   -1.0169766 -29.975222  -24.401022   17.780228\n",
            "  -4.3757496  22.359966   46.7418   ]\n"
          ],
          "name": "stdout"
        },
        {
          "output_type": "error",
          "ename": "NameError",
          "evalue": "ignored",
          "traceback": [
            "\u001b[0;31m---------------------------------------------------------------------------\u001b[0m",
            "\u001b[0;31mNameError\u001b[0m                                 Traceback (most recent call last)",
            "\u001b[0;32m<ipython-input-62-7f4eacac6036>\u001b[0m in \u001b[0;36m<module>\u001b[0;34m()\u001b[0m\n\u001b[1;32m     21\u001b[0m \u001b[0mprint\u001b[0m\u001b[0;34m(\u001b[0m\u001b[0;34m'Coefficients: \\n'\u001b[0m\u001b[0;34m,\u001b[0m \u001b[0mregr\u001b[0m\u001b[0;34m.\u001b[0m\u001b[0mcoef_\u001b[0m\u001b[0;34m)\u001b[0m\u001b[0;34m\u001b[0m\u001b[0;34m\u001b[0m\u001b[0m\n\u001b[1;32m     22\u001b[0m \u001b[0;31m# The mean squared error\u001b[0m\u001b[0;34m\u001b[0m\u001b[0;34m\u001b[0m\u001b[0;34m\u001b[0m\u001b[0m\n\u001b[0;32m---> 23\u001b[0;31m \u001b[0mprint\u001b[0m\u001b[0;34m(\u001b[0m\u001b[0;34m'Mean squared error: %.2f'\u001b[0m \u001b[0;34m%\u001b[0m \u001b[0mmean_squared_error\u001b[0m\u001b[0;34m(\u001b[0m\u001b[0my_test\u001b[0m\u001b[0;34m,\u001b[0m \u001b[0my_pred\u001b[0m\u001b[0;34m)\u001b[0m\u001b[0;34m)\u001b[0m\u001b[0;34m\u001b[0m\u001b[0;34m\u001b[0m\u001b[0m\n\u001b[0m\u001b[1;32m     24\u001b[0m \u001b[0;31m# The coefficient of determination: 1 is perfect prediction\u001b[0m\u001b[0;34m\u001b[0m\u001b[0;34m\u001b[0m\u001b[0;34m\u001b[0m\u001b[0m\n\u001b[1;32m     25\u001b[0m \u001b[0mprint\u001b[0m\u001b[0;34m(\u001b[0m\u001b[0;34m'Coefficient of determination: %.2f'\u001b[0m \u001b[0;34m%\u001b[0m \u001b[0mr2_score\u001b[0m\u001b[0;34m(\u001b[0m\u001b[0my_test\u001b[0m\u001b[0;34m,\u001b[0m \u001b[0my_pred\u001b[0m\u001b[0;34m)\u001b[0m\u001b[0;34m)\u001b[0m\u001b[0;34m\u001b[0m\u001b[0;34m\u001b[0m\u001b[0m\n",
            "\u001b[0;31mNameError\u001b[0m: name 'mean_squared_error' is not defined"
          ]
        }
      ]
    },
    {
      "cell_type": "code",
      "metadata": {
        "id": "E6grX4kGDz-t"
      },
      "source": [
        ""
      ],
      "execution_count": null,
      "outputs": []
    },
    {
      "cell_type": "code",
      "metadata": {
        "id": "c5VagK_4-l1N",
        "colab": {
          "base_uri": "https://localhost:8080/",
          "height": 565
        },
        "outputId": "9b103a04-99fb-405a-dc5a-7f289460fe4e"
      },
      "source": [
        "reg = linear_model.LinearRegression().fit(Xnew, y)\n",
        "print(reg)\n",
        "##################### Load the diabetes dataset\n",
        "######################################\n",
        "#regr.fit(diabetes_X_train, diabetes_y_train)\n",
        "regr.fit(X, y)\n",
        "y_pred = regr.predict(X)\n",
        "plt.plot(X,y, 'x')\n",
        "plt.show()\n",
        "\t\t\t\t\t\t\t\t\t\n",
        "# The coefficients\n",
        "print('Coefficients: \\n', regr.coef_)\n",
        "# The mean absolute error\n",
        "print('Mean abs  error: %.2f'      % mean_absolute_error(y, y_pred))\n",
        "\n",
        "# The coefficient of determination: 1 is perfect prediction\n",
        "print('Coefficient of determination: %.2f'\n",
        "      % r2_score(Y, y_pred))\n",
        "plt.plot(X2,Y, 'x')\n",
        "plt.show()\n",
        "plt.xticks(())\n",
        "plt.yticks(())\n",
        "plt.show()"
      ],
      "execution_count": 67,
      "outputs": [
        {
          "output_type": "stream",
          "text": [
            "LinearRegression(copy_X=True, fit_intercept=True, n_jobs=None, normalize=False)\n"
          ],
          "name": "stdout"
        },
        {
          "output_type": "display_data",
          "data": {
            "image/png": "[encoded data removed]",
            "text/plain": [
              "<Figure size 432x288 with 1 Axes>"
            ]
          },
          "metadata": {
            "tags": [],
            "needs_background": "light"
          }
        },
        {
          "output_type": "stream",
          "text": [
            "Coefficients: \n",
            " [-23.029951  34.91157   35.997116 -89.13785  -21.91992   60.18738\n",
            "  -4.413988  11.484025  -8.208737]\n"
          ],
          "name": "stdout"
        },
        {
          "output_type": "error",
          "ename": "NameError",
          "evalue": "ignored",
          "traceback": [
            "\u001b[0;31m---------------------------------------------------------------------------\u001b[0m",
            "\u001b[0;31mNameError\u001b[0m                                 Traceback (most recent call last)",
            "\u001b[0;32m<ipython-input-67-dab4964fea77>\u001b[0m in \u001b[0;36m<module>\u001b[0;34m()\u001b[0m\n\u001b[1;32m     12\u001b[0m \u001b[0mprint\u001b[0m\u001b[0;34m(\u001b[0m\u001b[0;34m'Coefficients: \\n'\u001b[0m\u001b[0;34m,\u001b[0m \u001b[0mregr\u001b[0m\u001b[0;34m.\u001b[0m\u001b[0mcoef_\u001b[0m\u001b[0;34m)\u001b[0m\u001b[0;34m\u001b[0m\u001b[0;34m\u001b[0m\u001b[0m\n\u001b[1;32m     13\u001b[0m \u001b[0;31m# The mean absolute error\u001b[0m\u001b[0;34m\u001b[0m\u001b[0;34m\u001b[0m\u001b[0;34m\u001b[0m\u001b[0m\n\u001b[0;32m---> 14\u001b[0;31m \u001b[0mprint\u001b[0m\u001b[0;34m(\u001b[0m\u001b[0;34m'Mean abs  error: %.2f'\u001b[0m      \u001b[0;34m%\u001b[0m \u001b[0mmean_absolute_error\u001b[0m\u001b[0;34m(\u001b[0m\u001b[0my\u001b[0m\u001b[0;34m,\u001b[0m \u001b[0my_pred\u001b[0m\u001b[0;34m)\u001b[0m\u001b[0;34m)\u001b[0m\u001b[0;34m\u001b[0m\u001b[0;34m\u001b[0m\u001b[0m\n\u001b[0m\u001b[1;32m     15\u001b[0m \u001b[0;34m\u001b[0m\u001b[0m\n\u001b[1;32m     16\u001b[0m \u001b[0;31m# The coefficient of determination: 1 is perfect prediction\u001b[0m\u001b[0;34m\u001b[0m\u001b[0;34m\u001b[0m\u001b[0;34m\u001b[0m\u001b[0m\n",
            "\u001b[0;31mNameError\u001b[0m: name 'mean_absolute_error' is not defined"
          ]
        }
      ]
    },
    {
      "cell_type": "code",
      "metadata": {
        "id": "AzU6pUAU-m_S",
        "colab": {
          "base_uri": "https://localhost:8080/"
        },
        "outputId": "81730f61-4fd5-406b-bd47-c1fb481c54d2"
      },
      "source": [
        "print(X.shape)\n",
        "X_new = X.transpose()\n",
        "print(X_new.shape)"
      ],
      "execution_count": 68,
      "outputs": [
        {
          "output_type": "stream",
          "text": [
            "(9, 9)\n",
            "(9, 9)\n"
          ],
          "name": "stdout"
        }
      ]
    },
    {
      "cell_type": "code",
      "metadata": {
        "id": "sMzEY-syCZ0i",
        "colab": {
          "base_uri": "https://localhost:8080/",
          "height": 281
        },
        "outputId": "04a111fc-621f-4bbd-b62e-de3845699840"
      },
      "source": [
        "from sklearn.model_selection import LeaveOneOut\n",
        "#X = np.array([[1, 2], [3, 4]])\n",
        "X= array([x_precision,\tx_recall\t,x_f_measure_value\t,x_Onset_ABS_Mean,x_Onset_Std,x_Duration_ABS_Mean,x_Duration_Std])\n",
        "\n",
        "y = y_finalMark #np.array([1, 2])\n",
        "loo = LeaveOneOut()\n",
        "loo.get_n_splits(X)\n",
        "\n",
        "print(loo)\n",
        "for train_index, test_index in loo.split(X):\n",
        "     print(\"TRAIN:\", train_index, \"TEST:\", test_index)\n",
        "     X_train, X_test = X[train_index], X[test_index]\n",
        "     y_train, y_test = y[train_index], y[test_index]\n",
        "     print(X_train, X_test, y_train, y_test)\n",
        "\"\"\"\n",
        "TRAIN: [1] TEST: [0]\n",
        "[[3 4]] [[1 2]] [2] [1]\n",
        "TRAIN: [0] TEST: [1]\n",
        "# Use only one feature\n",
        "#X = X[:, np.newaxis, 2]\n",
        "\"\"\"\n",
        "\n",
        "\n"
      ],
      "execution_count": 69,
      "outputs": [
        {
          "output_type": "stream",
          "text": [
            "LeaveOneOut()\n",
            "TRAIN: [1 2 3 4 5 6] TEST: [0]\n"
          ],
          "name": "stdout"
        },
        {
          "output_type": "error",
          "ename": "TypeError",
          "evalue": "ignored",
          "traceback": [
            "\u001b[0;31m---------------------------------------------------------------------------\u001b[0m",
            "\u001b[0;31mTypeError\u001b[0m                                 Traceback (most recent call last)",
            "\u001b[0;32m<ipython-input-69-8863d8c76090>\u001b[0m in \u001b[0;36m<module>\u001b[0;34m()\u001b[0m\n\u001b[1;32m     11\u001b[0m      \u001b[0mprint\u001b[0m\u001b[0;34m(\u001b[0m\u001b[0;34m\"TRAIN:\"\u001b[0m\u001b[0;34m,\u001b[0m \u001b[0mtrain_index\u001b[0m\u001b[0;34m,\u001b[0m \u001b[0;34m\"TEST:\"\u001b[0m\u001b[0;34m,\u001b[0m \u001b[0mtest_index\u001b[0m\u001b[0;34m)\u001b[0m\u001b[0;34m\u001b[0m\u001b[0;34m\u001b[0m\u001b[0m\n\u001b[1;32m     12\u001b[0m      \u001b[0mX_train\u001b[0m\u001b[0;34m,\u001b[0m \u001b[0mX_test\u001b[0m \u001b[0;34m=\u001b[0m \u001b[0mX\u001b[0m\u001b[0;34m[\u001b[0m\u001b[0mtrain_index\u001b[0m\u001b[0;34m]\u001b[0m\u001b[0;34m,\u001b[0m \u001b[0mX\u001b[0m\u001b[0;34m[\u001b[0m\u001b[0mtest_index\u001b[0m\u001b[0;34m]\u001b[0m\u001b[0;34m\u001b[0m\u001b[0;34m\u001b[0m\u001b[0m\n\u001b[0;32m---> 13\u001b[0;31m      \u001b[0my_train\u001b[0m\u001b[0;34m,\u001b[0m \u001b[0my_test\u001b[0m \u001b[0;34m=\u001b[0m \u001b[0my\u001b[0m\u001b[0;34m[\u001b[0m\u001b[0mtrain_index\u001b[0m\u001b[0;34m]\u001b[0m\u001b[0;34m,\u001b[0m \u001b[0my\u001b[0m\u001b[0;34m[\u001b[0m\u001b[0mtest_index\u001b[0m\u001b[0;34m]\u001b[0m\u001b[0;34m\u001b[0m\u001b[0;34m\u001b[0m\u001b[0m\n\u001b[0m\u001b[1;32m     14\u001b[0m      \u001b[0mprint\u001b[0m\u001b[0;34m(\u001b[0m\u001b[0mX_train\u001b[0m\u001b[0;34m,\u001b[0m \u001b[0mX_test\u001b[0m\u001b[0;34m,\u001b[0m \u001b[0my_train\u001b[0m\u001b[0;34m,\u001b[0m \u001b[0my_test\u001b[0m\u001b[0;34m)\u001b[0m\u001b[0;34m\u001b[0m\u001b[0;34m\u001b[0m\u001b[0m\n\u001b[1;32m     15\u001b[0m \"\"\"\n",
            "\u001b[0;31mTypeError\u001b[0m: only integer scalar arrays can be converted to a scalar index"
          ]
        }
      ]
    },
    {
      "cell_type": "code",
      "metadata": {
        "id": "GTKsbKCDXJYo",
        "colab": {
          "base_uri": "https://localhost:8080/"
        },
        "outputId": "dd68f926-2e02-4a15-e7ec-cb9b2347fd88"
      },
      "source": [
        "print(len(X))\n",
        "print(len(X[0]))\n",
        "print(type(X))"
      ],
      "execution_count": 70,
      "outputs": [
        {
          "output_type": "stream",
          "text": [
            "7\n",
            "9\n",
            "<class 'numpy.ndarray'>\n"
          ],
          "name": "stdout"
        }
      ]
    },
    {
      "cell_type": "code",
      "metadata": {
        "id": "ovj0ntfKSdXe",
        "colab": {
          "base_uri": "https://localhost:8080/",
          "height": 507
        },
        "outputId": "642a6b2d-189a-4e13-8795-04e9268a6c30"
      },
      "source": [
        "# Split the data into training/testing sets\n",
        "X= array([x_precision,\tx_recall\t,x_f_measure_value\t,x_Onset_ABS_Mean,x_Onset_Std,x_Duration_ABS_Mean,x_Duration_Std])\n",
        "\n",
        "y = y_finalMark #np.array([1, 2])\n",
        "# Use only one feature\n",
        "X = X[:, np.newaxis, 3]\n",
        "\n",
        "\n",
        "# Split the targets into training/testing sets\n",
        "\"\"\"\n",
        "X_train =X[0:4]\n",
        "X_test = X[4:8]\n",
        "\n",
        "# Split the targets into training/testing sets\n",
        "y_train = y[0:4]\n",
        "y_test = y[4:8]\n",
        "\"\"\"\n",
        "# Split the data into training/testing sets\n",
        "X_train =X[0:7]\n",
        "X_test = X[1:8]\n",
        "\n",
        "# Split the targets into training/testing sets\n",
        "y_train = y[0:7]\n",
        "y_test = y[1:8]\n",
        "#print(X_train,X_test,y_train,y_test)\n",
        "# Create linear regression object\n",
        "regr = linear_model.LinearRegression()\n",
        "\n",
        "\n",
        "#print((X_train),(y_train))\n",
        "\n",
        "# Train the model using the training sets\n",
        "regr.fit(X_train, y_train)\n",
        "\n",
        "# Make predictions using the testing set\n",
        "y_pred = regr.predict(X_test)\n",
        "##HACK!\n",
        "#print(y_test, type(y_pred))\n",
        "y_pred=np.append(y_pred,y_pred[len(y_pred)-1])\n",
        "# The coefficients\n",
        "print('Coefficients: \\n', regr.coef_)\n",
        "\n",
        "\n",
        "#print('Mean abs error: %.2f'    % mean_absolute_error(y_test, y_pred))\n",
        "# The coefficient of determination: 1 is perfect prediction\n",
        "#print('Coefficient of determination: %.2f'% r2_score(y_test, y_pred))\n",
        "\n",
        "# Plot outputs\n",
        "print((X_test),(y_test))\n",
        "plt.scatter(X_test, y_test[0:len(y_test)-1],  color='black')\n",
        "print((X_test),(y_pred))\n",
        "plt.plot(X_test, y_pred[0:len(y_pred)-1], color='blue', linewidth=3)\n",
        "\n",
        "plt.xticks(())\n",
        "plt.yticks(())\n",
        "\n",
        "plt.show()"
      ],
      "execution_count": 74,
      "outputs": [
        {
          "output_type": "stream",
          "text": [
            "Coefficients: \n",
            " [0.9034423]\n",
            "[[0.199]\n",
            " [0.205]\n",
            " [0.011]\n",
            " [0.012]\n",
            " [0.03 ]\n",
            " [0.049]] [4.0, 3.0, 4.0, 4.0, 3.0, 4.5, 2.0]\n",
            "[[0.199]\n",
            " [0.205]\n",
            " [0.011]\n",
            " [0.012]\n",
            " [0.03 ]\n",
            " [0.049]] [4.0159473 4.021368  3.8461    3.8470037 3.8632655 3.880431  3.880431 ]\n"
          ],
          "name": "stdout"
        },
        {
          "output_type": "display_data",
          "data": {
            "image/png": "[encoded data removed]",
            "text/plain": [
              "<Figure size 432x288 with 1 Axes>"
            ]
          },
          "metadata": {
            "tags": []
          }
        }
      ]
    },
    {
      "cell_type": "code",
      "metadata": {
        "id": "euJiSY9_D6KF",
        "colab": {
          "base_uri": "https://localhost:8080/"
        },
        "outputId": "b46726de-00d7-41f4-d53e-3587326612f7"
      },
      "source": [
        "\n",
        "import matplotlib.pyplot as plt\n",
        "import numpy as np\n",
        "from sklearn import datasets, linear_model\n",
        "from sklearn.metrics import mean_squared_error, r2_score\n",
        "\n",
        "# Load the diabetes dataset\n",
        "X, y = datasets.load_diabetes(return_X_y=True)\n",
        "\n",
        "\n",
        "xp = \t[0.996\t,0.802,\t0.885,\t0.488\t,0.44\t,0.553,\t0.759,\t0.482\t,0.617]\n",
        "xr= [0.958,\t0.802,\t0.885,\t0.488,\t0.44,\t0.553,\t0.759,\t0.482,\t0.617]\n",
        "xf = \t[0.977,\t0.802,\t0.885,\t0.488,\t0.44,\t0.553,\t0.759,\t0.482,\t0.617]\n",
        "Y\t= [100,\t85,\t55,\t70,\t70,\t85,\t85,\t85,\t55]\n",
        "print(type(X[2]))\n",
        "\n"
      ],
      "execution_count": 75,
      "outputs": [
        {
          "output_type": "stream",
          "text": [
            "<class 'numpy.ndarray'>\n"
          ],
          "name": "stdout"
        }
      ]
    },
    {
      "cell_type": "code",
      "metadata": {
        "id": "MYGB0Pz0Gj4S"
      },
      "source": [
        "import pandas as pd\n",
        "import numpy as np\n",
        "import matplotlib.pyplot as plt\n"
      ],
      "execution_count": 76,
      "outputs": []
    },
    {
      "cell_type": "code",
      "metadata": {
        "id": "vvEw5vkLTeOu"
      },
      "source": [
        "!ls "
      ],
      "execution_count": null,
      "outputs": []
    },
    {
      "cell_type": "code",
      "metadata": {
        "id": "Q6g_R1jl-VuP"
      },
      "source": [
        ""
      ],
      "execution_count": null,
      "outputs": []
    },
    {
      "cell_type": "code",
      "metadata": {
        "id": "CDyDJy8YSnkJ"
      },
      "source": [
        "dataset = pd.read_csv('drive/MyDrive/Bass/StudentStatistics_BillieJean.csv')"
      ],
      "execution_count": 77,
      "outputs": []
    },
    {
      "cell_type": "code",
      "metadata": {
        "id": "QoXve78BJrBF"
      },
      "source": [
        ""
      ],
      "execution_count": null,
      "outputs": []
    },
    {
      "cell_type": "code",
      "metadata": {
        "id": "elXczaorTqoP"
      },
      "source": [
        "dataset.head()"
      ],
      "execution_count": null,
      "outputs": []
    },
    {
      "cell_type": "code",
      "metadata": {
        "id": "6uSCgeIuTt-Y"
      },
      "source": [
        "dataset.describe()"
      ],
      "execution_count": null,
      "outputs": []
    },
    {
      "cell_type": "code",
      "metadata": {
        "id": "SQdhtPm7T2dX"
      },
      "source": [
        "from sklearn.linear_model import LinearRegression\n",
        "from sklearn.model_selection import train_test_split\n",
        "from sklearn import metrics\n",
        "#X = dataset[['P', 'R', 'F',  ' ABS Mean Onset','Mean  Onset','Std Onset',' ABS Mean Duration','Mean Duration','Std Duration']]\n",
        "X = dataset[['precision', 'recall', 'f_measure_value',  'Onset ABS Mean','Onset Mean','Onset Std']]\n",
        "print(X.shape)\n",
        "y=array(dataset['onsetMark'])\n",
        "\n",
        "regressor = LinearRegression()\n",
        "regressor.fit(X_train, y_train)\n",
        "coeff_df = pd.DataFrame(regressor.coef_, X.columns, columns=['Coefficient'])\n",
        "y_pred = regressor.predict(X_test)\n",
        "X_train, X_test, y_train, y_test = train_test_split(X, y, test_size=0.3, random_state=0)\n",
        "regressor = LinearRegression()\n",
        "regressor.fit(X_train, y_train)\n",
        "y_pred = regressor.predict(X_test)\n",
        "df = pd.DataFrame({'Actual': y_test, 'Predicted': y_pred})\n",
        "df\n",
        "\n",
        "print('Mean Absolute Error:', metrics.mean_absolute_error(y_test, y_pred))\n",
        "print('Root Mean Squared Error:', np.sqrt(metrics.mean_squared_error(y_test, y_pred)))\n"
      ],
      "execution_count": null,
      "outputs": []
    },
    {
      "cell_type": "code",
      "metadata": {
        "id": "aju6nZtqCm1Z"
      },
      "source": [
        "df"
      ],
      "execution_count": null,
      "outputs": []
    },
    {
      "cell_type": "code",
      "metadata": {
        "id": "0h3QpYi6YN2S",
        "colab": {
          "base_uri": "https://localhost:8080/",
          "height": 396
        },
        "outputId": "124e3d43-4019-4806-c8b3-fe0bd0956e56"
      },
      "source": [
        "Xd = dataset[['P', 'R', 'F',  ' ABS Mean Duration','Mean Duration','Std Duration']]\n",
        "print(X.shape)\n",
        "yd=array(dataset['Duration'])\n",
        "regressor = LinearRegression()\n",
        "regressor.fit(Xd_train, yd_train)\n",
        "coeff_df = pd.DataFrame(regressor.coef_, X.columns, columns=['Coefficient'])\n",
        "yd_pred = regressor.predict(X_test)\n",
        "Xd_train, Xd_test, yd_train, yd_test = train_test_split(Xd, yd, test_size=0.3, random_state=0)\n",
        "regressor = LinearRegression()\n",
        "regressor.fit(Xd_train, yd_train)\n",
        "y_pred = regressor.predict(Xd_test)\n",
        "df = pd.DataFrame({'Actual': yd_test, 'Predicted': yd_pred})\n",
        "df"
      ],
      "execution_count": 78,
      "outputs": [
        {
          "output_type": "error",
          "ename": "KeyError",
          "evalue": "ignored",
          "traceback": [
            "\u001b[0;31m---------------------------------------------------------------------------\u001b[0m",
            "\u001b[0;31mKeyError\u001b[0m                                  Traceback (most recent call last)",
            "\u001b[0;32m<ipython-input-78-01953d35d4dc>\u001b[0m in \u001b[0;36m<module>\u001b[0;34m()\u001b[0m\n\u001b[0;32m----> 1\u001b[0;31m \u001b[0mXd\u001b[0m \u001b[0;34m=\u001b[0m \u001b[0mdataset\u001b[0m\u001b[0;34m[\u001b[0m\u001b[0;34m[\u001b[0m\u001b[0;34m'P'\u001b[0m\u001b[0;34m,\u001b[0m \u001b[0;34m'R'\u001b[0m\u001b[0;34m,\u001b[0m \u001b[0;34m'F'\u001b[0m\u001b[0;34m,\u001b[0m  \u001b[0;34m' ABS Mean Duration'\u001b[0m\u001b[0;34m,\u001b[0m\u001b[0;34m'Mean Duration'\u001b[0m\u001b[0;34m,\u001b[0m\u001b[0;34m'Std Duration'\u001b[0m\u001b[0;34m]\u001b[0m\u001b[0;34m]\u001b[0m\u001b[0;34m\u001b[0m\u001b[0;34m\u001b[0m\u001b[0m\n\u001b[0m\u001b[1;32m      2\u001b[0m \u001b[0mprint\u001b[0m\u001b[0;34m(\u001b[0m\u001b[0mX\u001b[0m\u001b[0;34m.\u001b[0m\u001b[0mshape\u001b[0m\u001b[0;34m)\u001b[0m\u001b[0;34m\u001b[0m\u001b[0;34m\u001b[0m\u001b[0m\n\u001b[1;32m      3\u001b[0m \u001b[0myd\u001b[0m\u001b[0;34m=\u001b[0m\u001b[0marray\u001b[0m\u001b[0;34m(\u001b[0m\u001b[0mdataset\u001b[0m\u001b[0;34m[\u001b[0m\u001b[0;34m'Duration'\u001b[0m\u001b[0;34m]\u001b[0m\u001b[0;34m)\u001b[0m\u001b[0;34m\u001b[0m\u001b[0;34m\u001b[0m\u001b[0m\n\u001b[1;32m      4\u001b[0m \u001b[0mregressor\u001b[0m \u001b[0;34m=\u001b[0m \u001b[0mLinearRegression\u001b[0m\u001b[0;34m(\u001b[0m\u001b[0;34m)\u001b[0m\u001b[0;34m\u001b[0m\u001b[0;34m\u001b[0m\u001b[0m\n\u001b[1;32m      5\u001b[0m \u001b[0mregressor\u001b[0m\u001b[0;34m.\u001b[0m\u001b[0mfit\u001b[0m\u001b[0;34m(\u001b[0m\u001b[0mXd_train\u001b[0m\u001b[0;34m,\u001b[0m \u001b[0myd_train\u001b[0m\u001b[0;34m)\u001b[0m\u001b[0;34m\u001b[0m\u001b[0;34m\u001b[0m\u001b[0m\n",
            "\u001b[0;32m/usr/local/lib/python3.7/dist-packages/pandas/core/frame.py\u001b[0m in \u001b[0;36m__getitem__\u001b[0;34m(self, key)\u001b[0m\n\u001b[1;32m   2910\u001b[0m             \u001b[0;32mif\u001b[0m \u001b[0mis_iterator\u001b[0m\u001b[0;34m(\u001b[0m\u001b[0mkey\u001b[0m\u001b[0;34m)\u001b[0m\u001b[0;34m:\u001b[0m\u001b[0;34m\u001b[0m\u001b[0;34m\u001b[0m\u001b[0m\n\u001b[1;32m   2911\u001b[0m                 \u001b[0mkey\u001b[0m \u001b[0;34m=\u001b[0m \u001b[0mlist\u001b[0m\u001b[0;34m(\u001b[0m\u001b[0mkey\u001b[0m\u001b[0;34m)\u001b[0m\u001b[0;34m\u001b[0m\u001b[0;34m\u001b[0m\u001b[0m\n\u001b[0;32m-> 2912\u001b[0;31m             \u001b[0mindexer\u001b[0m \u001b[0;34m=\u001b[0m \u001b[0mself\u001b[0m\u001b[0;34m.\u001b[0m\u001b[0mloc\u001b[0m\u001b[0;34m.\u001b[0m\u001b[0m_get_listlike_indexer\u001b[0m\u001b[0;34m(\u001b[0m\u001b[0mkey\u001b[0m\u001b[0;34m,\u001b[0m \u001b[0maxis\u001b[0m\u001b[0;34m=\u001b[0m\u001b[0;36m1\u001b[0m\u001b[0;34m,\u001b[0m \u001b[0mraise_missing\u001b[0m\u001b[0;34m=\u001b[0m\u001b[0;32mTrue\u001b[0m\u001b[0;34m)\u001b[0m\u001b[0;34m[\u001b[0m\u001b[0;36m1\u001b[0m\u001b[0;34m]\u001b[0m\u001b[0;34m\u001b[0m\u001b[0;34m\u001b[0m\u001b[0m\n\u001b[0m\u001b[1;32m   2913\u001b[0m \u001b[0;34m\u001b[0m\u001b[0m\n\u001b[1;32m   2914\u001b[0m         \u001b[0;31m# take() does not accept boolean indexers\u001b[0m\u001b[0;34m\u001b[0m\u001b[0;34m\u001b[0m\u001b[0;34m\u001b[0m\u001b[0m\n",
            "\u001b[0;32m/usr/local/lib/python3.7/dist-packages/pandas/core/indexing.py\u001b[0m in \u001b[0;36m_get_listlike_indexer\u001b[0;34m(self, key, axis, raise_missing)\u001b[0m\n\u001b[1;32m   1252\u001b[0m             \u001b[0mkeyarr\u001b[0m\u001b[0;34m,\u001b[0m \u001b[0mindexer\u001b[0m\u001b[0;34m,\u001b[0m \u001b[0mnew_indexer\u001b[0m \u001b[0;34m=\u001b[0m \u001b[0max\u001b[0m\u001b[0;34m.\u001b[0m\u001b[0m_reindex_non_unique\u001b[0m\u001b[0;34m(\u001b[0m\u001b[0mkeyarr\u001b[0m\u001b[0;34m)\u001b[0m\u001b[0;34m\u001b[0m\u001b[0;34m\u001b[0m\u001b[0m\n\u001b[1;32m   1253\u001b[0m \u001b[0;34m\u001b[0m\u001b[0m\n\u001b[0;32m-> 1254\u001b[0;31m         \u001b[0mself\u001b[0m\u001b[0;34m.\u001b[0m\u001b[0m_validate_read_indexer\u001b[0m\u001b[0;34m(\u001b[0m\u001b[0mkeyarr\u001b[0m\u001b[0;34m,\u001b[0m \u001b[0mindexer\u001b[0m\u001b[0;34m,\u001b[0m \u001b[0maxis\u001b[0m\u001b[0;34m,\u001b[0m \u001b[0mraise_missing\u001b[0m\u001b[0;34m=\u001b[0m\u001b[0mraise_missing\u001b[0m\u001b[0;34m)\u001b[0m\u001b[0;34m\u001b[0m\u001b[0;34m\u001b[0m\u001b[0m\n\u001b[0m\u001b[1;32m   1255\u001b[0m         \u001b[0;32mreturn\u001b[0m \u001b[0mkeyarr\u001b[0m\u001b[0;34m,\u001b[0m \u001b[0mindexer\u001b[0m\u001b[0;34m\u001b[0m\u001b[0;34m\u001b[0m\u001b[0m\n\u001b[1;32m   1256\u001b[0m \u001b[0;34m\u001b[0m\u001b[0m\n",
            "\u001b[0;32m/usr/local/lib/python3.7/dist-packages/pandas/core/indexing.py\u001b[0m in \u001b[0;36m_validate_read_indexer\u001b[0;34m(self, key, indexer, axis, raise_missing)\u001b[0m\n\u001b[1;32m   1296\u001b[0m             \u001b[0;32mif\u001b[0m \u001b[0mmissing\u001b[0m \u001b[0;34m==\u001b[0m \u001b[0mlen\u001b[0m\u001b[0;34m(\u001b[0m\u001b[0mindexer\u001b[0m\u001b[0;34m)\u001b[0m\u001b[0;34m:\u001b[0m\u001b[0;34m\u001b[0m\u001b[0;34m\u001b[0m\u001b[0m\n\u001b[1;32m   1297\u001b[0m                 \u001b[0maxis_name\u001b[0m \u001b[0;34m=\u001b[0m \u001b[0mself\u001b[0m\u001b[0;34m.\u001b[0m\u001b[0mobj\u001b[0m\u001b[0;34m.\u001b[0m\u001b[0m_get_axis_name\u001b[0m\u001b[0;34m(\u001b[0m\u001b[0maxis\u001b[0m\u001b[0;34m)\u001b[0m\u001b[0;34m\u001b[0m\u001b[0;34m\u001b[0m\u001b[0m\n\u001b[0;32m-> 1298\u001b[0;31m                 \u001b[0;32mraise\u001b[0m \u001b[0mKeyError\u001b[0m\u001b[0;34m(\u001b[0m\u001b[0;34mf\"None of [{key}] are in the [{axis_name}]\"\u001b[0m\u001b[0;34m)\u001b[0m\u001b[0;34m\u001b[0m\u001b[0;34m\u001b[0m\u001b[0m\n\u001b[0m\u001b[1;32m   1299\u001b[0m \u001b[0;34m\u001b[0m\u001b[0m\n\u001b[1;32m   1300\u001b[0m             \u001b[0;31m# We (temporarily) allow for some missing keys with .loc, except in\u001b[0m\u001b[0;34m\u001b[0m\u001b[0;34m\u001b[0m\u001b[0;34m\u001b[0m\u001b[0m\n",
            "\u001b[0;31mKeyError\u001b[0m: \"None of [Index(['P', 'R', 'F', ' ABS Mean Duration', 'Mean Duration', 'Std Duration'], dtype='object')] are in the [columns]\""
          ]
        }
      ]
    },
    {
      "cell_type": "code",
      "metadata": {
        "id": "t61jezy-aBin"
      },
      "source": [
        "print('Mean Absolute Error:', metrics.mean_absolute_error(yd_test, yd_pred))\n",
        "print('Root Mean Squared Error:', np.sqrt(metrics.mean_squared_error(yd_test, yd_pred)))"
      ],
      "execution_count": null,
      "outputs": []
    },
    {
      "cell_type": "code",
      "metadata": {
        "id": "eBgdy195aD6R"
      },
      "source": [
        "dataset = pd.read_csv('drive/MyDrive/Bass/StudentStatisticsInput.csv')"
      ],
      "execution_count": null,
      "outputs": []
    }
  ]
}