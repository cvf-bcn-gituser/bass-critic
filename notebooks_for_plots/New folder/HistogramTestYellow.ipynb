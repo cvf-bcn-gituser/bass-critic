{
  "nbformat": 4,
  "nbformat_minor": 0,
  "metadata": {
    "kernelspec": {
      "display_name": "Python 3",
      "language": "python",
      "name": "python3"
    },
    "language_info": {
      "codemirror_mode": {
        "name": "ipython",
        "version": 3
      },
      "file_extension": ".py",
      "mimetype": "text/x-python",
      "name": "python",
      "nbconvert_exporter": "python",
      "pygments_lexer": "ipython3",
      "version": "3.6.7"
    },
    "colab": {
      "name": "HistogramTestYellow.ipynb",
      "provenance": [],
      "collapsed_sections": []
    }
  },
  "cells": [
    {
      "cell_type": "code",
      "metadata": {
        "colab": {
          "base_uri": "https://localhost:8080/"
        },
        "id": "13LOyuxayHjM",
        "outputId": "b1c6c609-7ba3-4283-daf6-083584bc652c"
      },
      "source": [
        "!pip3 install essentia"
      ],
      "execution_count": 108,
      "outputs": [
        {
          "output_type": "stream",
          "text": [
            "Requirement already satisfied: essentia in /usr/local/lib/python3.7/dist-packages (2.1b6.dev374)\n",
            "Requirement already satisfied: six in /usr/local/lib/python3.7/dist-packages (from essentia) (1.15.0)\n",
            "Requirement already satisfied: pyyaml in /usr/local/lib/python3.7/dist-packages (from essentia) (3.13)\n",
            "Requirement already satisfied: numpy>=1.8.2 in /usr/local/lib/python3.7/dist-packages (from essentia) (1.19.5)\n"
          ],
          "name": "stdout"
        }
      ]
    },
    {
      "cell_type": "code",
      "metadata": {
        "id": "OEdDKfBpdEwf",
        "colab": {
          "base_uri": "https://localhost:8080/"
        },
        "outputId": "88606c30-8bee-45a8-81cc-ec796c509a25"
      },
      "source": [
        "!pip3 install madmom"
      ],
      "execution_count": 109,
      "outputs": [
        {
          "output_type": "stream",
          "text": [
            "Requirement already satisfied: madmom in /usr/local/lib/python3.7/dist-packages (0.16.1)\n",
            "Requirement already satisfied: cython>=0.25 in /usr/local/lib/python3.7/dist-packages (from madmom) (0.29.24)\n",
            "Requirement already satisfied: mido>=1.2.8 in /usr/local/lib/python3.7/dist-packages (from madmom) (1.2.10)\n",
            "Requirement already satisfied: scipy>=0.16 in /usr/local/lib/python3.7/dist-packages (from madmom) (1.4.1)\n",
            "Requirement already satisfied: numpy>=1.13.4 in /usr/local/lib/python3.7/dist-packages (from madmom) (1.19.5)\n"
          ],
          "name": "stdout"
        }
      ]
    },
    {
      "cell_type": "code",
      "metadata": {
        "id": "rmxZSSGjtfEE",
        "colab": {
          "base_uri": "https://localhost:8080/"
        },
        "outputId": "33ce15aa-f6e5-4825-af52-83ea207b5078"
      },
      "source": [
        "!pip3 install mir_eval"
      ],
      "execution_count": 110,
      "outputs": [
        {
          "output_type": "stream",
          "text": [
            "Requirement already satisfied: mir_eval in /usr/local/lib/python3.7/dist-packages (0.6)\n",
            "Requirement already satisfied: numpy>=1.7.0 in /usr/local/lib/python3.7/dist-packages (from mir_eval) (1.19.5)\n",
            "Requirement already satisfied: future in /usr/local/lib/python3.7/dist-packages (from mir_eval) (0.16.0)\n",
            "Requirement already satisfied: scipy>=1.0.0 in /usr/local/lib/python3.7/dist-packages (from mir_eval) (1.4.1)\n",
            "Requirement already satisfied: six in /usr/local/lib/python3.7/dist-packages (from mir_eval) (1.15.0)\n"
          ],
          "name": "stdout"
        }
      ]
    },
    {
      "cell_type": "markdown",
      "metadata": {
        "id": "dSxfHZTNOrr7"
      },
      "source": [
        "The section below is all path dependent"
      ]
    },
    {
      "cell_type": "code",
      "metadata": {
        "id": "rKwBFtUiykYU",
        "colab": {
          "base_uri": "https://localhost:8080/"
        },
        "outputId": "4c5a1bc4-8e66-4b5c-c55c-c49197d6f8f9"
      },
      "source": [
        "from google.colab import drive\n",
        "drive.mount(\"/content/drive\", force_remount=True)\n",
        "root = 'drive/MyDrive/Bass/'\n",
        "\n",
        "import pandas as pd\n",
        "import sys\n",
        "sys.path.append(root)"
      ],
      "execution_count": 111,
      "outputs": [
        {
          "output_type": "stream",
          "text": [
            "Mounted at /content/drive\n"
          ],
          "name": "stdout"
        }
      ]
    },
    {
      "cell_type": "code",
      "metadata": {
        "id": "sAplIzp5UBFL"
      },
      "source": [
        "import madmom"
      ],
      "execution_count": 112,
      "outputs": []
    },
    {
      "cell_type": "code",
      "metadata": {
        "id": "MC6bIbDvyeSZ"
      },
      "source": [
        "from essentia.standard import *\n",
        "from essentia import Pool, array\n",
        "import essentia.standard as es\n",
        "import matplotlib.pyplot as plt\n",
        "import numpy as np\n",
        "import IPython.display as ipd\n",
        "import pandas as pd\n",
        "import os\n",
        "\n",
        "import IPython\n",
        "import pickle\n",
        "from pickle import load\n",
        "from scipy.signal import find_peaks\n",
        "import ipywidgets as widgets\n",
        "from scipy import signal\n",
        "from lxml import etree\n",
        "\n",
        "import plotly.express as px\n",
        "import scipy\n",
        "from statistics import *"
      ],
      "execution_count": 113,
      "outputs": []
    },
    {
      "cell_type": "code",
      "metadata": {
        "id": "7oagAxf-UEjK"
      },
      "source": [
        "import mir_eval\n",
        "from mir_eval import *"
      ],
      "execution_count": 114,
      "outputs": []
    },
    {
      "cell_type": "code",
      "metadata": {
        "id": "sLLTjrn6qh8Q"
      },
      "source": [
        "statsPath = 'drive/MyDrive/Bass/data/yellow/StudentStatistics_yellow.csv'\n",
        "statsCols = [\"Student\",\"precision\",\"recall\",\"f_measure_value\",\"Onset ABS Mean\",\"Onset Mean\",\"Onset Std\",\"Duration ABS Mean\",\"Duration Mean\",\"Duration Std\",\"onsetMark\",\" DurationMark\",\" articulationMark \",\"soundQualityMark\",\"volumeControlMark\",\" finalMark\"]\n",
        "df_all = pd.read_csv(statsPath, usecols=statsCols)\n",
        "   "
      ],
      "execution_count": 115,
      "outputs": []
    },
    {
      "cell_type": "markdown",
      "metadata": {
        "id": "ThcgwFdTuQUU"
      },
      "source": [
        ""
      ]
    },
    {
      "cell_type": "code",
      "metadata": {
        "id": "QadIODTaxBKN"
      },
      "source": [
        "index = df_all.index\n",
        "number_of_rows = len(index)\n"
      ],
      "execution_count": 116,
      "outputs": []
    },
    {
      "cell_type": "code",
      "metadata": {
        "id": "ctmZtOPYOLfM",
        "colab": {
          "base_uri": "https://localhost:8080/"
        },
        "outputId": "a691e6b6-00e3-415e-e409-37b3348b6d88"
      },
      "source": [
        "col_list = [\"onset dev\", \"offset dev\"]\n",
        "sonset_deviations = []\n",
        "soffset_deviations = []\n",
        "# sonset_deviations,soffset_deviations\n",
        "k=0\n",
        "print(\"Student 0 is the reference\")\n",
        "while k<number_of_rows:\n",
        "   sdeviatePath = 'drive/MyDrive/Bass/data/yellow/yellow_devs_student' + str(k)+ '.csv'\n",
        "   sdf = pd.read_csv(sdeviatePath, usecols=col_list)\n",
        "   sonset_dev_list = sdf[\"onset dev\"]\n",
        "   sonset_deviations.append(sonset_dev_list)\n",
        "   soffset_dev_list = sdf[\"offset dev\"] \n",
        "   soffset_deviations.append(soffset_dev_list)\n",
        "   k+=1"
      ],
      "execution_count": 117,
      "outputs": [
        {
          "output_type": "stream",
          "text": [
            "Student 0 is the reference\n"
          ],
          "name": "stdout"
        }
      ]
    },
    {
      "cell_type": "markdown",
      "metadata": {
        "id": "RGLfjAZbgQDy"
      },
      "source": [
        ""
      ]
    },
    {
      "cell_type": "code",
      "metadata": {
        "id": "iYl-B_ig2ISM"
      },
      "source": [
        "import csv  \n",
        "def statisticsGenerator(deviationsArray1,deviationsArray2,title_text1,title_text2,df):\n",
        "  header = [\"Student\",\"precision\",\"recall\",\"f_measure_value\",\"Onset ABS Mean\",\"Onset Mean\",\"Onset Std\",\n",
        "\t\t \"Duration ABS Mean\",\"Duration Mean\",\"Duration Std\",\"onsetMark\",\" DurationMark\",\" articulationMark \",\"soundQualityMark\",\"volumeControlMark\",\" finalMark\"]\n",
        "\n",
        "  studentStatisticsArray= []\n",
        "  idx = df.index\n",
        "  number_of_rows = len(idx)\n",
        "\n",
        "  studentStatistics = []\n",
        "  onset_X = []  # Martis mark\n",
        "  onset_amean = []\n",
        "  onset_mean = []\n",
        "  onset_std= []\n",
        "\n",
        "  duration_X = [] # Martis mark\n",
        "  duration_amean = []\n",
        "  duration_mean = []\n",
        "  duration_std= []\n",
        "  list0 = df[\"onsetMark\"].tolist()  \n",
        "  list1 = df[\" DurationMark\"].tolist()  \n",
        "  list2 = df[\" articulationMark \"].tolist()  \n",
        "  list3 = df[\"soundQualityMark\"].tolist()  \n",
        "  list4 = df[\"volumeControlMark\"].tolist()  \n",
        "  list5 = df[\" finalMark\"].tolist()  \n",
        "\n",
        "  listp = df[\"precision\"].tolist()  \n",
        "  listr = df[\"recall\"].tolist()  \n",
        "  listf = df[\"f_measure_value\"].tolist()  \n",
        " \n",
        "  k=0\n",
        "\n",
        "  for k in range(number_of_rows):\n",
        "    print(\"===================================\")\n",
        "    studentStatistics.append(str(k+1))\n",
        "    student_stats1 = [] # onsets\n",
        "    student_stats2 = [] # durations\n",
        "\n",
        "    plt.subplot(2,2,1)\n",
        "    a = np.array(deviationsArray1[k])\n",
        "    onset_m, onset_s = mean(a), sqrt(mean(a*a))\n",
        "    onset_am= mean(abs(a))\n",
        "    onset_summary= \"Onset ABS  Mean: %f,Onset Mean: %f, Std. Dev. from 0:%f\" %(onset_am,onset_m, onset_s)\n",
        "    title =   \"Student \" + str(k)+ title_text1\n",
        "\n",
        "    onset_X.append( list0[k])  # Martis mark\n",
        "\n",
        "    onset_mean.append(onset_m)\n",
        "    onset_amean.append(onset_am)\n",
        "    onset_std.append(onset_s)\n",
        "\n",
        "    plt.title(title)\n",
        "    plt.figure(1, figsize=(9.5, 6))\n",
        "    plt.hist(a)\n",
        "\n",
        "    plt.subplot(2,2,2)\n",
        "    a = np.array(deviationsArray2[k])\n",
        "    duration_m, duration_s = mean(a), sqrt(mean(a*a))\n",
        "    duration_am= mean(abs(a))\n",
        "    duration_summary= \"Offset Mean: %f, Std. Dev. from 0:%f\" %(duration_m, duration_s)\n",
        "    title =   \"Student \" + str(k)+ title_text2\n",
        "    duration_X.append( list1[k])  # Martis mark\n",
        "    duration_mean.append(duration_m)\n",
        "    duration_amean.append(duration_am)\n",
        "    duration_std.append(duration_s)\n",
        "\n",
        "    plt.title(title)\n",
        "    plt.figure(1, figsize=(9.5, 6))\n",
        "    plt.hist(a)\n",
        "\n",
        "    plt.show()\n",
        "    print(\"Onset Grade = \", list0[k],\"\\t\" ,\"Duration Grade = \", list1[k])\n",
        "    print(onset_summary)\n",
        "    print(duration_summary)\n",
        "    print(\"Articulation Grade = \", list2[k],\"Sound Control Grade = \", list3[k], \"Volume Control Grade = \", list4[k])\n",
        "    print(\"Final Mark = \", list5[k])\n",
        "    studentStatistics = []\n",
        "    studentStatistics.append(str(k+1))\n",
        "    studentStatistics.append(round(listp[k],3))\n",
        "    studentStatistics.append(round(listr[k],3))\n",
        "    studentStatistics.append(round(listf[k],3))\n",
        "    print(\"F-measure = \", round(listf[k],3))\n",
        "    studentStatistics.append(round(onset_am,3))\n",
        "    studentStatistics.append(round(onset_m,3))\n",
        "    studentStatistics.append(round(onset_s,3))   \n",
        "    studentStatistics.append(round(duration_am,3))                   \n",
        "    studentStatistics.append(round(duration_m,3)) \n",
        "    studentStatistics.append(round(duration_s,3))   \n",
        "    studentStatistics.append(list0[k])\n",
        "    studentStatistics.append(list1[k])\n",
        "    studentStatistics.append(list2[k])\n",
        "    studentStatistics.append(list3[k])\n",
        "    studentStatistics.append(list4[k])\n",
        "    studentStatistics.append(list5[k])\n",
        "\t  # write the data\n",
        "\t  #writer.writerow(studentStatistics)\n",
        "    studentStatisticsArray.append(studentStatistics)\n",
        "    \n",
        "  return(onset_X, onset_mean, onset_std, duration_X, duration_mean, duration_std,studentStatisticsArray,onset_amean, duration_amean)\n",
        "# Capture a table of onset and grade"
      ],
      "execution_count": 118,
      "outputs": []
    },
    {
      "cell_type": "markdown",
      "metadata": {
        "id": "1xZh5wEF1wzA"
      },
      "source": [
        ""
      ]
    },
    {
      "cell_type": "code",
      "metadata": {
        "id": "utUMqb3Wlhvj",
        "colab": {
          "base_uri": "https://localhost:8080/",
          "height": 1000
        },
        "outputId": "ed35d5dd-22d6-40f5-f954-4aaa134db572"
      },
      "source": [
        "onset_X, onset_mean, onset_std, duration_X, duration_mean, duration_std,stats, onset_amean, duration_amean= statisticsGenerator(sonset_deviations,soffset_deviations,\" onsets\", \" offset\",df_all)"
      ],
      "execution_count": 119,
      "outputs": [
        {
          "output_type": "stream",
          "text": [
            "===================================\n"
          ],
          "name": "stdout"
        },
        {
          "output_type": "display_data",
          "data": {
            "image/png": "[encoded data removed]",
            "text/plain": [
              "<Figure size 432x288 with 2 Axes>"
            ]
          },
          "metadata": {
            "needs_background": "light"
          }
        },
        {
          "output_type": "stream",
          "text": [
            "Onset Grade =  100.0 \t Duration Grade =  100.0\n",
            "Onset ABS  Mean: 0.000000,Onset Mean: 0.000000, Std. Dev. from 0:0.000000\n",
            "Offset Mean: -0.004949, Std. Dev. from 0:0.051923\n",
            "Articulation Grade =  100.0 Sound Control Grade =  100.0 Volume Control Grade =  100.0\n",
            "Final Mark =  5.0\n",
            "F-measure =  0.992\n",
            "===================================\n"
          ],
          "name": "stdout"
        },
        {
          "output_type": "display_data",
          "data": {
            "image/png": "[encoded data removed]",
            "text/plain": [
              "<Figure size 432x288 with 2 Axes>"
            ]
          },
          "metadata": {
            "needs_background": "light"
          }
        },
        {
          "output_type": "stream",
          "text": [
            "Onset Grade =  49.5 \t Duration Grade =  76.5\n",
            "Onset ABS  Mean: 0.013333,Onset Mean: -0.007778, Std. Dev. from 0:0.014142\n",
            "Offset Mean: -0.055556, Std. Dev. from 0:0.101434\n",
            "Articulation Grade =  49.5 Sound Control Grade =  63.0 Volume Control Grade =  63.0\n",
            "Final Mark =  1.8\n",
            "F-measure =  0.045\n",
            "===================================\n"
          ],
          "name": "stdout"
        },
        {
          "output_type": "display_data",
          "data": {
            "image/png": "[encoded data removed]",
            "text/plain": [
              "<Figure size 432x288 with 2 Axes>"
            ]
          },
          "metadata": {
            "needs_background": "light"
          }
        },
        {
          "output_type": "stream",
          "text": [
            "Onset Grade =  76.5 \t Duration Grade =  63.0\n",
            "Onset ABS  Mean: 0.010921,Onset Mean: -0.004079, Std. Dev. from 0:0.012722\n",
            "Offset Mean: -0.028618, Std. Dev. from 0:0.101296\n",
            "Articulation Grade =  76.5 Sound Control Grade =  76.5 Volume Control Grade =  76.5\n",
            "Final Mark =  3.6\n",
            "F-measure =  0.385\n",
            "===================================\n"
          ],
          "name": "stdout"
        },
        {
          "output_type": "display_data",
          "data": {
            "image/png": "[encoded data removed]",
            "text/plain": [
              "<Figure size 432x288 with 2 Axes>"
            ]
          },
          "metadata": {
            "needs_background": "light"
          }
        },
        {
          "output_type": "stream",
          "text": [
            "Onset Grade =  49.5 \t Duration Grade =  63.0\n",
            "Onset ABS  Mean: 0.010476,Onset Mean: -0.007619, Std. Dev. from 0:0.012150\n",
            "Offset Mean: -0.058571, Std. Dev. from 0:0.111718\n",
            "Articulation Grade =  63.0 Sound Control Grade =  63.0 Volume Control Grade =  76.5\n",
            "Final Mark =  2.7\n",
            "F-measure =  0.105\n",
            "===================================\n"
          ],
          "name": "stdout"
        },
        {
          "output_type": "display_data",
          "data": {
            "image/png": "[encoded data removed]",
            "text/plain": [
              "<Figure size 432x288 with 2 Axes>"
            ]
          },
          "metadata": {
            "needs_background": "light"
          }
        },
        {
          "output_type": "stream",
          "text": [
            "Onset Grade =  76.5 \t Duration Grade =  76.5\n",
            "Onset ABS  Mean: 0.009035,Onset Mean: -0.000789, Std. Dev. from 0:0.010740\n",
            "Offset Mean: 0.000439, Std. Dev. from 0:0.069981\n",
            "Articulation Grade =  76.5 Sound Control Grade =  76.5 Volume Control Grade =  49.5\n",
            "Final Mark =  1.8\n",
            "F-measure =  0.589\n",
            "===================================\n"
          ],
          "name": "stdout"
        },
        {
          "output_type": "display_data",
          "data": {
            "image/png": "[encoded data removed]",
            "text/plain": [
              "<Figure size 432x288 with 2 Axes>"
            ]
          },
          "metadata": {
            "needs_background": "light"
          }
        },
        {
          "output_type": "stream",
          "text": [
            "Onset Grade =  90.0 \t Duration Grade =  90.0\n",
            "Onset ABS  Mean: 0.010412,Onset Mean: 0.002990, Std. Dev. from 0:0.011992\n",
            "Offset Mean: 0.014845, Std. Dev. from 0:0.055124\n",
            "Articulation Grade =  90.0 Sound Control Grade =  90.0 Volume Control Grade =  90.0\n",
            "Final Mark =  4.5\n",
            "F-measure =  0.503\n",
            "===================================\n"
          ],
          "name": "stdout"
        },
        {
          "output_type": "display_data",
          "data": {
            "image/png": "[encoded data removed]",
            "text/plain": [
              "<Figure size 432x288 with 2 Axes>"
            ]
          },
          "metadata": {
            "needs_background": "light"
          }
        },
        {
          "output_type": "stream",
          "text": [
            "Onset Grade =  76.5 \t Duration Grade =  63.0\n",
            "Onset ABS  Mean: 0.010132,Onset Mean: 0.005921, Std. Dev. from 0:0.012003\n",
            "Offset Mean: 0.022368, Std. Dev. from 0:0.040669\n",
            "Articulation Grade =  63.0 Sound Control Grade =  76.5 Volume Control Grade =  76.5\n",
            "Final Mark =  3.6\n",
            "F-measure =  0.196\n",
            "===================================\n"
          ],
          "name": "stdout"
        },
        {
          "output_type": "display_data",
          "data": {
            "image/png": "[encoded data removed]",
            "text/plain": [
              "<Figure size 432x288 with 2 Axes>"
            ]
          },
          "metadata": {
            "needs_background": "light"
          }
        },
        {
          "output_type": "stream",
          "text": [
            "Onset Grade =  76.5 \t Duration Grade =  90.0\n",
            "Onset ABS  Mean: 0.010135,Onset Mean: -0.003649, Std. Dev. from 0:0.011654\n",
            "Offset Mean: -0.022027, Std. Dev. from 0:0.144650\n",
            "Articulation Grade =  90.0 Sound Control Grade =  76.5 Volume Control Grade =  76.5\n",
            "Final Mark =  3.6\n",
            "F-measure =  0.185\n",
            "===================================\n"
          ],
          "name": "stdout"
        },
        {
          "output_type": "display_data",
          "data": {
            "image/png": "[encoded data removed]",
            "text/plain": [
              "<Figure size 432x288 with 2 Axes>"
            ]
          },
          "metadata": {
            "needs_background": "light"
          }
        },
        {
          "output_type": "stream",
          "text": [
            "Onset Grade =  49.5 \t Duration Grade =  49.5\n",
            "Onset ABS  Mean: 0.009889,Onset Mean: -0.002333, Std. Dev. from 0:0.011762\n",
            "Offset Mean: -0.187111, Std. Dev. from 0:0.286888\n",
            "Articulation Grade =  76.5 Sound Control Grade =  63.0 Volume Control Grade =  63.0\n",
            "Final Mark =  1.8\n",
            "F-measure =  0.16\n"
          ],
          "name": "stdout"
        }
      ]
    },
    {
      "cell_type": "code",
      "metadata": {
        "id": "dKF3s39R4MkN"
      },
      "source": [
        "onset_mean_list = df_all[\"Onset Mean\"].tolist()   \n",
        "onset_amean_list = df_all[\"Onset ABS Mean\"].tolist()   \n",
        "onset_grade_list = df_all[\"onsetMark\"].tolist()   \n",
        "onset_precision_list = df_all[\"precision\"].tolist()   \n",
        "\n",
        "\n"
      ],
      "execution_count": 120,
      "outputs": []
    },
    {
      "cell_type": "code",
      "metadata": {
        "id": "7soB8S2z4KGn"
      },
      "source": [
        ""
      ],
      "execution_count": 120,
      "outputs": []
    },
    {
      "cell_type": "code",
      "metadata": {
        "id": "wgT2wZ-n-s69"
      },
      "source": [
        "import pandas as pd\n",
        "#sonset_deviations,soffset_deviations"
      ],
      "execution_count": 121,
      "outputs": []
    },
    {
      "cell_type": "code",
      "metadata": {
        "id": "5t-JzT-eSTCW",
        "colab": {
          "base_uri": "https://localhost:8080/",
          "height": 542
        },
        "outputId": "3414a91f-79c6-4d6d-f5af-bcaf70ef2582"
      },
      "source": [
        "data_timing_onset0= { 'onsets0' :sonset_deviations[0]}\n",
        "df = pd.DataFrame(data_timing_onset0,columns=['onsets0'])\n",
        "fig = px.histogram(df, x=\"onsets0\")\n",
        "fig.show()"
      ],
      "execution_count": 122,
      "outputs": [
        {
          "output_type": "display_data",
          "data": {
            "text/html": [
              "<html>\n",
              "<head><meta charset=\"utf-8\" /></head>\n",
              "<body>\n",
              "    <div>\n",
              "            <script src=\"https://cdnjs.cloudflare.com/ajax/libs/mathjax/2.7.5/MathJax.js?config=TeX-AMS-MML_SVG\"></script><script type=\"text/javascript\">if (window.MathJax) {MathJax.Hub.Config({SVG: {font: \"STIX-Web\"}});}</script>\n",
              "                <script type=\"text/javascript\">window.PlotlyConfig = {MathJaxConfig: 'local'};</script>\n",
              "        <script src=\"https://cdn.plot.ly/plotly-latest.min.js\"></script>    \n",
              "            <div id=\"8ba7880f-49cd-4b2a-90e8-b2e21980f5db\" class=\"plotly-graph-div\" style=\"height:525px; width:100%;\"></div>\n",
              "            <script type=\"text/javascript\">\n",
              "                \n",
              "                    window.PLOTLYENV=window.PLOTLYENV || {};\n",
              "                    \n",
              "                if (document.getElementById(\"8ba7880f-49cd-4b2a-90e8-b2e21980f5db\")) {\n",
              "                    Plotly.newPlot(\n",
              "                        '8ba7880f-49cd-4b2a-90e8-b2e21980f5db',\n",
              "                        [{\"alignmentgroup\": \"True\", \"bingroup\": \"x\", \"hoverlabel\": {\"namelength\": 0}, \"hovertemplate\": \"onsets0=%{x}<br>count=%{y}\", \"legendgroup\": \"\", \"marker\": {\"color\": \"#636efa\"}, \"name\": \"\", \"offsetgroup\": \"\", \"orientation\": \"v\", \"showlegend\": false, \"type\": \"histogram\", \"x\": [0.0, 0.0, 0.0, 0.0, 0.0, 0.0, 0.0, 0.0, 0.0, 0.0, 0.0, 0.0, 0.0, 0.0, 0.0, 0.0, 0.0, 0.0, 0.0, 0.0, 0.0, 0.0, 0.0, 0.0, 0.0, 0.0, 0.0, 0.0, 0.0, 0.0, 0.0, 0.0, 0.0, 0.0, 0.0, 0.0, 0.0, 0.0, 0.0, 0.0, 0.0, 0.0, 0.0, 0.0, 0.0, 0.0, 0.0, 0.0, 0.0, 0.0, 0.0, 0.0, 0.0, 0.0, 0.0, 0.0, 0.0, 0.0, 0.0, 0.0, 0.0, 0.0, 0.0, 0.0, 0.0, 0.0, 0.0, 0.0, 0.0, 0.0, 0.0, 0.0, 0.0, 0.0, 0.0, 0.0, 0.0, 0.0, 0.0, 0.0, 0.0, 0.0, 0.0, 0.0, 0.0, 0.0, 0.0, 0.0, 0.0, 0.0, 0.0, 0.0, 0.0, 0.0, 0.0, 0.0, 0.0, 0.0, 0.0, 0.0, 0.0, 0.0, 0.0, 0.0, 0.0, 0.0, 0.0, 0.0, 0.0, 0.0, 0.0, 0.0, 0.0, 0.0, 0.0, 0.0, 0.0, 0.0, 0.0, 0.0, 0.0, 0.0, 0.0, 0.0, 0.0, 0.0, 0.0, 0.0, 0.0, 0.0, 0.0, 0.0, 0.0, 0.0, 0.0, 0.0, 0.0, 0.0, 0.0, 0.0, 0.0, 0.0, 0.0, 0.0, 0.0, 0.0, 0.0, 0.0, 0.0, 0.0, 0.0, 0.0, 0.0, 0.0, 0.0, 0.0, 0.0, 0.0, 0.0, 0.0, 0.0, 0.0, 0.0, 0.0, 0.0, 0.0, 0.0, 0.0, 0.0, 0.0, 0.0, 0.0, 0.0, 0.0, 0.0, 0.0, 0.0, 0.0, 0.0, 0.0, 0.0, 0.0, 0.0, 0.0, 0.0, 0.0, 0.0, 0.0, 0.0, 0.0, 0.0, 0.0, 0.0, 0.0, 0.0], \"xaxis\": \"x\", \"yaxis\": \"y\"}],\n",
              "                        {\"barmode\": \"relative\", \"legend\": {\"tracegroupgap\": 0}, \"margin\": {\"t\": 60}, \"template\": {\"data\": {\"bar\": [{\"error_x\": {\"color\": \"#2a3f5f\"}, \"error_y\": {\"color\": \"#2a3f5f\"}, \"marker\": {\"line\": {\"color\": \"#E5ECF6\", \"width\": 0.5}}, \"type\": \"bar\"}], \"barpolar\": [{\"marker\": {\"line\": {\"color\": \"#E5ECF6\", \"width\": 0.5}}, \"type\": \"barpolar\"}], \"carpet\": [{\"aaxis\": {\"endlinecolor\": \"#2a3f5f\", \"gridcolor\": \"white\", \"linecolor\": \"white\", \"minorgridcolor\": \"white\", \"startlinecolor\": \"#2a3f5f\"}, \"baxis\": {\"endlinecolor\": \"#2a3f5f\", \"gridcolor\": \"white\", \"linecolor\": \"white\", \"minorgridcolor\": \"white\", \"startlinecolor\": \"#2a3f5f\"}, \"type\": \"carpet\"}], \"choropleth\": [{\"colorbar\": {\"outlinewidth\": 0, \"ticks\": \"\"}, \"type\": \"choropleth\"}], \"contour\": [{\"colorbar\": {\"outlinewidth\": 0, \"ticks\": \"\"}, \"colorscale\": [[0.0, \"#0d0887\"], [0.1111111111111111, \"#46039f\"], [0.2222222222222222, \"#7201a8\"], [0.3333333333333333, \"#9c179e\"], [0.4444444444444444, \"#bd3786\"], [0.5555555555555556, \"#d8576b\"], [0.6666666666666666, \"#ed7953\"], [0.7777777777777778, \"#fb9f3a\"], [0.8888888888888888, \"#fdca26\"], [1.0, \"#f0f921\"]], \"type\": \"contour\"}], \"contourcarpet\": [{\"colorbar\": {\"outlinewidth\": 0, \"ticks\": \"\"}, \"type\": \"contourcarpet\"}], \"heatmap\": [{\"colorbar\": {\"outlinewidth\": 0, \"ticks\": \"\"}, \"colorscale\": [[0.0, \"#0d0887\"], [0.1111111111111111, \"#46039f\"], [0.2222222222222222, \"#7201a8\"], [0.3333333333333333, \"#9c179e\"], [0.4444444444444444, \"#bd3786\"], [0.5555555555555556, \"#d8576b\"], [0.6666666666666666, \"#ed7953\"], [0.7777777777777778, \"#fb9f3a\"], [0.8888888888888888, \"#fdca26\"], [1.0, \"#f0f921\"]], \"type\": \"heatmap\"}], \"heatmapgl\": [{\"colorbar\": {\"outlinewidth\": 0, \"ticks\": \"\"}, \"colorscale\": [[0.0, \"#0d0887\"], [0.1111111111111111, \"#46039f\"], [0.2222222222222222, \"#7201a8\"], [0.3333333333333333, \"#9c179e\"], [0.4444444444444444, \"#bd3786\"], [0.5555555555555556, \"#d8576b\"], [0.6666666666666666, \"#ed7953\"], [0.7777777777777778, \"#fb9f3a\"], [0.8888888888888888, \"#fdca26\"], [1.0, \"#f0f921\"]], \"type\": \"heatmapgl\"}], \"histogram\": [{\"marker\": {\"colorbar\": {\"outlinewidth\": 0, \"ticks\": \"\"}}, \"type\": \"histogram\"}], \"histogram2d\": [{\"colorbar\": {\"outlinewidth\": 0, \"ticks\": \"\"}, \"colorscale\": [[0.0, \"#0d0887\"], [0.1111111111111111, \"#46039f\"], [0.2222222222222222, \"#7201a8\"], [0.3333333333333333, \"#9c179e\"], [0.4444444444444444, \"#bd3786\"], [0.5555555555555556, \"#d8576b\"], [0.6666666666666666, \"#ed7953\"], [0.7777777777777778, \"#fb9f3a\"], [0.8888888888888888, \"#fdca26\"], [1.0, \"#f0f921\"]], \"type\": \"histogram2d\"}], \"histogram2dcontour\": [{\"colorbar\": {\"outlinewidth\": 0, \"ticks\": \"\"}, \"colorscale\": [[0.0, \"#0d0887\"], [0.1111111111111111, \"#46039f\"], [0.2222222222222222, \"#7201a8\"], [0.3333333333333333, \"#9c179e\"], [0.4444444444444444, \"#bd3786\"], [0.5555555555555556, \"#d8576b\"], [0.6666666666666666, \"#ed7953\"], [0.7777777777777778, \"#fb9f3a\"], [0.8888888888888888, \"#fdca26\"], [1.0, \"#f0f921\"]], \"type\": \"histogram2dcontour\"}], \"mesh3d\": [{\"colorbar\": {\"outlinewidth\": 0, \"ticks\": \"\"}, \"type\": \"mesh3d\"}], \"parcoords\": [{\"line\": {\"colorbar\": {\"outlinewidth\": 0, \"ticks\": \"\"}}, \"type\": \"parcoords\"}], \"pie\": [{\"automargin\": true, \"type\": \"pie\"}], \"scatter\": [{\"marker\": {\"colorbar\": {\"outlinewidth\": 0, \"ticks\": \"\"}}, \"type\": \"scatter\"}], \"scatter3d\": [{\"line\": {\"colorbar\": {\"outlinewidth\": 0, \"ticks\": \"\"}}, \"marker\": {\"colorbar\": {\"outlinewidth\": 0, \"ticks\": \"\"}}, \"type\": \"scatter3d\"}], \"scattercarpet\": [{\"marker\": {\"colorbar\": {\"outlinewidth\": 0, \"ticks\": \"\"}}, \"type\": \"scattercarpet\"}], \"scattergeo\": [{\"marker\": {\"colorbar\": {\"outlinewidth\": 0, \"ticks\": \"\"}}, \"type\": \"scattergeo\"}], \"scattergl\": [{\"marker\": {\"colorbar\": {\"outlinewidth\": 0, \"ticks\": \"\"}}, \"type\": \"scattergl\"}], \"scattermapbox\": [{\"marker\": {\"colorbar\": {\"outlinewidth\": 0, \"ticks\": \"\"}}, \"type\": \"scattermapbox\"}], \"scatterpolar\": [{\"marker\": {\"colorbar\": {\"outlinewidth\": 0, \"ticks\": \"\"}}, \"type\": \"scatterpolar\"}], \"scatterpolargl\": [{\"marker\": {\"colorbar\": {\"outlinewidth\": 0, \"ticks\": \"\"}}, \"type\": \"scatterpolargl\"}], \"scatterternary\": [{\"marker\": {\"colorbar\": {\"outlinewidth\": 0, \"ticks\": \"\"}}, \"type\": \"scatterternary\"}], \"surface\": [{\"colorbar\": {\"outlinewidth\": 0, \"ticks\": \"\"}, \"colorscale\": [[0.0, \"#0d0887\"], [0.1111111111111111, \"#46039f\"], [0.2222222222222222, \"#7201a8\"], [0.3333333333333333, \"#9c179e\"], [0.4444444444444444, \"#bd3786\"], [0.5555555555555556, \"#d8576b\"], [0.6666666666666666, \"#ed7953\"], [0.7777777777777778, \"#fb9f3a\"], [0.8888888888888888, \"#fdca26\"], [1.0, \"#f0f921\"]], \"type\": \"surface\"}], \"table\": [{\"cells\": {\"fill\": {\"color\": \"#EBF0F8\"}, \"line\": {\"color\": \"white\"}}, \"header\": {\"fill\": {\"color\": \"#C8D4E3\"}, \"line\": {\"color\": \"white\"}}, \"type\": \"table\"}]}, \"layout\": {\"annotationdefaults\": {\"arrowcolor\": \"#2a3f5f\", \"arrowhead\": 0, \"arrowwidth\": 1}, \"coloraxis\": {\"colorbar\": {\"outlinewidth\": 0, \"ticks\": \"\"}}, \"colorscale\": {\"diverging\": [[0, \"#8e0152\"], [0.1, \"#c51b7d\"], [0.2, \"#de77ae\"], [0.3, \"#f1b6da\"], [0.4, \"#fde0ef\"], [0.5, \"#f7f7f7\"], [0.6, \"#e6f5d0\"], [0.7, \"#b8e186\"], [0.8, \"#7fbc41\"], [0.9, \"#4d9221\"], [1, \"#276419\"]], \"sequential\": [[0.0, \"#0d0887\"], [0.1111111111111111, \"#46039f\"], [0.2222222222222222, \"#7201a8\"], [0.3333333333333333, \"#9c179e\"], [0.4444444444444444, \"#bd3786\"], [0.5555555555555556, \"#d8576b\"], [0.6666666666666666, \"#ed7953\"], [0.7777777777777778, \"#fb9f3a\"], [0.8888888888888888, \"#fdca26\"], [1.0, \"#f0f921\"]], \"sequentialminus\": [[0.0, \"#0d0887\"], [0.1111111111111111, \"#46039f\"], [0.2222222222222222, \"#7201a8\"], [0.3333333333333333, \"#9c179e\"], [0.4444444444444444, \"#bd3786\"], [0.5555555555555556, \"#d8576b\"], [0.6666666666666666, \"#ed7953\"], [0.7777777777777778, \"#fb9f3a\"], [0.8888888888888888, \"#fdca26\"], [1.0, \"#f0f921\"]]}, \"colorway\": [\"#636efa\", \"#EF553B\", \"#00cc96\", \"#ab63fa\", \"#FFA15A\", \"#19d3f3\", \"#FF6692\", \"#B6E880\", \"#FF97FF\", \"#FECB52\"], \"font\": {\"color\": \"#2a3f5f\"}, \"geo\": {\"bgcolor\": \"white\", \"lakecolor\": \"white\", \"landcolor\": \"#E5ECF6\", \"showlakes\": true, \"showland\": true, \"subunitcolor\": \"white\"}, \"hoverlabel\": {\"align\": \"left\"}, \"hovermode\": \"closest\", \"mapbox\": {\"style\": \"light\"}, \"paper_bgcolor\": \"white\", \"plot_bgcolor\": \"#E5ECF6\", \"polar\": {\"angularaxis\": {\"gridcolor\": \"white\", \"linecolor\": \"white\", \"ticks\": \"\"}, \"bgcolor\": \"#E5ECF6\", \"radialaxis\": {\"gridcolor\": \"white\", \"linecolor\": \"white\", \"ticks\": \"\"}}, \"scene\": {\"xaxis\": {\"backgroundcolor\": \"#E5ECF6\", \"gridcolor\": \"white\", \"gridwidth\": 2, \"linecolor\": \"white\", \"showbackground\": true, \"ticks\": \"\", \"zerolinecolor\": \"white\"}, \"yaxis\": {\"backgroundcolor\": \"#E5ECF6\", \"gridcolor\": \"white\", \"gridwidth\": 2, \"linecolor\": \"white\", \"showbackground\": true, \"ticks\": \"\", \"zerolinecolor\": \"white\"}, \"zaxis\": {\"backgroundcolor\": \"#E5ECF6\", \"gridcolor\": \"white\", \"gridwidth\": 2, \"linecolor\": \"white\", \"showbackground\": true, \"ticks\": \"\", \"zerolinecolor\": \"white\"}}, \"shapedefaults\": {\"line\": {\"color\": \"#2a3f5f\"}}, \"ternary\": {\"aaxis\": {\"gridcolor\": \"white\", \"linecolor\": \"white\", \"ticks\": \"\"}, \"baxis\": {\"gridcolor\": \"white\", \"linecolor\": \"white\", \"ticks\": \"\"}, \"bgcolor\": \"#E5ECF6\", \"caxis\": {\"gridcolor\": \"white\", \"linecolor\": \"white\", \"ticks\": \"\"}}, \"title\": {\"x\": 0.05}, \"xaxis\": {\"automargin\": true, \"gridcolor\": \"white\", \"linecolor\": \"white\", \"ticks\": \"\", \"title\": {\"standoff\": 15}, \"zerolinecolor\": \"white\", \"zerolinewidth\": 2}, \"yaxis\": {\"automargin\": true, \"gridcolor\": \"white\", \"linecolor\": \"white\", \"ticks\": \"\", \"title\": {\"standoff\": 15}, \"zerolinecolor\": \"white\", \"zerolinewidth\": 2}}}, \"xaxis\": {\"anchor\": \"y\", \"domain\": [0.0, 1.0], \"title\": {\"text\": \"onsets0\"}}, \"yaxis\": {\"anchor\": \"x\", \"domain\": [0.0, 1.0], \"title\": {\"text\": \"count\"}}},\n",
              "                        {\"responsive\": true}\n",
              "                    ).then(function(){\n",
              "                            \n",
              "var gd = document.getElementById('8ba7880f-49cd-4b2a-90e8-b2e21980f5db');\n",
              "var x = new MutationObserver(function (mutations, observer) {{\n",
              "        var display = window.getComputedStyle(gd).display;\n",
              "        if (!display || display === 'none') {{\n",
              "            console.log([gd, 'removed!']);\n",
              "            Plotly.purge(gd);\n",
              "            observer.disconnect();\n",
              "        }}\n",
              "}});\n",
              "\n",
              "// Listen for the removal of the full notebook cells\n",
              "var notebookContainer = gd.closest('#notebook-container');\n",
              "if (notebookContainer) {{\n",
              "    x.observe(notebookContainer, {childList: true});\n",
              "}}\n",
              "\n",
              "// Listen for the clearing of the current output cell\n",
              "var outputEl = gd.closest('.output');\n",
              "if (outputEl) {{\n",
              "    x.observe(outputEl, {childList: true});\n",
              "}}\n",
              "\n",
              "                        })\n",
              "                };\n",
              "                \n",
              "            </script>\n",
              "        </div>\n",
              "</body>\n",
              "</html>"
            ]
          },
          "metadata": {}
        }
      ]
    },
    {
      "cell_type": "code",
      "metadata": {
        "id": "jpcGZkNJPWcK",
        "colab": {
          "base_uri": "https://localhost:8080/",
          "height": 542
        },
        "outputId": "89a45993-d478-4ee9-c790-36d65067b0eb"
      },
      "source": [
        "\n",
        "data_timing_duration0= { 'durations0' :soffset_deviations[0]}\n",
        "df = pd.DataFrame(data_timing_duration0,columns=['durations0'])\n",
        "fig = px.histogram(df, x=\"durations0\")\n",
        "fig.show()"
      ],
      "execution_count": 123,
      "outputs": [
        {
          "output_type": "display_data",
          "data": {
            "text/html": [
              "<html>\n",
              "<head><meta charset=\"utf-8\" /></head>\n",
              "<body>\n",
              "    <div>\n",
              "            <script src=\"https://cdnjs.cloudflare.com/ajax/libs/mathjax/2.7.5/MathJax.js?config=TeX-AMS-MML_SVG\"></script><script type=\"text/javascript\">if (window.MathJax) {MathJax.Hub.Config({SVG: {font: \"STIX-Web\"}});}</script>\n",
              "                <script type=\"text/javascript\">window.PlotlyConfig = {MathJaxConfig: 'local'};</script>\n",
              "        <script src=\"https://cdn.plot.ly/plotly-latest.min.js\"></script>    \n",
              "            <div id=\"2f402d8b-6235-4e3d-a709-a1826af4bbeb\" class=\"plotly-graph-div\" style=\"height:525px; width:100%;\"></div>\n",
              "            <script type=\"text/javascript\">\n",
              "                \n",
              "                    window.PLOTLYENV=window.PLOTLYENV || {};\n",
              "                    \n",
              "                if (document.getElementById(\"2f402d8b-6235-4e3d-a709-a1826af4bbeb\")) {\n",
              "                    Plotly.newPlot(\n",
              "                        '2f402d8b-6235-4e3d-a709-a1826af4bbeb',\n",
              "                        [{\"alignmentgroup\": \"True\", \"bingroup\": \"x\", \"hoverlabel\": {\"namelength\": 0}, \"hovertemplate\": \"durations0=%{x}<br>count=%{y}\", \"legendgroup\": \"\", \"marker\": {\"color\": \"#636efa\"}, \"name\": \"\", \"offsetgroup\": \"\", \"orientation\": \"v\", \"showlegend\": false, \"type\": \"histogram\", \"x\": [0.0, 0.0, 0.0, 0.0, 0.0, 0.0, 0.0, 0.0, 0.0, 0.0, 0.0, 0.0, 0.0, 0.0, 0.0, 0.0, 0.0, 0.0, 0.0, 0.0, 0.0, 0.0, 0.0, 0.0, 0.0, 0.0, 0.0, 0.0, 0.0, 0.0, 0.0, 0.0, 0.0, 0.0, 0.0, 0.0, 0.0, 0.0, 0.0, 0.0, 0.0, 0.0, 0.0, 0.0, 0.0, 0.0, 0.0, 0.0, 0.0, 0.0, 0.0, 0.0, 0.0, 0.0, 0.0, 0.0, 0.0, 0.0, 0.0, 0.0, 0.0, 0.0, 0.0, 0.0, 0.0, 0.0, 0.0, 0.0, 0.0, 0.0, 0.0, 0.0, 0.0, 0.0, 0.0, 0.0, 0.0, 0.0, 0.0, 0.0, 0.0, 0.0, 0.0, 0.0, 0.0, 0.0, 0.0, 0.0, 0.0, 0.0, 0.0, 0.0, 0.0, 0.0, 0.0, 0.0, 0.0, 0.0, 0.0, 0.0, 0.0, 0.0, 0.0, 0.0, 0.0, 0.0, 0.0, 0.0, 0.0, 0.0, 0.0, 0.0, 0.0, 0.0, 0.0, 0.0, 0.0, 0.0, 0.0, 0.0, 0.0, 0.0, 0.0, 0.0, 0.0, 0.0, 0.0, 0.0, 0.0, 0.0, 0.0, 0.0, 0.0, 0.0, 0.0, 0.0, 0.0, 0.0, 0.0, 0.0, 0.0, 0.0, 0.0, 0.0, 0.0, 0.0, 0.0, 0.0, 0.0, 0.0, 0.0, 0.0, 0.0, 0.0, 0.0, 0.0, 0.0, 0.0, 0.0, 0.0, 0.0, 0.0, 0.0, 0.0, 0.0, 0.0, 0.0, 0.0, 0.0, 0.0, 0.0, 0.0, 0.0, 0.0, 0.0, 0.0, 0.0, 0.0, -0.6999999999999886, 0.0, 0.0, 0.0, 0.0, -0.1150000000000091, 0.0, 0.0, 0.0, 0.0, 0.0, -0.15000000000000568, 0.0, 0.0, 0.0, 0.0, 0.0], \"xaxis\": \"x\", \"yaxis\": \"y\"}],\n",
              "                        {\"barmode\": \"relative\", \"legend\": {\"tracegroupgap\": 0}, \"margin\": {\"t\": 60}, \"template\": {\"data\": {\"bar\": [{\"error_x\": {\"color\": \"#2a3f5f\"}, \"error_y\": {\"color\": \"#2a3f5f\"}, \"marker\": {\"line\": {\"color\": \"#E5ECF6\", \"width\": 0.5}}, \"type\": \"bar\"}], \"barpolar\": [{\"marker\": {\"line\": {\"color\": \"#E5ECF6\", \"width\": 0.5}}, \"type\": \"barpolar\"}], \"carpet\": [{\"aaxis\": {\"endlinecolor\": \"#2a3f5f\", \"gridcolor\": \"white\", \"linecolor\": \"white\", \"minorgridcolor\": \"white\", \"startlinecolor\": \"#2a3f5f\"}, \"baxis\": {\"endlinecolor\": \"#2a3f5f\", \"gridcolor\": \"white\", \"linecolor\": \"white\", \"minorgridcolor\": \"white\", \"startlinecolor\": \"#2a3f5f\"}, \"type\": \"carpet\"}], \"choropleth\": [{\"colorbar\": {\"outlinewidth\": 0, \"ticks\": \"\"}, \"type\": \"choropleth\"}], \"contour\": [{\"colorbar\": {\"outlinewidth\": 0, \"ticks\": \"\"}, \"colorscale\": [[0.0, \"#0d0887\"], [0.1111111111111111, \"#46039f\"], [0.2222222222222222, \"#7201a8\"], [0.3333333333333333, \"#9c179e\"], [0.4444444444444444, \"#bd3786\"], [0.5555555555555556, \"#d8576b\"], [0.6666666666666666, \"#ed7953\"], [0.7777777777777778, \"#fb9f3a\"], [0.8888888888888888, \"#fdca26\"], [1.0, \"#f0f921\"]], \"type\": \"contour\"}], \"contourcarpet\": [{\"colorbar\": {\"outlinewidth\": 0, \"ticks\": \"\"}, \"type\": \"contourcarpet\"}], \"heatmap\": [{\"colorbar\": {\"outlinewidth\": 0, \"ticks\": \"\"}, \"colorscale\": [[0.0, \"#0d0887\"], [0.1111111111111111, \"#46039f\"], [0.2222222222222222, \"#7201a8\"], [0.3333333333333333, \"#9c179e\"], [0.4444444444444444, \"#bd3786\"], [0.5555555555555556, \"#d8576b\"], [0.6666666666666666, \"#ed7953\"], [0.7777777777777778, \"#fb9f3a\"], [0.8888888888888888, \"#fdca26\"], [1.0, \"#f0f921\"]], \"type\": \"heatmap\"}], \"heatmapgl\": [{\"colorbar\": {\"outlinewidth\": 0, \"ticks\": \"\"}, \"colorscale\": [[0.0, \"#0d0887\"], [0.1111111111111111, \"#46039f\"], [0.2222222222222222, \"#7201a8\"], [0.3333333333333333, \"#9c179e\"], [0.4444444444444444, \"#bd3786\"], [0.5555555555555556, \"#d8576b\"], [0.6666666666666666, \"#ed7953\"], [0.7777777777777778, \"#fb9f3a\"], [0.8888888888888888, \"#fdca26\"], [1.0, \"#f0f921\"]], \"type\": \"heatmapgl\"}], \"histogram\": [{\"marker\": {\"colorbar\": {\"outlinewidth\": 0, \"ticks\": \"\"}}, \"type\": \"histogram\"}], \"histogram2d\": [{\"colorbar\": {\"outlinewidth\": 0, \"ticks\": \"\"}, \"colorscale\": [[0.0, \"#0d0887\"], [0.1111111111111111, \"#46039f\"], [0.2222222222222222, \"#7201a8\"], [0.3333333333333333, \"#9c179e\"], [0.4444444444444444, \"#bd3786\"], [0.5555555555555556, \"#d8576b\"], [0.6666666666666666, \"#ed7953\"], [0.7777777777777778, \"#fb9f3a\"], [0.8888888888888888, \"#fdca26\"], [1.0, \"#f0f921\"]], \"type\": \"histogram2d\"}], \"histogram2dcontour\": [{\"colorbar\": {\"outlinewidth\": 0, \"ticks\": \"\"}, \"colorscale\": [[0.0, \"#0d0887\"], [0.1111111111111111, \"#46039f\"], [0.2222222222222222, \"#7201a8\"], [0.3333333333333333, \"#9c179e\"], [0.4444444444444444, \"#bd3786\"], [0.5555555555555556, \"#d8576b\"], [0.6666666666666666, \"#ed7953\"], [0.7777777777777778, \"#fb9f3a\"], [0.8888888888888888, \"#fdca26\"], [1.0, \"#f0f921\"]], \"type\": \"histogram2dcontour\"}], \"mesh3d\": [{\"colorbar\": {\"outlinewidth\": 0, \"ticks\": \"\"}, \"type\": \"mesh3d\"}], \"parcoords\": [{\"line\": {\"colorbar\": {\"outlinewidth\": 0, \"ticks\": \"\"}}, \"type\": \"parcoords\"}], \"pie\": [{\"automargin\": true, \"type\": \"pie\"}], \"scatter\": [{\"marker\": {\"colorbar\": {\"outlinewidth\": 0, \"ticks\": \"\"}}, \"type\": \"scatter\"}], \"scatter3d\": [{\"line\": {\"colorbar\": {\"outlinewidth\": 0, \"ticks\": \"\"}}, \"marker\": {\"colorbar\": {\"outlinewidth\": 0, \"ticks\": \"\"}}, \"type\": \"scatter3d\"}], \"scattercarpet\": [{\"marker\": {\"colorbar\": {\"outlinewidth\": 0, \"ticks\": \"\"}}, \"type\": \"scattercarpet\"}], \"scattergeo\": [{\"marker\": {\"colorbar\": {\"outlinewidth\": 0, \"ticks\": \"\"}}, \"type\": \"scattergeo\"}], \"scattergl\": [{\"marker\": {\"colorbar\": {\"outlinewidth\": 0, \"ticks\": \"\"}}, \"type\": \"scattergl\"}], \"scattermapbox\": [{\"marker\": {\"colorbar\": {\"outlinewidth\": 0, \"ticks\": \"\"}}, \"type\": \"scattermapbox\"}], \"scatterpolar\": [{\"marker\": {\"colorbar\": {\"outlinewidth\": 0, \"ticks\": \"\"}}, \"type\": \"scatterpolar\"}], \"scatterpolargl\": [{\"marker\": {\"colorbar\": {\"outlinewidth\": 0, \"ticks\": \"\"}}, \"type\": \"scatterpolargl\"}], \"scatterternary\": [{\"marker\": {\"colorbar\": {\"outlinewidth\": 0, \"ticks\": \"\"}}, \"type\": \"scatterternary\"}], \"surface\": [{\"colorbar\": {\"outlinewidth\": 0, \"ticks\": \"\"}, \"colorscale\": [[0.0, \"#0d0887\"], [0.1111111111111111, \"#46039f\"], [0.2222222222222222, \"#7201a8\"], [0.3333333333333333, \"#9c179e\"], [0.4444444444444444, \"#bd3786\"], [0.5555555555555556, \"#d8576b\"], [0.6666666666666666, \"#ed7953\"], [0.7777777777777778, \"#fb9f3a\"], [0.8888888888888888, \"#fdca26\"], [1.0, \"#f0f921\"]], \"type\": \"surface\"}], \"table\": [{\"cells\": {\"fill\": {\"color\": \"#EBF0F8\"}, \"line\": {\"color\": \"white\"}}, \"header\": {\"fill\": {\"color\": \"#C8D4E3\"}, \"line\": {\"color\": \"white\"}}, \"type\": \"table\"}]}, \"layout\": {\"annotationdefaults\": {\"arrowcolor\": \"#2a3f5f\", \"arrowhead\": 0, \"arrowwidth\": 1}, \"coloraxis\": {\"colorbar\": {\"outlinewidth\": 0, \"ticks\": \"\"}}, \"colorscale\": {\"diverging\": [[0, \"#8e0152\"], [0.1, \"#c51b7d\"], [0.2, \"#de77ae\"], [0.3, \"#f1b6da\"], [0.4, \"#fde0ef\"], [0.5, \"#f7f7f7\"], [0.6, \"#e6f5d0\"], [0.7, \"#b8e186\"], [0.8, \"#7fbc41\"], [0.9, \"#4d9221\"], [1, \"#276419\"]], \"sequential\": [[0.0, \"#0d0887\"], [0.1111111111111111, \"#46039f\"], [0.2222222222222222, \"#7201a8\"], [0.3333333333333333, \"#9c179e\"], [0.4444444444444444, \"#bd3786\"], [0.5555555555555556, \"#d8576b\"], [0.6666666666666666, \"#ed7953\"], [0.7777777777777778, \"#fb9f3a\"], [0.8888888888888888, \"#fdca26\"], [1.0, \"#f0f921\"]], \"sequentialminus\": [[0.0, \"#0d0887\"], [0.1111111111111111, \"#46039f\"], [0.2222222222222222, \"#7201a8\"], [0.3333333333333333, \"#9c179e\"], [0.4444444444444444, \"#bd3786\"], [0.5555555555555556, \"#d8576b\"], [0.6666666666666666, \"#ed7953\"], [0.7777777777777778, \"#fb9f3a\"], [0.8888888888888888, \"#fdca26\"], [1.0, \"#f0f921\"]]}, \"colorway\": [\"#636efa\", \"#EF553B\", \"#00cc96\", \"#ab63fa\", \"#FFA15A\", \"#19d3f3\", \"#FF6692\", \"#B6E880\", \"#FF97FF\", \"#FECB52\"], \"font\": {\"color\": \"#2a3f5f\"}, \"geo\": {\"bgcolor\": \"white\", \"lakecolor\": \"white\", \"landcolor\": \"#E5ECF6\", \"showlakes\": true, \"showland\": true, \"subunitcolor\": \"white\"}, \"hoverlabel\": {\"align\": \"left\"}, \"hovermode\": \"closest\", \"mapbox\": {\"style\": \"light\"}, \"paper_bgcolor\": \"white\", \"plot_bgcolor\": \"#E5ECF6\", \"polar\": {\"angularaxis\": {\"gridcolor\": \"white\", \"linecolor\": \"white\", \"ticks\": \"\"}, \"bgcolor\": \"#E5ECF6\", \"radialaxis\": {\"gridcolor\": \"white\", \"linecolor\": \"white\", \"ticks\": \"\"}}, \"scene\": {\"xaxis\": {\"backgroundcolor\": \"#E5ECF6\", \"gridcolor\": \"white\", \"gridwidth\": 2, \"linecolor\": \"white\", \"showbackground\": true, \"ticks\": \"\", \"zerolinecolor\": \"white\"}, \"yaxis\": {\"backgroundcolor\": \"#E5ECF6\", \"gridcolor\": \"white\", \"gridwidth\": 2, \"linecolor\": \"white\", \"showbackground\": true, \"ticks\": \"\", \"zerolinecolor\": \"white\"}, \"zaxis\": {\"backgroundcolor\": \"#E5ECF6\", \"gridcolor\": \"white\", \"gridwidth\": 2, \"linecolor\": \"white\", \"showbackground\": true, \"ticks\": \"\", \"zerolinecolor\": \"white\"}}, \"shapedefaults\": {\"line\": {\"color\": \"#2a3f5f\"}}, \"ternary\": {\"aaxis\": {\"gridcolor\": \"white\", \"linecolor\": \"white\", \"ticks\": \"\"}, \"baxis\": {\"gridcolor\": \"white\", \"linecolor\": \"white\", \"ticks\": \"\"}, \"bgcolor\": \"#E5ECF6\", \"caxis\": {\"gridcolor\": \"white\", \"linecolor\": \"white\", \"ticks\": \"\"}}, \"title\": {\"x\": 0.05}, \"xaxis\": {\"automargin\": true, \"gridcolor\": \"white\", \"linecolor\": \"white\", \"ticks\": \"\", \"title\": {\"standoff\": 15}, \"zerolinecolor\": \"white\", \"zerolinewidth\": 2}, \"yaxis\": {\"automargin\": true, \"gridcolor\": \"white\", \"linecolor\": \"white\", \"ticks\": \"\", \"title\": {\"standoff\": 15}, \"zerolinecolor\": \"white\", \"zerolinewidth\": 2}}}, \"xaxis\": {\"anchor\": \"y\", \"domain\": [0.0, 1.0], \"title\": {\"text\": \"durations0\"}}, \"yaxis\": {\"anchor\": \"x\", \"domain\": [0.0, 1.0], \"title\": {\"text\": \"count\"}}},\n",
              "                        {\"responsive\": true}\n",
              "                    ).then(function(){\n",
              "                            \n",
              "var gd = document.getElementById('2f402d8b-6235-4e3d-a709-a1826af4bbeb');\n",
              "var x = new MutationObserver(function (mutations, observer) {{\n",
              "        var display = window.getComputedStyle(gd).display;\n",
              "        if (!display || display === 'none') {{\n",
              "            console.log([gd, 'removed!']);\n",
              "            Plotly.purge(gd);\n",
              "            observer.disconnect();\n",
              "        }}\n",
              "}});\n",
              "\n",
              "// Listen for the removal of the full notebook cells\n",
              "var notebookContainer = gd.closest('#notebook-container');\n",
              "if (notebookContainer) {{\n",
              "    x.observe(notebookContainer, {childList: true});\n",
              "}}\n",
              "\n",
              "// Listen for the clearing of the current output cell\n",
              "var outputEl = gd.closest('.output');\n",
              "if (outputEl) {{\n",
              "    x.observe(outputEl, {childList: true});\n",
              "}}\n",
              "\n",
              "                        })\n",
              "                };\n",
              "                \n",
              "            </script>\n",
              "        </div>\n",
              "</body>\n",
              "</html>"
            ]
          },
          "metadata": {}
        }
      ]
    },
    {
      "cell_type": "code",
      "metadata": {
        "id": "CDyDJy8YSnkJ"
      },
      "source": [
        "dataset = pd.read_csv('drive/MyDrive/Bass/data/yellow/StudentStatistics_yellow.csv')\n",
        "header = [\"Student\",\"precision\",\"recall\",\"f_measure_value\",\"Onset ABS Mean\",\"Onset Mean\",\"Onset Std\",\n",
        "             \"Duration ABS Mean\",\"Duration Mean\",\"Duration Std\",\"onsetMark\",\" DurationMark\",\" articulationMark \",\"soundQualityMark\",\"volumeControlMark\",\" finalMark\"]"
      ],
      "execution_count": 124,
      "outputs": []
    },
    {
      "cell_type": "code",
      "metadata": {
        "id": "SQdhtPm7T2dX",
        "colab": {
          "base_uri": "https://localhost:8080/"
        },
        "outputId": "0d121ece-688d-443a-b607-255eb2bf7069"
      },
      "source": [
        "from sklearn.linear_model import LinearRegression\n",
        "from sklearn.model_selection import train_test_split\n",
        "from sklearn import metrics\n",
        "X = dataset[['precision','recall','f_measure_value','Onset Mean']]#,]]\n",
        "y=array(dataset['onsetMark'])\n",
        "\n",
        "#coeff_df = pd.DataFrame(regressor.coef_, X.columns, columns=['Coefficient'])\n",
        "X_train, X_test, y_train, y_test = train_test_split(X, y, test_size=0.3, random_state=0)\n",
        "regressor = LinearRegression()\n",
        "regressor.fit(X_train, y_train)\n",
        "y_pred = regressor.predict(X_test)\n",
        "df = pd.DataFrame({'Actual': y_test, 'Predicted': y_pred})\n",
        "print(round(df,3))\n",
        "\n",
        "print('Mean Absolute Error:', round(metrics.mean_absolute_error(y_test, y_pred),3))\n",
        "print('Root Mean Squared Error:',round( np.sqrt(metrics.mean_squared_error(y_test, y_pred)),3))\n"
      ],
      "execution_count": 125,
      "outputs": [
        {
          "output_type": "stream",
          "text": [
            "   Actual  Predicted\n",
            "0    76.5     60.924\n",
            "1    76.5     69.761\n",
            "2    49.5     47.442\n",
            "Mean Absolute Error: 8.124\n",
            "Root Mean Squared Error: 9.87\n"
          ],
          "name": "stdout"
        }
      ]
    },
    {
      "cell_type": "markdown",
      "metadata": {
        "id": "M6jo3kSdtIvH"
      },
      "source": [
        ""
      ]
    },
    {
      "cell_type": "code",
      "metadata": {
        "colab": {
          "base_uri": "https://localhost:8080/",
          "height": 573
        },
        "id": "RnLzc-c45VKr",
        "outputId": "b1796a77-f8dc-4594-c09d-c4788776f572"
      },
      "source": [
        "onset_mean_list = df_all[\"Onset Mean\"].tolist()   \n",
        "onset_amean_list = df_all[\"Onset ABS Mean\"].tolist()   \n",
        "onset_grade_list = df_all[\"onsetMark\"].tolist()   \n",
        "onset_f_measure_value_list = df_all[\"f_measure_value\"].tolist()   \n",
        "plt.title('Actual Onset Grade(red) vs Predicted Onset Grade(blue)')\n",
        "plt.xlabel('F measure')\n",
        "plt.ylabel('Grade(%)')\n",
        "plt.scatter(X_test[\"f_measure_value\"].tolist(), y_test,  color='red')\n",
        "plt.scatter(X_test[\"f_measure_value\"].tolist(), y_pred, color='blue', linewidth=3)\n",
        "plt.show()\n",
        "\n",
        "plt.title('Predicted Onset Grades using Test input (green)')\n",
        "plt.xlabel('F measure')\n",
        "plt.ylabel('Grade(%)')\n",
        "plt.plot(onset_f_measure_value_list,onset_grade_list, 'x',color='blue')\n",
        "plt.plot(X_test[\"f_measure_value\"].tolist(),y_pred, 'o', color='green')\n",
        "plt.show()\n"
      ],
      "execution_count": 126,
      "outputs": [
        {
          "output_type": "display_data",
          "data": {
            "image/png": "[encoded data removed]",
            "text/plain": [
              "<Figure size 432x288 with 1 Axes>"
            ]
          },
          "metadata": {
            "needs_background": "light"
          }
        },
        {
          "output_type": "display_data",
          "data": {
            "image/png": "[encoded data removed]",
            "text/plain": [
              "<Figure size 432x288 with 1 Axes>"
            ]
          },
          "metadata": {
            "needs_background": "light"
          }
        }
      ]
    },
    {
      "cell_type": "code",
      "metadata": {
        "id": "aju6nZtqCm1Z",
        "colab": {
          "base_uri": "https://localhost:8080/"
        },
        "outputId": "16dc4d1e-42ee-4e37-8101-dd34f25db8a8"
      },
      "source": [
        "#X = dataset[['precision','recall','f_measure_value','Duration ABS Mean','Duration Mean','Duration Std']]\n",
        "X = dataset[['precision','recall','f_measure_value','Duration Mean']]\n",
        "y=array(dataset[' DurationMark'])\n",
        "\n",
        "\n",
        "#coeff_df = pd.DataFrame(regressor.coef_, X.columns, columns=['Coefficient'])\n",
        "\n",
        "X_train, X_test, y_train, y_test = train_test_split(X, y, test_size=0.3, random_state=0)# of you ommit it will be random\n",
        "# related to the seed in random function\n",
        "regressor = LinearRegression()\n",
        "regressor.fit(X_train, y_train)\n",
        "y_pred = regressor.predict(X_test)\n",
        "df = pd.DataFrame({'Actual': y_test, 'Predicted': y_pred})\n",
        "print(round(df,3))\n",
        "\n",
        "print('Mean Absolute Error:',round( metrics.mean_absolute_error(y_test, y_pred),3))\n",
        "print('Root Mean Squared Error:', round(np.sqrt(metrics.mean_squared_error(y_test, y_pred)),3))\n"
      ],
      "execution_count": 127,
      "outputs": [
        {
          "output_type": "stream",
          "text": [
            "   Actual  Predicted\n",
            "0    90.0     67.061\n",
            "1    63.0     76.366\n",
            "2    76.5     61.687\n",
            "Mean Absolute Error: 17.039\n",
            "Root Mean Squared Error: 17.552\n"
          ],
          "name": "stdout"
        }
      ]
    },
    {
      "cell_type": "code",
      "metadata": {
        "colab": {
          "base_uri": "https://localhost:8080/",
          "height": 610
        },
        "id": "0q11xJAW9-d7",
        "outputId": "30e6adb0-b9c4-4e9a-be3a-49d050161670"
      },
      "source": [
        "duration_mean_list = df_all[\"Duration Mean\"].tolist()   \n",
        "#duration_amean_list = df_all[\"Duration ABS Mean\"].tolist()   \n",
        "duration_grade_list = df_all[\" DurationMark\"].tolist()   \n",
        "   \n",
        "plt.title('Actual Duration grade(red) vs Predicted Duration grade(blue)')\n",
        "plt.xlabel('Duration Mean')\n",
        "plt.ylabel('Grade(%)')\n",
        "plt.scatter(X_test[\"Duration Mean\"].tolist(), y_test,  color='red')\n",
        "plt.scatter(X_test[\"Duration Mean\"].tolist(), y_pred, color='blue', linewidth=3)\n",
        "print(y_test)\n",
        "print(y_pred)\n",
        "plt.show()\n",
        "\n",
        "plt.title('Predicted Duration Grades using Test input (green)')\n",
        "plt.xlabel('Duration Mean')\n",
        "plt.ylabel('Grade(%)')\n",
        "plt.plot(duration_amean_list,duration_grade_list, 'x',color='blue')\n",
        "plt.plot(X_test[\"f_measure_value\"].tolist(),y_pred, 'o', color='green')\n",
        "plt.show()\n"
      ],
      "execution_count": 128,
      "outputs": [
        {
          "output_type": "stream",
          "text": [
            "[90.  63.  76.5]\n",
            "[67.06149781 76.36606577 61.68715001]\n"
          ],
          "name": "stdout"
        },
        {
          "output_type": "display_data",
          "data": {
            "image/png": "[encoded data removed]",
            "text/plain": [
              "<Figure size 432x288 with 1 Axes>"
            ]
          },
          "metadata": {
            "needs_background": "light"
          }
        },
        {
          "output_type": "display_data",
          "data": {
            "image/png": "[encoded data removed]",
            "text/plain": [
              "<Figure size 432x288 with 1 Axes>"
            ]
          },
          "metadata": {
            "needs_background": "light"
          }
        }
      ]
    },
    {
      "cell_type": "code",
      "metadata": {
        "id": "JU6PMj4VYDH5",
        "colab": {
          "base_uri": "https://localhost:8080/",
          "height": 386
        },
        "outputId": "fea22b0f-a15a-40e7-8803-472551506c46"
      },
      "source": [
        "dataset"
      ],
      "execution_count": 129,
      "outputs": [
        {
          "output_type": "execute_result",
          "data": {
            "text/html": [
              "<div>\n",
              "<style scoped>\n",
              "    .dataframe tbody tr th:only-of-type {\n",
              "        vertical-align: middle;\n",
              "    }\n",
              "\n",
              "    .dataframe tbody tr th {\n",
              "        vertical-align: top;\n",
              "    }\n",
              "\n",
              "    .dataframe thead th {\n",
              "        text-align: right;\n",
              "    }\n",
              "</style>\n",
              "<table border=\"1\" class=\"dataframe\">\n",
              "  <thead>\n",
              "    <tr style=\"text-align: right;\">\n",
              "      <th></th>\n",
              "      <th>Student</th>\n",
              "      <th>precision</th>\n",
              "      <th>recall</th>\n",
              "      <th>f_measure_value</th>\n",
              "      <th>Onset ABS Mean</th>\n",
              "      <th>Onset Mean</th>\n",
              "      <th>Onset Std</th>\n",
              "      <th>Duration ABS Mean</th>\n",
              "      <th>Duration Mean</th>\n",
              "      <th>Duration Std</th>\n",
              "      <th>onsetMark</th>\n",
              "      <th>DurationMark</th>\n",
              "      <th>articulationMark</th>\n",
              "      <th>soundQualityMark</th>\n",
              "      <th>volumeControlMark</th>\n",
              "      <th>finalMark</th>\n",
              "    </tr>\n",
              "  </thead>\n",
              "  <tbody>\n",
              "    <tr>\n",
              "      <th>0</th>\n",
              "      <td>0</td>\n",
              "      <td>0.985</td>\n",
              "      <td>1.000</td>\n",
              "      <td>0.992</td>\n",
              "      <td>0.000</td>\n",
              "      <td>0.000</td>\n",
              "      <td>0.000</td>\n",
              "      <td>0.000</td>\n",
              "      <td>0.000</td>\n",
              "      <td>0.000</td>\n",
              "      <td>100.0</td>\n",
              "      <td>100.0</td>\n",
              "      <td>100.0</td>\n",
              "      <td>100.0</td>\n",
              "      <td>100.0</td>\n",
              "      <td>5.0</td>\n",
              "    </tr>\n",
              "    <tr>\n",
              "      <th>1</th>\n",
              "      <td>1</td>\n",
              "      <td>0.044</td>\n",
              "      <td>0.046</td>\n",
              "      <td>0.045</td>\n",
              "      <td>0.013</td>\n",
              "      <td>-0.008</td>\n",
              "      <td>0.014</td>\n",
              "      <td>0.067</td>\n",
              "      <td>-0.056</td>\n",
              "      <td>0.101</td>\n",
              "      <td>49.5</td>\n",
              "      <td>76.5</td>\n",
              "      <td>49.5</td>\n",
              "      <td>63.0</td>\n",
              "      <td>63.0</td>\n",
              "      <td>1.8</td>\n",
              "    </tr>\n",
              "    <tr>\n",
              "      <th>2</th>\n",
              "      <td>2</td>\n",
              "      <td>0.380</td>\n",
              "      <td>0.390</td>\n",
              "      <td>0.385</td>\n",
              "      <td>0.011</td>\n",
              "      <td>-0.004</td>\n",
              "      <td>0.013</td>\n",
              "      <td>0.038</td>\n",
              "      <td>-0.029</td>\n",
              "      <td>0.101</td>\n",
              "      <td>76.5</td>\n",
              "      <td>63.0</td>\n",
              "      <td>76.5</td>\n",
              "      <td>76.5</td>\n",
              "      <td>76.5</td>\n",
              "      <td>3.6</td>\n",
              "    </tr>\n",
              "    <tr>\n",
              "      <th>3</th>\n",
              "      <td>3</td>\n",
              "      <td>0.103</td>\n",
              "      <td>0.108</td>\n",
              "      <td>0.105</td>\n",
              "      <td>0.010</td>\n",
              "      <td>-0.008</td>\n",
              "      <td>0.012</td>\n",
              "      <td>0.059</td>\n",
              "      <td>-0.059</td>\n",
              "      <td>0.112</td>\n",
              "      <td>49.5</td>\n",
              "      <td>63.0</td>\n",
              "      <td>63.0</td>\n",
              "      <td>63.0</td>\n",
              "      <td>76.5</td>\n",
              "      <td>2.7</td>\n",
              "    </tr>\n",
              "    <tr>\n",
              "      <th>4</th>\n",
              "      <td>4</td>\n",
              "      <td>0.594</td>\n",
              "      <td>0.585</td>\n",
              "      <td>0.589</td>\n",
              "      <td>0.009</td>\n",
              "      <td>-0.001</td>\n",
              "      <td>0.011</td>\n",
              "      <td>0.028</td>\n",
              "      <td>0.000</td>\n",
              "      <td>0.070</td>\n",
              "      <td>76.5</td>\n",
              "      <td>76.5</td>\n",
              "      <td>76.5</td>\n",
              "      <td>76.5</td>\n",
              "      <td>49.5</td>\n",
              "      <td>1.8</td>\n",
              "    </tr>\n",
              "    <tr>\n",
              "      <th>5</th>\n",
              "      <td>5</td>\n",
              "      <td>0.508</td>\n",
              "      <td>0.497</td>\n",
              "      <td>0.503</td>\n",
              "      <td>0.010</td>\n",
              "      <td>0.003</td>\n",
              "      <td>0.012</td>\n",
              "      <td>0.026</td>\n",
              "      <td>0.015</td>\n",
              "      <td>0.056</td>\n",
              "      <td>90.0</td>\n",
              "      <td>90.0</td>\n",
              "      <td>90.0</td>\n",
              "      <td>90.0</td>\n",
              "      <td>90.0</td>\n",
              "      <td>4.5</td>\n",
              "    </tr>\n",
              "    <tr>\n",
              "      <th>6</th>\n",
              "      <td>6</td>\n",
              "      <td>0.198</td>\n",
              "      <td>0.195</td>\n",
              "      <td>0.196</td>\n",
              "      <td>0.010</td>\n",
              "      <td>0.006</td>\n",
              "      <td>0.012</td>\n",
              "      <td>0.030</td>\n",
              "      <td>0.022</td>\n",
              "      <td>0.041</td>\n",
              "      <td>76.5</td>\n",
              "      <td>63.0</td>\n",
              "      <td>63.0</td>\n",
              "      <td>76.5</td>\n",
              "      <td>76.5</td>\n",
              "      <td>3.6</td>\n",
              "    </tr>\n",
              "    <tr>\n",
              "      <th>7</th>\n",
              "      <td>7</td>\n",
              "      <td>0.181</td>\n",
              "      <td>0.190</td>\n",
              "      <td>0.185</td>\n",
              "      <td>0.010</td>\n",
              "      <td>-0.004</td>\n",
              "      <td>0.012</td>\n",
              "      <td>0.096</td>\n",
              "      <td>-0.023</td>\n",
              "      <td>0.147</td>\n",
              "      <td>76.5</td>\n",
              "      <td>90.0</td>\n",
              "      <td>90.0</td>\n",
              "      <td>76.5</td>\n",
              "      <td>76.5</td>\n",
              "      <td>3.6</td>\n",
              "    </tr>\n",
              "    <tr>\n",
              "      <th>8</th>\n",
              "      <td>8</td>\n",
              "      <td>0.122</td>\n",
              "      <td>0.231</td>\n",
              "      <td>0.160</td>\n",
              "      <td>0.010</td>\n",
              "      <td>-0.002</td>\n",
              "      <td>0.012</td>\n",
              "      <td>0.193</td>\n",
              "      <td>-0.187</td>\n",
              "      <td>0.287</td>\n",
              "      <td>49.5</td>\n",
              "      <td>49.5</td>\n",
              "      <td>76.5</td>\n",
              "      <td>63.0</td>\n",
              "      <td>63.0</td>\n",
              "      <td>1.8</td>\n",
              "    </tr>\n",
              "  </tbody>\n",
              "</table>\n",
              "</div>"
            ],
            "text/plain": [
              "   Student  precision  recall  ...  soundQualityMark  volumeControlMark   finalMark\n",
              "0        0      0.985   1.000  ...             100.0              100.0         5.0\n",
              "1        1      0.044   0.046  ...              63.0               63.0         1.8\n",
              "2        2      0.380   0.390  ...              76.5               76.5         3.6\n",
              "3        3      0.103   0.108  ...              63.0               76.5         2.7\n",
              "4        4      0.594   0.585  ...              76.5               49.5         1.8\n",
              "5        5      0.508   0.497  ...              90.0               90.0         4.5\n",
              "6        6      0.198   0.195  ...              76.5               76.5         3.6\n",
              "7        7      0.181   0.190  ...              76.5               76.5         3.6\n",
              "8        8      0.122   0.231  ...              63.0               63.0         1.8\n",
              "\n",
              "[9 rows x 16 columns]"
            ]
          },
          "metadata": {},
          "execution_count": 129
        }
      ]
    },
    {
      "cell_type": "code",
      "metadata": {
        "id": "0gnEMc1RXuBM",
        "colab": {
          "base_uri": "https://localhost:8080/"
        },
        "outputId": "b6c4c91f-cb06-4eb4-d7c4-99836d52d4e0"
      },
      "source": [
        "X = dataset[['precision','recall','f_measure_value','Onset ABS Mean','Duration ABS Mean']]\n",
        "y=array(dataset[' finalMark'])\n",
        "\n",
        "\n",
        "#coeff_df = pd.DataFrame(regressor.coef_, X.columns, columns=['Coefficient'])\n",
        "\n",
        "X_train, X_test, y_train, y_test = train_test_split(X, y, test_size=0.3, random_state=0)\n",
        "regressor = LinearRegression()\n",
        "regressor.fit(X_train, y_train)\n",
        "y_pred = regressor.predict(X_test)\n",
        "df = pd.DataFrame({'Actual': y_test, 'Predicted': y_pred})\n",
        "print(df)\n",
        "\n",
        "print('Mean Absolute Error:', metrics.mean_absolute_error(y_test, y_pred))\n",
        "print('Root Mean Squared Error:', np.sqrt(metrics.mean_squared_error(y_test, y_pred)))"
      ],
      "execution_count": 130,
      "outputs": [
        {
          "output_type": "stream",
          "text": [
            "   Actual  Predicted\n",
            "0     3.6  -0.265812\n",
            "1     3.6  13.608101\n",
            "2     1.8   6.140306\n",
            "Mean Absolute Error: 6.071406306038938\n",
            "Root Mean Squared Error: 6.681936826144514\n"
          ],
          "name": "stdout"
        }
      ]
    }
  ]
}