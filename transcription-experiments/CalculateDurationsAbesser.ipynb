{
  "nbformat": 4,
  "nbformat_minor": 0,
  "metadata": {
    "kernelspec": {
      "display_name": "Python 3",
      "language": "python",
      "name": "python3"
    },
    "language_info": {
      "codemirror_mode": {
        "name": "ipython",
        "version": 3
      },
      "file_extension": ".py",
      "mimetype": "text/x-python",
      "name": "python",
      "nbconvert_exporter": "python",
      "pygments_lexer": "ipython3",
      "version": "3.6.7"
    },
    "colab": {
      "name": "CalculateDurationsAbesser.ipynb",
      "provenance": [],
      "collapsed_sections": []
    }
  },
  "cells": [
    {
      "cell_type": "code",
      "metadata": {
        "colab": {
          "base_uri": "https://localhost:8080/"
        },
        "id": "HRkoU7vdT6o6",
        "outputId": "77617b46-8678-433f-9bd7-490d6d0afba2"
      },
      "source": [
        "!pip3 install essentia"
      ],
      "execution_count": null,
      "outputs": [
        {
          "output_type": "stream",
          "text": [
            "Requirement already satisfied: essentia in /usr/local/lib/python3.7/dist-packages (2.1b6.dev374)\n",
            "Requirement already satisfied: six in /usr/local/lib/python3.7/dist-packages (from essentia) (1.15.0)\n",
            "Requirement already satisfied: pyyaml in /usr/local/lib/python3.7/dist-packages (from essentia) (3.13)\n",
            "Requirement already satisfied: numpy>=1.8.2 in /usr/local/lib/python3.7/dist-packages (from essentia) (1.19.5)\n"
          ],
          "name": "stdout"
        }
      ]
    },
    {
      "cell_type": "code",
      "metadata": {
        "id": "tNDZIqXIT-8C"
      },
      "source": [
        ""
      ],
      "execution_count": null,
      "outputs": []
    },
    {
      "cell_type": "markdown",
      "metadata": {
        "id": "v2Umc4JfkpFY"
      },
      "source": [
        "First Task\n",
        "\n",
        "Define the Duration and Offset measurement techniques.\n",
        "\n",
        "We already have the onset detection ideas (HFC,)\n",
        "\n",
        "Evaluate different onset.\n",
        "\n",
        "Distances with annotation \n",
        "\n",
        "\n",
        "Similarity between Ground Truth (annotations) and the output of the algorithm.\n",
        "\n",
        "Observations on current alg.\n",
        "\n",
        "It needs to consider short inter-note interval.\n",
        "\n",
        "Consider \"missing green lines\":\n",
        "\n",
        "Can I find a way to \n",
        "numericall assess ag similar to student assessment.\n",
        "\n",
        "\n"
      ]
    },
    {
      "cell_type": "markdown",
      "metadata": {
        "id": "gZWymHnnkei0"
      },
      "source": [
        "\n",
        "Onset, Offset, Duration Measurements,"
      ]
    },
    {
      "cell_type": "code",
      "metadata": {
        "colab": {
          "base_uri": "https://localhost:8080/"
        },
        "id": "wQ2FxiChaqrD",
        "outputId": "ea6b118b-cd4a-4711-ddc0-dec6020ea934"
      },
      "source": [
        "from google.colab import drive\n",
        "drive.mount(\"/content/drive\", force_remount=True)\n",
        "root = '/content/drive/Thesis'\n",
        "query_music_path = '/content/drive/Thesis'\n",
        "\n",
        "import pandas as pd\n",
        "import sys\n",
        "sys.path.append('/content/drive/Thesis')\n",
        "\n",
        "sys.path.append('/content/drive/MyDrive/Thesis/IDMT-SMT-BASS_SINGLE-TRACKS/audio')\n",
        "sys.path.append('/content/drive/MyDrive/Thesis/IDMT-SMT-BASS-SINGLE-TRACKS/annotation')\n",
        "\n",
        "\n"
      ],
      "execution_count": null,
      "outputs": [
        {
          "output_type": "stream",
          "text": [
            "Mounted at /content/drive\n"
          ],
          "name": "stdout"
        }
      ]
    },
    {
      "cell_type": "code",
      "metadata": {
        "id": "152bVRsibyqx"
      },
      "source": [
        "import os\n",
        "from essentia.standard import *\n",
        "from essentia import Pool, array\n",
        "import matplotlib.pyplot as plt\n",
        "import numpy as np\n",
        "import IPython.display as ipd"
      ],
      "execution_count": null,
      "outputs": []
    },
    {
      "cell_type": "markdown",
      "metadata": {
        "id": "Hxf7p37yFg9x"
      },
      "source": [
        ""
      ]
    },
    {
      "cell_type": "code",
      "metadata": {
        "id": "bdkzxmJlai1C",
        "colab": {
          "base_uri": "https://localhost:8080/"
        },
        "outputId": "8802e929-f893-4297-c084-c22f517b9975"
      },
      "source": [
        "!ls drive/MyDrive/Thesis/IDMT-SMT-BASS-SINGLE-TRACKS/annotation\n",
        "\n"
      ],
      "execution_count": null,
      "outputs": [
        {
          "output_type": "stream",
          "text": [
            "001.xml  003.xml  005.xml  007.xml  009.xml  011.xml  013.xml  015.xml\t017.xml\n",
            "002.xml  004.xml  006.xml  008.xml  010.xml  012.xml  014.xml  016.xml\n"
          ],
          "name": "stdout"
        }
      ]
    },
    {
      "cell_type": "code",
      "metadata": {
        "colab": {
          "base_uri": "https://localhost:8080/"
        },
        "id": "39PX1nAWaWQw",
        "outputId": "1cb6144b-1cef-4d4c-8977-aba67c5b4459"
      },
      "source": [
        "from lxml import etree\n",
        "\n",
        "with open(\"drive/MyDrive/Thesis/IDMT-SMT-BASS-SINGLE-TRACKS/annotation/002.xml\", \"rb\") as f:\n",
        "    tree = etree.parse(f)\n",
        "\n",
        "golden_onsets2 = []\n",
        "golden_offsets2 = []\n",
        "# onsets\n",
        "print(\"Onsets2:\")\n",
        "for x in tree.getroot().xpath(\"//onsetSec\"):\n",
        "    golden_onsets2.append(x.text)\n",
        "# offsets\n",
        "print(\"Offsets2:\")\n",
        "for x in tree.getroot().xpath(\"//offsetSec\"):\n",
        "    golden_offsets2.append(x.text)\n",
        "\n",
        "\n",
        "with open(\"drive/MyDrive/Thesis/IDMT-SMT-BASS-SINGLE-TRACKS/annotation/004.xml\", \"rb\") as f:\n",
        "    tree = etree.parse(f)\n",
        "\n",
        "golden_onsets4 = []\n",
        "golden_offsets4 = []\n",
        "# onsets\n",
        "print(\"Onsets4:\")\n",
        "for x in tree.getroot().xpath(\"//onsetSec\"):\n",
        "    golden_onsets4.append(x.text)\n",
        "# offsets\n",
        "print(\"Offsets4:\")\n",
        "for x in tree.getroot().xpath(\"//offsetSec\"):\n",
        "    golden_offsets4.append(x.text)\n",
        "\n",
        "\n",
        "with open(\"drive/MyDrive/Thesis/IDMT-SMT-BASS-SINGLE-TRACKS/annotation/010.xml\", \"rb\") as f:\n",
        "    tree = etree.parse(f)\n",
        "golden_onsets10 = []\n",
        "golden_offsets10 = []\n",
        "# onsets\n",
        "print(\"Onsets10:\")\n",
        "for x in tree.getroot().xpath(\"//onsetSec\"):\n",
        "    golden_onsets10.append(x.text)\n",
        "# offsets\n",
        "print(\"Offsets10:\")\n",
        "for x in tree.getroot().xpath(\"//offsetSec\"):\n",
        "    golden_offsets10.append(x.text)\n",
        "\n",
        "\n",
        "with open(\"drive/MyDrive/Thesis/IDMT-SMT-BASS-SINGLE-TRACKS/annotation/012.xml\", \"rb\") as f:\n",
        "    tree = etree.parse(f)\n",
        "golden_onsets12 = []\n",
        "golden_offsets12 = []\n",
        "# onsets\n",
        "print(\"Onsets12:\")\n",
        "for x in tree.getroot().xpath(\"//onsetSec\"):\n",
        "    golden_onsets12.append(x.text)\n",
        "# offsets\n",
        "print(\"Offsets12:\")\n",
        "for x in tree.getroot().xpath(\"//offsetSec\"):\n",
        "    golden_offsets12.append(x.text)"
      ],
      "execution_count": null,
      "outputs": [
        {
          "output_type": "stream",
          "text": [
            "Onsets2:\n",
            "Offsets2:\n",
            "Onsets4:\n",
            "Offsets4:\n",
            "Onsets10:\n",
            "Offsets10:\n",
            "Onsets12:\n",
            "Offsets12:\n"
          ],
          "name": "stdout"
        }
      ]
    },
    {
      "cell_type": "code",
      "metadata": {
        "id": "634b-3LdUnSv"
      },
      "source": [
        "fs=44100\n",
        "durInSecs=6\n",
        "durInSecs2=6\n",
        "soundsDir = ''\n",
        "\n",
        "frameSize = 1024*2\n",
        "hopSize = 512*2\n",
        "#fileName = os.path.join(soundsDir, file)\n",
        "\n",
        "the002 = 'drive/MyDrive/Thesis/IDMT-SMT-BASS-SINGLE-TRACKS/audio/002.wav'\n",
        "the004 = 'drive/MyDrive/Thesis/IDMT-SMT-BASS-SINGLE-TRACKS/audio/004.wav'\n",
        "the010 = 'drive/MyDrive/Thesis/IDMT-SMT-BASS-SINGLE-TRACKS/audio/010.wav'\n",
        "the012 = 'drive/MyDrive/Thesis/IDMT-SMT-BASS-SINGLE-TRACKS/audio/012.wav'\n",
        "\n",
        "\n",
        "g2 = MonoLoader(filename = the002, sampleRate = fs)()\n",
        "g2 =g2[:int(durInSecs * fs)]#let's use only the first 8 seconds of the signals\n",
        "g2= g2 / np.max(np.abs(g2))\n",
        "\n",
        "g4 = MonoLoader(filename = the004, sampleRate = fs)()\n",
        "g4 = g4[:int(durInSecs * fs)]#let's use only the first 8 seconds of the signals\n",
        "g4=  g4 / np.max(np.abs(g4))\n",
        "\n",
        "g10 = MonoLoader(filename = the010, sampleRate = fs)()\n",
        "g10 = g10[:int(durInSecs * fs)]#let's use only the first 8 seconds of the signals\n",
        "g10=  g10 / np.max(np.abs(g10))\n",
        "\n",
        "g12 = MonoLoader(filename = the012, sampleRate = fs)()\n",
        "g12 =g12[:int(durInSecs * fs)]#let's use only the first 8 seconds of the signals\n",
        "g12= g12 / np.max(np.abs(g12))\n",
        "\n"
      ],
      "execution_count": null,
      "outputs": []
    },
    {
      "cell_type": "code",
      "metadata": {
        "id": "6o4BX0GUkdst"
      },
      "source": [
        "def calculate_offset(x,threshold,frameSize,hopSize):\n",
        "  rms_bands = []\n",
        "  for fstart in range(0, len(x)-frameSize, hopSize):\n",
        "    frame = x[fstart:fstart+frameSize]\n",
        "    rms_output= RMS()(frame)\n",
        "    rms_bands.append(rms_output)\n",
        "  index= 0\n",
        "  array_of_time_offsets= []\n",
        "  flag = False\n",
        "  last_index=0\n",
        "  while index < len(rms_bands):\n",
        "    if rms_bands[index]<threshold and flag == False :\n",
        "      array_of_time_offsets.append(index)\n",
        "      flag = True\n",
        "      last_index=index\n",
        "    index+=1\n",
        "    #We set flag back to false after determined time epriod\n",
        "    increment_factor= int(hopSize/100)\n",
        "    if index > last_index+increment_factor:\n",
        "      flag = False\n",
        "  print(array(array_of_time_offsets))\n",
        "  a= array(array_of_time_offsets)\n",
        "  fs=44100\n",
        "  the_len= int(len(x)/hopSize)\n",
        "  print(the_len)\n",
        "  rms_bands1 = rms_bands[:the_len]\n",
        "  b= (a*hopSize)/44100\n",
        "  return(rms_bands1,b)"
      ],
      "execution_count": null,
      "outputs": []
    },
    {
      "cell_type": "code",
      "metadata": {
        "id": "rtzC-fAqoWoE"
      },
      "source": [
        "\"\"\"\n",
        "\n",
        "ABESSER OPERATION SECTION\n",
        "We estimate the note offset frame nOff(i) of the i-th note as the first frame after\n",
        "the note onset frame nOn(i), where the cross-correlation value\n",
        "Cmax(n) (see Section III-C) remains below 5%of themaximum\n",
        "cross-correlation value for at least four adjacent frames or a new\n",
        "note begins.\n",
        "\n",
        "\n",
        "First,\n",
        "we average the magnitude spectrogram MIF over the first 20%\n",
        "of the note’s distance to the following onset time (inter-onsetinterval)\n",
        "and compute an accumulated magnitude spectrogram\n",
        "MIF,acc ∈ RKlo\n",
        "\n",
        "fundamental frequency f0 , we compute the cross-correlation\n",
        "between MIF,acc and a harmonic spectral template T ∈ RKlo g ,\n",
        "\n",
        "fh = (h + 1)f0\u00041 + β(h + 1)2 with h ∈ [0, 9].\n",
        "\n",
        "β denoting the inharmonicity coefficient3 [39].\n",
        "\n",
        "estimate β using a grid search along 100 equidistant grid\n",
        "points within [0, 0.001]. For\n",
        "\n",
        "P(i) =abs(\u000412 log2 \u0006(f0/440)+ 69 + 0.5\u0005\n",
        "\"\"\""
      ],
      "execution_count": null,
      "outputs": []
    },
    {
      "cell_type": "code",
      "metadata": {
        "id": "6nC7-w1RSArb",
        "colab": {
          "base_uri": "https://localhost:8080/"
        },
        "outputId": "cc47e7ce-6503-4cbc-9851-d5f3cef3049a"
      },
      "source": [
        "\n",
        "def calculateCmax():\n",
        "  return (cmax)\n",
        "\n",
        "def calculate_abOffset(x,threshold,frameSize,hopSize,hopSizeScaleFactor):\n",
        "  rms_bands = []\n",
        "  for fstart in range(0, len(x)-frameSize, hopSize):\n",
        "    frame = x[fstart:fstart+frameSize]\n",
        "    rms_output= RMS()(frame)\n",
        "    rms_bands.append(rms_output)\n",
        "  index= 0\n",
        "  array_of_time_offsets= []\n",
        "  flag = False\n",
        "  last_index=0\n",
        "  while index < len(rms_bands):\n",
        "    if rms_bands[index]<threshold and flag == False :\n",
        "      array_of_time_offsets.append(index)\n",
        "      flag = True\n",
        "      last_index=index\n",
        "    index+=1\n",
        "    #We set flag back to false after determined time epriod\n",
        "    increment_factor= int(hopSize/hopSizeScaleFactor)\n",
        "    if index > last_index+increment_factor:\n",
        "      flag = False\n",
        "  print(array(array_of_time_offsets))\n",
        "  a= array(array_of_time_offsets)\n",
        "  fs=44100\n",
        "  the_len= int(len(x)/hopSize)\n",
        "  print(the_len)\n",
        "  rms_bands1 = rms_bands[:the_len]\n",
        "  b= (a*hopSize)/44100\n",
        "  return(rms_bands1,b)\n",
        "print(\"ok\")"
      ],
      "execution_count": null,
      "outputs": [
        {
          "output_type": "stream",
          "text": [
            "ok\n"
          ],
          "name": "stdout"
        }
      ]
    },
    {
      "cell_type": "code",
      "metadata": {
        "id": "DVARgbcNbrsb"
      },
      "source": [
        "\n",
        "def calculateCmax():\n",
        "  return (cmax)\n",
        "\n",
        "def calculate_abOffset(x,threshold,frameSize,hopSize,hopSizeScaleFactor):\n",
        "  rms_bands = []\n",
        "  for fstart in range(0, len(x)-frameSize, hopSize):\n",
        "    frame = x[fstart:fstart+frameSize]\n",
        "    rms_output= RMS()(frame)\n",
        "    rms_bands.append(rms_output)\n",
        "  index= 0\n",
        "  array_of_time_offsets= []\n",
        "  flag = False\n",
        "  last_index=0\n",
        "  while index < len(rms_bands):\n",
        "    if rms_bands[index]<threshold and flag == False :\n",
        "      array_of_time_offsets.append(index)\n",
        "      flag = True\n",
        "      last_index=index\n",
        "    index+=1\n",
        "    #We set flag back to false after determined time epriod\n",
        "    increment_factor= int(hopSize/hopSizeScaleFactor)\n",
        "    if index > last_index+increment_factor:\n",
        "      flag = False\n",
        "  print(array(array_of_time_offsets))\n",
        "  a= array(array_of_time_offsets)\n",
        "  fs=44100\n",
        "  the_len= int(len(x)/hopSize)\n",
        "  print(the_len)\n",
        "  rms_bands1 = rms_bands[:the_len]\n",
        "  b= (a*hopSize)/44100\n",
        "  return(rms_bands1,b)\n",
        "print(\"ok\")"
      ],
      "execution_count": null,
      "outputs": []
    },
    {
      "cell_type": "code",
      "metadata": {
        "colab": {
          "base_uri": "https://localhost:8080/",
          "height": 729
        },
        "id": "FouTtPpE99Mb",
        "outputId": "e3043ac2-5b04-42c4-9f2c-03b0507a88e8"
      },
      "source": [
        "#rms, b=calculate_abOffset(g1,0.02,frameSize,hopSize,50) # Long inter note gap\n",
        "rms, b=calculate_abOffset(g2,0.1,frameSize,hopSize,90) # short inter note gap\n",
        "\n",
        "# Decide on a criteria to decide when onset and offset align\n",
        "plt.plot(np.arange(g2.size)/float(fs), g2,'b')\n",
        "plt.axis([0,g2.size/float(fs),min(g2),max(g2)])\n",
        "for i in b:\n",
        "    plt.axvline(x=i, color='yellow')\n",
        "plt.title(\"Colms Algorithm to estimate\")\n",
        "plt.show()\n",
        "\n",
        "go2 = array(golden_offsets2)\n",
        "\n",
        "\n",
        "\n",
        "plt.plot(np.arange(g2.size)/float(fs), g2,'b')\n",
        "plt.axis([0,g2.size/float(fs),min(g2),max(g2)])\n",
        "for i in go2:\n",
        "    plt.axvline(x=i, color='green')\n",
        "plt.title(\"Ground Truth ANNOTATED\")\n",
        "plt.show()\n",
        "print(b)\n",
        "print(go2)\n",
        "\n",
        "# Decide on a criteria to decide when onset and offset align\n",
        "plt.plot(np.arange(g2.size)/float(fs), g2,'b')\n",
        "plt.axis([0,g2.size/float(fs),min(g2),max(g2)])\n",
        "for i in b:\n",
        "    plt.axvline(x=i, color='yellow')\n",
        "plt.title(\"Onsets\")\n",
        "plt.show()\n",
        "\n",
        "\n",
        "\n"
      ],
      "execution_count": null,
      "outputs": [
        {
          "output_type": "stream",
          "text": [
            "[ 26.  59.  74.  89. 102. 114. 149. 178. 192. 231. 243.]\n",
            "258\n"
          ],
          "name": "stdout"
        },
        {
          "output_type": "display_data",
          "data": {
            "image/png": "[encoded data removed]",
            "text/plain": [
              "<Figure size 432x288 with 1 Axes>"
            ]
          },
          "metadata": {
            "tags": [],
            "needs_background": "light"
          }
        },
        {
          "output_type": "display_data",
          "data": {
            "image/png": "[encoded data removed]",
            "text/plain": [
              "<Figure size 432x288 with 1 Axes>"
            ]
          },
          "metadata": {
            "tags": [],
            "needs_background": "light"
          }
        },
        {
          "output_type": "stream",
          "text": [
            "[0.6037188 1.3699774 1.7182766 2.066576  2.3684354 2.647075  3.4597733\n",
            " 4.133152  4.4582314 5.3638096 5.642449 ]\n",
            "[ 0.6     1.4341  1.8     2.1     2.3995  2.5552  3.      3.5066  3.9\n",
            "  4.2     4.5     4.8     5.3545  6.237   6.6     6.9     7.2     7.3944\n",
            "  7.8     8.4     8.7     9.      9.3     9.6    10.2356 11.033  11.4\n",
            " 11.7    12.     12.1    12.6    13.2    13.5    13.8    14.1    14.4\n",
            " 15.     15.84   16.2    16.5    16.8    16.9271 17.4    18.     18.3\n",
            " 18.6    18.9    19.2   ]\n"
          ],
          "name": "stdout"
        }
      ]
    },
    {
      "cell_type": "code",
      "metadata": {
        "colab": {
          "base_uri": "https://localhost:8080/",
          "height": 582
        },
        "id": "eCcRrdkqrtS8",
        "outputId": "17694154-39e8-4c7d-8856-fedca6f8c89f"
      },
      "source": [
        "rms, b=calculate_abOffset(g4,0.1,frameSize,hopSize,90) # short inter note gap\n",
        "\n",
        "# Decide on a criteria to decide when onset and offset align\n",
        "plt.plot(np.arange(g4.size)/float(fs), g4,'b')\n",
        "plt.axis([0,g4.size/float(fs),min(g4),max(g4)])\n",
        "for i in b:\n",
        "    plt.axvline(x=i, color='yellow')\n",
        "plt.title(\"Colms Algorithm to estimate\")\n",
        "plt.show()\n",
        "\n",
        "go4 = array(golden_offsets4)\n",
        "\n",
        "plt.plot(np.arange(g4.size)/float(fs), g4,'b')\n",
        "plt.axis([0,g4.size/float(fs),min(g4),max(g4)])\n",
        "for i in go4:\n",
        "    plt.axvline(x=i, color='green')\n",
        "plt.title(\"Ground Truth ANNOTATED\")\n",
        "plt.show()"
      ],
      "execution_count": null,
      "outputs": [
        {
          "output_type": "stream",
          "text": [
            "[  7.  19.  50.  66.  97. 109. 144. 187. 224.]\n",
            "258\n"
          ],
          "name": "stdout"
        },
        {
          "output_type": "display_data",
          "data": {
            "image/png": "[encoded data removed]",
            "text/plain": [
              "<Figure size 432x288 with 1 Axes>"
            ]
          },
          "metadata": {
            "tags": [],
            "needs_background": "light"
          }
        },
        {
          "output_type": "display_data",
          "data": {
            "image/png": "[encoded data removed]",
            "text/plain": [
              "<Figure size 432x288 with 1 Axes>"
            ]
          },
          "metadata": {
            "tags": [],
            "needs_background": "light"
          }
        }
      ]
    },
    {
      "cell_type": "code",
      "metadata": {
        "colab": {
          "base_uri": "https://localhost:8080/",
          "height": 318
        },
        "id": "LfcB3IY9P3Yn",
        "outputId": "2bdeb8b1-6102-4eed-d971-c820ecda4e85"
      },
      "source": [
        "#rms, b=calculate_abOffset(g10,0.02,frameSize,hopSize,50) # Long inter note gap\n",
        "rms, b=calculate_abOffset(g10,0.1,frameSize,hopSize,90) # short inter note gap\n",
        "\n",
        "# Decide on a criteria to decide when onset and offset align\n",
        "plt.plot(np.arange(g10.size)/float(fs), g10,'b')\n",
        "plt.axis([0,g10.size/float(fs),min(g10),max(g10)])\n",
        "for i in b:\n",
        "    plt.axvline(x=i, color='yellow')\n",
        "plt.title(\"Colms Algorithm to estimate\")\n",
        "plt.show()\n",
        "\n",
        "go10 = array(golden_offsets10)\n",
        "\n",
        "plt.plot(np.arange(g10.size)/float(fs), g10,'b')\n",
        "plt.axis([0,g10.size/float(fs),min(g10),max(g10)])\n",
        "for i in g10:\n",
        "    plt.axvline(x=i, color='green')\n",
        "plt.title(\"Ground Truth ANNOTATED\")\n",
        "plt.show()"
      ],
      "execution_count": null,
      "outputs": [
        {
          "output_type": "stream",
          "text": [
            "[ 23.  56.  90. 133. 161. 198. 231.]\n",
            "258\n"
          ],
          "name": "stdout"
        },
        {
          "output_type": "display_data",
          "data": {
            "image/png": "[encoded data removed]",
            "text/plain": [
              "<Figure size 432x288 with 1 Axes>"
            ]
          },
          "metadata": {
            "tags": [],
            "needs_background": "light"
          }
        }
      ]
    },
    {
      "cell_type": "code",
      "metadata": {
        "id": "dBg1k_JgfCLx"
      },
      "source": [
        "#rms, b=calculate_abOffset(g12,0.02,frameSize,hopSize,50) # Long inter note gap\n",
        "rms, b=calculate_abOffset(g12,0.1,frameSize,hopSize,90) # short inter note gap\n",
        "\n",
        "# Decide on a criteria to decide when onset and offset align\n",
        "plt.plot(np.arange(g12.size)/float(fs), g12,'b')\n",
        "plt.axis([0,g12.size/float(fs),min(g12),max(g12)])\n",
        "for i in b:\n",
        "    plt.axvline(x=i, color='yellow')\n",
        "plt.title(\"Colms Algorithm to estimate\")\n",
        "plt.show()\n",
        "\n",
        "go12= array(golden_offsets12)\n",
        "\n",
        "plt.plot(np.arange(g12.size)/float(fs), g12,'b')\n",
        "plt.axis([0,g12.size/float(fs),min(g12),max(g12)])\n",
        "for i in g12:\n",
        "    plt.axvline(x=i, color='green')\n",
        "plt.title(\"Ground Truth ANNOTATED\")\n",
        "plt.show()"
      ],
      "execution_count": null,
      "outputs": []
    }
  ]
}