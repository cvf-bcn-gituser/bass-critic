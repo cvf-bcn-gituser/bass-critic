{
  "nbformat": 4,
  "nbformat_minor": 0,
  "metadata": {
    "kernelspec": {
      "display_name": "Python 3",
      "language": "python",
      "name": "python3"
    },
    "language_info": {
      "codemirror_mode": {
        "name": "ipython",
        "version": 3
      },
      "file_extension": ".py",
      "mimetype": "text/x-python",
      "name": "python",
      "nbconvert_exporter": "python",
      "pygments_lexer": "ipython3",
      "version": "3.6.7"
    },
    "colab": {
      "name": "HistogramTestWOTM.ipynb",
      "provenance": [],
      "collapsed_sections": []
    }
  },
  "cells": [
    {
      "cell_type": "code",
      "metadata": {
        "colab": {
          "base_uri": "https://localhost:8080/"
        },
        "id": "13LOyuxayHjM",
        "outputId": "0b753e82-db53-450c-be75-1e53493ade12"
      },
      "source": [
        "!pip3 install essentia"
      ],
      "execution_count": 15,
      "outputs": [
        {
          "output_type": "stream",
          "name": "stdout",
          "text": [
            "Requirement already satisfied: essentia in /usr/local/lib/python3.7/dist-packages (2.1b6.dev374)\n",
            "Requirement already satisfied: numpy>=1.8.2 in /usr/local/lib/python3.7/dist-packages (from essentia) (1.19.5)\n",
            "Requirement already satisfied: six in /usr/local/lib/python3.7/dist-packages (from essentia) (1.15.0)\n",
            "Requirement already satisfied: pyyaml in /usr/local/lib/python3.7/dist-packages (from essentia) (3.13)\n"
          ]
        }
      ]
    },
    {
      "cell_type": "code",
      "metadata": {
        "id": "OEdDKfBpdEwf",
        "colab": {
          "base_uri": "https://localhost:8080/"
        },
        "outputId": "c71ea9fd-4f28-4dd2-9496-027cecfe46d0"
      },
      "source": [
        "!pip3 install madmom"
      ],
      "execution_count": 16,
      "outputs": [
        {
          "output_type": "stream",
          "name": "stdout",
          "text": [
            "Requirement already satisfied: madmom in /usr/local/lib/python3.7/dist-packages (0.16.1)\n",
            "Requirement already satisfied: numpy>=1.13.4 in /usr/local/lib/python3.7/dist-packages (from madmom) (1.19.5)\n",
            "Requirement already satisfied: cython>=0.25 in /usr/local/lib/python3.7/dist-packages (from madmom) (0.29.24)\n",
            "Requirement already satisfied: scipy>=0.16 in /usr/local/lib/python3.7/dist-packages (from madmom) (1.4.1)\n",
            "Requirement already satisfied: mido>=1.2.8 in /usr/local/lib/python3.7/dist-packages (from madmom) (1.2.10)\n"
          ]
        }
      ]
    },
    {
      "cell_type": "code",
      "metadata": {
        "id": "rmxZSSGjtfEE",
        "colab": {
          "base_uri": "https://localhost:8080/"
        },
        "outputId": "d3063e66-0bec-4c37-954d-69de82382bb5"
      },
      "source": [
        "!pip3 install mir_eval"
      ],
      "execution_count": 17,
      "outputs": [
        {
          "output_type": "stream",
          "name": "stdout",
          "text": [
            "Requirement already satisfied: mir_eval in /usr/local/lib/python3.7/dist-packages (0.6)\n",
            "Requirement already satisfied: six in /usr/local/lib/python3.7/dist-packages (from mir_eval) (1.15.0)\n",
            "Requirement already satisfied: future in /usr/local/lib/python3.7/dist-packages (from mir_eval) (0.16.0)\n",
            "Requirement already satisfied: numpy>=1.7.0 in /usr/local/lib/python3.7/dist-packages (from mir_eval) (1.19.5)\n",
            "Requirement already satisfied: scipy>=1.0.0 in /usr/local/lib/python3.7/dist-packages (from mir_eval) (1.4.1)\n"
          ]
        }
      ]
    },
    {
      "cell_type": "markdown",
      "metadata": {
        "id": "dSxfHZTNOrr7"
      },
      "source": [
        "The section below is all path dependent"
      ]
    },
    {
      "cell_type": "code",
      "metadata": {
        "id": "rKwBFtUiykYU",
        "colab": {
          "base_uri": "https://localhost:8080/"
        },
        "outputId": "6e2efddc-33e4-4537-c897-7f9523f017ec"
      },
      "source": [
        "from google.colab import drive\n",
        "drive.mount(\"/content/drive\", force_remount=True)\n",
        "root = 'drive/MyDrive/Bass/'\n",
        "\n",
        "import pandas as pd\n",
        "import sys\n",
        "sys.path.append(root)"
      ],
      "execution_count": 18,
      "outputs": [
        {
          "output_type": "stream",
          "name": "stdout",
          "text": [
            "Mounted at /content/drive\n"
          ]
        }
      ]
    },
    {
      "cell_type": "code",
      "metadata": {
        "id": "sAplIzp5UBFL"
      },
      "source": [
        "import madmom"
      ],
      "execution_count": 19,
      "outputs": []
    },
    {
      "cell_type": "code",
      "metadata": {
        "id": "MC6bIbDvyeSZ"
      },
      "source": [
        "from essentia.standard import *\n",
        "from essentia import Pool, array\n",
        "import essentia.standard as es\n",
        "import matplotlib.pyplot as plt\n",
        "import numpy as np\n",
        "import IPython.display as ipd\n",
        "import pandas as pd\n",
        "import os\n",
        "\n",
        "import IPython\n",
        "import pickle\n",
        "from pickle import load\n",
        "from scipy.signal import find_peaks\n",
        "import ipywidgets as widgets\n",
        "from scipy import signal\n",
        "from lxml import etree\n",
        "\n",
        "import plotly.express as px\n",
        "import scipy\n",
        "from statistics import *"
      ],
      "execution_count": 20,
      "outputs": []
    },
    {
      "cell_type": "code",
      "metadata": {
        "id": "7oagAxf-UEjK"
      },
      "source": [
        "import mir_eval\n",
        "from mir_eval import *"
      ],
      "execution_count": 21,
      "outputs": []
    },
    {
      "cell_type": "code",
      "metadata": {
        "id": "sLLTjrn6qh8Q"
      },
      "source": [
        "statsPath = 'drive/MyDrive/Bass/data/wotm/StudentStatistics_wotm.csv'\n",
        "statsCols = [\"Student\", \"precision\", \"recall\", \"f_measure_value\", \"Onset ABS Mean\", \"Onset Mean\", \"Onset Std\",\n",
        "             \"Duration ABS Mean\", \"Duration Mean\", \"Duration Std\", \"onsetMark\", \" DurationMark\", \" TF 1 Mark \",\n",
        "             \"Sound Quality Mark\",  \" finalMark\"]\n",
        "df_all = pd.read_csv(statsPath, usecols=statsCols)\n",
        "   "
      ],
      "execution_count": 22,
      "outputs": []
    },
    {
      "cell_type": "code",
      "metadata": {
        "id": "zyl3EjGYuDIT"
      },
      "source": [
        ""
      ],
      "execution_count": 22,
      "outputs": []
    },
    {
      "cell_type": "code",
      "metadata": {
        "id": "TugwgeYNvxl-"
      },
      "source": [
        ""
      ],
      "execution_count": 22,
      "outputs": []
    },
    {
      "cell_type": "markdown",
      "metadata": {
        "id": "ThcgwFdTuQUU"
      },
      "source": [
        ""
      ]
    },
    {
      "cell_type": "code",
      "metadata": {
        "id": "ctmZtOPYOLfM"
      },
      "source": [
        "col_list = [\"onset dev\", \"offset dev\"]\n",
        "sonset_deviations = []\n",
        "soffset_deviations = []\n",
        "# sonset_deviations,soffset_deviations\n",
        "k=0\n",
        "while k<11:\n",
        "   sdeviatePath = 'drive/MyDrive/Bass/data/wotm/wotm_devs_student' + str(k)+ '.csv'\n",
        "   sdf = pd.read_csv(sdeviatePath, usecols=col_list)\n",
        "   sonset_dev_list = sdf[\"onset dev\"]\n",
        "   sonset_deviations.append(sonset_dev_list)\n",
        "   soffset_dev_list = sdf[\"offset dev\"] \n",
        "   soffset_deviations.append(soffset_dev_list)\n",
        "   #multiple_hist(sonset_dev_list,soffset_dev_list,\" onsets\",\" offsets\",df_all,k)\n",
        "   k+=1"
      ],
      "execution_count": 11,
      "outputs": []
    },
    {
      "cell_type": "code",
      "metadata": {
        "id": "SYHDoLzH-xQD"
      },
      "source": [
        "index = df_all.index\n",
        "number_of_rows = len(index)"
      ],
      "execution_count": 12,
      "outputs": []
    },
    {
      "cell_type": "markdown",
      "metadata": {
        "id": "RGLfjAZbgQDy"
      },
      "source": [
        ""
      ]
    },
    {
      "cell_type": "code",
      "metadata": {
        "id": "iYl-B_ig2ISM"
      },
      "source": [
        "import csv  \n",
        "#onset_X, onset_mean, onset_std, duration_X, duration_mean, duration_std= \n",
        "# statisticsGenerator(sonset_deviationsArray,sduration_deviationsArray,\" onsets\", \" durations\",the_student_grades,sp,sr,sf)\n",
        "\n",
        "def statisticsGenerator(deviationsArray1,deviationsArray2,title_text1,title_text2,df):\n",
        "\n",
        "      studentStatisticsArray= []\n",
        "      idx = df.index\n",
        "\n",
        "      number_of_rows = len(idx)\n",
        "      print(number_of_rows)\n",
        "      k=0\n",
        "\n",
        "      studentStatistics = []\n",
        "      onset_X = []  # Martis mark\n",
        "      onset_amean = []\n",
        "      onset_mean = []\n",
        "      onset_std= []\n",
        "\n",
        "      duration_X = [] # Martis mark\n",
        "      duration_amean = []\n",
        "      duration_mean = []\n",
        "      duration_std= []\n",
        "      list0 = df[\"onsetMark\"].tolist()  \n",
        "      list1 = df[\" DurationMark\"].tolist()  \n",
        "      list2 = df[\" TF 1 Mark \"].tolist()  \n",
        "      list3 = df[\"Sound Quality Mark\"].tolist()  \n",
        "      list4 = df[\" finalMark\"].tolist()  \n",
        "\n",
        "      listp = df[\"precision\"].tolist()  \n",
        "      listr = df[\"recall\"].tolist()  \n",
        "      listf = df[\"f_measure_value\"].tolist()  \n",
        "      print(\"###################### number_of_rows\",number_of_rows)\n",
        "      while k < number_of_rows-1:\n",
        "          print(\"===================================\")\n",
        "          studentStatistics.append(str(k+1))\n",
        "          student_stats1 = [] # onsets\n",
        "          student_stats2 = [] # durations\n",
        "\n",
        "          plt.subplot(2,2,1)\n",
        "          a = np.array(deviationsArray1[k])\n",
        "\n",
        "          onset_m, onset_s = mean(a), sqrt(mean(a*a))\n",
        "          onset_am= mean(abs(a))\n",
        "          onset_summary= \"Onset ABS  Mean: %f,Onset Mean: %f, Dev. from 0: %f\" %(onset_am,onset_m, onset_s)\n",
        "          title =   \"Student \" + str(k)+ title_text1\n",
        "\n",
        "          onset_X.append( list0[k])  # Martis mark\n",
        "\n",
        "          onset_mean.append(onset_m)\n",
        "          onset_amean.append(onset_am)\n",
        "          onset_std.append(onset_s)\n",
        "\n",
        "          plt.title(title)\n",
        "          plt.figure(1, figsize=(9.5, 6))\n",
        "          plt.hist(a)\n",
        "\n",
        "          plt.subplot(2,2,2)\n",
        "          a = np.array(deviationsArray2[k])\n",
        "          duration_m, duration_s = mean(a), sqrt(mean(a*a))\n",
        "          duration_am= mean(abs(a))\n",
        "          duration_summary= \"Offset Mean: %f, Dev. from 0: %f\" %(duration_m, duration_s)\n",
        "          title =   \"Student \" + str(k)+ title_text2\n",
        "          duration_X.append( list1[k])  # Martis mark\n",
        "          duration_mean.append(duration_m)\n",
        "          duration_amean.append(duration_am)\n",
        "          duration_std.append(duration_s)\n",
        "\n",
        "          plt.title(title)\n",
        "          plt.figure(1, figsize=(9.5, 6))\n",
        "          plt.hist(a)\n",
        "\n",
        "          plt.show()\n",
        "          print(\"Onset Grade = \", list0[k],\"\\t\" ,\"Duration Grade = \", list1[k])\n",
        "          print(onset_summary)\n",
        "          print(duration_summary)\n",
        "          print(\"  TF 1 Mark  = \", list2[k],\"Sound Control Grade = \", list3[k])\n",
        "          print(\"Final Mark = \", list4[k])\n",
        "          studentStatistics = []\n",
        "          studentStatistics.append(str(k))\n",
        "          studentStatistics.append(round(listp[k],3))\n",
        "          studentStatistics.append(round(listr[k],3))\n",
        "          studentStatistics.append(round(listf[k],3))\n",
        "          print(\"F-measure = \", round(listf[k],3))\n",
        "          studentStatistics.append(round(onset_am,3))\n",
        "          studentStatistics.append(round(onset_m,3))\n",
        "          studentStatistics.append(round(onset_s,3))   \n",
        "          studentStatistics.append(round(duration_am,3))                   \n",
        "          studentStatistics.append(round(duration_m,3)) \n",
        "          studentStatistics.append(round(duration_s,3))   \n",
        "          studentStatistics.append(list0[k])\n",
        "          studentStatistics.append(list1[k])\n",
        "          studentStatistics.append(list2[k])\n",
        "          studentStatistics.append(list3[k])\n",
        "          studentStatistics.append(list4[k])\n",
        "          print(\"===================================\")\n",
        "          studentStatisticsArray.append(studentStatistics)\n",
        "          k+=1\n",
        "    \n",
        "      return(onset_X, onset_mean, onset_std, duration_X, duration_mean, duration_std,studentStatisticsArray,onset_amean, duration_amean)\n",
        "# Capture a table of onset and grade\n"
      ],
      "execution_count": 25,
      "outputs": []
    },
    {
      "cell_type": "code",
      "metadata": {
        "id": "utUMqb3Wlhvj"
      },
      "source": [
        "onset_X, onset_mean, onset_std, duration_X, duration_mean, duration_std,stats, onset_amean, duration_amean= statisticsGenerator(sonset_deviations,soffset_deviations,\" onsets\", \" offset\",df_all)"
      ],
      "execution_count": null,
      "outputs": []
    },
    {
      "cell_type": "code",
      "metadata": {
        "id": "PKVPZyWOJNPk"
      },
      "source": [
        "df_all"
      ],
      "execution_count": null,
      "outputs": []
    },
    {
      "cell_type": "code",
      "metadata": {
        "id": "wgT2wZ-n-s69"
      },
      "source": [
        "import pandas as pd\n",
        "#sonset_deviations,soffset_deviations\n",
        "print(sonset_deviations[0])"
      ],
      "execution_count": null,
      "outputs": []
    },
    {
      "cell_type": "code",
      "metadata": {
        "id": "CDyDJy8YSnkJ"
      },
      "source": [
        "dataset = pd.read_csv('drive/MyDrive/Bass/data/wotm/StudentStatistics_wotm.csv') \n",
        "header = [\"Student\", \"precision\", \"recall\", \"f_measure_value\", \"Onset ABS Mean\", \"Onset Mean\", \"Onset Std\",\n",
        "             \"Duration ABS Mean\", \"Duration Mean\", \"Duration Std\", \"onsetMark\", \" DurationMark\", \" TF 1 Mark \",\n",
        "             \"Sound Quality Mark\",  \" finalMark\"]"
      ],
      "execution_count": 29,
      "outputs": []
    },
    {
      "cell_type": "code",
      "metadata": {
        "id": "SQdhtPm7T2dX",
        "colab": {
          "base_uri": "https://localhost:8080/"
        },
        "outputId": "509a0fed-e675-4ddb-acb1-c0c7d4a32538"
      },
      "source": [
        "from sklearn.linear_model import LinearRegression\n",
        "from sklearn.model_selection import train_test_split\n",
        "from sklearn import metrics\n",
        "#X = dataset[['P', 'R', 'F',  ' ABS Mean Onset','Mean  Onset','Std Onset',' ABS Mean Duration','Mean Duration','Std Duration']]\n",
        "X = dataset[['precision','recall','f_measure_value']]#,]]\n",
        "y=array(dataset['onsetMark'])\n",
        "\n",
        "\n",
        "#coeff_df = pd.DataFrame(regressor.coef_, X.columns, columns=['Coefficient'])\n",
        "\n",
        "X_train, X_test, y_train, y_test = train_test_split(X, y, test_size=0.3, random_state=0)\n",
        "regressor = LinearRegression()\n",
        "regressor.fit(X_train, y_train)\n",
        "y_pred = regressor.predict(X_test)\n",
        "df = pd.DataFrame({'Actual': y_test, 'Predicted': y_pred})\n",
        "print(round(df,3))\n",
        "\n",
        "print('Mean Absolute Error:', round(metrics.mean_absolute_error(y_test, y_pred),3))\n",
        "print('Root Mean Squared Error:',  round(np.sqrt(metrics.mean_squared_error(y_test, y_pred)),3))\n",
        "# IEC PRF Mean Absolute Error: 12.079847760757067\n",
        "# IEC PRF Root Mean Squared Error: 12.521853181718802"
      ],
      "execution_count": 47,
      "outputs": [
        {
          "output_type": "stream",
          "name": "stdout",
          "text": [
            "      Actual  Predicted\n",
            "0  72.000000     77.003\n",
            "1  79.199997     69.733\n",
            "2  72.000000     69.079\n",
            "3  72.000000     65.686\n",
            "Mean Absolute Error: 5.926\n",
            "Root Mean Squared Error: 6.385\n"
          ]
        }
      ]
    },
    {
      "cell_type": "code",
      "metadata": {
        "colab": {
          "base_uri": "https://localhost:8080/",
          "height": 573
        },
        "id": "CoVihnPjbv3t",
        "outputId": "33fcf1fe-c30a-461a-abd1-ea46f95c5b40"
      },
      "source": [
        "onset_mean_list = df_all[\"Onset Mean\"].tolist()   \n",
        "onset_amean_list = df_all[\"Onset ABS Mean\"].tolist()   \n",
        "onset_grade_list = df_all[\"onsetMark\"].tolist()   \n",
        "onset_f_measure_value_list = df_all[\"f_measure_value\"].tolist()   \n",
        "plt.title('Actual Onset Grade(red) vs Predicted Onset Grade(blue)')\n",
        "plt.xlabel('F measure')\n",
        "plt.ylabel('Grade(%)')\n",
        "plt.scatter(X_test[\"f_measure_value\"].tolist(), y_test,  color='red')\n",
        "plt.scatter(X_test[\"f_measure_value\"].tolist(), y_pred, color='blue', linewidth=3)\n",
        "plt.show()\n",
        "\n",
        "plt.title('Predicted Onset Grades using Test input (green)')\n",
        "plt.xlabel('F measure')\n",
        "plt.ylabel('Grade(%)')\n",
        "plt.plot(onset_f_measure_value_list,onset_grade_list, 'x',color='blue')\n",
        "plt.plot(X_test[\"f_measure_value\"].tolist(),y_pred, 'o', color='green')\n",
        "plt.show()\n",
        "\n",
        "\n"
      ],
      "execution_count": 32,
      "outputs": [
        {
          "output_type": "display_data",
          "data": {
            "image/png": "[encoded data removed]",
            "text/plain": [
              "<Figure size 432x288 with 1 Axes>"
            ]
          },
          "metadata": {
            "needs_background": "light"
          }
        },
        {
          "output_type": "display_data",
          "data": {
            "image/png": "[encoded data removed]",
            "text/plain": [
              "<Figure size 432x288 with 1 Axes>"
            ]
          },
          "metadata": {
            "needs_background": "light"
          }
        }
      ]
    },
    {
      "cell_type": "code",
      "metadata": {
        "id": "aju6nZtqCm1Z",
        "colab": {
          "base_uri": "https://localhost:8080/"
        },
        "outputId": "77d4afa8-0b86-47fc-ed38-6a83b7472521"
      },
      "source": [
        "X = dataset[['f_measure_value','Duration ABS Mean']]\n",
        "#X = dataset[['precision','recall','f_measure_value']]\n",
        "y=array(dataset[' DurationMark'])\n",
        "\n",
        "\n",
        "#coeff_df = pd.DataFrame(regressor.coef_, X.columns, columns=['Coefficient'])\n",
        "\n",
        "X_train, X_test, y_train, y_test = train_test_split(X, y, test_size=0.3, random_state=0)# of you ommit it will be random\n",
        "# related to the seed in random function\n",
        "regressor = LinearRegression()\n",
        "regressor.fit(X_train, y_train)\n",
        "y_pred = regressor.predict(X_test)\n",
        "df = pd.DataFrame({'Actual': y_test, 'Predicted': y_pred})\n",
        "print(round(df,3))\n",
        " \n",
        "print('Mean Absolute Error:', round(metrics.mean_absolute_error(y_test, y_pred),3))\n",
        "print('Root Mean Squared Error:', round(np.sqrt(metrics.mean_squared_error(y_test, y_pred)),3))\n"
      ],
      "execution_count": 44,
      "outputs": [
        {
          "output_type": "stream",
          "name": "stdout",
          "text": [
            "      Actual  Predicted\n",
            "0  72.000000     80.442\n",
            "1  79.199997     79.164\n",
            "2  79.199997     75.784\n",
            "3  72.000000     75.363\n",
            "Mean Absolute Error: 3.814\n",
            "Root Mean Squared Error: 4.854\n"
          ]
        }
      ]
    },
    {
      "cell_type": "code",
      "metadata": {
        "colab": {
          "base_uri": "https://localhost:8080/",
          "height": 610
        },
        "id": "SUsH7BKqcNQv",
        "outputId": "37eeb048-bf60-4f48-9754-5b3ae93468f0"
      },
      "source": [
        "\n",
        "duration_amean_list = df_all[\"Duration ABS Mean\"].tolist()   \n",
        "duration_grade_list = df_all[\" DurationMark\"].tolist()   \n",
        "   \n",
        "plt.title('Actual Duration grade(red) vs Predicted Duration grade(blue)')\n",
        "plt.xlabel('Duration ABS Mean')\n",
        "plt.ylabel('Grade(%)')\n",
        "plt.scatter(X_test[\"Duration ABS Mean\"].tolist(), y_test,  color='red')\n",
        "plt.scatter(X_test[\"Duration ABS Mean\"].tolist(), y_pred, color='blue', linewidth=3)\n",
        "print(y_test)\n",
        "print(y_pred)\n",
        "plt.show()\n",
        "\n",
        "plt.title('Predicted Duration Grades using Test input (green)')\n",
        "plt.xlabel('Duration ABS Mean')\n",
        "plt.ylabel('Grade(%)')\n",
        "plt.plot(duration_amean_list,duration_grade_list, 'x',color='blue')\n",
        "plt.plot(X_test[\"f_measure_value\"].tolist(),y_pred, 'o', color='green')\n",
        "plt.show()\n"
      ],
      "execution_count": 46,
      "outputs": [
        {
          "output_type": "stream",
          "name": "stdout",
          "text": [
            "[72.  79.2 79.2 72. ]\n",
            "[80.4416975  79.16360806 75.78404832 75.36316415]\n"
          ]
        },
        {
          "output_type": "display_data",
          "data": {
            "image/png": "[encoded data removed]",
            "text/plain": [
              "<Figure size 432x288 with 1 Axes>"
            ]
          },
          "metadata": {
            "needs_background": "light"
          }
        },
        {
          "output_type": "display_data",
          "data": {
            "image/png": "[encoded data removed]",
            "text/plain": [
              "<Figure size 432x288 with 1 Axes>"
            ]
          },
          "metadata": {
            "needs_background": "light"
          }
        }
      ]
    },
    {
      "cell_type": "code",
      "metadata": {
        "id": "0gnEMc1RXuBM",
        "colab": {
          "base_uri": "https://localhost:8080/"
        },
        "outputId": "bb2c3a78-9be1-44f1-af4c-5b26eb5e509b"
      },
      "source": [
        "X = dataset[['f_measure_value']]\n",
        "y=array(dataset[' TF 1 Mark '])\n",
        "\n",
        "\n",
        "#coeff_df = pd.DataFrame(regressor.coef_, X.columns, columns=['Coefficient']) ,'Duration Std',,'Duration Std'\n",
        "\n",
        "X_train, X_test, y_train, y_test = train_test_split(X, y, test_size=0.3, random_state=0)\n",
        "regressor = LinearRegression()\n",
        "regressor.fit(X_train, y_train)\n",
        "y_pred = regressor.predict(X_test)\n",
        "df = pd.DataFrame({'Actual': y_test, 'Predicted': y_pred})\n",
        "print(df)\n",
        "\n",
        "print('Mean Absolute Error:', metrics.mean_absolute_error(y_test, y_pred))\n",
        "print('Root Mean Squared Error:', np.sqrt(metrics.mean_squared_error(y_test, y_pred)))"
      ],
      "execution_count": 40,
      "outputs": [
        {
          "output_type": "stream",
          "name": "stdout",
          "text": [
            "      Actual  Predicted\n",
            "0  72.000000  80.704257\n",
            "1  72.000000  77.569799\n",
            "2  79.199997  76.719494\n",
            "3  56.700001  75.519063\n",
            "Mean Absolute Error: 8.893405247426482\n",
            "Root Mean Squared Error: 10.806210511739598\n"
          ]
        }
      ]
    }
  ]
}